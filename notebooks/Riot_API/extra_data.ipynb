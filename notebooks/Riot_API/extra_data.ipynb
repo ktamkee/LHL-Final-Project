{
 "cells": [
  {
   "cell_type": "markdown",
   "metadata": {},
   "source": []
  },
  {
   "cell_type": "code",
   "execution_count": 1,
   "metadata": {},
   "outputs": [],
   "source": [
    "import requests as re\n",
    "import pandas as pd\n",
    "import time"
   ]
  },
  {
   "cell_type": "markdown",
   "metadata": {},
   "source": [
    "## Functions"
   ]
  },
  {
   "cell_type": "code",
   "execution_count": 2,
   "metadata": {},
   "outputs": [],
   "source": [
    "headers = {\n",
    "    \"User-Agent\": \"Mozilla/5.0 (Macintosh; Intel Mac OS X 10_15_7) AppleWebKit/537.36 (KHTML, like Gecko) Chrome/104.0.5112.81 Safari/537.36 Edg/104.0.1293.47\",\n",
    "    \"Accept-Language\": \"en-CA,en-US;q=0.9,en;q=0.8\",\n",
    "    \"Accept-Charset\": \"application/x-www-form-urlencoded; charset=UTF-8\",\n",
    "    \"Origin\": \"https://developer.riotgames.com\",\n",
    "    \"X-Riot-Token\": \"RGAPI-18ecbb33-6603-4c47-8347-5a70cff963b3\"\n",
    "}"
   ]
  },
  {
   "cell_type": "code",
   "execution_count": 11,
   "metadata": {},
   "outputs": [],
   "source": [
    "def summoner_puuids(summoner_names_list, server):\n",
    "    puuid_list = []\n",
    "    for lst in summoner_names_list:\n",
    "        temp_lst = []\n",
    "        for summoner_name in lst:\n",
    "            try:\n",
    "                url = 'https://' + server + '.api.riotgames.com/lol/summoner/v4/summoners/by-name/' + summoner_name\n",
    "                summoner_info = re.get(url, headers=headers).json()\n",
    "\n",
    "                puuid = summoner_info['puuid']\n",
    "                temp_lst.append(puuid)\n",
    "            except:\n",
    "                pass\n",
    "        \n",
    "        puuid_list.append(temp_lst)\n",
    "\n",
    "    time.sleep(120)\n",
    "    return puuid_list"
   ]
  },
  {
   "cell_type": "code",
   "execution_count": 24,
   "metadata": {},
   "outputs": [],
   "source": [
    "def match_ids(puuid_lists, region):\n",
    "    # Create empty list for all matchIDs in European Dataset\n",
    "    match_id_list = []\n",
    "\n",
    "    for lst in puuid_lists:\n",
    "    # Send a request to get the matchIDs for the latest 30 games played by each player\n",
    "        temp_lst = []\n",
    "        for puuid in lst:\n",
    "            url = 'https://' + region + '.api.riotgames.com/lol/match/v5/matches/by-puuid/' + puuid + '/ids?start=0&count=20'\n",
    "            matchIDs = re.get(url, headers=headers).json()\n",
    "            # Access each matchID in the 20 latest games played\n",
    "            for matchID in matchIDs:\n",
    "                # Append the matchID to the master list EUW_matchID\n",
    "                temp_lst.append(matchID)\n",
    "        match_id_list.append(temp_lst)\n",
    "\n",
    "    time.sleep(120)\n",
    "    return(match_id_list)"
   ]
  },
  {
   "cell_type": "code",
   "execution_count": 27,
   "metadata": {},
   "outputs": [],
   "source": [
    "def match_data(matchid_lists, region):\n",
    "\n",
    "    matches_df = pd.DataFrame(columns=['MATCH_ID', \n",
    "       'BSUM1_ID', 'BTOP_CHAMP_ID', 'BSUM2_ID','BJGL_CHAMP_ID', 'BSUM3_ID', 'BMID_CHAMP_ID', \n",
    "       'BSUM4_ID', 'BBOT_CHAMP_ID', 'BSUM5_ID', 'BSUP_CHAMP_ID', \n",
    "       'BBAN1', 'BBAN2', 'BBAN3', 'BBAN4','BBAN5', \n",
    "       'RSUM1_ID', 'RTOP_CHAMP_ID', 'RSUM2_ID', 'RJGL_CHAMP_ID', 'RSUM3_ID', 'RMID_CHAMP_ID', \n",
    "       'RSUM4_ID', 'RBOT_CHAMP_ID', 'RSUM5_ID', 'RSUP_CHAMP_ID', \n",
    "       'RBAN1', 'RBAN2', 'RBAN3', 'RBAN4', 'RBAN5', 'FIRST_BLOOD','BCHAMP_KILLS' , 'RCHAMP_KILLS',\n",
    "       'FIRST_DRAG', 'BDRAG_KILLS' , 'RDRAG_KILLS', \n",
    "       'FIRST_HERALD', 'BHERALD_KILLS', 'RHERALD_KILLS', \n",
    "       'FIRST_TOWER' ,'BTOWER_KILLS' , 'RTOWER_KILLS',\n",
    "       'FIRST_BARON','BBARON_KILLS' , 'RBARON_KILLS',\n",
    "       'FIRST_INHIB','BINHIB_KILLS' , 'RINHIB_KILLS', \n",
    "       'WINNER'])\n",
    "\n",
    "    for lst in matchid_lists:\n",
    "\n",
    "        # Send a request to the Riot Games API to get the match info for each matchID\n",
    "        for matchID in lst:\n",
    "            try:\n",
    "                url = 'https://'+ region + '.api.riotgames.com/lol/match/v5/matches/' + matchID\n",
    "                match_info = re.get(url, headers=headers).json()\n",
    "\n",
    "                # Create a temporary DataFrame\n",
    "                match = pd.DataFrame()\n",
    "\n",
    "                # Get the MatchID\n",
    "                match['MATCH_ID'] = [match_info['metadata']['matchId']]\n",
    "\n",
    "                # Get the Summoner ID and ChampionID for each member on the Blue Team\n",
    "                match['BSUM1_ID'] = [match_info['info']['participants'][0]['summonerId']]\n",
    "                match['BTOP_CHAMP_ID'] = [match_info['info']['participants'][0]['championId']]\n",
    "\n",
    "                match['BSUM2_ID'] = match_info['info']['participants'][1]['summonerId']\n",
    "                match['BJGL_CHAMP_ID'] = match_info['info']['participants'][1]['championId']\n",
    "\n",
    "                match['BSUM3_ID'] = match_info['info']['participants'][2]['summonerId']\n",
    "                match['BMID_CHAMP_ID'] = match_info['info']['participants'][2]['championId']\n",
    "\n",
    "                match['BSUM4_ID'] = match_info['info']['participants'][3]['summonerId']\n",
    "                match['BBOT_CHAMP_ID'] = match_info['info']['participants'][3]['championId']\n",
    "\n",
    "                match['BSUM5_ID'] = match_info['info']['participants'][4]['summonerId']\n",
    "                match['BSUP_CHAMP_ID'] = match_info['info']['participants'][4]['championId']\n",
    "\n",
    "                # Get the Champion ID for the 5 blue team bans\n",
    "                match['BBAN1'] = match_info['info']['teams'][0]['bans'][0]['championId']\n",
    "                match['BBAN2'] = match_info['info']['teams'][0]['bans'][1]['championId']\n",
    "                match['BBAN3'] = match_info['info']['teams'][0]['bans'][2]['championId']\n",
    "                match['BBAN4'] = match_info['info']['teams'][0]['bans'][3]['championId']\n",
    "                match['BBAN5'] = match_info['info']['teams'][0]['bans'][4]['championId']\n",
    "\n",
    "                # Get the Summoner ID and ChampionID for each member on the Red Team\n",
    "                match['RSUM1_ID'] = match_info['info']['participants'][5]['summonerId']\n",
    "                match['RTOP_CHAMP_ID'] = match_info['info']['participants'][5]['championId']\n",
    "\n",
    "                match['RSUM2_ID'] = match_info['info']['participants'][6]['summonerId']\n",
    "                match['RJGL_CHAMP_ID'] = match_info['info']['participants'][6]['championId']\n",
    "\n",
    "                match['RSUM3_ID'] = match_info['info']['participants'][7]['summonerId']\n",
    "                match['RMID_CHAMP_ID'] = match_info['info']['participants'][7]['championId']\n",
    "\n",
    "                match['RSUM4_ID'] = match_info['info']['participants'][8]['summonerId']\n",
    "                match['RBOT_CHAMP_ID'] = match_info['info']['participants'][8]['championId']\n",
    "\n",
    "                match['RSUM5_ID'] = match_info['info']['participants'][9]['summonerId']\n",
    "                match['RSUP_CHAMP_ID'] = match_info['info']['participants'][9]['championId']\n",
    "\n",
    "                # Get the Champion ID for the 5 red team bans\n",
    "                match['RBAN1'] = match_info['info']['teams'][1]['bans'][0]['championId']\n",
    "                match['RBAN2'] = match_info['info']['teams'][1]['bans'][1]['championId']\n",
    "                match['RBAN3'] = match_info['info']['teams'][1]['bans'][2]['championId']\n",
    "                match['RBAN4'] = match_info['info']['teams'][1]['bans'][3]['championId']\n",
    "                match['RBAN5'] = match_info['info']['teams'][1]['bans'][4]['championId']\n",
    "\n",
    "                # Assign who got First Blood and get the total kills for each team\n",
    "                if match_info['info']['teams'][0]['objectives']['champion']['first'] == True:\n",
    "                    match['FIRST_BLOOD'] = ['BLUE']\n",
    "                elif match_info['info']['teams'][1]['objectives']['champion']['first'] == True:\n",
    "                    match['FIRST_BLOOD'] = ['RED']\n",
    "                else:\n",
    "                    match['FIRST_BLOOD'] = ['NONE']\n",
    "    \n",
    "                match['BCHAMP_KILLS'] = match_info['info']['teams'][0]['objectives']['champion']['kills']\n",
    "                match['RCHAMP_KILLS'] = match_info['info']['teams'][1]['objectives']['champion']['kills']\n",
    "\n",
    "                # Assign who got First Dragon and get the total dragon kills for each team\n",
    "                if match_info['info']['teams'][0]['objectives']['dragon']['first'] == True:\n",
    "                    match['FIRST_DRAG'] = ['BLUE']\n",
    "                elif match_info['info']['teams'][1]['objectives']['dragon']['first'] == True:\n",
    "                    match['FIRST_DRAG'] = ['RED']\n",
    "                else:\n",
    "                    match['FIRST_DRAG'] = ['NONE']\n",
    "\n",
    "                match['BDRAG_KILLS'] = match_info['info']['teams'][0]['objectives']['dragon']['kills']\n",
    "                match['RDRAG_KILLS'] = match_info['info']['teams'][1]['objectives']['dragon']['kills']\n",
    "\n",
    "                # Assign who got First Rift Herald and get the total rift herald kills for each team\n",
    "                if match_info['info']['teams'][0]['objectives']['riftHerald']['first'] == True:\n",
    "                    match['FIRST_HERALD'] = ['BLUE']\n",
    "                elif match_info['info']['teams'][1]['objectives']['riftHerald']['first'] == True:\n",
    "                    match['FIRST_HERALD'] = ['RED']\n",
    "                else:\n",
    "                    match['FIRST_HERALD'] = ['NONE']\n",
    "    \n",
    "                match['BHERALD_KILLS'] = match_info['info']['teams'][0]['objectives']['riftHerald']['kills']\n",
    "                match['RHERALD_KILLS'] = match_info['info']['teams'][1]['objectives']['riftHerald']['kills']\n",
    "\n",
    "                # Assign who got First Tower and get the total tower kills for each team\n",
    "                if match_info['info']['teams'][0]['objectives']['tower']['first'] == True:\n",
    "                    match['FIRST_TOWER'] = ['BLUE']\n",
    "                elif match_info['info']['teams'][1]['objectives']['tower']['first'] == True:\n",
    "                    match['FIRST_TOWER'] = ['RED']\n",
    "                else:\n",
    "                    match['FIRST_TOWER'] = ['NONE']\n",
    "\n",
    "                match['BTOWER_KILLS'] = match_info['info']['teams'][0]['objectives']['tower']['kills']\n",
    "                match['RTOWER_KILLS'] = match_info['info']['teams'][1]['objectives']['tower']['kills']\n",
    "\n",
    "                # Assign who got First Baron and get the total baron kills for each team\n",
    "                if match_info['info']['teams'][0]['objectives']['baron']['first'] == True:\n",
    "                    match['FIRST_BARON'] = ['BLUE']\n",
    "                elif match_info['info']['teams'][1]['objectives']['baron']['first'] == True:\n",
    "                    match['FIRST_BARON'] = ['RED']\n",
    "                else:\n",
    "                    match['FIRST_BARON'] = ['NONE']\n",
    "    \n",
    "                match['BBARON_KILLS'] = match_info['info']['teams'][0]['objectives']['baron']['kills']\n",
    "                match['RBARON_KILLS'] = match_info['info']['teams'][1]['objectives']['baron']['kills']\n",
    "\n",
    "                # Assign who got First Inhibitor and get the total inhibitor kills for each team\n",
    "                if match_info['info']['teams'][0]['objectives']['inhibitor']['first'] == True:\n",
    "                    match['FIRST_INHIB'] = ['BLUE']\n",
    "                elif match_info['info']['teams'][1]['objectives']['inhibitor']['first'] == True:\n",
    "                    match['FIRST_INHIB'] = ['RED']\n",
    "                else:\n",
    "                    match['FIRST_INHIB'] = ['NONE']\n",
    "    \n",
    "                match['BINHIB_KILLS'] = match_info['info']['teams'][0]['objectives']['inhibitor']['kills']\n",
    "                match['RINHIB_KILLS'] = match_info['info']['teams'][1]['objectives']['inhibitor']['kills']\n",
    "\n",
    "                # Determine which team won and assign it to the winner ('target') variable\n",
    "                if match_info['info']['teams'][0]['win'] == True:\n",
    "                    match['WINNER'] = ['BLUE']\n",
    "                elif match_info['info']['teams'][1]['win'] == True:\n",
    "                    match['WINNER'] = ['RED']\n",
    "    \n",
    "                matches_df = pd.concat([matches_df, match])\n",
    "\n",
    "            except: \n",
    "                pass\n",
    "\n",
    "            time.sleep(120)\n",
    "        return matches_df"
   ]
  },
  {
   "cell_type": "markdown",
   "metadata": {},
   "source": [
    "## EUW DATA"
   ]
  },
  {
   "cell_type": "code",
   "execution_count": 14,
   "metadata": {},
   "outputs": [],
   "source": [
    "euw_players = [\n",
    "    ['ULTRAMENTAL69', 'MEGAMENTAL69', 'Razørk Activoo', 'Yaspooky', 'Vinxen'],\n",
    "    ['MrDon001', '89 fds 126', 'Ginrais', 'WD Inter', 'Fatihcan'],\n",
    "    ['WAO RANK 1', 'SHO BEST COACH', 'la Quinqui', 'Fade 7', 'SekstiNi'],\n",
    "    ['VeigarVu', 'KC Hantera', 'Crrazy', 'Batuuu', 'Enemy Team Riven'],\n",
    "    ['Ducky x', 'heiii', 'I Will Perform', '2023WORLDS', 'Lonely Moonrise'],\n",
    "    ['Theoloris', 'Lmzs', 'Eragon', 'AquaCloak', 'FTW OMEN'],\n",
    "    ['GREATMENTAL69', 'elyoyaaaaaaaaaaa', 'Odoamne', 'im bad at math', 'Fulfilled Wish'],\n",
    "    ['Sad Capybara', 'weakside sion', 'v9s Vibe', '15yo smurf', 'FTW OMEN'],\n",
    "    ['Prominence1', 'Dimill 777', 'Thaygod', 'eu top1', 'TheDisconnect'],\n",
    "    ['Erdotee', 'BSC Coldraa', 'Mr Tickle', 'FNC Upset03', 'VOICES TAKE OVER'],\n",
    "]"
   ]
  },
  {
   "cell_type": "code",
   "execution_count": 15,
   "metadata": {},
   "outputs": [],
   "source": [
    "euw_puuids = summoner_puuids(euw_players, 'euw1')"
   ]
  },
  {
   "cell_type": "code",
   "execution_count": 25,
   "metadata": {},
   "outputs": [],
   "source": [
    "euw_match_ids = match_ids(euw_puuids, 'europe')"
   ]
  },
  {
   "cell_type": "code",
   "execution_count": 29,
   "metadata": {},
   "outputs": [],
   "source": [
    "euw_match_date = match_data(euw_match_ids, 'europe')"
   ]
  },
  {
   "cell_type": "code",
   "execution_count": 34,
   "metadata": {},
   "outputs": [
    {
     "data": {
      "text/plain": [
       "(79, 50)"
      ]
     },
     "execution_count": 34,
     "metadata": {},
     "output_type": "execute_result"
    }
   ],
   "source": [
    "euw_match_date.shape"
   ]
  },
  {
   "cell_type": "code",
   "execution_count": null,
   "metadata": {},
   "outputs": [],
   "source": []
  }
 ],
 "metadata": {
  "interpreter": {
   "hash": "39512f3c2a1741d7f752d45a133d4514127029333ea14bc2f3c6c5e6759b9029"
  },
  "kernelspec": {
   "display_name": "Python 3.8.13 ('base_env')",
   "language": "python",
   "name": "python3"
  },
  "language_info": {
   "codemirror_mode": {
    "name": "ipython",
    "version": 3
   },
   "file_extension": ".py",
   "mimetype": "text/x-python",
   "name": "python",
   "nbconvert_exporter": "python",
   "pygments_lexer": "ipython3",
   "version": "3.8.13"
  },
  "orig_nbformat": 4
 },
 "nbformat": 4,
 "nbformat_minor": 2
}
