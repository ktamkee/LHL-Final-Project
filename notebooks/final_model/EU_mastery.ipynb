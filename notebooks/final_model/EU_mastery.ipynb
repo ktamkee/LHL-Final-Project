{
 "cells": [
  {
   "cell_type": "markdown",
   "metadata": {},
   "source": [
    "# Champion Mastery - Europe"
   ]
  },
  {
   "cell_type": "code",
   "execution_count": 46,
   "metadata": {},
   "outputs": [],
   "source": [
    "import numpy as np\n",
    "import pandas as pd\n",
    "import requests as re\n",
    "import time"
   ]
  },
  {
   "cell_type": "code",
   "execution_count": 49,
   "metadata": {},
   "outputs": [],
   "source": [
    "headers = {\n",
    "    \"User-Agent\": \"Mozilla/5.0 (Macintosh; Intel Mac OS X 10_15_7) AppleWebKit/537.36 (KHTML, like Gecko) Chrome/103.0.5060.134 Safari/537.36 Edg/103.0.1264.77\",\n",
    "    \"Accept-Language\": \"en-CA,en-US;q=0.9,en;q=0.8\",\n",
    "    \"Accept-Charset\": \"application/x-www-form-urlencoded; charset=UTF-8\",\n",
    "    \"Origin\": \"https://developer.riotgames.com\",\n",
    "    \"X-Riot-Token\": \"RGAPI-046cac00-eb22-432a-94e1-9c68bd571a92\"\n",
    "}"
   ]
  },
  {
   "cell_type": "code",
   "execution_count": 50,
   "metadata": {},
   "outputs": [
    {
     "data": {
      "text/html": [
       "<div>\n",
       "<style scoped>\n",
       "    .dataframe tbody tr th:only-of-type {\n",
       "        vertical-align: middle;\n",
       "    }\n",
       "\n",
       "    .dataframe tbody tr th {\n",
       "        vertical-align: top;\n",
       "    }\n",
       "\n",
       "    .dataframe thead th {\n",
       "        text-align: right;\n",
       "    }\n",
       "</style>\n",
       "<table border=\"1\" class=\"dataframe\">\n",
       "  <thead>\n",
       "    <tr style=\"text-align: right;\">\n",
       "      <th></th>\n",
       "      <th>SERVER</th>\n",
       "      <th>MATCH_ID</th>\n",
       "      <th>BSUM1_ID</th>\n",
       "      <th>BTOP_CHAMP_ID</th>\n",
       "      <th>BSUM2_ID</th>\n",
       "      <th>BJGL_CHAMP_ID</th>\n",
       "      <th>BSUM3_ID</th>\n",
       "      <th>BMID_CHAMP_ID</th>\n",
       "      <th>BSUM4_ID</th>\n",
       "      <th>BBOT_CHAMP_ID</th>\n",
       "      <th>...</th>\n",
       "      <th>FIRST_TOWER</th>\n",
       "      <th>BTOWER_KILLS</th>\n",
       "      <th>RTOWER_KILLS</th>\n",
       "      <th>FIRST_BARON</th>\n",
       "      <th>BBARON_KILLS</th>\n",
       "      <th>RBARON_KILLS</th>\n",
       "      <th>FIRST_INHIB</th>\n",
       "      <th>BINHIB_KILLS</th>\n",
       "      <th>RINHIB_KILLS</th>\n",
       "      <th>WINNER</th>\n",
       "    </tr>\n",
       "  </thead>\n",
       "  <tbody>\n",
       "    <tr>\n",
       "      <th>0</th>\n",
       "      <td>EUROPE WEST</td>\n",
       "      <td>EUW1_6001811167</td>\n",
       "      <td>0AZy9ZPtWQh6Vx8Kq7OvFy4UrZwrJACKWYJs-E6rzV4cizM</td>\n",
       "      <td>150</td>\n",
       "      <td>xh8g794rjw2i3e2OFWyH8NLvm9U94qaGNIAvSZUTDC9-BJRL</td>\n",
       "      <td>246</td>\n",
       "      <td>9T_e3hPA8BJJkJ-VGvGVJWR24xPZ0yyY5aGTOIKl95Cd6h8g</td>\n",
       "      <td>268</td>\n",
       "      <td>7Fa7S45GBBFAvaW3BGMq4AJpClEZ61ZamQCUPYjGAgBkxRg</td>\n",
       "      <td>15</td>\n",
       "      <td>...</td>\n",
       "      <td>RED</td>\n",
       "      <td>2</td>\n",
       "      <td>4</td>\n",
       "      <td>NONE</td>\n",
       "      <td>0</td>\n",
       "      <td>0</td>\n",
       "      <td>NONE</td>\n",
       "      <td>0</td>\n",
       "      <td>0</td>\n",
       "      <td>RED</td>\n",
       "    </tr>\n",
       "    <tr>\n",
       "      <th>1</th>\n",
       "      <td>EUROPE WEST</td>\n",
       "      <td>EUW1_6001677114</td>\n",
       "      <td>o02MjualoBd8c2L1Nu2ZRjnhkt_ne-Yx2iYRZkhd3uDKsY4</td>\n",
       "      <td>114</td>\n",
       "      <td>CaqfcvprY1V7DVI5sfOJP5Vc3luQoyshL8AemHrvh43qUQw</td>\n",
       "      <td>254</td>\n",
       "      <td>puPeQuN3cAKued6EAm3b5gd6Al11zyzbm32lGMki4yemKt2x</td>\n",
       "      <td>79</td>\n",
       "      <td>jWysZe-gwuPtokIJR-NI8cCCG-GninDNH-TpdxiJ9r-ZaxA</td>\n",
       "      <td>498</td>\n",
       "      <td>...</td>\n",
       "      <td>RED</td>\n",
       "      <td>0</td>\n",
       "      <td>4</td>\n",
       "      <td>NONE</td>\n",
       "      <td>0</td>\n",
       "      <td>0</td>\n",
       "      <td>NONE</td>\n",
       "      <td>0</td>\n",
       "      <td>0</td>\n",
       "      <td>RED</td>\n",
       "    </tr>\n",
       "    <tr>\n",
       "      <th>2</th>\n",
       "      <td>EUROPE WEST</td>\n",
       "      <td>EUW1_6001722049</td>\n",
       "      <td>lz7z9m2ZwFuDm0kSa-6SYXtXLFTLLLlWizzRxSyCgh-Msk0</td>\n",
       "      <td>150</td>\n",
       "      <td>Gu0-dhJT1_53zm_TQt4BQ1uQ_CZhl4fHrN33OQG3cfz5teM</td>\n",
       "      <td>78</td>\n",
       "      <td>_o_3E5f4P_CY9ztsrbdkUPwVCg7hJ7TSAXHiEEsevv1bdVbI</td>\n",
       "      <td>517</td>\n",
       "      <td>YYnE90RJfzypVDAO_Qt8syFQwCwhunwTWEfidwcucoFPqtc</td>\n",
       "      <td>523</td>\n",
       "      <td>...</td>\n",
       "      <td>RED</td>\n",
       "      <td>5</td>\n",
       "      <td>8</td>\n",
       "      <td>RED</td>\n",
       "      <td>0</td>\n",
       "      <td>1</td>\n",
       "      <td>RED</td>\n",
       "      <td>1</td>\n",
       "      <td>2</td>\n",
       "      <td>BLUE</td>\n",
       "    </tr>\n",
       "    <tr>\n",
       "      <th>3</th>\n",
       "      <td>EUROPE WEST</td>\n",
       "      <td>EUW1_6001557446</td>\n",
       "      <td>ZCHr8rokYRXJMJIUWzFcIehrJs6jShr0Zkc3aFJZ4xEiTfE</td>\n",
       "      <td>79</td>\n",
       "      <td>Gu0-dhJT1_53zm_TQt4BQ1uQ_CZhl4fHrN33OQG3cfz5teM</td>\n",
       "      <td>80</td>\n",
       "      <td>sO2INLctOSFuq_VBeqSjSAC6faH4PvvgZA3grfCOathsYUSH</td>\n",
       "      <td>4</td>\n",
       "      <td>hgowSBUFsyDNo-S2AshXWRF2xM_mOBktpCtV1Mw7K4sRIq0</td>\n",
       "      <td>18</td>\n",
       "      <td>...</td>\n",
       "      <td>BLUE</td>\n",
       "      <td>6</td>\n",
       "      <td>4</td>\n",
       "      <td>RED</td>\n",
       "      <td>0</td>\n",
       "      <td>1</td>\n",
       "      <td>NONE</td>\n",
       "      <td>0</td>\n",
       "      <td>0</td>\n",
       "      <td>RED</td>\n",
       "    </tr>\n",
       "    <tr>\n",
       "      <th>4</th>\n",
       "      <td>EUROPE WEST</td>\n",
       "      <td>EUW1_6001602687</td>\n",
       "      <td>Yp9kCQ3SqtxY-dyRdyAm7i3zZgtduT21MlAjGPN_0NZ5tR...</td>\n",
       "      <td>122</td>\n",
       "      <td>Gu0-dhJT1_53zm_TQt4BQ1uQ_CZhl4fHrN33OQG3cfz5teM</td>\n",
       "      <td>80</td>\n",
       "      <td>hIoSka6anKc6_WSUhIDk06K6JnZF5kz5JaeSaKeLIA0U8m...</td>\n",
       "      <td>517</td>\n",
       "      <td>BgbTbMspKYR1yIsQjzW-e_bpn45fjAEcAPnAGX5dLfR6sao</td>\n",
       "      <td>96</td>\n",
       "      <td>...</td>\n",
       "      <td>BLUE</td>\n",
       "      <td>7</td>\n",
       "      <td>2</td>\n",
       "      <td>NONE</td>\n",
       "      <td>0</td>\n",
       "      <td>0</td>\n",
       "      <td>BLUE</td>\n",
       "      <td>1</td>\n",
       "      <td>0</td>\n",
       "      <td>BLUE</td>\n",
       "    </tr>\n",
       "  </tbody>\n",
       "</table>\n",
       "<p>5 rows × 51 columns</p>\n",
       "</div>"
      ],
      "text/plain": [
       "        SERVER         MATCH_ID  \\\n",
       "0  EUROPE WEST  EUW1_6001811167   \n",
       "1  EUROPE WEST  EUW1_6001677114   \n",
       "2  EUROPE WEST  EUW1_6001722049   \n",
       "3  EUROPE WEST  EUW1_6001557446   \n",
       "4  EUROPE WEST  EUW1_6001602687   \n",
       "\n",
       "                                            BSUM1_ID  BTOP_CHAMP_ID  \\\n",
       "0    0AZy9ZPtWQh6Vx8Kq7OvFy4UrZwrJACKWYJs-E6rzV4cizM            150   \n",
       "1    o02MjualoBd8c2L1Nu2ZRjnhkt_ne-Yx2iYRZkhd3uDKsY4            114   \n",
       "2    lz7z9m2ZwFuDm0kSa-6SYXtXLFTLLLlWizzRxSyCgh-Msk0            150   \n",
       "3    ZCHr8rokYRXJMJIUWzFcIehrJs6jShr0Zkc3aFJZ4xEiTfE             79   \n",
       "4  Yp9kCQ3SqtxY-dyRdyAm7i3zZgtduT21MlAjGPN_0NZ5tR...            122   \n",
       "\n",
       "                                           BSUM2_ID  BJGL_CHAMP_ID  \\\n",
       "0  xh8g794rjw2i3e2OFWyH8NLvm9U94qaGNIAvSZUTDC9-BJRL            246   \n",
       "1   CaqfcvprY1V7DVI5sfOJP5Vc3luQoyshL8AemHrvh43qUQw            254   \n",
       "2   Gu0-dhJT1_53zm_TQt4BQ1uQ_CZhl4fHrN33OQG3cfz5teM             78   \n",
       "3   Gu0-dhJT1_53zm_TQt4BQ1uQ_CZhl4fHrN33OQG3cfz5teM             80   \n",
       "4   Gu0-dhJT1_53zm_TQt4BQ1uQ_CZhl4fHrN33OQG3cfz5teM             80   \n",
       "\n",
       "                                            BSUM3_ID  BMID_CHAMP_ID  \\\n",
       "0   9T_e3hPA8BJJkJ-VGvGVJWR24xPZ0yyY5aGTOIKl95Cd6h8g            268   \n",
       "1   puPeQuN3cAKued6EAm3b5gd6Al11zyzbm32lGMki4yemKt2x             79   \n",
       "2   _o_3E5f4P_CY9ztsrbdkUPwVCg7hJ7TSAXHiEEsevv1bdVbI            517   \n",
       "3   sO2INLctOSFuq_VBeqSjSAC6faH4PvvgZA3grfCOathsYUSH              4   \n",
       "4  hIoSka6anKc6_WSUhIDk06K6JnZF5kz5JaeSaKeLIA0U8m...            517   \n",
       "\n",
       "                                          BSUM4_ID  BBOT_CHAMP_ID  ...  \\\n",
       "0  7Fa7S45GBBFAvaW3BGMq4AJpClEZ61ZamQCUPYjGAgBkxRg             15  ...   \n",
       "1  jWysZe-gwuPtokIJR-NI8cCCG-GninDNH-TpdxiJ9r-ZaxA            498  ...   \n",
       "2  YYnE90RJfzypVDAO_Qt8syFQwCwhunwTWEfidwcucoFPqtc            523  ...   \n",
       "3  hgowSBUFsyDNo-S2AshXWRF2xM_mOBktpCtV1Mw7K4sRIq0             18  ...   \n",
       "4  BgbTbMspKYR1yIsQjzW-e_bpn45fjAEcAPnAGX5dLfR6sao             96  ...   \n",
       "\n",
       "  FIRST_TOWER  BTOWER_KILLS  RTOWER_KILLS  FIRST_BARON  BBARON_KILLS  \\\n",
       "0         RED             2             4         NONE             0   \n",
       "1         RED             0             4         NONE             0   \n",
       "2         RED             5             8          RED             0   \n",
       "3        BLUE             6             4          RED             0   \n",
       "4        BLUE             7             2         NONE             0   \n",
       "\n",
       "   RBARON_KILLS  FIRST_INHIB BINHIB_KILLS  RINHIB_KILLS WINNER  \n",
       "0             0         NONE            0             0    RED  \n",
       "1             0         NONE            0             0    RED  \n",
       "2             1          RED            1             2   BLUE  \n",
       "3             1         NONE            0             0    RED  \n",
       "4             0         BLUE            1             0   BLUE  \n",
       "\n",
       "[5 rows x 51 columns]"
      ]
     },
     "execution_count": 50,
     "metadata": {},
     "output_type": "execute_result"
    }
   ],
   "source": [
    "EU = pd.read_csv('../../data/first_model/raw/EUW_all_data_366.csv')\n",
    "EU.head()"
   ]
  },
  {
   "cell_type": "code",
   "execution_count": 51,
   "metadata": {},
   "outputs": [
    {
     "data": {
      "text/plain": [
       "(366, 51)"
      ]
     },
     "execution_count": 51,
     "metadata": {},
     "output_type": "execute_result"
    }
   ],
   "source": [
    "EU.shape"
   ]
  },
  {
   "cell_type": "code",
   "execution_count": 52,
   "metadata": {},
   "outputs": [],
   "source": [
    "EU1 = EU[:100]\n",
    "EU2 = EU[100:200]\n",
    "EU3 = EU[200:300]\n",
    "EU4 = EU[300:]"
   ]
  },
  {
   "cell_type": "code",
   "execution_count": 53,
   "metadata": {},
   "outputs": [],
   "source": [
    "'''\n",
    "This function uses the champion mastery api to get the champion mastery for a specific champion and summoner.\n",
    "\n",
    "Region can be: euw1, na1, kr\n",
    "Summoner input can be:\n",
    "-  BSUM1_ID - BSUM5_ID\n",
    "-  RSUM1_ID - RSUM5_ID\n",
    "\n",
    "Summoner_champ_id input can be:\n",
    "- BTOP_CHAMP_ID or RTOP_CHAMP_ID\n",
    "- BJGL_CHAMP_ID or RJGL_CHAMP_ID\n",
    "- BMID_CHAMP_ID or RMID_CHAMP_ID\n",
    "- BBOT_CHAMP_ID or RBOT_CHAMP_ID\n",
    "- BSUP_CHAMP_ID or RSUP_CHAMP_ID\n",
    "'''\n",
    "\n",
    "\n",
    "def champion_mastery(df, server, summoner, summoner_champ_id):\n",
    "\n",
    "    mastery_list = []\n",
    "    for i in range(len(df)):\n",
    "        summoner_id = df.iloc[i][summoner]\n",
    "        champion_id = df.iloc[i][summoner_champ_id]\n",
    "\n",
    "        try:\n",
    "            url = 'https://'+ server + '.api.riotgames.com/lol/champion-mastery/v4/champion-masteries/by-summoner/' + summoner_id + '/by-champion/' + str(champion_id)\n",
    "            res = re.get(url, headers=headers).json()\n",
    "\n",
    "            mastery = res['championPoints']\n",
    "            mastery_list.append(mastery)\n",
    "        except:\n",
    "            mastery_list.append('error')\n",
    "            pass\n",
    "\n",
    "    return mastery_list\n"
   ]
  },
  {
   "cell_type": "markdown",
   "metadata": {},
   "source": [
    "## Blue Top"
   ]
  },
  {
   "cell_type": "code",
   "execution_count": 57,
   "metadata": {},
   "outputs": [
    {
     "data": {
      "text/plain": [
       "366"
      ]
     },
     "execution_count": 57,
     "metadata": {},
     "output_type": "execute_result"
    }
   ],
   "source": [
    "Blue_top_list1 = champion_mastery(EU1, 'euw1', 'BSUM1_ID', 'BTOP_CHAMP_ID')\n",
    "time.sleep(120)\n",
    "Blue_top_list2 = champion_mastery(EU2, 'euw1', 'BSUM1_ID', 'BTOP_CHAMP_ID')\n",
    "time.sleep(120)\n",
    "Blue_top_list3 = champion_mastery(EU3, 'euw1', 'BSUM1_ID', 'BTOP_CHAMP_ID')\n",
    "time.sleep(120)\n",
    "Blue_top_list4 = champion_mastery(EU4, 'euw1', 'BSUM1_ID', 'BTOP_CHAMP_ID')\n",
    "time.sleep(120)\n",
    "Blue_TOP_list = Blue_top_list1 + Blue_top_list2 + Blue_top_list3 + Blue_top_list4\n",
    "len(Blue_TOP_list)"
   ]
  },
  {
   "cell_type": "code",
   "execution_count": 59,
   "metadata": {},
   "outputs": [
    {
     "name": "stdout",
     "output_type": "stream",
     "text": [
      "False\n"
     ]
    }
   ],
   "source": [
    "if 'error' in Blue_TOP_list:\n",
    "    print(True)\n",
    "else:\n",
    "    print(False)"
   ]
  },
  {
   "cell_type": "markdown",
   "metadata": {},
   "source": [
    "## Blue JGL"
   ]
  },
  {
   "cell_type": "code",
   "execution_count": 60,
   "metadata": {},
   "outputs": [
    {
     "data": {
      "text/plain": [
       "366"
      ]
     },
     "execution_count": 60,
     "metadata": {},
     "output_type": "execute_result"
    }
   ],
   "source": [
    "Blue_JGL_list1 = champion_mastery(EU1, 'euw1', 'BSUM2_ID', 'BJGL_CHAMP_ID')\n",
    "time.sleep(120)\n",
    "Blue_JGL_list2 = champion_mastery(EU2, 'euw1', 'BSUM2_ID', 'BJGL_CHAMP_ID')\n",
    "time.sleep(120)\n",
    "Blue_JGL_list3 = champion_mastery(EU3, 'euw1', 'BSUM2_ID', 'BJGL_CHAMP_ID')\n",
    "time.sleep(120)\n",
    "Blue_JGL_list4 = champion_mastery(EU4, 'euw1', 'BSUM2_ID', 'BJGL_CHAMP_ID')\n",
    "time.sleep(120)\n",
    "Blue_JGL_list = Blue_JGL_list1 + Blue_JGL_list2 + Blue_JGL_list3 + Blue_JGL_list4\n",
    "len(Blue_JGL_list)"
   ]
  },
  {
   "cell_type": "code",
   "execution_count": 61,
   "metadata": {},
   "outputs": [
    {
     "name": "stdout",
     "output_type": "stream",
     "text": [
      "False\n"
     ]
    }
   ],
   "source": [
    "if 'error' in Blue_JGL_list:\n",
    "    print(True)\n",
    "else:\n",
    "    print(False)"
   ]
  },
  {
   "cell_type": "markdown",
   "metadata": {},
   "source": [
    "## Blue MID"
   ]
  },
  {
   "cell_type": "code",
   "execution_count": 62,
   "metadata": {},
   "outputs": [
    {
     "data": {
      "text/plain": [
       "366"
      ]
     },
     "execution_count": 62,
     "metadata": {},
     "output_type": "execute_result"
    }
   ],
   "source": [
    "Blue_MID_list1 = champion_mastery(EU1, 'euw1', 'BSUM3_ID', 'BMID_CHAMP_ID')\n",
    "time.sleep(120)\n",
    "Blue_MID_list2 = champion_mastery(EU2, 'euw1', 'BSUM3_ID', 'BMID_CHAMP_ID')\n",
    "time.sleep(120)\n",
    "Blue_MID_list3 = champion_mastery(EU3, 'euw1', 'BSUM3_ID', 'BMID_CHAMP_ID')\n",
    "time.sleep(120)\n",
    "Blue_MID_list4 = champion_mastery(EU4, 'euw1', 'BSUM3_ID', 'BMID_CHAMP_ID')\n",
    "time.sleep(120)\n",
    "Blue_MID_list = Blue_MID_list1 + Blue_MID_list2 + Blue_MID_list3 + Blue_MID_list4\n",
    "len(Blue_MID_list)"
   ]
  },
  {
   "cell_type": "code",
   "execution_count": 63,
   "metadata": {},
   "outputs": [
    {
     "name": "stdout",
     "output_type": "stream",
     "text": [
      "False\n"
     ]
    }
   ],
   "source": [
    "if 'error' in Blue_MID_list:\n",
    "    print(True)\n",
    "else:\n",
    "    print(False)"
   ]
  },
  {
   "cell_type": "markdown",
   "metadata": {},
   "source": [
    "## Blue BOT"
   ]
  },
  {
   "cell_type": "code",
   "execution_count": 64,
   "metadata": {},
   "outputs": [
    {
     "data": {
      "text/plain": [
       "366"
      ]
     },
     "execution_count": 64,
     "metadata": {},
     "output_type": "execute_result"
    }
   ],
   "source": [
    "Blue_BOT_list1 = champion_mastery(EU1, 'euw1', 'BSUM4_ID', 'BBOT_CHAMP_ID')\n",
    "time.sleep(120)\n",
    "Blue_BOT_list2 = champion_mastery(EU2, 'euw1', 'BSUM4_ID', 'BBOT_CHAMP_ID')\n",
    "time.sleep(120)\n",
    "Blue_BOT_list3 = champion_mastery(EU3, 'euw1', 'BSUM4_ID', 'BBOT_CHAMP_ID')\n",
    "time.sleep(120)\n",
    "Blue_BOT_list4 = champion_mastery(EU4, 'euw1', 'BSUM4_ID', 'BBOT_CHAMP_ID')\n",
    "time.sleep(120)\n",
    "Blue_BOT_list = Blue_BOT_list1 + Blue_BOT_list2 + Blue_BOT_list3 + Blue_BOT_list4\n",
    "len(Blue_BOT_list)"
   ]
  },
  {
   "cell_type": "code",
   "execution_count": 65,
   "metadata": {},
   "outputs": [
    {
     "name": "stdout",
     "output_type": "stream",
     "text": [
      "False\n"
     ]
    }
   ],
   "source": [
    "if 'error' in Blue_BOT_list:\n",
    "    print(True)\n",
    "else:\n",
    "    print(False)"
   ]
  },
  {
   "cell_type": "markdown",
   "metadata": {},
   "source": [
    "## Blue SUP"
   ]
  },
  {
   "cell_type": "code",
   "execution_count": 66,
   "metadata": {},
   "outputs": [
    {
     "data": {
      "text/plain": [
       "366"
      ]
     },
     "execution_count": 66,
     "metadata": {},
     "output_type": "execute_result"
    }
   ],
   "source": [
    "Blue_SUP_list1 = champion_mastery(EU1, 'euw1', 'BSUM5_ID', 'BSUP_CHAMP_ID')\n",
    "time.sleep(120)\n",
    "Blue_SUP_list2 = champion_mastery(EU2, 'euw1', 'BSUM5_ID', 'BSUP_CHAMP_ID')\n",
    "time.sleep(120)\n",
    "Blue_SUP_list3 = champion_mastery(EU3, 'euw1', 'BSUM5_ID', 'BSUP_CHAMP_ID')\n",
    "time.sleep(120)\n",
    "Blue_SUP_list4 = champion_mastery(EU4, 'euw1', 'BSUM5_ID', 'BSUP_CHAMP_ID')\n",
    "time.sleep(120)\n",
    "Blue_SUP_list = Blue_SUP_list1 + Blue_SUP_list2 + Blue_SUP_list3 + Blue_SUP_list4\n",
    "len(Blue_SUP_list)"
   ]
  },
  {
   "cell_type": "code",
   "execution_count": 67,
   "metadata": {},
   "outputs": [
    {
     "name": "stdout",
     "output_type": "stream",
     "text": [
      "False\n"
     ]
    }
   ],
   "source": [
    "if 'error' in Blue_SUP_list:\n",
    "    print(True)\n",
    "else:\n",
    "    print(False)"
   ]
  },
  {
   "cell_type": "markdown",
   "metadata": {},
   "source": [
    "## Red TOP"
   ]
  },
  {
   "cell_type": "code",
   "execution_count": 68,
   "metadata": {},
   "outputs": [
    {
     "data": {
      "text/plain": [
       "366"
      ]
     },
     "execution_count": 68,
     "metadata": {},
     "output_type": "execute_result"
    }
   ],
   "source": [
    "Red_TOP_list1 = champion_mastery(EU1, 'euw1', 'RSUM1_ID', 'RTOP_CHAMP_ID')\n",
    "time.sleep(120)\n",
    "Red_TOP_list2 = champion_mastery(EU2, 'euw1', 'RSUM1_ID', 'RTOP_CHAMP_ID')\n",
    "time.sleep(120)\n",
    "Red_TOP_list3 = champion_mastery(EU3, 'euw1', 'RSUM1_ID', 'RTOP_CHAMP_ID')\n",
    "time.sleep(120)\n",
    "Red_TOP_list4 = champion_mastery(EU4, 'euw1', 'RSUM1_ID', 'RTOP_CHAMP_ID')\n",
    "time.sleep(120)\n",
    "Red_TOP_list = Red_TOP_list1 + Red_TOP_list2 + Red_TOP_list3 + Red_TOP_list4\n",
    "len(Red_TOP_list)"
   ]
  },
  {
   "cell_type": "code",
   "execution_count": 69,
   "metadata": {},
   "outputs": [
    {
     "name": "stdout",
     "output_type": "stream",
     "text": [
      "False\n"
     ]
    }
   ],
   "source": [
    "if 'error' in Red_TOP_list:\n",
    "    print(True)\n",
    "else:\n",
    "    print(False)"
   ]
  },
  {
   "cell_type": "markdown",
   "metadata": {},
   "source": [
    "## Red JGL"
   ]
  },
  {
   "cell_type": "code",
   "execution_count": 70,
   "metadata": {},
   "outputs": [
    {
     "data": {
      "text/plain": [
       "366"
      ]
     },
     "execution_count": 70,
     "metadata": {},
     "output_type": "execute_result"
    }
   ],
   "source": [
    "Red_JGL_list1 = champion_mastery(EU1, 'euw1', 'RSUM2_ID', 'RJGL_CHAMP_ID')\n",
    "time.sleep(120)\n",
    "Red_JGL_list2 = champion_mastery(EU2, 'euw1', 'RSUM2_ID', 'RJGL_CHAMP_ID')\n",
    "time.sleep(120)\n",
    "Red_JGL_list3 = champion_mastery(EU3, 'euw1', 'RSUM2_ID', 'RJGL_CHAMP_ID')\n",
    "time.sleep(120)\n",
    "Red_JGL_list4 = champion_mastery(EU4, 'euw1', 'RSUM2_ID', 'RJGL_CHAMP_ID')\n",
    "time.sleep(120)\n",
    "Red_JGL_list = Red_JGL_list1 + Red_JGL_list2 + Red_JGL_list3 + Red_JGL_list4\n",
    "len(Red_JGL_list)"
   ]
  },
  {
   "cell_type": "code",
   "execution_count": 71,
   "metadata": {},
   "outputs": [
    {
     "name": "stdout",
     "output_type": "stream",
     "text": [
      "False\n"
     ]
    }
   ],
   "source": [
    "if 'error' in Red_TOP_list:\n",
    "    print(True)\n",
    "else:\n",
    "    print(False)"
   ]
  },
  {
   "cell_type": "markdown",
   "metadata": {},
   "source": [
    "## Red MID"
   ]
  },
  {
   "cell_type": "code",
   "execution_count": 72,
   "metadata": {},
   "outputs": [
    {
     "data": {
      "text/plain": [
       "366"
      ]
     },
     "execution_count": 72,
     "metadata": {},
     "output_type": "execute_result"
    }
   ],
   "source": [
    "Red_MID_list1 = champion_mastery(EU1, 'euw1', 'RSUM3_ID', 'RMID_CHAMP_ID')\n",
    "time.sleep(120)\n",
    "Red_MID_list2 = champion_mastery(EU2, 'euw1', 'RSUM3_ID', 'RMID_CHAMP_ID')\n",
    "time.sleep(120)\n",
    "Red_MID_list3 = champion_mastery(EU3, 'euw1', 'RSUM3_ID', 'RMID_CHAMP_ID')\n",
    "time.sleep(120)\n",
    "Red_MID_list4 = champion_mastery(EU4, 'euw1', 'RSUM3_ID', 'RMID_CHAMP_ID')\n",
    "time.sleep(120)\n",
    "Red_MID_list = Red_MID_list1 + Red_MID_list2 + Red_MID_list3 + Red_MID_list4\n",
    "len(Red_MID_list)"
   ]
  },
  {
   "cell_type": "code",
   "execution_count": 73,
   "metadata": {},
   "outputs": [
    {
     "name": "stdout",
     "output_type": "stream",
     "text": [
      "False\n"
     ]
    }
   ],
   "source": [
    "if 'error' in Red_MID_list:\n",
    "    print(True)\n",
    "else:\n",
    "    print(False)"
   ]
  },
  {
   "cell_type": "markdown",
   "metadata": {},
   "source": [
    "## Red BOT"
   ]
  },
  {
   "cell_type": "code",
   "execution_count": 74,
   "metadata": {},
   "outputs": [
    {
     "data": {
      "text/plain": [
       "366"
      ]
     },
     "execution_count": 74,
     "metadata": {},
     "output_type": "execute_result"
    }
   ],
   "source": [
    "Red_BOT_list1 = champion_mastery(EU1, 'euw1', 'RSUM4_ID', 'RBOT_CHAMP_ID')\n",
    "time.sleep(120)\n",
    "Red_BOT_list2 = champion_mastery(EU2, 'euw1', 'RSUM4_ID', 'RBOT_CHAMP_ID')\n",
    "time.sleep(120)\n",
    "Red_BOT_list3 = champion_mastery(EU3, 'euw1', 'RSUM4_ID', 'RBOT_CHAMP_ID')\n",
    "time.sleep(120)\n",
    "Red_BOT_list4 = champion_mastery(EU4, 'euw1', 'RSUM4_ID', 'RBOT_CHAMP_ID')\n",
    "time.sleep(120)\n",
    "Red_BOT_list = Red_BOT_list1 + Red_BOT_list2 + Red_BOT_list3 + Red_BOT_list4\n",
    "len(Red_BOT_list)"
   ]
  },
  {
   "cell_type": "code",
   "execution_count": 75,
   "metadata": {},
   "outputs": [
    {
     "name": "stdout",
     "output_type": "stream",
     "text": [
      "False\n"
     ]
    }
   ],
   "source": [
    "if 'error' in Red_BOT_list:\n",
    "    print(True)\n",
    "else:\n",
    "    print(False)"
   ]
  },
  {
   "cell_type": "markdown",
   "metadata": {},
   "source": [
    "## Red SUP"
   ]
  },
  {
   "cell_type": "code",
   "execution_count": 76,
   "metadata": {},
   "outputs": [
    {
     "data": {
      "text/plain": [
       "366"
      ]
     },
     "execution_count": 76,
     "metadata": {},
     "output_type": "execute_result"
    }
   ],
   "source": [
    "Red_SUP_list1 = champion_mastery(EU1, 'euw1', 'RSUM5_ID', 'RSUP_CHAMP_ID')\n",
    "time.sleep(120)\n",
    "Red_SUP_list2 = champion_mastery(EU2, 'euw1', 'RSUM5_ID', 'RSUP_CHAMP_ID')\n",
    "time.sleep(120)\n",
    "Red_SUP_list3 = champion_mastery(EU3, 'euw1', 'RSUM5_ID', 'RSUP_CHAMP_ID')\n",
    "time.sleep(120)\n",
    "Red_SUP_list4 = champion_mastery(EU4, 'euw1', 'RSUM5_ID', 'RSUP_CHAMP_ID')\n",
    "time.sleep(120)\n",
    "Red_SUP_list = Red_SUP_list1 + Red_SUP_list2 + Red_SUP_list3 + Red_SUP_list4\n",
    "len(Red_SUP_list)"
   ]
  },
  {
   "cell_type": "code",
   "execution_count": 77,
   "metadata": {},
   "outputs": [
    {
     "name": "stdout",
     "output_type": "stream",
     "text": [
      "False\n"
     ]
    }
   ],
   "source": [
    "if 'error' in Red_SUP_list:\n",
    "    print(True)\n",
    "else:\n",
    "    print(False)"
   ]
  },
  {
   "cell_type": "markdown",
   "metadata": {},
   "source": [
    "## Champion Mastery Dataset"
   ]
  },
  {
   "cell_type": "code",
   "execution_count": 78,
   "metadata": {},
   "outputs": [
    {
     "data": {
      "text/html": [
       "<div>\n",
       "<style scoped>\n",
       "    .dataframe tbody tr th:only-of-type {\n",
       "        vertical-align: middle;\n",
       "    }\n",
       "\n",
       "    .dataframe tbody tr th {\n",
       "        vertical-align: top;\n",
       "    }\n",
       "\n",
       "    .dataframe thead th {\n",
       "        text-align: right;\n",
       "    }\n",
       "</style>\n",
       "<table border=\"1\" class=\"dataframe\">\n",
       "  <thead>\n",
       "    <tr style=\"text-align: right;\">\n",
       "      <th></th>\n",
       "      <th>BTOP_CHAMP_MAST</th>\n",
       "      <th>BJGL_CHAMP_MAST</th>\n",
       "      <th>BMID_CHAMP_MAST</th>\n",
       "      <th>BBOT_CHAMP_MAST</th>\n",
       "      <th>BSUP_CHAMP_MAST</th>\n",
       "      <th>RTOP_CHAMP_MAST</th>\n",
       "      <th>RJGL_CHAMP_MAST</th>\n",
       "      <th>RMID_CHAMP_MAST</th>\n",
       "      <th>RBOT_CHAMP_MAST</th>\n",
       "      <th>RSUP_CHAMP_MAST</th>\n",
       "    </tr>\n",
       "  </thead>\n",
       "  <tbody>\n",
       "    <tr>\n",
       "      <th>0</th>\n",
       "      <td>46397</td>\n",
       "      <td>387356</td>\n",
       "      <td>135748</td>\n",
       "      <td>102169</td>\n",
       "      <td>266708</td>\n",
       "      <td>707714</td>\n",
       "      <td>43375</td>\n",
       "      <td>16727</td>\n",
       "      <td>134518</td>\n",
       "      <td>919414</td>\n",
       "    </tr>\n",
       "    <tr>\n",
       "      <th>1</th>\n",
       "      <td>1161674</td>\n",
       "      <td>35904</td>\n",
       "      <td>654979</td>\n",
       "      <td>3998</td>\n",
       "      <td>247984</td>\n",
       "      <td>551271</td>\n",
       "      <td>48145</td>\n",
       "      <td>735792</td>\n",
       "      <td>102169</td>\n",
       "      <td>67304</td>\n",
       "    </tr>\n",
       "    <tr>\n",
       "      <th>2</th>\n",
       "      <td>156915</td>\n",
       "      <td>48145</td>\n",
       "      <td>111733</td>\n",
       "      <td>177752</td>\n",
       "      <td>46577</td>\n",
       "      <td>27298</td>\n",
       "      <td>285117</td>\n",
       "      <td>5336</td>\n",
       "      <td>136596</td>\n",
       "      <td>654979</td>\n",
       "    </tr>\n",
       "    <tr>\n",
       "      <th>3</th>\n",
       "      <td>82980</td>\n",
       "      <td>43375</td>\n",
       "      <td>315491</td>\n",
       "      <td>167949</td>\n",
       "      <td>41931</td>\n",
       "      <td>10929</td>\n",
       "      <td>12813</td>\n",
       "      <td>919414</td>\n",
       "      <td>105808</td>\n",
       "      <td>48602</td>\n",
       "    </tr>\n",
       "    <tr>\n",
       "      <th>4</th>\n",
       "      <td>462466</td>\n",
       "      <td>43375</td>\n",
       "      <td>40043</td>\n",
       "      <td>758251</td>\n",
       "      <td>240933</td>\n",
       "      <td>654979</td>\n",
       "      <td>2669483</td>\n",
       "      <td>62243</td>\n",
       "      <td>39954</td>\n",
       "      <td>397205</td>\n",
       "    </tr>\n",
       "  </tbody>\n",
       "</table>\n",
       "</div>"
      ],
      "text/plain": [
       "   BTOP_CHAMP_MAST  BJGL_CHAMP_MAST  BMID_CHAMP_MAST  BBOT_CHAMP_MAST  \\\n",
       "0            46397           387356           135748           102169   \n",
       "1          1161674            35904           654979             3998   \n",
       "2           156915            48145           111733           177752   \n",
       "3            82980            43375           315491           167949   \n",
       "4           462466            43375            40043           758251   \n",
       "\n",
       "   BSUP_CHAMP_MAST  RTOP_CHAMP_MAST  RJGL_CHAMP_MAST  RMID_CHAMP_MAST  \\\n",
       "0           266708           707714            43375            16727   \n",
       "1           247984           551271            48145           735792   \n",
       "2            46577            27298           285117             5336   \n",
       "3            41931            10929            12813           919414   \n",
       "4           240933           654979          2669483            62243   \n",
       "\n",
       "   RBOT_CHAMP_MAST  RSUP_CHAMP_MAST  \n",
       "0           134518           919414  \n",
       "1           102169            67304  \n",
       "2           136596           654979  \n",
       "3           105808            48602  \n",
       "4            39954           397205  "
      ]
     },
     "execution_count": 78,
     "metadata": {},
     "output_type": "execute_result"
    }
   ],
   "source": [
    "EU_mastery = pd.DataFrame()\n",
    "EU_mastery['BTOP_CHAMP_MAST'] = Blue_TOP_list\n",
    "EU_mastery['BJGL_CHAMP_MAST'] = Blue_JGL_list\n",
    "EU_mastery['BMID_CHAMP_MAST'] = Blue_MID_list\n",
    "EU_mastery['BBOT_CHAMP_MAST'] = Blue_BOT_list\n",
    "EU_mastery['BSUP_CHAMP_MAST'] = Blue_SUP_list\n",
    "EU_mastery['RTOP_CHAMP_MAST'] = Red_TOP_list\n",
    "EU_mastery['RJGL_CHAMP_MAST'] = Red_JGL_list\n",
    "EU_mastery['RMID_CHAMP_MAST'] = Red_MID_list\n",
    "EU_mastery['RBOT_CHAMP_MAST'] = Red_BOT_list\n",
    "EU_mastery['RSUP_CHAMP_MAST'] = Red_SUP_list\n",
    "EU_mastery.head()"
   ]
  },
  {
   "cell_type": "code",
   "execution_count": null,
   "metadata": {},
   "outputs": [],
   "source": [
    "EU_mastery.to_csv('EU_mastery_366.csv', index=False)"
   ]
  },
  {
   "cell_type": "code",
   "execution_count": 82,
   "metadata": {},
   "outputs": [
    {
     "data": {
      "text/plain": [
       "BTOP_CHAMP_MAST    False\n",
       "BJGL_CHAMP_MAST    False\n",
       "BMID_CHAMP_MAST    False\n",
       "BBOT_CHAMP_MAST    False\n",
       "BSUP_CHAMP_MAST    False\n",
       "RTOP_CHAMP_MAST    False\n",
       "RJGL_CHAMP_MAST    False\n",
       "RMID_CHAMP_MAST    False\n",
       "RBOT_CHAMP_MAST    False\n",
       "RSUP_CHAMP_MAST    False\n",
       "dtype: bool"
      ]
     },
     "execution_count": 82,
     "metadata": {},
     "output_type": "execute_result"
    }
   ],
   "source": [
    "EU_mastery.isin([\"error\"]).any()"
   ]
  },
  {
   "cell_type": "code",
   "execution_count": null,
   "metadata": {},
   "outputs": [],
   "source": []
  }
 ],
 "metadata": {
  "interpreter": {
   "hash": "39512f3c2a1741d7f752d45a133d4514127029333ea14bc2f3c6c5e6759b9029"
  },
  "kernelspec": {
   "display_name": "Python 3.8.13 ('base_env')",
   "language": "python",
   "name": "python3"
  },
  "language_info": {
   "codemirror_mode": {
    "name": "ipython",
    "version": 3
   },
   "file_extension": ".py",
   "mimetype": "text/x-python",
   "name": "python",
   "nbconvert_exporter": "python",
   "pygments_lexer": "ipython3",
   "version": "3.8.13"
  },
  "orig_nbformat": 4
 },
 "nbformat": 4,
 "nbformat_minor": 2
}
