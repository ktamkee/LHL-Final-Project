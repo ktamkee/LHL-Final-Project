{
 "cells": [
  {
   "cell_type": "markdown",
   "metadata": {},
   "source": [
    "# Win Loss Ratio and League Points - Europe"
   ]
  },
  {
   "cell_type": "code",
   "execution_count": 1,
   "metadata": {},
   "outputs": [],
   "source": [
    "import numpy as np\n",
    "import pandas as pd\n",
    "import requests as re\n",
    "import time"
   ]
  },
  {
   "cell_type": "code",
   "execution_count": 2,
   "metadata": {},
   "outputs": [],
   "source": [
    "headers = {\n",
    "    \"User-Agent\": \"Mozilla/5.0 (Macintosh; Intel Mac OS X 10_15_7) AppleWebKit/537.36 (KHTML, like Gecko) Chrome/104.0.5112.81 Safari/537.36 Edg/104.0.1293.47\",\n",
    "    \"Accept-Language\": \"en-CA,en-US;q=0.9,en;q=0.8\",\n",
    "    \"Accept-Charset\": \"application/x-www-form-urlencoded; charset=UTF-8\",\n",
    "    \"Origin\": \"https://developer.riotgames.com\",\n",
    "    \"X-Riot-Token\": \"RGAPI-59d23d98-22f7-47b2-be13-5851816103a6\"\n",
    "}"
   ]
  },
  {
   "cell_type": "code",
   "execution_count": 3,
   "metadata": {},
   "outputs": [
    {
     "name": "stdout",
     "output_type": "stream",
     "text": [
      "(378, 51)\n"
     ]
    },
    {
     "data": {
      "text/html": [
       "<div>\n",
       "<style scoped>\n",
       "    .dataframe tbody tr th:only-of-type {\n",
       "        vertical-align: middle;\n",
       "    }\n",
       "\n",
       "    .dataframe tbody tr th {\n",
       "        vertical-align: top;\n",
       "    }\n",
       "\n",
       "    .dataframe thead th {\n",
       "        text-align: right;\n",
       "    }\n",
       "</style>\n",
       "<table border=\"1\" class=\"dataframe\">\n",
       "  <thead>\n",
       "    <tr style=\"text-align: right;\">\n",
       "      <th></th>\n",
       "      <th>SERVER</th>\n",
       "      <th>MATCH_ID</th>\n",
       "      <th>BSUM1_ID</th>\n",
       "      <th>BTOP_CHAMP_ID</th>\n",
       "      <th>BSUM2_ID</th>\n",
       "      <th>BJGL_CHAMP_ID</th>\n",
       "      <th>BSUM3_ID</th>\n",
       "      <th>BMID_CHAMP_ID</th>\n",
       "      <th>BSUM4_ID</th>\n",
       "      <th>BBOT_CHAMP_ID</th>\n",
       "      <th>...</th>\n",
       "      <th>FIRST_TOWER</th>\n",
       "      <th>BTOWER_KILLS</th>\n",
       "      <th>RTOWER_KILLS</th>\n",
       "      <th>FIRST_BARON</th>\n",
       "      <th>BBARON_KILLS</th>\n",
       "      <th>RBARON_KILLS</th>\n",
       "      <th>FIRST_INHIB</th>\n",
       "      <th>BINHIB_KILLS</th>\n",
       "      <th>RINHIB_KILLS</th>\n",
       "      <th>WINNER</th>\n",
       "    </tr>\n",
       "  </thead>\n",
       "  <tbody>\n",
       "    <tr>\n",
       "      <th>0</th>\n",
       "      <td>NORTH AMERICA</td>\n",
       "      <td>NA1_4396515853</td>\n",
       "      <td>_rz2B5gcGgG78Ce-qPHbK_BjSGuAYXVbU5HehuD69QhJE2I</td>\n",
       "      <td>50</td>\n",
       "      <td>RWNELKaFziEInyoYrBUt2CAKeHxIi_1S71GwvUdr__CJErI</td>\n",
       "      <td>200</td>\n",
       "      <td>WTTjHK7BiVw0fYiDWcPfuV248NITM-7Yvz2t1KqtYjEJzjA</td>\n",
       "      <td>38</td>\n",
       "      <td>F8TVH5gwahG6ByWfv5nt6xmqGItJAOHTP_vRj6R_kYIuDn...</td>\n",
       "      <td>119</td>\n",
       "      <td>...</td>\n",
       "      <td>BLUE</td>\n",
       "      <td>7</td>\n",
       "      <td>0</td>\n",
       "      <td>NONE</td>\n",
       "      <td>0</td>\n",
       "      <td>0</td>\n",
       "      <td>BLUE</td>\n",
       "      <td>1</td>\n",
       "      <td>0</td>\n",
       "      <td>BLUE</td>\n",
       "    </tr>\n",
       "    <tr>\n",
       "      <th>1</th>\n",
       "      <td>NORTH AMERICA</td>\n",
       "      <td>NA1_4396540388</td>\n",
       "      <td>r0VX6FfhshlR1S_yFNnv3FZ24b37EPCXZ0X5PUpu82Mqncs</td>\n",
       "      <td>266</td>\n",
       "      <td>qxox9oRsNSZttfe03EJKZgf5_YV7eqYl5SbsSuioeY0zlF8</td>\n",
       "      <td>9</td>\n",
       "      <td>-mhcp2urSsr5scOkFeXXMkzMhzrrJSZ1dWH4z3xLgjlukls</td>\n",
       "      <td>8</td>\n",
       "      <td>F8TVH5gwahG6ByWfv5nt6xmqGItJAOHTP_vRj6R_kYIuDn...</td>\n",
       "      <td>119</td>\n",
       "      <td>...</td>\n",
       "      <td>BLUE</td>\n",
       "      <td>8</td>\n",
       "      <td>4</td>\n",
       "      <td>BLUE</td>\n",
       "      <td>1</td>\n",
       "      <td>0</td>\n",
       "      <td>BLUE</td>\n",
       "      <td>1</td>\n",
       "      <td>0</td>\n",
       "      <td>BLUE</td>\n",
       "    </tr>\n",
       "    <tr>\n",
       "      <th>2</th>\n",
       "      <td>NORTH AMERICA</td>\n",
       "      <td>NA1_4396495283</td>\n",
       "      <td>g96u4Zu60wNHE_ghxcPDuC_Mc9ouc3m48Mx_NLdZ1FMdfxg</td>\n",
       "      <td>266</td>\n",
       "      <td>Dr8A8hpa5aBnlkY4qMoo8d40qEcqOIIlfc0C3ojR4JGkJmQ</td>\n",
       "      <td>200</td>\n",
       "      <td>F8TVH5gwahG6ByWfv5nt6xmqGItJAOHTP_vRj6R_kYIuDn...</td>\n",
       "      <td>1</td>\n",
       "      <td>V-vrG5r7dzvV3vppV-vDVZXsFAE0jMQWCIMJPYom6RjAhS...</td>\n",
       "      <td>360</td>\n",
       "      <td>...</td>\n",
       "      <td>BLUE</td>\n",
       "      <td>9</td>\n",
       "      <td>5</td>\n",
       "      <td>BLUE</td>\n",
       "      <td>1</td>\n",
       "      <td>0</td>\n",
       "      <td>BLUE</td>\n",
       "      <td>1</td>\n",
       "      <td>0</td>\n",
       "      <td>BLUE</td>\n",
       "    </tr>\n",
       "    <tr>\n",
       "      <th>3</th>\n",
       "      <td>NORTH AMERICA</td>\n",
       "      <td>NA1_4396437949</td>\n",
       "      <td>Mj8iPiDSI3xHQO_1gDFsGz5uf6dwY7vHZla08rzzMuRmHYc</td>\n",
       "      <td>27</td>\n",
       "      <td>H9lyL4tk2OM82hgYSU36Dr-MlVdpGFY7OBQ45cQSnP0jKzNh</td>\n",
       "      <td>421</td>\n",
       "      <td>36g0ZTyQO7y54a6u-u2oAR0lAWoIrU7rL_V65ipeEyautWY</td>\n",
       "      <td>74</td>\n",
       "      <td>DWXk985dJPD6ywHdP9yIVJQe7kGLMVb3c502hFDTLGIaJyU</td>\n",
       "      <td>119</td>\n",
       "      <td>...</td>\n",
       "      <td>BLUE</td>\n",
       "      <td>3</td>\n",
       "      <td>7</td>\n",
       "      <td>RED</td>\n",
       "      <td>0</td>\n",
       "      <td>1</td>\n",
       "      <td>RED</td>\n",
       "      <td>0</td>\n",
       "      <td>2</td>\n",
       "      <td>RED</td>\n",
       "    </tr>\n",
       "    <tr>\n",
       "      <th>4</th>\n",
       "      <td>NORTH AMERICA</td>\n",
       "      <td>NA1_4396434056</td>\n",
       "      <td>daODRa4nnhTu0q1-eycLcvTqE_eG9-knakaOpTdDwymGsD0</td>\n",
       "      <td>516</td>\n",
       "      <td>MxCz3g6oBXQubGlvJnMTvdaJ73L6J9CIlYgzoj9nOY_SXuA</td>\n",
       "      <td>131</td>\n",
       "      <td>d1taUIColLPNBQdrVyuo-LdG80RYmo6Bqk_qU5gPsYGsLQs</td>\n",
       "      <td>104</td>\n",
       "      <td>xL-gHga9xDBG2avQT56HZlPRLQUKX2OkvJkfsOtr29S2mr...</td>\n",
       "      <td>523</td>\n",
       "      <td>...</td>\n",
       "      <td>BLUE</td>\n",
       "      <td>4</td>\n",
       "      <td>11</td>\n",
       "      <td>RED</td>\n",
       "      <td>0</td>\n",
       "      <td>1</td>\n",
       "      <td>RED</td>\n",
       "      <td>0</td>\n",
       "      <td>2</td>\n",
       "      <td>RED</td>\n",
       "    </tr>\n",
       "  </tbody>\n",
       "</table>\n",
       "<p>5 rows × 51 columns</p>\n",
       "</div>"
      ],
      "text/plain": [
       "          SERVER        MATCH_ID  \\\n",
       "0  NORTH AMERICA  NA1_4396515853   \n",
       "1  NORTH AMERICA  NA1_4396540388   \n",
       "2  NORTH AMERICA  NA1_4396495283   \n",
       "3  NORTH AMERICA  NA1_4396437949   \n",
       "4  NORTH AMERICA  NA1_4396434056   \n",
       "\n",
       "                                          BSUM1_ID  BTOP_CHAMP_ID  \\\n",
       "0  _rz2B5gcGgG78Ce-qPHbK_BjSGuAYXVbU5HehuD69QhJE2I             50   \n",
       "1  r0VX6FfhshlR1S_yFNnv3FZ24b37EPCXZ0X5PUpu82Mqncs            266   \n",
       "2  g96u4Zu60wNHE_ghxcPDuC_Mc9ouc3m48Mx_NLdZ1FMdfxg            266   \n",
       "3  Mj8iPiDSI3xHQO_1gDFsGz5uf6dwY7vHZla08rzzMuRmHYc             27   \n",
       "4  daODRa4nnhTu0q1-eycLcvTqE_eG9-knakaOpTdDwymGsD0            516   \n",
       "\n",
       "                                           BSUM2_ID  BJGL_CHAMP_ID  \\\n",
       "0   RWNELKaFziEInyoYrBUt2CAKeHxIi_1S71GwvUdr__CJErI            200   \n",
       "1   qxox9oRsNSZttfe03EJKZgf5_YV7eqYl5SbsSuioeY0zlF8              9   \n",
       "2   Dr8A8hpa5aBnlkY4qMoo8d40qEcqOIIlfc0C3ojR4JGkJmQ            200   \n",
       "3  H9lyL4tk2OM82hgYSU36Dr-MlVdpGFY7OBQ45cQSnP0jKzNh            421   \n",
       "4   MxCz3g6oBXQubGlvJnMTvdaJ73L6J9CIlYgzoj9nOY_SXuA            131   \n",
       "\n",
       "                                            BSUM3_ID  BMID_CHAMP_ID  \\\n",
       "0    WTTjHK7BiVw0fYiDWcPfuV248NITM-7Yvz2t1KqtYjEJzjA             38   \n",
       "1    -mhcp2urSsr5scOkFeXXMkzMhzrrJSZ1dWH4z3xLgjlukls              8   \n",
       "2  F8TVH5gwahG6ByWfv5nt6xmqGItJAOHTP_vRj6R_kYIuDn...              1   \n",
       "3    36g0ZTyQO7y54a6u-u2oAR0lAWoIrU7rL_V65ipeEyautWY             74   \n",
       "4    d1taUIColLPNBQdrVyuo-LdG80RYmo6Bqk_qU5gPsYGsLQs            104   \n",
       "\n",
       "                                            BSUM4_ID  BBOT_CHAMP_ID  ...  \\\n",
       "0  F8TVH5gwahG6ByWfv5nt6xmqGItJAOHTP_vRj6R_kYIuDn...            119  ...   \n",
       "1  F8TVH5gwahG6ByWfv5nt6xmqGItJAOHTP_vRj6R_kYIuDn...            119  ...   \n",
       "2  V-vrG5r7dzvV3vppV-vDVZXsFAE0jMQWCIMJPYom6RjAhS...            360  ...   \n",
       "3    DWXk985dJPD6ywHdP9yIVJQe7kGLMVb3c502hFDTLGIaJyU            119  ...   \n",
       "4  xL-gHga9xDBG2avQT56HZlPRLQUKX2OkvJkfsOtr29S2mr...            523  ...   \n",
       "\n",
       "  FIRST_TOWER  BTOWER_KILLS  RTOWER_KILLS  FIRST_BARON  BBARON_KILLS  \\\n",
       "0        BLUE             7             0         NONE             0   \n",
       "1        BLUE             8             4         BLUE             1   \n",
       "2        BLUE             9             5         BLUE             1   \n",
       "3        BLUE             3             7          RED             0   \n",
       "4        BLUE             4            11          RED             0   \n",
       "\n",
       "   RBARON_KILLS  FIRST_INHIB BINHIB_KILLS  RINHIB_KILLS WINNER  \n",
       "0             0         BLUE            1             0   BLUE  \n",
       "1             0         BLUE            1             0   BLUE  \n",
       "2             0         BLUE            1             0   BLUE  \n",
       "3             1          RED            0             2    RED  \n",
       "4             1          RED            0             2    RED  \n",
       "\n",
       "[5 rows x 51 columns]"
      ]
     },
     "execution_count": 3,
     "metadata": {},
     "output_type": "execute_result"
    }
   ],
   "source": [
    "NA = pd.read_csv('../../data/first_model/raw/NA_all_data_378.csv')\n",
    "print(NA.shape)\n",
    "NA.head()"
   ]
  },
  {
   "cell_type": "code",
   "execution_count": 4,
   "metadata": {},
   "outputs": [],
   "source": [
    "NA1 = NA[:100]\n",
    "NA2 = NA[100:200]\n",
    "NA3 = NA[200:300]\n",
    "NA4 = NA[300:]"
   ]
  },
  {
   "cell_type": "code",
   "execution_count": 5,
   "metadata": {},
   "outputs": [],
   "source": [
    "'''\n",
    "This function uses the champion mastery api to get the champion mastery for a specific champion and summoner.\n",
    "\n",
    "Region can be: euw1, na1, kr\n",
    "\n",
    "Summoner input can be:\n",
    "-  BSUM1 - BSUM5\n",
    "-  RSUM1 - RSUM5\n",
    "\n",
    "SummonerID input can be:\n",
    "-  BSUM1_ID - BSUM5_ID\n",
    "-  RSUM1_ID - RSUM5_ID\n",
    "'''\n",
    "\n",
    "def summoner_stats(df, server, summoner, summonerID):\n",
    "\n",
    "    stats_df = pd.DataFrame()\n",
    "    wins_column = summoner + '_WINS'\n",
    "    losses_column = summoner + '_LOSSES'\n",
    "    league_points_column = summoner + '_LEAGUE_POINTS'\n",
    "\n",
    "    wins_list = []\n",
    "    losses_list = []\n",
    "    league_points_list = []\n",
    "\n",
    "    for i in range(len(df)):\n",
    "        summoner_id = df.iloc[i][summonerID]\n",
    "        try: \n",
    "            url = 'https://'+ server + '.api.riotgames.com/lol/league/v4/entries/by-summoner/' + summoner_id\n",
    "            res = re.get(url, headers=headers).json()\n",
    "\n",
    "            wins = res[0]['wins']\n",
    "            wins_list.append(wins)\n",
    "\n",
    "            losses = res[0]['losses']\n",
    "            losses_list.append(losses)\n",
    "\n",
    "            leaguePoints = res[0]['leaguePoints']\n",
    "            league_points_list.append(leaguePoints)\n",
    "        \n",
    "        except:\n",
    "            wins_list.append(np.nan)\n",
    "            losses_list.append(np.nan)\n",
    "            league_points_list.append(np.nan)\n",
    "            pass\n",
    "\n",
    "    stats_df[wins_column] = wins_list\n",
    "    stats_df[losses_column] = losses_list\n",
    "    stats_df[league_points_column] = league_points_list     \n",
    "\n",
    "    return stats_df"
   ]
  },
  {
   "cell_type": "markdown",
   "metadata": {},
   "source": [
    "## Blue Team"
   ]
  },
  {
   "cell_type": "markdown",
   "metadata": {},
   "source": [
    "### SUMMONER 1 - TOP"
   ]
  },
  {
   "cell_type": "code",
   "execution_count": 6,
   "metadata": {},
   "outputs": [
    {
     "name": "stdout",
     "output_type": "stream",
     "text": [
      "(378, 3)\n"
     ]
    },
    {
     "data": {
      "text/html": [
       "<div>\n",
       "<style scoped>\n",
       "    .dataframe tbody tr th:only-of-type {\n",
       "        vertical-align: middle;\n",
       "    }\n",
       "\n",
       "    .dataframe tbody tr th {\n",
       "        vertical-align: top;\n",
       "    }\n",
       "\n",
       "    .dataframe thead th {\n",
       "        text-align: right;\n",
       "    }\n",
       "</style>\n",
       "<table border=\"1\" class=\"dataframe\">\n",
       "  <thead>\n",
       "    <tr style=\"text-align: right;\">\n",
       "      <th></th>\n",
       "      <th>BTOP_WINS</th>\n",
       "      <th>BTOP_LOSSES</th>\n",
       "      <th>BTOP_LEAGUE_POINTS</th>\n",
       "    </tr>\n",
       "  </thead>\n",
       "  <tbody>\n",
       "    <tr>\n",
       "      <th>0</th>\n",
       "      <td>371.0</td>\n",
       "      <td>360.0</td>\n",
       "      <td>419.0</td>\n",
       "    </tr>\n",
       "    <tr>\n",
       "      <th>1</th>\n",
       "      <td>32.0</td>\n",
       "      <td>40.0</td>\n",
       "      <td>100.0</td>\n",
       "    </tr>\n",
       "    <tr>\n",
       "      <th>2</th>\n",
       "      <td>217.0</td>\n",
       "      <td>192.0</td>\n",
       "      <td>833.0</td>\n",
       "    </tr>\n",
       "    <tr>\n",
       "      <th>3</th>\n",
       "      <td>327.0</td>\n",
       "      <td>306.0</td>\n",
       "      <td>442.0</td>\n",
       "    </tr>\n",
       "    <tr>\n",
       "      <th>4</th>\n",
       "      <td>767.0</td>\n",
       "      <td>733.0</td>\n",
       "      <td>580.0</td>\n",
       "    </tr>\n",
       "  </tbody>\n",
       "</table>\n",
       "</div>"
      ],
      "text/plain": [
       "   BTOP_WINS  BTOP_LOSSES  BTOP_LEAGUE_POINTS\n",
       "0      371.0        360.0               419.0\n",
       "1       32.0         40.0               100.0\n",
       "2      217.0        192.0               833.0\n",
       "3      327.0        306.0               442.0\n",
       "4      767.0        733.0               580.0"
      ]
     },
     "execution_count": 6,
     "metadata": {},
     "output_type": "execute_result"
    }
   ],
   "source": [
    "BTOP1 = summoner_stats(NA1, 'na1', 'BTOP', 'BSUM1_ID')\n",
    "time.sleep(120)\n",
    "BTOP2 = summoner_stats(NA2, 'na1', 'BTOP', 'BSUM1_ID')\n",
    "time.sleep(120)\n",
    "BTOP3 = summoner_stats(NA3, 'na1', 'BTOP', 'BSUM1_ID')\n",
    "time.sleep(120)\n",
    "BTOP4 = summoner_stats(NA4, 'na1', 'BTOP', 'BSUM1_ID')\n",
    "time.sleep(120)\n",
    "BTOP_stats = pd.concat([BTOP1, BTOP2, BTOP3, BTOP4], axis=0)\n",
    "print(BTOP_stats.shape)\n",
    "BTOP_stats.head()"
   ]
  },
  {
   "cell_type": "code",
   "execution_count": 11,
   "metadata": {},
   "outputs": [
    {
     "data": {
      "text/plain": [
       "BTOP_WINS             True\n",
       "BTOP_LOSSES           True\n",
       "BTOP_LEAGUE_POINTS    True\n",
       "dtype: bool"
      ]
     },
     "execution_count": 11,
     "metadata": {},
     "output_type": "execute_result"
    }
   ],
   "source": [
    "BTOP_stats.isna().any()"
   ]
  },
  {
   "cell_type": "markdown",
   "metadata": {},
   "source": [
    "### SUMMONER 2 - JGL"
   ]
  },
  {
   "cell_type": "code",
   "execution_count": 12,
   "metadata": {},
   "outputs": [
    {
     "name": "stdout",
     "output_type": "stream",
     "text": [
      "(378, 3)\n"
     ]
    },
    {
     "data": {
      "text/html": [
       "<div>\n",
       "<style scoped>\n",
       "    .dataframe tbody tr th:only-of-type {\n",
       "        vertical-align: middle;\n",
       "    }\n",
       "\n",
       "    .dataframe tbody tr th {\n",
       "        vertical-align: top;\n",
       "    }\n",
       "\n",
       "    .dataframe thead th {\n",
       "        text-align: right;\n",
       "    }\n",
       "</style>\n",
       "<table border=\"1\" class=\"dataframe\">\n",
       "  <thead>\n",
       "    <tr style=\"text-align: right;\">\n",
       "      <th></th>\n",
       "      <th>BJGL_WINS</th>\n",
       "      <th>BJGL_LOSSES</th>\n",
       "      <th>BJGL_LEAGUE_POINTS</th>\n",
       "    </tr>\n",
       "  </thead>\n",
       "  <tbody>\n",
       "    <tr>\n",
       "      <th>0</th>\n",
       "      <td>158.0</td>\n",
       "      <td>132.0</td>\n",
       "      <td>633.0</td>\n",
       "    </tr>\n",
       "    <tr>\n",
       "      <th>1</th>\n",
       "      <td>54.0</td>\n",
       "      <td>35.0</td>\n",
       "      <td>75.0</td>\n",
       "    </tr>\n",
       "    <tr>\n",
       "      <th>2</th>\n",
       "      <td>32.0</td>\n",
       "      <td>13.0</td>\n",
       "      <td>88.0</td>\n",
       "    </tr>\n",
       "    <tr>\n",
       "      <th>3</th>\n",
       "      <td>17.0</td>\n",
       "      <td>14.0</td>\n",
       "      <td>100.0</td>\n",
       "    </tr>\n",
       "    <tr>\n",
       "      <th>4</th>\n",
       "      <td>82.0</td>\n",
       "      <td>64.0</td>\n",
       "      <td>209.0</td>\n",
       "    </tr>\n",
       "  </tbody>\n",
       "</table>\n",
       "</div>"
      ],
      "text/plain": [
       "   BJGL_WINS  BJGL_LOSSES  BJGL_LEAGUE_POINTS\n",
       "0      158.0        132.0               633.0\n",
       "1       54.0         35.0                75.0\n",
       "2       32.0         13.0                88.0\n",
       "3       17.0         14.0               100.0\n",
       "4       82.0         64.0               209.0"
      ]
     },
     "execution_count": 12,
     "metadata": {},
     "output_type": "execute_result"
    }
   ],
   "source": [
    "BJGL1 = summoner_stats(NA1, 'na1', 'BJGL', 'BSUM2_ID')\n",
    "time.sleep(120)\n",
    "BJGL2 = summoner_stats(NA2, 'na1', 'BJGL', 'BSUM2_ID')\n",
    "time.sleep(120)\n",
    "BJGL3 = summoner_stats(NA3, 'na1', 'BJGL', 'BSUM2_ID')\n",
    "time.sleep(120)\n",
    "BJGL4 = summoner_stats(NA4, 'na1', 'BJGL', 'BSUM2_ID')\n",
    "time.sleep(120)\n",
    "BJGL_stats = pd.concat([BJGL1, BJGL2, BJGL3, BJGL4], axis=0)\n",
    "print(BJGL_stats.shape)\n",
    "BJGL_stats.head()"
   ]
  },
  {
   "cell_type": "code",
   "execution_count": 13,
   "metadata": {},
   "outputs": [
    {
     "data": {
      "text/plain": [
       "BJGL_WINS             True\n",
       "BJGL_LOSSES           True\n",
       "BJGL_LEAGUE_POINTS    True\n",
       "dtype: bool"
      ]
     },
     "execution_count": 13,
     "metadata": {},
     "output_type": "execute_result"
    }
   ],
   "source": [
    "BJGL_stats.isna().any()"
   ]
  },
  {
   "cell_type": "markdown",
   "metadata": {},
   "source": [
    "### SUMMONER 3 - MID"
   ]
  },
  {
   "cell_type": "code",
   "execution_count": 14,
   "metadata": {},
   "outputs": [
    {
     "name": "stdout",
     "output_type": "stream",
     "text": [
      "(378, 3)\n"
     ]
    },
    {
     "data": {
      "text/html": [
       "<div>\n",
       "<style scoped>\n",
       "    .dataframe tbody tr th:only-of-type {\n",
       "        vertical-align: middle;\n",
       "    }\n",
       "\n",
       "    .dataframe tbody tr th {\n",
       "        vertical-align: top;\n",
       "    }\n",
       "\n",
       "    .dataframe thead th {\n",
       "        text-align: right;\n",
       "    }\n",
       "</style>\n",
       "<table border=\"1\" class=\"dataframe\">\n",
       "  <thead>\n",
       "    <tr style=\"text-align: right;\">\n",
       "      <th></th>\n",
       "      <th>BMID_WINS</th>\n",
       "      <th>BMID_LOSSES</th>\n",
       "      <th>BMID_LEAGUE_POINTS</th>\n",
       "    </tr>\n",
       "  </thead>\n",
       "  <tbody>\n",
       "    <tr>\n",
       "      <th>0</th>\n",
       "      <td>12.0</td>\n",
       "      <td>19.0</td>\n",
       "      <td>7.0</td>\n",
       "    </tr>\n",
       "    <tr>\n",
       "      <th>1</th>\n",
       "      <td>500.0</td>\n",
       "      <td>449.0</td>\n",
       "      <td>684.0</td>\n",
       "    </tr>\n",
       "    <tr>\n",
       "      <th>2</th>\n",
       "      <td>813.0</td>\n",
       "      <td>771.0</td>\n",
       "      <td>562.0</td>\n",
       "    </tr>\n",
       "    <tr>\n",
       "      <th>3</th>\n",
       "      <td>25.0</td>\n",
       "      <td>13.0</td>\n",
       "      <td>100.0</td>\n",
       "    </tr>\n",
       "    <tr>\n",
       "      <th>4</th>\n",
       "      <td>941.0</td>\n",
       "      <td>925.0</td>\n",
       "      <td>312.0</td>\n",
       "    </tr>\n",
       "  </tbody>\n",
       "</table>\n",
       "</div>"
      ],
      "text/plain": [
       "   BMID_WINS  BMID_LOSSES  BMID_LEAGUE_POINTS\n",
       "0       12.0         19.0                 7.0\n",
       "1      500.0        449.0               684.0\n",
       "2      813.0        771.0               562.0\n",
       "3       25.0         13.0               100.0\n",
       "4      941.0        925.0               312.0"
      ]
     },
     "execution_count": 14,
     "metadata": {},
     "output_type": "execute_result"
    }
   ],
   "source": [
    "BMID1 = summoner_stats(NA1, 'na1', 'BMID', 'BSUM3_ID')\n",
    "time.sleep(120)\n",
    "BMID2 = summoner_stats(NA2, 'na1', 'BMID', 'BSUM3_ID')\n",
    "time.sleep(120)\n",
    "BMID3 = summoner_stats(NA3, 'na1', 'BMID', 'BSUM3_ID')\n",
    "time.sleep(120)\n",
    "BMID4 = summoner_stats(NA4, 'na1', 'BMID', 'BSUM3_ID')\n",
    "time.sleep(120)\n",
    "BMID_stats = pd.concat([BMID1, BMID2, BMID3, BMID4], axis=0)\n",
    "print(BMID_stats.shape)\n",
    "BMID_stats.head()"
   ]
  },
  {
   "cell_type": "code",
   "execution_count": 15,
   "metadata": {},
   "outputs": [
    {
     "data": {
      "text/plain": [
       "BMID_WINS             True\n",
       "BMID_LOSSES           True\n",
       "BMID_LEAGUE_POINTS    True\n",
       "dtype: bool"
      ]
     },
     "execution_count": 15,
     "metadata": {},
     "output_type": "execute_result"
    }
   ],
   "source": [
    "BMID_stats.isna().any()"
   ]
  },
  {
   "cell_type": "markdown",
   "metadata": {},
   "source": [
    "### SUMMONER 4 - BOT"
   ]
  },
  {
   "cell_type": "code",
   "execution_count": 16,
   "metadata": {},
   "outputs": [
    {
     "name": "stdout",
     "output_type": "stream",
     "text": [
      "(378, 3)\n"
     ]
    },
    {
     "data": {
      "text/html": [
       "<div>\n",
       "<style scoped>\n",
       "    .dataframe tbody tr th:only-of-type {\n",
       "        vertical-align: middle;\n",
       "    }\n",
       "\n",
       "    .dataframe tbody tr th {\n",
       "        vertical-align: top;\n",
       "    }\n",
       "\n",
       "    .dataframe thead th {\n",
       "        text-align: right;\n",
       "    }\n",
       "</style>\n",
       "<table border=\"1\" class=\"dataframe\">\n",
       "  <thead>\n",
       "    <tr style=\"text-align: right;\">\n",
       "      <th></th>\n",
       "      <th>BBOT_WINS</th>\n",
       "      <th>BBOT_LOSSES</th>\n",
       "      <th>BBOT_LEAGUE_POINTS</th>\n",
       "    </tr>\n",
       "  </thead>\n",
       "  <tbody>\n",
       "    <tr>\n",
       "      <th>0</th>\n",
       "      <td>813.0</td>\n",
       "      <td>771.0</td>\n",
       "      <td>562.0</td>\n",
       "    </tr>\n",
       "    <tr>\n",
       "      <th>1</th>\n",
       "      <td>813.0</td>\n",
       "      <td>771.0</td>\n",
       "      <td>562.0</td>\n",
       "    </tr>\n",
       "    <tr>\n",
       "      <th>2</th>\n",
       "      <td>115.0</td>\n",
       "      <td>76.0</td>\n",
       "      <td>1034.0</td>\n",
       "    </tr>\n",
       "    <tr>\n",
       "      <th>3</th>\n",
       "      <td>326.0</td>\n",
       "      <td>312.0</td>\n",
       "      <td>450.0</td>\n",
       "    </tr>\n",
       "    <tr>\n",
       "      <th>4</th>\n",
       "      <td>176.0</td>\n",
       "      <td>159.0</td>\n",
       "      <td>552.0</td>\n",
       "    </tr>\n",
       "  </tbody>\n",
       "</table>\n",
       "</div>"
      ],
      "text/plain": [
       "   BBOT_WINS  BBOT_LOSSES  BBOT_LEAGUE_POINTS\n",
       "0      813.0        771.0               562.0\n",
       "1      813.0        771.0               562.0\n",
       "2      115.0         76.0              1034.0\n",
       "3      326.0        312.0               450.0\n",
       "4      176.0        159.0               552.0"
      ]
     },
     "execution_count": 16,
     "metadata": {},
     "output_type": "execute_result"
    }
   ],
   "source": [
    "BBOT1 = summoner_stats(NA1, 'na1', 'BBOT', 'BSUM4_ID')\n",
    "time.sleep(120)\n",
    "BBOT2 = summoner_stats(NA2, 'na1', 'BBOT', 'BSUM4_ID')\n",
    "time.sleep(120)\n",
    "BBOT3 = summoner_stats(NA3, 'na1', 'BBOT', 'BSUM4_ID')\n",
    "time.sleep(120)\n",
    "BBOT4 = summoner_stats(NA4, 'na1', 'BBOT', 'BSUM4_ID')\n",
    "time.sleep(120)\n",
    "BBOT_stats = pd.concat([BBOT1, BBOT2, BBOT3, BBOT4], axis=0)\n",
    "print(BBOT_stats.shape)\n",
    "BBOT_stats.head()"
   ]
  },
  {
   "cell_type": "code",
   "execution_count": 17,
   "metadata": {},
   "outputs": [
    {
     "data": {
      "text/plain": [
       "BBOT_WINS             True\n",
       "BBOT_LOSSES           True\n",
       "BBOT_LEAGUE_POINTS    True\n",
       "dtype: bool"
      ]
     },
     "execution_count": 17,
     "metadata": {},
     "output_type": "execute_result"
    }
   ],
   "source": [
    "BBOT_stats.isna().any()"
   ]
  },
  {
   "cell_type": "markdown",
   "metadata": {},
   "source": [
    "### SUMMONER 5 - SUP"
   ]
  },
  {
   "cell_type": "code",
   "execution_count": 18,
   "metadata": {},
   "outputs": [
    {
     "name": "stdout",
     "output_type": "stream",
     "text": [
      "(378, 3)\n"
     ]
    },
    {
     "data": {
      "text/html": [
       "<div>\n",
       "<style scoped>\n",
       "    .dataframe tbody tr th:only-of-type {\n",
       "        vertical-align: middle;\n",
       "    }\n",
       "\n",
       "    .dataframe tbody tr th {\n",
       "        vertical-align: top;\n",
       "    }\n",
       "\n",
       "    .dataframe thead th {\n",
       "        text-align: right;\n",
       "    }\n",
       "</style>\n",
       "<table border=\"1\" class=\"dataframe\">\n",
       "  <thead>\n",
       "    <tr style=\"text-align: right;\">\n",
       "      <th></th>\n",
       "      <th>BSUP_WINS</th>\n",
       "      <th>BSUP_LOSSES</th>\n",
       "      <th>BSUP_LEAGUE_POINTS</th>\n",
       "    </tr>\n",
       "  </thead>\n",
       "  <tbody>\n",
       "    <tr>\n",
       "      <th>0</th>\n",
       "      <td>454.0</td>\n",
       "      <td>424.0</td>\n",
       "      <td>438.0</td>\n",
       "    </tr>\n",
       "    <tr>\n",
       "      <th>1</th>\n",
       "      <td>15.0</td>\n",
       "      <td>8.0</td>\n",
       "      <td>61.0</td>\n",
       "    </tr>\n",
       "    <tr>\n",
       "      <th>2</th>\n",
       "      <td>161.0</td>\n",
       "      <td>112.0</td>\n",
       "      <td>1189.0</td>\n",
       "    </tr>\n",
       "    <tr>\n",
       "      <th>3</th>\n",
       "      <td>176.0</td>\n",
       "      <td>159.0</td>\n",
       "      <td>552.0</td>\n",
       "    </tr>\n",
       "    <tr>\n",
       "      <th>4</th>\n",
       "      <td>8.0</td>\n",
       "      <td>9.0</td>\n",
       "      <td>39.0</td>\n",
       "    </tr>\n",
       "  </tbody>\n",
       "</table>\n",
       "</div>"
      ],
      "text/plain": [
       "   BSUP_WINS  BSUP_LOSSES  BSUP_LEAGUE_POINTS\n",
       "0      454.0        424.0               438.0\n",
       "1       15.0          8.0                61.0\n",
       "2      161.0        112.0              1189.0\n",
       "3      176.0        159.0               552.0\n",
       "4        8.0          9.0                39.0"
      ]
     },
     "execution_count": 18,
     "metadata": {},
     "output_type": "execute_result"
    }
   ],
   "source": [
    "BSUP1 = summoner_stats(NA1, 'na1', 'BSUP', 'BSUM5_ID')\n",
    "time.sleep(120)\n",
    "BSUP2 = summoner_stats(NA2, 'na1', 'BSUP', 'BSUM5_ID')\n",
    "time.sleep(120)\n",
    "BSUP3 = summoner_stats(NA3, 'na1', 'BSUP', 'BSUM5_ID')\n",
    "time.sleep(120)\n",
    "BSUP4 = summoner_stats(NA4, 'na1', 'BSUP', 'BSUM5_ID')\n",
    "time.sleep(120)\n",
    "BSUP_stats = pd.concat([BSUP1, BSUP2, BSUP3, BSUP4], axis=0)\n",
    "print(BSUP_stats.shape)\n",
    "BSUP_stats.head()"
   ]
  },
  {
   "cell_type": "markdown",
   "metadata": {},
   "source": [
    "## Red Team"
   ]
  },
  {
   "cell_type": "markdown",
   "metadata": {},
   "source": [
    "### Summoner 1 - TOP"
   ]
  },
  {
   "cell_type": "code",
   "execution_count": 19,
   "metadata": {},
   "outputs": [
    {
     "name": "stdout",
     "output_type": "stream",
     "text": [
      "(378, 3)\n"
     ]
    },
    {
     "data": {
      "text/html": [
       "<div>\n",
       "<style scoped>\n",
       "    .dataframe tbody tr th:only-of-type {\n",
       "        vertical-align: middle;\n",
       "    }\n",
       "\n",
       "    .dataframe tbody tr th {\n",
       "        vertical-align: top;\n",
       "    }\n",
       "\n",
       "    .dataframe thead th {\n",
       "        text-align: right;\n",
       "    }\n",
       "</style>\n",
       "<table border=\"1\" class=\"dataframe\">\n",
       "  <thead>\n",
       "    <tr style=\"text-align: right;\">\n",
       "      <th></th>\n",
       "      <th>RTOP_WINS</th>\n",
       "      <th>RTOP_LOSSES</th>\n",
       "      <th>RTOP_LEAGUE_POINTS</th>\n",
       "    </tr>\n",
       "  </thead>\n",
       "  <tbody>\n",
       "    <tr>\n",
       "      <th>0</th>\n",
       "      <td>10.0</td>\n",
       "      <td>7.0</td>\n",
       "      <td>42.0</td>\n",
       "    </tr>\n",
       "    <tr>\n",
       "      <th>1</th>\n",
       "      <td>457.0</td>\n",
       "      <td>430.0</td>\n",
       "      <td>544.0</td>\n",
       "    </tr>\n",
       "    <tr>\n",
       "      <th>2</th>\n",
       "      <td>672.0</td>\n",
       "      <td>643.0</td>\n",
       "      <td>836.0</td>\n",
       "    </tr>\n",
       "    <tr>\n",
       "      <th>3</th>\n",
       "      <td>892.0</td>\n",
       "      <td>876.0</td>\n",
       "      <td>374.0</td>\n",
       "    </tr>\n",
       "    <tr>\n",
       "      <th>4</th>\n",
       "      <td>892.0</td>\n",
       "      <td>876.0</td>\n",
       "      <td>374.0</td>\n",
       "    </tr>\n",
       "  </tbody>\n",
       "</table>\n",
       "</div>"
      ],
      "text/plain": [
       "   RTOP_WINS  RTOP_LOSSES  RTOP_LEAGUE_POINTS\n",
       "0       10.0          7.0                42.0\n",
       "1      457.0        430.0               544.0\n",
       "2      672.0        643.0               836.0\n",
       "3      892.0        876.0               374.0\n",
       "4      892.0        876.0               374.0"
      ]
     },
     "execution_count": 19,
     "metadata": {},
     "output_type": "execute_result"
    }
   ],
   "source": [
    "RTOP1 = summoner_stats(NA1, 'na1', 'RTOP', 'RSUM1_ID')\n",
    "time.sleep(120)\n",
    "RTOP2 = summoner_stats(NA2, 'na1', 'RTOP', 'RSUM1_ID')\n",
    "time.sleep(120)\n",
    "RTOP3 = summoner_stats(NA3, 'na1', 'RTOP', 'RSUM1_ID')\n",
    "time.sleep(120)\n",
    "RTOP4 = summoner_stats(NA4, 'na1', 'RTOP', 'RSUM1_ID')\n",
    "time.sleep(120)\n",
    "RTOP_stats = pd.concat([RTOP1, RTOP2, RTOP3, RTOP4], axis=0)\n",
    "print(RTOP_stats.shape)\n",
    "RTOP_stats.head()"
   ]
  },
  {
   "cell_type": "code",
   "execution_count": 20,
   "metadata": {},
   "outputs": [
    {
     "data": {
      "text/plain": [
       "RTOP_WINS             True\n",
       "RTOP_LOSSES           True\n",
       "RTOP_LEAGUE_POINTS    True\n",
       "dtype: bool"
      ]
     },
     "execution_count": 20,
     "metadata": {},
     "output_type": "execute_result"
    }
   ],
   "source": [
    "RTOP_stats.isna().any()"
   ]
  },
  {
   "cell_type": "markdown",
   "metadata": {},
   "source": [
    "### Summoner 2 - JGL"
   ]
  },
  {
   "cell_type": "code",
   "execution_count": 21,
   "metadata": {},
   "outputs": [
    {
     "name": "stdout",
     "output_type": "stream",
     "text": [
      "(378, 3)\n"
     ]
    },
    {
     "data": {
      "text/html": [
       "<div>\n",
       "<style scoped>\n",
       "    .dataframe tbody tr th:only-of-type {\n",
       "        vertical-align: middle;\n",
       "    }\n",
       "\n",
       "    .dataframe tbody tr th {\n",
       "        vertical-align: top;\n",
       "    }\n",
       "\n",
       "    .dataframe thead th {\n",
       "        text-align: right;\n",
       "    }\n",
       "</style>\n",
       "<table border=\"1\" class=\"dataframe\">\n",
       "  <thead>\n",
       "    <tr style=\"text-align: right;\">\n",
       "      <th></th>\n",
       "      <th>RJGL_WINS</th>\n",
       "      <th>RJGL_LOSSES</th>\n",
       "      <th>RJGL_LEAGUE_POINTS</th>\n",
       "    </tr>\n",
       "  </thead>\n",
       "  <tbody>\n",
       "    <tr>\n",
       "      <th>0</th>\n",
       "      <td>60.0</td>\n",
       "      <td>48.0</td>\n",
       "      <td>1.0</td>\n",
       "    </tr>\n",
       "    <tr>\n",
       "      <th>1</th>\n",
       "      <td>119.0</td>\n",
       "      <td>98.0</td>\n",
       "      <td>490.0</td>\n",
       "    </tr>\n",
       "    <tr>\n",
       "      <th>2</th>\n",
       "      <td>511.0</td>\n",
       "      <td>481.0</td>\n",
       "      <td>752.0</td>\n",
       "    </tr>\n",
       "    <tr>\n",
       "      <th>3</th>\n",
       "      <td>489.0</td>\n",
       "      <td>455.0</td>\n",
       "      <td>814.0</td>\n",
       "    </tr>\n",
       "    <tr>\n",
       "      <th>4</th>\n",
       "      <td>489.0</td>\n",
       "      <td>455.0</td>\n",
       "      <td>814.0</td>\n",
       "    </tr>\n",
       "  </tbody>\n",
       "</table>\n",
       "</div>"
      ],
      "text/plain": [
       "   RJGL_WINS  RJGL_LOSSES  RJGL_LEAGUE_POINTS\n",
       "0       60.0         48.0                 1.0\n",
       "1      119.0         98.0               490.0\n",
       "2      511.0        481.0               752.0\n",
       "3      489.0        455.0               814.0\n",
       "4      489.0        455.0               814.0"
      ]
     },
     "execution_count": 21,
     "metadata": {},
     "output_type": "execute_result"
    }
   ],
   "source": [
    "RJGL1 = summoner_stats(NA1, 'na1', 'RJGL', 'RSUM2_ID')\n",
    "time.sleep(120)\n",
    "RJGL2 = summoner_stats(NA2, 'na1', 'RJGL', 'RSUM2_ID')\n",
    "time.sleep(120)\n",
    "RJGL3 = summoner_stats(NA3, 'na1', 'RJGL', 'RSUM2_ID')\n",
    "time.sleep(120)\n",
    "RJGL4 = summoner_stats(NA4, 'na1', 'RJGL', 'RSUM2_ID')\n",
    "time.sleep(120)\n",
    "RJGL_stats = pd.concat([RJGL1, RJGL2, RJGL3, RJGL4], axis=0)\n",
    "print(RJGL_stats.shape)\n",
    "RJGL_stats.head()"
   ]
  },
  {
   "cell_type": "code",
   "execution_count": 22,
   "metadata": {},
   "outputs": [
    {
     "data": {
      "text/plain": [
       "RJGL_WINS             True\n",
       "RJGL_LOSSES           True\n",
       "RJGL_LEAGUE_POINTS    True\n",
       "dtype: bool"
      ]
     },
     "execution_count": 22,
     "metadata": {},
     "output_type": "execute_result"
    }
   ],
   "source": [
    "RJGL_stats.isna().any()"
   ]
  },
  {
   "cell_type": "markdown",
   "metadata": {},
   "source": [
    "### Summoner 3 - MID"
   ]
  },
  {
   "cell_type": "code",
   "execution_count": 23,
   "metadata": {},
   "outputs": [
    {
     "name": "stdout",
     "output_type": "stream",
     "text": [
      "(378, 3)\n"
     ]
    },
    {
     "data": {
      "text/html": [
       "<div>\n",
       "<style scoped>\n",
       "    .dataframe tbody tr th:only-of-type {\n",
       "        vertical-align: middle;\n",
       "    }\n",
       "\n",
       "    .dataframe tbody tr th {\n",
       "        vertical-align: top;\n",
       "    }\n",
       "\n",
       "    .dataframe thead th {\n",
       "        text-align: right;\n",
       "    }\n",
       "</style>\n",
       "<table border=\"1\" class=\"dataframe\">\n",
       "  <thead>\n",
       "    <tr style=\"text-align: right;\">\n",
       "      <th></th>\n",
       "      <th>RMID_WINS</th>\n",
       "      <th>RMID_LOSSES</th>\n",
       "      <th>RMID_LEAGUE_POINTS</th>\n",
       "    </tr>\n",
       "  </thead>\n",
       "  <tbody>\n",
       "    <tr>\n",
       "      <th>0</th>\n",
       "      <td>500.0</td>\n",
       "      <td>449.0</td>\n",
       "      <td>684.0</td>\n",
       "    </tr>\n",
       "    <tr>\n",
       "      <th>1</th>\n",
       "      <td>226.0</td>\n",
       "      <td>186.0</td>\n",
       "      <td>382.0</td>\n",
       "    </tr>\n",
       "    <tr>\n",
       "      <th>2</th>\n",
       "      <td>537.0</td>\n",
       "      <td>473.0</td>\n",
       "      <td>1506.0</td>\n",
       "    </tr>\n",
       "    <tr>\n",
       "      <th>3</th>\n",
       "      <td>42.0</td>\n",
       "      <td>13.0</td>\n",
       "      <td>40.0</td>\n",
       "    </tr>\n",
       "    <tr>\n",
       "      <th>4</th>\n",
       "      <td>676.0</td>\n",
       "      <td>650.0</td>\n",
       "      <td>616.0</td>\n",
       "    </tr>\n",
       "  </tbody>\n",
       "</table>\n",
       "</div>"
      ],
      "text/plain": [
       "   RMID_WINS  RMID_LOSSES  RMID_LEAGUE_POINTS\n",
       "0      500.0        449.0               684.0\n",
       "1      226.0        186.0               382.0\n",
       "2      537.0        473.0              1506.0\n",
       "3       42.0         13.0                40.0\n",
       "4      676.0        650.0               616.0"
      ]
     },
     "execution_count": 23,
     "metadata": {},
     "output_type": "execute_result"
    }
   ],
   "source": [
    "RMID1 = summoner_stats(NA1, 'na1', 'RMID', 'RSUM3_ID')\n",
    "time.sleep(120)\n",
    "RMID2 = summoner_stats(NA2, 'na1', 'RMID', 'RSUM3_ID')\n",
    "time.sleep(120)\n",
    "RMID3 = summoner_stats(NA3, 'na1', 'RMID', 'RSUM3_ID')\n",
    "time.sleep(120)\n",
    "RMID4 = summoner_stats(NA4, 'na1', 'RMID', 'RSUM3_ID')\n",
    "time.sleep(120)\n",
    "RMID_stats = pd.concat([RMID1, RMID2, RMID3, RMID4], axis=0)\n",
    "print(RMID_stats.shape)\n",
    "RMID_stats.head()"
   ]
  },
  {
   "cell_type": "code",
   "execution_count": 24,
   "metadata": {},
   "outputs": [
    {
     "data": {
      "text/plain": [
       "RMID_WINS             True\n",
       "RMID_LOSSES           True\n",
       "RMID_LEAGUE_POINTS    True\n",
       "dtype: bool"
      ]
     },
     "execution_count": 24,
     "metadata": {},
     "output_type": "execute_result"
    }
   ],
   "source": [
    "RMID_stats.isna().any()"
   ]
  },
  {
   "cell_type": "markdown",
   "metadata": {},
   "source": [
    "### Summoner 4 - BOT"
   ]
  },
  {
   "cell_type": "code",
   "execution_count": 25,
   "metadata": {},
   "outputs": [
    {
     "name": "stdout",
     "output_type": "stream",
     "text": [
      "(378, 3)\n"
     ]
    },
    {
     "data": {
      "text/html": [
       "<div>\n",
       "<style scoped>\n",
       "    .dataframe tbody tr th:only-of-type {\n",
       "        vertical-align: middle;\n",
       "    }\n",
       "\n",
       "    .dataframe tbody tr th {\n",
       "        vertical-align: top;\n",
       "    }\n",
       "\n",
       "    .dataframe thead th {\n",
       "        text-align: right;\n",
       "    }\n",
       "</style>\n",
       "<table border=\"1\" class=\"dataframe\">\n",
       "  <thead>\n",
       "    <tr style=\"text-align: right;\">\n",
       "      <th></th>\n",
       "      <th>RBOT_WINS</th>\n",
       "      <th>RBOT_LOSSES</th>\n",
       "      <th>RBOT_LEAGUE_POINTS</th>\n",
       "    </tr>\n",
       "  </thead>\n",
       "  <tbody>\n",
       "    <tr>\n",
       "      <th>0</th>\n",
       "      <td>103.0</td>\n",
       "      <td>93.0</td>\n",
       "      <td>327.0</td>\n",
       "    </tr>\n",
       "    <tr>\n",
       "      <th>1</th>\n",
       "      <td>789.0</td>\n",
       "      <td>771.0</td>\n",
       "      <td>691.0</td>\n",
       "    </tr>\n",
       "    <tr>\n",
       "      <th>2</th>\n",
       "      <td>79.0</td>\n",
       "      <td>50.0</td>\n",
       "      <td>16.0</td>\n",
       "    </tr>\n",
       "    <tr>\n",
       "      <th>3</th>\n",
       "      <td>813.0</td>\n",
       "      <td>771.0</td>\n",
       "      <td>562.0</td>\n",
       "    </tr>\n",
       "    <tr>\n",
       "      <th>4</th>\n",
       "      <td>813.0</td>\n",
       "      <td>771.0</td>\n",
       "      <td>562.0</td>\n",
       "    </tr>\n",
       "  </tbody>\n",
       "</table>\n",
       "</div>"
      ],
      "text/plain": [
       "   RBOT_WINS  RBOT_LOSSES  RBOT_LEAGUE_POINTS\n",
       "0      103.0         93.0               327.0\n",
       "1      789.0        771.0               691.0\n",
       "2       79.0         50.0                16.0\n",
       "3      813.0        771.0               562.0\n",
       "4      813.0        771.0               562.0"
      ]
     },
     "execution_count": 25,
     "metadata": {},
     "output_type": "execute_result"
    }
   ],
   "source": [
    "RBOT1 = summoner_stats(NA1, 'na1', 'RBOT', 'RSUM4_ID')\n",
    "time.sleep(120)\n",
    "RBOT2 = summoner_stats(NA2, 'na1', 'RBOT', 'RSUM4_ID')\n",
    "time.sleep(120)\n",
    "RBOT3 = summoner_stats(NA3, 'na1', 'RBOT', 'RSUM4_ID')\n",
    "time.sleep(120)\n",
    "RBOT4 = summoner_stats(NA4, 'na1', 'RBOT', 'RSUM4_ID')\n",
    "time.sleep(120)\n",
    "RBOT_stats = pd.concat([RBOT1, RBOT2, RBOT3, RBOT4], axis=0)\n",
    "print(RBOT_stats.shape)\n",
    "RBOT_stats.head()"
   ]
  },
  {
   "cell_type": "code",
   "execution_count": 26,
   "metadata": {},
   "outputs": [
    {
     "data": {
      "text/plain": [
       "RBOT_WINS             True\n",
       "RBOT_LOSSES           True\n",
       "RBOT_LEAGUE_POINTS    True\n",
       "dtype: bool"
      ]
     },
     "execution_count": 26,
     "metadata": {},
     "output_type": "execute_result"
    }
   ],
   "source": [
    "RBOT_stats.isna().any()"
   ]
  },
  {
   "cell_type": "markdown",
   "metadata": {},
   "source": [
    "### Summoner 5 - SUP"
   ]
  },
  {
   "cell_type": "code",
   "execution_count": 27,
   "metadata": {},
   "outputs": [
    {
     "name": "stdout",
     "output_type": "stream",
     "text": [
      "(378, 3)\n"
     ]
    },
    {
     "data": {
      "text/html": [
       "<div>\n",
       "<style scoped>\n",
       "    .dataframe tbody tr th:only-of-type {\n",
       "        vertical-align: middle;\n",
       "    }\n",
       "\n",
       "    .dataframe tbody tr th {\n",
       "        vertical-align: top;\n",
       "    }\n",
       "\n",
       "    .dataframe thead th {\n",
       "        text-align: right;\n",
       "    }\n",
       "</style>\n",
       "<table border=\"1\" class=\"dataframe\">\n",
       "  <thead>\n",
       "    <tr style=\"text-align: right;\">\n",
       "      <th></th>\n",
       "      <th>RSUP_WINS</th>\n",
       "      <th>RSUP_LOSSES</th>\n",
       "      <th>RSUP_LEAGUE_POINTS</th>\n",
       "    </tr>\n",
       "  </thead>\n",
       "  <tbody>\n",
       "    <tr>\n",
       "      <th>0</th>\n",
       "      <td>19.0</td>\n",
       "      <td>16.0</td>\n",
       "      <td>24.0</td>\n",
       "    </tr>\n",
       "    <tr>\n",
       "      <th>1</th>\n",
       "      <td>69.0</td>\n",
       "      <td>39.0</td>\n",
       "      <td>257.0</td>\n",
       "    </tr>\n",
       "    <tr>\n",
       "      <th>2</th>\n",
       "      <td>142.0</td>\n",
       "      <td>90.0</td>\n",
       "      <td>696.0</td>\n",
       "    </tr>\n",
       "    <tr>\n",
       "      <th>3</th>\n",
       "      <td>25.0</td>\n",
       "      <td>28.0</td>\n",
       "      <td>12.0</td>\n",
       "    </tr>\n",
       "    <tr>\n",
       "      <th>4</th>\n",
       "      <td>69.0</td>\n",
       "      <td>53.0</td>\n",
       "      <td>328.0</td>\n",
       "    </tr>\n",
       "  </tbody>\n",
       "</table>\n",
       "</div>"
      ],
      "text/plain": [
       "   RSUP_WINS  RSUP_LOSSES  RSUP_LEAGUE_POINTS\n",
       "0       19.0         16.0                24.0\n",
       "1       69.0         39.0               257.0\n",
       "2      142.0         90.0               696.0\n",
       "3       25.0         28.0                12.0\n",
       "4       69.0         53.0               328.0"
      ]
     },
     "execution_count": 27,
     "metadata": {},
     "output_type": "execute_result"
    }
   ],
   "source": [
    "RSUP1 = summoner_stats(NA1, 'na1', 'RSUP', 'RSUM5_ID')\n",
    "time.sleep(120)\n",
    "RSUP2 = summoner_stats(NA2, 'na1', 'RSUP', 'RSUM5_ID')\n",
    "time.sleep(120)\n",
    "RSUP3 = summoner_stats(NA3, 'na1', 'RSUP', 'RSUM5_ID')\n",
    "time.sleep(120)\n",
    "RSUP4 = summoner_stats(NA4, 'na1', 'RSUP', 'RSUM5_ID')\n",
    "time.sleep(120)\n",
    "RSUP_stats = pd.concat([RSUP1, RSUP2, RSUP3, RSUP4], axis=0)\n",
    "print(RSUP_stats.shape)\n",
    "RSUP_stats.head()"
   ]
  },
  {
   "cell_type": "code",
   "execution_count": 28,
   "metadata": {},
   "outputs": [
    {
     "data": {
      "text/plain": [
       "RSUP_WINS             True\n",
       "RSUP_LOSSES           True\n",
       "RSUP_LEAGUE_POINTS    True\n",
       "dtype: bool"
      ]
     },
     "execution_count": 28,
     "metadata": {},
     "output_type": "execute_result"
    }
   ],
   "source": [
    "RSUP_stats.isna().any()"
   ]
  },
  {
   "cell_type": "markdown",
   "metadata": {},
   "source": [
    "### Combine into one DataFrame"
   ]
  },
  {
   "cell_type": "code",
   "execution_count": 29,
   "metadata": {},
   "outputs": [
    {
     "name": "stdout",
     "output_type": "stream",
     "text": [
      "(378, 30)\n"
     ]
    },
    {
     "data": {
      "text/html": [
       "<div>\n",
       "<style scoped>\n",
       "    .dataframe tbody tr th:only-of-type {\n",
       "        vertical-align: middle;\n",
       "    }\n",
       "\n",
       "    .dataframe tbody tr th {\n",
       "        vertical-align: top;\n",
       "    }\n",
       "\n",
       "    .dataframe thead th {\n",
       "        text-align: right;\n",
       "    }\n",
       "</style>\n",
       "<table border=\"1\" class=\"dataframe\">\n",
       "  <thead>\n",
       "    <tr style=\"text-align: right;\">\n",
       "      <th></th>\n",
       "      <th>BTOP_WINS</th>\n",
       "      <th>BTOP_LOSSES</th>\n",
       "      <th>BTOP_LEAGUE_POINTS</th>\n",
       "      <th>BJGL_WINS</th>\n",
       "      <th>BJGL_LOSSES</th>\n",
       "      <th>BJGL_LEAGUE_POINTS</th>\n",
       "      <th>BMID_WINS</th>\n",
       "      <th>BMID_LOSSES</th>\n",
       "      <th>BMID_LEAGUE_POINTS</th>\n",
       "      <th>BBOT_WINS</th>\n",
       "      <th>...</th>\n",
       "      <th>RJGL_LEAGUE_POINTS</th>\n",
       "      <th>RMID_WINS</th>\n",
       "      <th>RMID_LOSSES</th>\n",
       "      <th>RMID_LEAGUE_POINTS</th>\n",
       "      <th>RBOT_WINS</th>\n",
       "      <th>RBOT_LOSSES</th>\n",
       "      <th>RBOT_LEAGUE_POINTS</th>\n",
       "      <th>RSUP_WINS</th>\n",
       "      <th>RSUP_LOSSES</th>\n",
       "      <th>RSUP_LEAGUE_POINTS</th>\n",
       "    </tr>\n",
       "  </thead>\n",
       "  <tbody>\n",
       "    <tr>\n",
       "      <th>0</th>\n",
       "      <td>371.0</td>\n",
       "      <td>360.0</td>\n",
       "      <td>419.0</td>\n",
       "      <td>158.0</td>\n",
       "      <td>132.0</td>\n",
       "      <td>633.0</td>\n",
       "      <td>12.0</td>\n",
       "      <td>19.0</td>\n",
       "      <td>7.0</td>\n",
       "      <td>813.0</td>\n",
       "      <td>...</td>\n",
       "      <td>1.0</td>\n",
       "      <td>500.0</td>\n",
       "      <td>449.0</td>\n",
       "      <td>684.0</td>\n",
       "      <td>103.0</td>\n",
       "      <td>93.0</td>\n",
       "      <td>327.0</td>\n",
       "      <td>19.0</td>\n",
       "      <td>16.0</td>\n",
       "      <td>24.0</td>\n",
       "    </tr>\n",
       "    <tr>\n",
       "      <th>1</th>\n",
       "      <td>32.0</td>\n",
       "      <td>40.0</td>\n",
       "      <td>100.0</td>\n",
       "      <td>54.0</td>\n",
       "      <td>35.0</td>\n",
       "      <td>75.0</td>\n",
       "      <td>500.0</td>\n",
       "      <td>449.0</td>\n",
       "      <td>684.0</td>\n",
       "      <td>813.0</td>\n",
       "      <td>...</td>\n",
       "      <td>490.0</td>\n",
       "      <td>226.0</td>\n",
       "      <td>186.0</td>\n",
       "      <td>382.0</td>\n",
       "      <td>789.0</td>\n",
       "      <td>771.0</td>\n",
       "      <td>691.0</td>\n",
       "      <td>69.0</td>\n",
       "      <td>39.0</td>\n",
       "      <td>257.0</td>\n",
       "    </tr>\n",
       "    <tr>\n",
       "      <th>2</th>\n",
       "      <td>217.0</td>\n",
       "      <td>192.0</td>\n",
       "      <td>833.0</td>\n",
       "      <td>32.0</td>\n",
       "      <td>13.0</td>\n",
       "      <td>88.0</td>\n",
       "      <td>813.0</td>\n",
       "      <td>771.0</td>\n",
       "      <td>562.0</td>\n",
       "      <td>115.0</td>\n",
       "      <td>...</td>\n",
       "      <td>752.0</td>\n",
       "      <td>537.0</td>\n",
       "      <td>473.0</td>\n",
       "      <td>1506.0</td>\n",
       "      <td>79.0</td>\n",
       "      <td>50.0</td>\n",
       "      <td>16.0</td>\n",
       "      <td>142.0</td>\n",
       "      <td>90.0</td>\n",
       "      <td>696.0</td>\n",
       "    </tr>\n",
       "    <tr>\n",
       "      <th>3</th>\n",
       "      <td>327.0</td>\n",
       "      <td>306.0</td>\n",
       "      <td>442.0</td>\n",
       "      <td>17.0</td>\n",
       "      <td>14.0</td>\n",
       "      <td>100.0</td>\n",
       "      <td>25.0</td>\n",
       "      <td>13.0</td>\n",
       "      <td>100.0</td>\n",
       "      <td>326.0</td>\n",
       "      <td>...</td>\n",
       "      <td>814.0</td>\n",
       "      <td>42.0</td>\n",
       "      <td>13.0</td>\n",
       "      <td>40.0</td>\n",
       "      <td>813.0</td>\n",
       "      <td>771.0</td>\n",
       "      <td>562.0</td>\n",
       "      <td>25.0</td>\n",
       "      <td>28.0</td>\n",
       "      <td>12.0</td>\n",
       "    </tr>\n",
       "    <tr>\n",
       "      <th>4</th>\n",
       "      <td>767.0</td>\n",
       "      <td>733.0</td>\n",
       "      <td>580.0</td>\n",
       "      <td>82.0</td>\n",
       "      <td>64.0</td>\n",
       "      <td>209.0</td>\n",
       "      <td>941.0</td>\n",
       "      <td>925.0</td>\n",
       "      <td>312.0</td>\n",
       "      <td>176.0</td>\n",
       "      <td>...</td>\n",
       "      <td>814.0</td>\n",
       "      <td>676.0</td>\n",
       "      <td>650.0</td>\n",
       "      <td>616.0</td>\n",
       "      <td>813.0</td>\n",
       "      <td>771.0</td>\n",
       "      <td>562.0</td>\n",
       "      <td>69.0</td>\n",
       "      <td>53.0</td>\n",
       "      <td>328.0</td>\n",
       "    </tr>\n",
       "  </tbody>\n",
       "</table>\n",
       "<p>5 rows × 30 columns</p>\n",
       "</div>"
      ],
      "text/plain": [
       "   BTOP_WINS  BTOP_LOSSES  BTOP_LEAGUE_POINTS  BJGL_WINS  BJGL_LOSSES  \\\n",
       "0      371.0        360.0               419.0      158.0        132.0   \n",
       "1       32.0         40.0               100.0       54.0         35.0   \n",
       "2      217.0        192.0               833.0       32.0         13.0   \n",
       "3      327.0        306.0               442.0       17.0         14.0   \n",
       "4      767.0        733.0               580.0       82.0         64.0   \n",
       "\n",
       "   BJGL_LEAGUE_POINTS  BMID_WINS  BMID_LOSSES  BMID_LEAGUE_POINTS  BBOT_WINS  \\\n",
       "0               633.0       12.0         19.0                 7.0      813.0   \n",
       "1                75.0      500.0        449.0               684.0      813.0   \n",
       "2                88.0      813.0        771.0               562.0      115.0   \n",
       "3               100.0       25.0         13.0               100.0      326.0   \n",
       "4               209.0      941.0        925.0               312.0      176.0   \n",
       "\n",
       "   ...  RJGL_LEAGUE_POINTS  RMID_WINS  RMID_LOSSES  RMID_LEAGUE_POINTS  \\\n",
       "0  ...                 1.0      500.0        449.0               684.0   \n",
       "1  ...               490.0      226.0        186.0               382.0   \n",
       "2  ...               752.0      537.0        473.0              1506.0   \n",
       "3  ...               814.0       42.0         13.0                40.0   \n",
       "4  ...               814.0      676.0        650.0               616.0   \n",
       "\n",
       "   RBOT_WINS  RBOT_LOSSES  RBOT_LEAGUE_POINTS  RSUP_WINS  RSUP_LOSSES  \\\n",
       "0      103.0         93.0               327.0       19.0         16.0   \n",
       "1      789.0        771.0               691.0       69.0         39.0   \n",
       "2       79.0         50.0                16.0      142.0         90.0   \n",
       "3      813.0        771.0               562.0       25.0         28.0   \n",
       "4      813.0        771.0               562.0       69.0         53.0   \n",
       "\n",
       "   RSUP_LEAGUE_POINTS  \n",
       "0                24.0  \n",
       "1               257.0  \n",
       "2               696.0  \n",
       "3                12.0  \n",
       "4               328.0  \n",
       "\n",
       "[5 rows x 30 columns]"
      ]
     },
     "execution_count": 29,
     "metadata": {},
     "output_type": "execute_result"
    }
   ],
   "source": [
    "NA_stats = pd.concat([BTOP_stats, BJGL_stats, BMID_stats, BBOT_stats, BSUP_stats, RTOP_stats, RJGL_stats, RMID_stats, RBOT_stats, RSUP_stats], axis=1)\n",
    "print(NA_stats.shape)\n",
    "NA_stats.head()"
   ]
  },
  {
   "cell_type": "code",
   "execution_count": 92,
   "metadata": {},
   "outputs": [],
   "source": [
    "NA_stats.to_csv('EU_stats_378.csv', index=False)"
   ]
  },
  {
   "cell_type": "code",
   "execution_count": null,
   "metadata": {},
   "outputs": [],
   "source": []
  }
 ],
 "metadata": {
  "interpreter": {
   "hash": "39512f3c2a1741d7f752d45a133d4514127029333ea14bc2f3c6c5e6759b9029"
  },
  "kernelspec": {
   "display_name": "Python 3.8.13 ('base_env')",
   "language": "python",
   "name": "python3"
  },
  "language_info": {
   "codemirror_mode": {
    "name": "ipython",
    "version": 3
   },
   "file_extension": ".py",
   "mimetype": "text/x-python",
   "name": "python",
   "nbconvert_exporter": "python",
   "pygments_lexer": "ipython3",
   "version": "3.8.13"
  },
  "orig_nbformat": 4
 },
 "nbformat": 4,
 "nbformat_minor": 2
}
