{
 "cells": [
  {
   "cell_type": "markdown",
   "metadata": {},
   "source": [
    "# Champion Mastery - North America"
   ]
  },
  {
   "cell_type": "code",
   "execution_count": 2,
   "metadata": {},
   "outputs": [],
   "source": [
    "import numpy as np\n",
    "import pandas as pd\n",
    "import requests as re\n",
    "import time"
   ]
  },
  {
   "cell_type": "code",
   "execution_count": 3,
   "metadata": {},
   "outputs": [],
   "source": [
    "headers = {\n",
    "    \"User-Agent\": \"Mozilla/5.0 (Macintosh; Intel Mac OS X 10_15_7) AppleWebKit/537.36 (KHTML, like Gecko) Chrome/104.0.5112.81 Safari/537.36 Edg/104.0.1293.47\",\n",
    "    \"Accept-Language\": \"en-CA,en-US;q=0.9,en;q=0.8\",\n",
    "    \"Accept-Charset\": \"application/x-www-form-urlencoded; charset=UTF-8\",\n",
    "    \"Origin\": \"https://developer.riotgames.com\",\n",
    "    \"X-Riot-Token\": \"RGAPI-18ecbb33-6603-4c47-8347-5a70cff963b3\"\n",
    "}"
   ]
  },
  {
   "cell_type": "code",
   "execution_count": null,
   "metadata": {},
   "outputs": [],
   "source": [
    "server = 'na1'"
   ]
  },
  {
   "cell_type": "code",
   "execution_count": 4,
   "metadata": {},
   "outputs": [
    {
     "data": {
      "text/html": [
       "<div>\n",
       "<style scoped>\n",
       "    .dataframe tbody tr th:only-of-type {\n",
       "        vertical-align: middle;\n",
       "    }\n",
       "\n",
       "    .dataframe tbody tr th {\n",
       "        vertical-align: top;\n",
       "    }\n",
       "\n",
       "    .dataframe thead th {\n",
       "        text-align: right;\n",
       "    }\n",
       "</style>\n",
       "<table border=\"1\" class=\"dataframe\">\n",
       "  <thead>\n",
       "    <tr style=\"text-align: right;\">\n",
       "      <th></th>\n",
       "      <th>SERVER</th>\n",
       "      <th>MATCH_ID</th>\n",
       "      <th>BSUM1_ID</th>\n",
       "      <th>BTOP_CHAMP_ID</th>\n",
       "      <th>BSUM2_ID</th>\n",
       "      <th>BJGL_CHAMP_ID</th>\n",
       "      <th>BSUM3_ID</th>\n",
       "      <th>BMID_CHAMP_ID</th>\n",
       "      <th>BSUM4_ID</th>\n",
       "      <th>BBOT_CHAMP_ID</th>\n",
       "      <th>...</th>\n",
       "      <th>FIRST_TOWER</th>\n",
       "      <th>BTOWER_KILLS</th>\n",
       "      <th>RTOWER_KILLS</th>\n",
       "      <th>FIRST_BARON</th>\n",
       "      <th>BBARON_KILLS</th>\n",
       "      <th>RBARON_KILLS</th>\n",
       "      <th>FIRST_INHIB</th>\n",
       "      <th>BINHIB_KILLS</th>\n",
       "      <th>RINHIB_KILLS</th>\n",
       "      <th>WINNER</th>\n",
       "    </tr>\n",
       "  </thead>\n",
       "  <tbody>\n",
       "    <tr>\n",
       "      <th>0</th>\n",
       "      <td>EUROPE</td>\n",
       "      <td>EUW1_6011748426</td>\n",
       "      <td>ZCHr8rokYRXJMJIUWzFcIehrJs6jShr0Zkc3aFJZ4xEiTfE</td>\n",
       "      <td>113</td>\n",
       "      <td>F66NXGYFavcAokjrfJpUel2USWZkq8NHqpJTd_G27IMtrFI</td>\n",
       "      <td>234</td>\n",
       "      <td>Fh65e2b_r25M566GikjPVg2gejUQOkH4vyp2c931tnh4Dcg</td>\n",
       "      <td>7</td>\n",
       "      <td>BgbTbMspKYR1yIsQjzW-e_bpn45fjAEcAPnAGX5dLfR6sao</td>\n",
       "      <td>96</td>\n",
       "      <td>...</td>\n",
       "      <td>RED</td>\n",
       "      <td>8</td>\n",
       "      <td>7</td>\n",
       "      <td>RED</td>\n",
       "      <td>0</td>\n",
       "      <td>2</td>\n",
       "      <td>BLUE</td>\n",
       "      <td>1</td>\n",
       "      <td>1</td>\n",
       "      <td>RED</td>\n",
       "    </tr>\n",
       "    <tr>\n",
       "      <th>1</th>\n",
       "      <td>EUROPE</td>\n",
       "      <td>EUW1_6011775414</td>\n",
       "      <td>ZCHr8rokYRXJMJIUWzFcIehrJs6jShr0Zkc3aFJZ4xEiTfE</td>\n",
       "      <td>58</td>\n",
       "      <td>f5RVtBz5U9FKFuEDUxN-t1qt3X8Sy4yk7IejkQLp7XUIF6...</td>\n",
       "      <td>76</td>\n",
       "      <td>M-XkOhUlzZzfRms4gxKv9eOVrEOMozhWOXs810oIbNOu018</td>\n",
       "      <td>711</td>\n",
       "      <td>AGUOI4GQPW7jOOhbaw5YJKIwL961UbGqORy8UfSMui7AFos</td>\n",
       "      <td>29</td>\n",
       "      <td>...</td>\n",
       "      <td>BLUE</td>\n",
       "      <td>4</td>\n",
       "      <td>0</td>\n",
       "      <td>NONE</td>\n",
       "      <td>0</td>\n",
       "      <td>0</td>\n",
       "      <td>NONE</td>\n",
       "      <td>0</td>\n",
       "      <td>0</td>\n",
       "      <td>BLUE</td>\n",
       "    </tr>\n",
       "    <tr>\n",
       "      <th>2</th>\n",
       "      <td>EUROPE</td>\n",
       "      <td>EUW1_6011792863</td>\n",
       "      <td>-0xKeKNvTNUPuswOsqGYJVhcBlx-ydIhH_wJ30Y-1_44Iww</td>\n",
       "      <td>85</td>\n",
       "      <td>mXWMaBftMr90T5iBCoH8wSdOahXMMyl2cjXaXMohfhf66tdx</td>\n",
       "      <td>104</td>\n",
       "      <td>M-XkOhUlzZzfRms4gxKv9eOVrEOMozhWOXs810oIbNOu018</td>\n",
       "      <td>163</td>\n",
       "      <td>t2FwwZkUNMOehZ-CG2zm2GMI37C3r9QcODQZlhU9byDmR3g</td>\n",
       "      <td>523</td>\n",
       "      <td>...</td>\n",
       "      <td>RED</td>\n",
       "      <td>0</td>\n",
       "      <td>10</td>\n",
       "      <td>NONE</td>\n",
       "      <td>0</td>\n",
       "      <td>0</td>\n",
       "      <td>RED</td>\n",
       "      <td>0</td>\n",
       "      <td>2</td>\n",
       "      <td>RED</td>\n",
       "    </tr>\n",
       "    <tr>\n",
       "      <th>3</th>\n",
       "      <td>EUROPE</td>\n",
       "      <td>EUW1_6011760491</td>\n",
       "      <td>-0xKeKNvTNUPuswOsqGYJVhcBlx-ydIhH_wJ30Y-1_44Iww</td>\n",
       "      <td>150</td>\n",
       "      <td>x3x6asHKbZcBtTcJetQcPwAsu_RSJngmi0Ufrg43bnmfLD...</td>\n",
       "      <td>102</td>\n",
       "      <td>MES5kWjWiNFspTZql1HZqe765e1hfDZynhuqm8_fMttggE4</td>\n",
       "      <td>43</td>\n",
       "      <td>d4Ye0k7glS4s-QU4qaFKbjiY1iNU4ELp47y45M_Jy3UW_V...</td>\n",
       "      <td>523</td>\n",
       "      <td>...</td>\n",
       "      <td>BLUE</td>\n",
       "      <td>2</td>\n",
       "      <td>6</td>\n",
       "      <td>RED</td>\n",
       "      <td>0</td>\n",
       "      <td>1</td>\n",
       "      <td>RED</td>\n",
       "      <td>0</td>\n",
       "      <td>1</td>\n",
       "      <td>RED</td>\n",
       "    </tr>\n",
       "    <tr>\n",
       "      <th>4</th>\n",
       "      <td>EUROPE</td>\n",
       "      <td>EUW1_6011396052</td>\n",
       "      <td>9T_e3hPA8BJJkJ-VGvGVJWR24xPZ0yyY5aGTOIKl95Cd6h8g</td>\n",
       "      <td>516</td>\n",
       "      <td>o0qPYAZeEuja3dsmiuCqdaWVrLcC-J_K0bbt4OT7psjR_h8j</td>\n",
       "      <td>234</td>\n",
       "      <td>8zY6D7jcaWO0fE97F--eV7LMGlgIZlWD9t7VPC3QJo6hlc...</td>\n",
       "      <td>7</td>\n",
       "      <td>XvgmL9HC82teQG5o_5ODcv4zDzSAKMiLfoFaAhW658X-i-g</td>\n",
       "      <td>523</td>\n",
       "      <td>...</td>\n",
       "      <td>RED</td>\n",
       "      <td>0</td>\n",
       "      <td>10</td>\n",
       "      <td>NONE</td>\n",
       "      <td>0</td>\n",
       "      <td>0</td>\n",
       "      <td>RED</td>\n",
       "      <td>0</td>\n",
       "      <td>2</td>\n",
       "      <td>RED</td>\n",
       "    </tr>\n",
       "  </tbody>\n",
       "</table>\n",
       "<p>5 rows × 51 columns</p>\n",
       "</div>"
      ],
      "text/plain": [
       "   SERVER         MATCH_ID                                          BSUM1_ID  \\\n",
       "0  EUROPE  EUW1_6011748426   ZCHr8rokYRXJMJIUWzFcIehrJs6jShr0Zkc3aFJZ4xEiTfE   \n",
       "1  EUROPE  EUW1_6011775414   ZCHr8rokYRXJMJIUWzFcIehrJs6jShr0Zkc3aFJZ4xEiTfE   \n",
       "2  EUROPE  EUW1_6011792863   -0xKeKNvTNUPuswOsqGYJVhcBlx-ydIhH_wJ30Y-1_44Iww   \n",
       "3  EUROPE  EUW1_6011760491   -0xKeKNvTNUPuswOsqGYJVhcBlx-ydIhH_wJ30Y-1_44Iww   \n",
       "4  EUROPE  EUW1_6011396052  9T_e3hPA8BJJkJ-VGvGVJWR24xPZ0yyY5aGTOIKl95Cd6h8g   \n",
       "\n",
       "   BTOP_CHAMP_ID                                           BSUM2_ID  \\\n",
       "0            113    F66NXGYFavcAokjrfJpUel2USWZkq8NHqpJTd_G27IMtrFI   \n",
       "1             58  f5RVtBz5U9FKFuEDUxN-t1qt3X8Sy4yk7IejkQLp7XUIF6...   \n",
       "2             85   mXWMaBftMr90T5iBCoH8wSdOahXMMyl2cjXaXMohfhf66tdx   \n",
       "3            150  x3x6asHKbZcBtTcJetQcPwAsu_RSJngmi0Ufrg43bnmfLD...   \n",
       "4            516   o0qPYAZeEuja3dsmiuCqdaWVrLcC-J_K0bbt4OT7psjR_h8j   \n",
       "\n",
       "   BJGL_CHAMP_ID                                           BSUM3_ID  \\\n",
       "0            234    Fh65e2b_r25M566GikjPVg2gejUQOkH4vyp2c931tnh4Dcg   \n",
       "1             76    M-XkOhUlzZzfRms4gxKv9eOVrEOMozhWOXs810oIbNOu018   \n",
       "2            104    M-XkOhUlzZzfRms4gxKv9eOVrEOMozhWOXs810oIbNOu018   \n",
       "3            102    MES5kWjWiNFspTZql1HZqe765e1hfDZynhuqm8_fMttggE4   \n",
       "4            234  8zY6D7jcaWO0fE97F--eV7LMGlgIZlWD9t7VPC3QJo6hlc...   \n",
       "\n",
       "   BMID_CHAMP_ID                                           BSUM4_ID  \\\n",
       "0              7    BgbTbMspKYR1yIsQjzW-e_bpn45fjAEcAPnAGX5dLfR6sao   \n",
       "1            711    AGUOI4GQPW7jOOhbaw5YJKIwL961UbGqORy8UfSMui7AFos   \n",
       "2            163    t2FwwZkUNMOehZ-CG2zm2GMI37C3r9QcODQZlhU9byDmR3g   \n",
       "3             43  d4Ye0k7glS4s-QU4qaFKbjiY1iNU4ELp47y45M_Jy3UW_V...   \n",
       "4              7    XvgmL9HC82teQG5o_5ODcv4zDzSAKMiLfoFaAhW658X-i-g   \n",
       "\n",
       "   BBOT_CHAMP_ID  ... FIRST_TOWER  BTOWER_KILLS  RTOWER_KILLS  FIRST_BARON  \\\n",
       "0             96  ...         RED             8             7          RED   \n",
       "1             29  ...        BLUE             4             0         NONE   \n",
       "2            523  ...         RED             0            10         NONE   \n",
       "3            523  ...        BLUE             2             6          RED   \n",
       "4            523  ...         RED             0            10         NONE   \n",
       "\n",
       "   BBARON_KILLS  RBARON_KILLS  FIRST_INHIB BINHIB_KILLS  RINHIB_KILLS WINNER  \n",
       "0             0             2         BLUE            1             1    RED  \n",
       "1             0             0         NONE            0             0   BLUE  \n",
       "2             0             0          RED            0             2    RED  \n",
       "3             0             1          RED            0             1    RED  \n",
       "4             0             0          RED            0             2    RED  \n",
       "\n",
       "[5 rows x 51 columns]"
      ]
     },
     "execution_count": 4,
     "metadata": {},
     "output_type": "execute_result"
    }
   ],
   "source": [
    "data = pd.read_csv('../../data/original/NA3_matches_1993.csv')\n",
    "data.head()"
   ]
  },
  {
   "cell_type": "code",
   "execution_count": 7,
   "metadata": {},
   "outputs": [
    {
     "data": {
      "text/plain": [
       "(2045, 51)"
      ]
     },
     "execution_count": 7,
     "metadata": {},
     "output_type": "execute_result"
    }
   ],
   "source": [
    "data.shape"
   ]
  },
  {
   "cell_type": "code",
   "execution_count": 8,
   "metadata": {},
   "outputs": [],
   "source": [
    "data1 = data[:100]\n",
    "data2 = data[100:200]\n",
    "data3 = data[200:300]\n",
    "data4 = data[300:400]\n",
    "data5 = data[400:500]\n",
    "data6 = data[500:600]\n",
    "data7 = data[600:700]\n",
    "data8 = data[700:800]\n",
    "data9 = data[800:900]\n",
    "data10 = data[900:1000]\n",
    "data11 = data[1000:1100]\n",
    "data12 = data[1100:1200]\n",
    "data13 = data[1200:1300]\n",
    "data14 = data[1300:1400]\n",
    "data15 = data[1400:1500]\n",
    "data16 = data[1500:1600]\n",
    "data17 = data[1600:1700]\n",
    "data18 = data[1700:1800]\n",
    "data19 = data[1800:1900]\n",
    "data20 = data[1900:]"
   ]
  },
  {
   "cell_type": "code",
   "execution_count": 10,
   "metadata": {},
   "outputs": [],
   "source": [
    "'''\n",
    "This function uses the champion mastery api to get the champion mastery for a specific champion and summoner.\n",
    "\n",
    "Region can be: euw1, na1, kr\n",
    "Summoner input can be:\n",
    "-  BSUM1_ID - BSUM5_ID\n",
    "-  RSUM1_ID - RSUM5_ID\n",
    "\n",
    "Summoner_champ_id input can be:\n",
    "- BTOP_CHAMP_ID or RTOP_CHAMP_ID\n",
    "- BJGL_CHAMP_ID or RJGL_CHAMP_ID\n",
    "- BMID_CHAMP_ID or RMID_CHAMP_ID\n",
    "- BBOT_CHAMP_ID or RBOT_CHAMP_ID\n",
    "- BSUP_CHAMP_ID or RSUP_CHAMP_ID\n",
    "'''\n",
    "\n",
    "\n",
    "def champion_mastery(df, summoner, summoner_champ_id):\n",
    "\n",
    "    mastery_list = []\n",
    "    for i in range(len(df)):\n",
    "        summoner_id = df.iloc[i][summoner]\n",
    "        champion_id = df.iloc[i][summoner_champ_id]\n",
    "\n",
    "        try:\n",
    "            url = 'https://'+ server + '.api.riotgames.com/lol/champion-mastery/v4/champion-masteries/by-summoner/' + summoner_id + '/by-champion/' + str(champion_id)\n",
    "            res = re.get(url, headers=headers).json()\n",
    "\n",
    "            mastery = res['championPoints']\n",
    "            mastery_list.append(mastery)\n",
    "        except:\n",
    "            mastery_list.append(np.nan)\n",
    "            pass\n",
    "\n",
    "    return mastery_list\n"
   ]
  },
  {
   "cell_type": "markdown",
   "metadata": {},
   "source": [
    "## Blue Top"
   ]
  },
  {
   "cell_type": "code",
   "execution_count": 12,
   "metadata": {},
   "outputs": [
    {
     "data": {
      "text/plain": [
       "2000"
      ]
     },
     "execution_count": 12,
     "metadata": {},
     "output_type": "execute_result"
    }
   ],
   "source": [
    "Blue_top_list1 = champion_mastery(data1, 'BSUM1_ID', 'BTOP_CHAMP_ID')\n",
    "time.sleep(120)\n",
    "Blue_top_list2 = champion_mastery(data2, 'BSUM1_ID', 'BTOP_CHAMP_ID')\n",
    "time.sleep(120)\n",
    "Blue_top_list3 = champion_mastery(data3, 'BSUM1_ID', 'BTOP_CHAMP_ID')\n",
    "time.sleep(120)\n",
    "Blue_top_list4 = champion_mastery(data4, 'BSUM1_ID', 'BTOP_CHAMP_ID')\n",
    "time.sleep(120)\n",
    "Blue_top_list5 = champion_mastery(data5, 'BSUM1_ID', 'BTOP_CHAMP_ID')\n",
    "time.sleep(120)\n",
    "Blue_top_list6 = champion_mastery(data6, 'BSUM1_ID', 'BTOP_CHAMP_ID')\n",
    "time.sleep(120)\n",
    "Blue_top_list7 = champion_mastery(data7, 'BSUM1_ID', 'BTOP_CHAMP_ID')\n",
    "time.sleep(120)\n",
    "Blue_top_list8 = champion_mastery(data8, 'BSUM1_ID', 'BTOP_CHAMP_ID')\n",
    "time.sleep(120)\n",
    "Blue_top_list9 = champion_mastery(data9, 'BSUM1_ID', 'BTOP_CHAMP_ID')\n",
    "time.sleep(120)\n",
    "Blue_top_list10 = champion_mastery(data10, 'BSUM1_ID', 'BTOP_CHAMP_ID')\n",
    "time.sleep(120)\n",
    "Blue_top_list11 = champion_mastery(data11, 'BSUM1_ID', 'BTOP_CHAMP_ID')\n",
    "time.sleep(120)\n",
    "Blue_top_list12 = champion_mastery(data12, 'BSUM1_ID', 'BTOP_CHAMP_ID')\n",
    "time.sleep(120)\n",
    "Blue_top_list13 = champion_mastery(data13, 'BSUM1_ID', 'BTOP_CHAMP_ID')\n",
    "time.sleep(120)\n",
    "Blue_top_list14 = champion_mastery(data14, 'BSUM1_ID', 'BTOP_CHAMP_ID')\n",
    "time.sleep(120)\n",
    "Blue_top_list15 = champion_mastery(data15, 'BSUM1_ID', 'BTOP_CHAMP_ID')\n",
    "time.sleep(120)\n",
    "Blue_top_list16 = champion_mastery(data16, 'BSUM1_ID', 'BTOP_CHAMP_ID')\n",
    "time.sleep(120)\n",
    "Blue_top_list17 = champion_mastery(data7, 'BSUM1_ID', 'BTOP_CHAMP_ID')\n",
    "time.sleep(120)\n",
    "Blue_top_list18 = champion_mastery(data18, 'BSUM1_ID', 'BTOP_CHAMP_ID')\n",
    "time.sleep(120)\n",
    "Blue_top_list19 = champion_mastery(data19, 'BSUM1_ID', 'BTOP_CHAMP_ID')\n",
    "time.sleep(120)\n",
    "Blue_top_list20 = champion_mastery(data20, 'BSUM1_ID', 'BTOP_CHAMP_ID')\n",
    "time.sleep(120)"
   ]
  },
  {
   "cell_type": "code",
   "execution_count": null,
   "metadata": {},
   "outputs": [],
   "source": [
    "Blue_TOP_list = Blue_top_list1 + Blue_top_list2 + Blue_top_list3 + Blue_top_list4 + Blue_top_list5 + Blue_top_list6 + Blue_top_list7 + Blue_top_list8 + Blue_top_list9 + Blue_top_list10 + Blue_top_list11 + Blue_top_list12 + Blue_top_list13 + Blue_top_list14 + Blue_top_list15 + Blue_top_list16 + Blue_top_list17 + Blue_top_list18 + Blue_top_list19 + Blue_top_list20\n",
    "len(Blue_TOP_list)"
   ]
  },
  {
   "cell_type": "markdown",
   "metadata": {},
   "source": [
    "## Blue JGL"
   ]
  },
  {
   "cell_type": "code",
   "execution_count": 14,
   "metadata": {},
   "outputs": [],
   "source": [
    "Blue_JGL_list1 = champion_mastery(data1, 'BSUM2_ID', 'BJGL_CHAMP_ID')\n",
    "time.sleep(120)\n",
    "Blue_JGL_list2 = champion_mastery(data2, 'BSUM2_ID', 'BJGL_CHAMP_ID')\n",
    "time.sleep(120)\n",
    "Blue_JGL_list3 = champion_mastery(data3, 'BSUM2_ID', 'BJGL_CHAMP_ID')\n",
    "time.sleep(120)\n",
    "Blue_JGL_list4 = champion_mastery(data4, 'BSUM2_ID', 'BJGL_CHAMP_ID')\n",
    "time.sleep(120)\n",
    "Blue_JGL_list5 = champion_mastery(data5, 'BSUM2_ID', 'BJGL_CHAMP_ID')\n",
    "time.sleep(120)\n",
    "Blue_JGL_list6 = champion_mastery(data6, 'BSUM2_ID', 'BJGL_CHAMP_ID')\n",
    "time.sleep(120)\n",
    "Blue_JGL_list7 = champion_mastery(data7, 'BSUM2_ID', 'BJGL_CHAMP_ID')\n",
    "time.sleep(120)\n",
    "Blue_JGL_list8 = champion_mastery(data8, 'BSUM2_ID', 'BJGL_CHAMP_ID')\n",
    "time.sleep(120)\n",
    "Blue_JGL_list9 = champion_mastery(data9, 'BSUM2_ID', 'BJGL_CHAMP_ID')\n",
    "time.sleep(120)\n",
    "Blue_JGL_list10 = champion_mastery(data10, 'BSUM2_ID', 'BJGL_CHAMP_ID')\n",
    "time.sleep(120)\n",
    "Blue_JGL_list11 = champion_mastery(data11, 'BSUM2_ID', 'BJGL_CHAMP_ID')\n",
    "time.sleep(120)\n",
    "Blue_JGL_list12 = champion_mastery(data12, 'BSUM2_ID', 'BJGL_CHAMP_ID')\n",
    "time.sleep(120)\n",
    "Blue_JGL_list13 = champion_mastery(data13, 'BSUM2_ID', 'BJGL_CHAMP_ID')\n",
    "time.sleep(120)\n",
    "Blue_JGL_list14 = champion_mastery(data14, 'BSUM2_ID', 'BJGL_CHAMP_ID')\n",
    "time.sleep(120)\n",
    "Blue_JGL_list15 = champion_mastery(data15, 'BSUM2_ID', 'BJGL_CHAMP_ID')\n",
    "time.sleep(120)\n",
    "Blue_JGL_list16 = champion_mastery(data16, 'BSUM2_ID', 'BJGL_CHAMP_ID')\n",
    "time.sleep(120)\n",
    "Blue_JGL_list17 = champion_mastery(data17, 'BSUM2_ID', 'BJGL_CHAMP_ID')\n",
    "time.sleep(120)\n",
    "Blue_JGL_list18 = champion_mastery(data18, 'BSUM2_ID', 'BJGL_CHAMP_ID')\n",
    "time.sleep(120)\n",
    "Blue_JGL_list19 = champion_mastery(data19, 'BSUM2_ID', 'BJGL_CHAMP_ID')\n",
    "time.sleep(120)\n",
    "Blue_JGL_list20 = champion_mastery(data20, 'BSUM2_ID', 'BJGL_CHAMP_ID')\n",
    "time.sleep(120)"
   ]
  },
  {
   "cell_type": "code",
   "execution_count": null,
   "metadata": {},
   "outputs": [],
   "source": [
    "Blue_JGL_list = Blue_JGL_list1 + Blue_JGL_list2 + Blue_JGL_list3 + Blue_JGL_list4 + Blue_JGL_list5 + Blue_JGL_list6 + Blue_JGL_list7 + Blue_JGL_list8 + Blue_JGL_list9 + Blue_JGL_list10 + Blue_JGL_list11 + Blue_JGL_list12 + Blue_JGL_list13 + Blue_JGL_list14 + Blue_JGL_list15 + Blue_JGL_list16 + Blue_JGL_list17 + Blue_JGL_list18 + Blue_JGL_list19 + Blue_JGL_list20\n",
    "len(Blue_JGL_list)"
   ]
  },
  {
   "cell_type": "markdown",
   "metadata": {},
   "source": [
    "## Blue MID"
   ]
  },
  {
   "cell_type": "code",
   "execution_count": null,
   "metadata": {},
   "outputs": [
    {
     "data": {
      "text/plain": [
       "366"
      ]
     },
     "execution_count": 62,
     "metadata": {},
     "output_type": "execute_result"
    }
   ],
   "source": [
    "Blue_MID_list1 = champion_mastery(data1, 'BSUM3_ID', 'BMID_CHAMP_ID')\n",
    "time.sleep(120)\n",
    "Blue_MID_list2 = champion_mastery(data2, 'BSUM3_ID', 'BMID_CHAMP_ID')\n",
    "time.sleep(120)\n",
    "Blue_MID_list3 = champion_mastery(data3, 'BSUM3_ID', 'BMID_CHAMP_ID')\n",
    "time.sleep(120)\n",
    "Blue_MID_list4 = champion_mastery(data4, 'BSUM3_ID', 'BMID_CHAMP_ID')\n",
    "time.sleep(120)\n",
    "Blue_MID_list5 = champion_mastery(data5, 'BSUM3_ID', 'BMID_CHAMP_ID')\n",
    "time.sleep(120)\n",
    "Blue_MID_list6 = champion_mastery(data6, 'BSUM3_ID', 'BMID_CHAMP_ID')\n",
    "time.sleep(120)\n",
    "Blue_MID_list7 = champion_mastery(data7, 'BSUM3_ID', 'BMID_CHAMP_ID')\n",
    "time.sleep(120)\n",
    "Blue_MID_list8 = champion_mastery(data8, 'BSUM3_ID', 'BMID_CHAMP_ID')\n",
    "time.sleep(120)\n",
    "Blue_MID_list9 = champion_mastery(data9, 'BSUM3_ID', 'BMID_CHAMP_ID')\n",
    "time.sleep(120)\n",
    "Blue_MID_list10 = champion_mastery(data10, 'BSUM3_ID', 'BMID_CHAMP_ID')\n",
    "time.sleep(120)\n",
    "Blue_MID_list11 = champion_mastery(data11, 'BSUM3_ID', 'BMID_CHAMP_ID')\n",
    "time.sleep(120)\n",
    "Blue_MID_list12 = champion_mastery(data12, 'BSUM3_ID', 'BMID_CHAMP_ID')\n",
    "time.sleep(120)\n",
    "Blue_MID_list13 = champion_mastery(data13, 'BSUM3_ID', 'BMID_CHAMP_ID')\n",
    "time.sleep(120)\n",
    "Blue_MID_list14 = champion_mastery(data14, 'BSUM3_ID', 'BMID_CHAMP_ID')\n",
    "time.sleep(120)\n",
    "Blue_MID_list15 = champion_mastery(data15, 'BSUM3_ID', 'BMID_CHAMP_ID')\n",
    "time.sleep(120)\n",
    "Blue_MID_list16 = champion_mastery(data16, 'BSUM3_ID', 'BMID_CHAMP_ID')\n",
    "time.sleep(120)\n",
    "Blue_MID_list17 = champion_mastery(data17, 'BSUM3_ID', 'BMID_CHAMP_ID')\n",
    "time.sleep(120)\n",
    "Blue_MID_list18 = champion_mastery(data18, 'BSUM3_ID', 'BMID_CHAMP_ID')\n",
    "time.sleep(120)\n",
    "Blue_MID_list19 = champion_mastery(data19, 'BSUM3_ID', 'BMID_CHAMP_ID')\n",
    "time.sleep(120)\n",
    "Blue_MID_list20 = champion_mastery(data20, 'BSUM3_ID', 'BMID_CHAMP_ID')\n",
    "time.sleep(120)"
   ]
  },
  {
   "cell_type": "code",
   "execution_count": null,
   "metadata": {},
   "outputs": [],
   "source": [
    "Blue_MID_list = Blue_MID_list1 + Blue_MID_list2 + Blue_MID_list3 + Blue_MID_list4 + Blue_MID_list5 + Blue_MID_list6 + Blue_MID_list7 + Blue_MID_list8 + Blue_MID_list9 + Blue_MID_list10 + Blue_MID_list11 + Blue_MID_list12 + Blue_MID_list13 + Blue_MID_list14 + Blue_MID_list15 + Blue_MID_list16 + Blue_MID_list17 + Blue_MID_list18 + Blue_MID_list19 + Blue_MID_list20\n",
    "len(Blue_MID_list)"
   ]
  },
  {
   "cell_type": "markdown",
   "metadata": {},
   "source": [
    "## Blue BOT"
   ]
  },
  {
   "cell_type": "code",
   "execution_count": null,
   "metadata": {},
   "outputs": [
    {
     "data": {
      "text/plain": [
       "366"
      ]
     },
     "execution_count": 64,
     "metadata": {},
     "output_type": "execute_result"
    }
   ],
   "source": [
    "Blue_BOT_list1 = champion_mastery(data1, 'BSUM4_ID', 'BBOT_CHAMP_ID')\n",
    "time.sleep(120)\n",
    "Blue_BOT_list2 = champion_mastery(data2, 'BSUM4_ID', 'BBOT_CHAMP_ID')\n",
    "time.sleep(120)\n",
    "Blue_BOT_list3 = champion_mastery(data3, 'BSUM4_ID', 'BBOT_CHAMP_ID')\n",
    "time.sleep(120)\n",
    "Blue_BOT_list4 = champion_mastery(data4, 'BSUM4_ID', 'BBOT_CHAMP_ID')\n",
    "time.sleep(120)\n",
    "Blue_BOT_list5 = champion_mastery(data5, 'BSUM4_ID', 'BBOT_CHAMP_ID')\n",
    "time.sleep(120)\n",
    "Blue_BOT_list6 = champion_mastery(data6, 'BSUM4_ID', 'BBOT_CHAMP_ID')\n",
    "time.sleep(120)\n",
    "Blue_BOT_list7 = champion_mastery(data7, 'BSUM4_ID', 'BBOT_CHAMP_ID')\n",
    "time.sleep(120)\n",
    "Blue_BOT_list8 = champion_mastery(data8, 'BSUM4_ID', 'BBOT_CHAMP_ID')\n",
    "time.sleep(120)\n",
    "Blue_BOT_list9 = champion_mastery(data9, 'BSUM4_ID', 'BBOT_CHAMP_ID')\n",
    "time.sleep(120)\n",
    "Blue_BOT_list10 = champion_mastery(data10, 'BSUM4_ID', 'BBOT_CHAMP_ID')\n",
    "time.sleep(120)\n",
    "Blue_BOT_list11 = champion_mastery(data11, 'BSUM4_ID', 'BBOT_CHAMP_ID')\n",
    "time.sleep(120)\n",
    "Blue_BOT_list12 = champion_mastery(data12, 'BSUM4_ID', 'BBOT_CHAMP_ID')\n",
    "time.sleep(120)\n",
    "Blue_BOT_list13 = champion_mastery(data13, 'BSUM4_ID', 'BBOT_CHAMP_ID')\n",
    "time.sleep(120)\n",
    "Blue_BOT_list14 = champion_mastery(data14, 'BSUM4_ID', 'BBOT_CHAMP_ID')\n",
    "time.sleep(120)\n",
    "Blue_BOT_list15 = champion_mastery(data15, 'BSUM4_ID', 'BBOT_CHAMP_ID')\n",
    "time.sleep(120)\n",
    "Blue_BOT_list16 = champion_mastery(data16, 'BSUM4_ID', 'BBOT_CHAMP_ID')\n",
    "time.sleep(120)\n",
    "Blue_BOT_list17 = champion_mastery(data17, 'BSUM4_ID', 'BBOT_CHAMP_ID')\n",
    "time.sleep(120)\n",
    "Blue_BOT_list18 = champion_mastery(data18, 'BSUM4_ID', 'BBOT_CHAMP_ID')\n",
    "time.sleep(120)\n",
    "Blue_BOT_list19 = champion_mastery(data19, 'BSUM4_ID', 'BBOT_CHAMP_ID')\n",
    "time.sleep(120)\n",
    "Blue_BOT_list20 = champion_mastery(data20, 'BSUM4_ID', 'BBOT_CHAMP_ID')\n",
    "time.sleep(120)"
   ]
  },
  {
   "cell_type": "code",
   "execution_count": null,
   "metadata": {},
   "outputs": [],
   "source": [
    "Blue_BOT_list = Blue_BOT_list1 + Blue_BOT_list2 + Blue_BOT_list3 + Blue_BOT_list4 + Blue_BOT_list5 + Blue_BOT_list6 + Blue_BOT_list7 + Blue_BOT_list8 + Blue_BOT_list9 + Blue_BOT_list10 + Blue_BOT_list11 + Blue_BOT_list12 + Blue_BOT_list13 + Blue_BOT_list14 + Blue_BOT_list15 + Blue_BOT_list16 + Blue_BOT_list17 + Blue_BOT_list18 + Blue_BOT_list19 + Blue_BOT_list20\n",
    "len(Blue_BOT_list)"
   ]
  },
  {
   "cell_type": "markdown",
   "metadata": {},
   "source": [
    "## Blue SUP"
   ]
  },
  {
   "cell_type": "code",
   "execution_count": null,
   "metadata": {},
   "outputs": [
    {
     "data": {
      "text/plain": [
       "366"
      ]
     },
     "execution_count": 66,
     "metadata": {},
     "output_type": "execute_result"
    }
   ],
   "source": [
    "Blue_SUP_list1 = champion_mastery(data1, 'BSUM5_ID', 'BSUP_CHAMP_ID')\n",
    "time.sleep(120)\n",
    "Blue_SUP_list2 = champion_mastery(data2, 'BSUM5_ID', 'BSUP_CHAMP_ID')\n",
    "time.sleep(120)\n",
    "Blue_SUP_list3 = champion_mastery(data3, 'BSUM5_ID', 'BSUP_CHAMP_ID')\n",
    "time.sleep(120)\n",
    "Blue_SUP_list4 = champion_mastery(data4, 'BSUM5_ID', 'BSUP_CHAMP_ID')\n",
    "time.sleep(120)\n",
    "Blue_SUP_list5 = champion_mastery(data5, 'BSUM5_ID', 'BSUP_CHAMP_ID')\n",
    "time.sleep(120)\n",
    "Blue_SUP_list6 = champion_mastery(data6, 'BSUM5_ID', 'BSUP_CHAMP_ID')\n",
    "time.sleep(120)\n",
    "Blue_SUP_list7 = champion_mastery(data7, 'BSUM5_ID', 'BSUP_CHAMP_ID')\n",
    "time.sleep(120)\n",
    "Blue_SUP_list8 = champion_mastery(data8, 'BSUM5_ID', 'BSUP_CHAMP_ID')\n",
    "time.sleep(120)\n",
    "Blue_SUP_list9 = champion_mastery(data9, 'BSUM5_ID', 'BSUP_CHAMP_ID')\n",
    "time.sleep(120)\n",
    "Blue_SUP_list10 = champion_mastery(data10, 'BSUM5_ID', 'BSUP_CHAMP_ID')\n",
    "time.sleep(120)\n",
    "Blue_SUP_list11 = champion_mastery(data11, 'BSUM5_ID', 'BSUP_CHAMP_ID')\n",
    "time.sleep(120)\n",
    "Blue_SUP_list12 = champion_mastery(data12, 'BSUM5_ID', 'BSUP_CHAMP_ID')\n",
    "time.sleep(120)\n",
    "Blue_SUP_list13 = champion_mastery(data13, 'BSUM5_ID', 'BSUP_CHAMP_ID')\n",
    "time.sleep(120)\n",
    "Blue_SUP_list14 = champion_mastery(data14, 'BSUM5_ID', 'BSUP_CHAMP_ID')\n",
    "time.sleep(120)\n",
    "Blue_SUP_list15 = champion_mastery(data15, 'BSUM5_ID', 'BSUP_CHAMP_ID')\n",
    "time.sleep(120)\n",
    "Blue_SUP_list16 = champion_mastery(data16, 'BSUM5_ID', 'BSUP_CHAMP_ID')\n",
    "time.sleep(120)\n",
    "Blue_SUP_list17 = champion_mastery(data17, 'BSUM5_ID', 'BSUP_CHAMP_ID')\n",
    "time.sleep(120)\n",
    "Blue_SUP_list18 = champion_mastery(data18, 'BSUM5_ID', 'BSUP_CHAMP_ID')\n",
    "time.sleep(120)\n",
    "Blue_SUP_list19 = champion_mastery(data19, 'BSUM5_ID', 'BSUP_CHAMP_ID')\n",
    "time.sleep(120)\n",
    "Blue_SUP_list20 = champion_mastery(data20, 'BSUM5_ID', 'BSUP_CHAMP_ID')\n",
    "time.sleep(120)"
   ]
  },
  {
   "cell_type": "code",
   "execution_count": null,
   "metadata": {},
   "outputs": [],
   "source": [
    "Blue_SUP_list = Blue_SUP_list1 + Blue_SUP_list2 + Blue_SUP_list3 + Blue_SUP_list4 + Blue_SUP_list5 + Blue_SUP_list6 + Blue_SUP_list7 + Blue_SUP_list8 + Blue_SUP_list9 + Blue_SUP_list10 + Blue_SUP_list11 + Blue_SUP_list12 + Blue_SUP_list13 + Blue_SUP_list14 + Blue_SUP_list15 + Blue_SUP_list16 + Blue_SUP_list17 + Blue_SUP_list18 + Blue_SUP_list19 + Blue_SUP_list20\n",
    "len(Blue_SUP_list)"
   ]
  },
  {
   "cell_type": "markdown",
   "metadata": {},
   "source": [
    "## Red TOP"
   ]
  },
  {
   "cell_type": "code",
   "execution_count": 68,
   "metadata": {},
   "outputs": [
    {
     "data": {
      "text/plain": [
       "366"
      ]
     },
     "execution_count": 68,
     "metadata": {},
     "output_type": "execute_result"
    }
   ],
   "source": [
    "Red_TOP_list1 = champion_mastery(data1, 'euw1', 'RSUM1_ID', 'RTOP_CHAMP_ID')\n",
    "time.sleep(120)\n",
    "Red_TOP_list2 = champion_mastery(data2, 'euw1', 'RSUM1_ID', 'RTOP_CHAMP_ID')\n",
    "time.sleep(120)\n",
    "Red_TOP_list3 = champion_mastery(data3, 'euw1', 'RSUM1_ID', 'RTOP_CHAMP_ID')\n",
    "time.sleep(120)\n",
    "Red_TOP_list4 = champion_mastery(data4, 'euw1', 'RSUM1_ID', 'RTOP_CHAMP_ID')\n",
    "time.sleep(120)\n",
    "Red_TOP_list5 = champion_mastery(data5, 'euw1', 'RSUM1_ID', 'RTOP_CHAMP_ID')\n",
    "time.sleep(120)\n",
    "Red_TOP_list6 = champion_mastery(data6, 'euw1', 'RSUM1_ID', 'RTOP_CHAMP_ID')\n",
    "time.sleep(120)\n",
    "Red_TOP_list7 = champion_mastery(data7, 'euw1', 'RSUM1_ID', 'RTOP_CHAMP_ID')\n",
    "time.sleep(120)\n",
    "Red_TOP_list8 = champion_mastery(data8, 'euw1', 'RSUM1_ID', 'RTOP_CHAMP_ID')\n",
    "time.sleep(120)\n",
    "Red_TOP_list9 = champion_mastery(data9, 'euw1', 'RSUM1_ID', 'RTOP_CHAMP_ID')\n",
    "time.sleep(120)\n",
    "Red_TOP_list10 = champion_mastery(data10, 'euw1', 'RSUM1_ID', 'RTOP_CHAMP_ID')\n",
    "time.sleep(120)\n",
    "Red_TOP_list11 = champion_mastery(data11, 'euw1', 'RSUM1_ID', 'RTOP_CHAMP_ID')\n",
    "time.sleep(120)\n",
    "Red_TOP_list12 = champion_mastery(data12, 'euw1', 'RSUM1_ID', 'RTOP_CHAMP_ID')\n",
    "time.sleep(120)\n",
    "Red_TOP_list13 = champion_mastery(data13, 'euw1', 'RSUM1_ID', 'RTOP_CHAMP_ID')\n",
    "time.sleep(120)\n",
    "Red_TOP_list14 = champion_mastery(data14, 'euw1', 'RSUM1_ID', 'RTOP_CHAMP_ID')\n",
    "time.sleep(120)\n",
    "Red_TOP_list15 = champion_mastery(data15, 'euw1', 'RSUM1_ID', 'RTOP_CHAMP_ID')\n",
    "time.sleep(120)\n",
    "Red_TOP_list16 = champion_mastery(data16, 'euw1', 'RSUM1_ID', 'RTOP_CHAMP_ID')\n",
    "time.sleep(120)\n",
    "Red_TOP_list17 = champion_mastery(data17, 'euw1', 'RSUM1_ID', 'RTOP_CHAMP_ID')\n",
    "time.sleep(120)\n",
    "Red_TOP_list18 = champion_mastery(data18, 'euw1', 'RSUM1_ID', 'RTOP_CHAMP_ID')\n",
    "time.sleep(120)\n",
    "Red_TOP_list19 = champion_mastery(data19, 'euw1', 'RSUM1_ID', 'RTOP_CHAMP_ID')\n",
    "time.sleep(120)\n",
    "Red_TOP_list20 = champion_mastery(data20, 'euw1', 'RSUM1_ID', 'RTOP_CHAMP_ID')\n",
    "time.sleep(120)"
   ]
  },
  {
   "cell_type": "code",
   "execution_count": null,
   "metadata": {},
   "outputs": [],
   "source": [
    "Red_TOP_list = Red_TOP_list1 + Red_TOP_list2 + Red_TOP_list3 + Red_TOP_list4 + Red_TOP_list5 + Red_TOP_list6 + Red_TOP_list7 + Red_TOP_list8 + Red_TOP_list9 + Red_TOP_list10 + Red_TOP_list11 + Red_TOP_list12 + Red_TOP_list13 + Red_TOP_list14 + Red_TOP_list15 + Red_TOP_list16 + Red_TOP_list17 + Red_TOP_list18 + Red_TOP_list19 + Red_TOP_list20\n",
    "len(Red_TOP_list)"
   ]
  },
  {
   "cell_type": "markdown",
   "metadata": {},
   "source": [
    "## Red JGL"
   ]
  },
  {
   "cell_type": "code",
   "execution_count": 70,
   "metadata": {},
   "outputs": [
    {
     "data": {
      "text/plain": [
       "366"
      ]
     },
     "execution_count": 70,
     "metadata": {},
     "output_type": "execute_result"
    }
   ],
   "source": [
    "Red_JGL_list1 = champion_mastery(data1, 'RSUM2_ID', 'RJGL_CHAMP_ID')\n",
    "time.sleep(120)\n",
    "Red_JGL_list2 = champion_mastery(data2, 'RSUM2_ID', 'RJGL_CHAMP_ID')\n",
    "time.sleep(120)\n",
    "Red_JGL_list3 = champion_mastery(data3, 'RSUM2_ID', 'RJGL_CHAMP_ID')\n",
    "time.sleep(120)\n",
    "Red_JGL_list4 = champion_mastery(data4, 'RSUM2_ID', 'RJGL_CHAMP_ID')\n",
    "time.sleep(120)\n",
    "Red_JGL_list5 = champion_mastery(data5, 'RSUM2_ID', 'RJGL_CHAMP_ID')\n",
    "time.sleep(120)\n",
    "Red_JGL_list6 = champion_mastery(data6, 'RSUM2_ID', 'RJGL_CHAMP_ID')\n",
    "time.sleep(120)\n",
    "Red_JGL_list7 = champion_mastery(data7, 'RSUM2_ID', 'RJGL_CHAMP_ID')\n",
    "time.sleep(120)\n",
    "Red_JGL_list8 = champion_mastery(data8, 'RSUM2_ID', 'RJGL_CHAMP_ID')\n",
    "time.sleep(120)\n",
    "Red_JGL_list9 = champion_mastery(data9, 'RSUM2_ID', 'RJGL_CHAMP_ID')\n",
    "time.sleep(120)\n",
    "Red_JGL_list10 = champion_mastery(data10, 'RSUM2_ID', 'RJGL_CHAMP_ID')\n",
    "time.sleep(120)\n",
    "Red_JGL_list11 = champion_mastery(data11, 'RSUM2_ID', 'RJGL_CHAMP_ID')\n",
    "time.sleep(120)\n",
    "Red_JGL_list12 = champion_mastery(data12, 'RSUM2_ID', 'RJGL_CHAMP_ID')\n",
    "time.sleep(120)\n",
    "Red_JGL_list13 = champion_mastery(data13, 'RSUM2_ID', 'RJGL_CHAMP_ID')\n",
    "time.sleep(120)\n",
    "Red_JGL_list14 = champion_mastery(data14, 'RSUM2_ID', 'RJGL_CHAMP_ID')\n",
    "time.sleep(120)\n",
    "Red_JGL_list15 = champion_mastery(data15, 'RSUM2_ID', 'RJGL_CHAMP_ID')\n",
    "time.sleep(120)\n",
    "Red_JGL_list16 = champion_mastery(data16, 'RSUM2_ID', 'RJGL_CHAMP_ID')\n",
    "time.sleep(120)\n",
    "Red_JGL_list17 = champion_mastery(data17, 'RSUM2_ID', 'RJGL_CHAMP_ID')\n",
    "time.sleep(120)\n",
    "Red_JGL_list18 = champion_mastery(data18, 'RSUM2_ID', 'RJGL_CHAMP_ID')\n",
    "time.sleep(120)\n",
    "Red_JGL_list19 = champion_mastery(data19, 'RSUM2_ID', 'RJGL_CHAMP_ID')\n",
    "time.sleep(120)\n",
    "Red_JGL_list20 = champion_mastery(data20, 'RSUM2_ID', 'RJGL_CHAMP_ID')\n",
    "time.sleep(120)"
   ]
  },
  {
   "cell_type": "code",
   "execution_count": null,
   "metadata": {},
   "outputs": [],
   "source": [
    "Red_JGL_list = Red_JGL_list1 + Red_JGL_list2 + Red_JGL_list3 + Red_JGL_list4 + Red_JGL_list5 + Red_JGL_list6 + Red_JGL_list7 + Red_JGL_list8 + Red_JGL_list9 + Red_JGL_list10 + Red_JGL_list11 + Red_JGL_list12 + Red_JGL_list13 + Red_JGL_list14 + Red_JGL_list15 + Red_JGL_list16 + Red_JGL_list17 + Red_JGL_list18 + Red_JGL_list19 + Red_JGL_list20\n",
    "len(Red_JGL_list)"
   ]
  },
  {
   "cell_type": "markdown",
   "metadata": {},
   "source": [
    "## Red MID"
   ]
  },
  {
   "cell_type": "code",
   "execution_count": 72,
   "metadata": {},
   "outputs": [
    {
     "data": {
      "text/plain": [
       "366"
      ]
     },
     "execution_count": 72,
     "metadata": {},
     "output_type": "execute_result"
    }
   ],
   "source": [
    "Red_MID_list1 = champion_mastery(data1, 'RSUM3_ID', 'RMID_CHAMP_ID')\n",
    "time.sleep(120)\n",
    "Red_MID_list2 = champion_mastery(data2, 'RSUM3_ID', 'RMID_CHAMP_ID')\n",
    "time.sleep(120)\n",
    "Red_MID_list3 = champion_mastery(data3, 'RSUM3_ID', 'RMID_CHAMP_ID')\n",
    "time.sleep(120)\n",
    "Red_MID_list4 = champion_mastery(data4, 'RSUM3_ID', 'RMID_CHAMP_ID')\n",
    "time.sleep(120)\n",
    "Red_MID_list5 = champion_mastery(data5, 'RSUM3_ID', 'RMID_CHAMP_ID')\n",
    "time.sleep(120)\n",
    "Red_MID_list6 = champion_mastery(data6, 'RSUM3_ID', 'RMID_CHAMP_ID')\n",
    "time.sleep(120)\n",
    "Red_MID_list7 = champion_mastery(data7, 'RSUM3_ID', 'RMID_CHAMP_ID')\n",
    "time.sleep(120)\n",
    "Red_MID_list8 = champion_mastery(data8, 'RSUM3_ID', 'RMID_CHAMP_ID')\n",
    "time.sleep(120)\n",
    "Red_MID_list9 = champion_mastery(data9, 'RSUM3_ID', 'RMID_CHAMP_ID')\n",
    "time.sleep(120)\n",
    "Red_MID_list10 = champion_mastery(data10, 'RSUM3_ID', 'RMID_CHAMP_ID')\n",
    "time.sleep(120)\n",
    "Red_MID_list11 = champion_mastery(data11, 'RSUM3_ID', 'RMID_CHAMP_ID')\n",
    "time.sleep(120)\n",
    "Red_MID_list12 = champion_mastery(data12, 'RSUM3_ID', 'RMID_CHAMP_ID')\n",
    "time.sleep(120)\n",
    "Red_MID_list13 = champion_mastery(data13, 'RSUM3_ID', 'RMID_CHAMP_ID')\n",
    "time.sleep(120)\n",
    "Red_MID_list14 = champion_mastery(data14, 'RSUM3_ID', 'RMID_CHAMP_ID')\n",
    "time.sleep(120)\n",
    "Red_MID_list15 = champion_mastery(data15, 'RSUM3_ID', 'RMID_CHAMP_ID')\n",
    "time.sleep(120)\n",
    "Red_MID_list16 = champion_mastery(data16, 'RSUM3_ID', 'RMID_CHAMP_ID')\n",
    "time.sleep(120)\n",
    "Red_MID_list17 = champion_mastery(data17, 'RSUM3_ID', 'RMID_CHAMP_ID')\n",
    "time.sleep(120)\n",
    "Red_MID_list18 = champion_mastery(data18, 'RSUM3_ID', 'RMID_CHAMP_ID')\n",
    "time.sleep(120)\n",
    "Red_MID_list19 = champion_mastery(data19, 'RSUM3_ID', 'RMID_CHAMP_ID')\n",
    "time.sleep(120)\n",
    "Red_MID_list20 = champion_mastery(data20, 'RSUM3_ID', 'RMID_CHAMP_ID')\n",
    "time.sleep(120)"
   ]
  },
  {
   "cell_type": "code",
   "execution_count": null,
   "metadata": {},
   "outputs": [],
   "source": [
    "Red_MID_list = Red_MID_list1 + Red_MID_list2 + Red_MID_list3 + Red_MID_list4 + Red_MID_list5 + Red_MID_list6 + Red_MID_list7 + Red_MID_list8 + Red_MID_list9 + Red_MID_list10 + Red_MID_list11 + Red_MID_list12 + Red_MID_list13 + Red_MID_list14 + Red_MID_list15 + Red_MID_list16 + Red_MID_list17 + Red_MID_list18 + Red_MID_list19 + Red_MID_list20\n",
    "len(Red_MID_list)"
   ]
  },
  {
   "cell_type": "markdown",
   "metadata": {},
   "source": [
    "## Red BOT"
   ]
  },
  {
   "cell_type": "code",
   "execution_count": 74,
   "metadata": {},
   "outputs": [
    {
     "data": {
      "text/plain": [
       "366"
      ]
     },
     "execution_count": 74,
     "metadata": {},
     "output_type": "execute_result"
    }
   ],
   "source": [
    "Red_BOT_list1 = champion_mastery(data1, 'RSUM4_ID', 'RBOT_CHAMP_ID')\n",
    "time.sleep(120)\n",
    "Red_BOT_list2 = champion_mastery(data2, 'RSUM4_ID', 'RBOT_CHAMP_ID')\n",
    "time.sleep(120)\n",
    "Red_BOT_list3 = champion_mastery(data3, 'RSUM4_ID', 'RBOT_CHAMP_ID')\n",
    "time.sleep(120)\n",
    "Red_BOT_list4 = champion_mastery(data4, 'RSUM4_ID', 'RBOT_CHAMP_ID')\n",
    "time.sleep(120)\n",
    "Red_BOT_list5 = champion_mastery(data5, 'RSUM4_ID', 'RBOT_CHAMP_ID')\n",
    "time.sleep(120)\n",
    "Red_BOT_list6 = champion_mastery(data6, 'RSUM4_ID', 'RBOT_CHAMP_ID')\n",
    "time.sleep(120)\n",
    "Red_BOT_list7 = champion_mastery(data7, 'RSUM4_ID', 'RBOT_CHAMP_ID')\n",
    "time.sleep(120)\n",
    "Red_BOT_list8 = champion_mastery(data8, 'RSUM4_ID', 'RBOT_CHAMP_ID')\n",
    "time.sleep(120)\n",
    "Red_BOT_list9 = champion_mastery(data9, 'RSUM4_ID', 'RBOT_CHAMP_ID')\n",
    "time.sleep(120)\n",
    "Red_BOT_list10 = champion_mastery(data10, 'RSUM4_ID', 'RBOT_CHAMP_ID')\n",
    "time.sleep(120)\n",
    "Red_BOT_list11 = champion_mastery(data11, 'RSUM4_ID', 'RBOT_CHAMP_ID')\n",
    "time.sleep(120)\n",
    "Red_BOT_list12 = champion_mastery(data12, 'RSUM4_ID', 'RBOT_CHAMP_ID')\n",
    "time.sleep(120)\n",
    "Red_BOT_list13 = champion_mastery(data13, 'RSUM4_ID', 'RBOT_CHAMP_ID')\n",
    "time.sleep(120)\n",
    "Red_BOT_list14 = champion_mastery(data14, 'RSUM4_ID', 'RBOT_CHAMP_ID')\n",
    "time.sleep(120)\n",
    "Red_BOT_list15 = champion_mastery(data15, 'RSUM4_ID', 'RBOT_CHAMP_ID')\n",
    "time.sleep(120)\n",
    "Red_BOT_list16 = champion_mastery(data16, 'RSUM4_ID', 'RBOT_CHAMP_ID')\n",
    "time.sleep(120)\n",
    "Red_BOT_list17 = champion_mastery(data17, 'RSUM4_ID', 'RBOT_CHAMP_ID')\n",
    "time.sleep(120)\n",
    "Red_BOT_list18 = champion_mastery(data18, 'RSUM4_ID', 'RBOT_CHAMP_ID')\n",
    "time.sleep(120)\n",
    "Red_BOT_list19 = champion_mastery(data19, 'RSUM4_ID', 'RBOT_CHAMP_ID')\n",
    "time.sleep(120)\n",
    "Red_BOT_list20 = champion_mastery(data20, 'RSUM4_ID', 'RBOT_CHAMP_ID')\n",
    "time.sleep(120)"
   ]
  },
  {
   "cell_type": "code",
   "execution_count": null,
   "metadata": {},
   "outputs": [],
   "source": [
    "Red_BOT_list = Red_BOT_list1 + Red_BOT_list2 + Red_BOT_list3 + Red_BOT_list4 + Red_BOT_list5 + Red_BOT_list6 + Red_BOT_list7 + Red_BOT_list8 + Red_BOT_list9 + Red_BOT_list10 + Red_BOT_list11 + Red_BOT_list12 + Red_BOT_list13 + Red_BOT_list14 + Red_BOT_list15 + Red_BOT_list16 + Red_BOT_list17 + Red_BOT_list18 + Red_BOT_list19 + Red_BOT_list20\n",
    "len(Red_BOT_list)"
   ]
  },
  {
   "cell_type": "markdown",
   "metadata": {},
   "source": [
    "## Red SUP"
   ]
  },
  {
   "cell_type": "code",
   "execution_count": 76,
   "metadata": {},
   "outputs": [
    {
     "data": {
      "text/plain": [
       "366"
      ]
     },
     "execution_count": 76,
     "metadata": {},
     "output_type": "execute_result"
    }
   ],
   "source": [
    "Red_SUP_list1 = champion_mastery(data1, 'RSUM5_ID', 'RSUP_CHAMP_ID')\n",
    "time.sleep(120)\n",
    "Red_SUP_list2 = champion_mastery(data2, 'RSUM5_ID', 'RSUP_CHAMP_ID')\n",
    "time.sleep(120)\n",
    "Red_SUP_list3 = champion_mastery(data3, 'RSUM5_ID', 'RSUP_CHAMP_ID')\n",
    "time.sleep(120)\n",
    "Red_SUP_list4 = champion_mastery(data4, 'RSUM5_ID', 'RSUP_CHAMP_ID')\n",
    "time.sleep(120)\n",
    "Red_SUP_list5 = champion_mastery(data5, 'RSUM5_ID', 'RSUP_CHAMP_ID')\n",
    "time.sleep(120)\n",
    "Red_SUP_list6 = champion_mastery(data6, 'RSUM5_ID', 'RSUP_CHAMP_ID')\n",
    "time.sleep(120)\n",
    "Red_SUP_list7 = champion_mastery(data7, 'RSUM5_ID', 'RSUP_CHAMP_ID')\n",
    "time.sleep(120)\n",
    "Red_SUP_list8 = champion_mastery(data8, 'RSUM5_ID', 'RSUP_CHAMP_ID')\n",
    "time.sleep(120)\n",
    "Red_SUP_list9 = champion_mastery(data9, 'RSUM5_ID', 'RSUP_CHAMP_ID')\n",
    "time.sleep(120)\n",
    "Red_SUP_list10 = champion_mastery(data10, 'RSUM5_ID', 'RSUP_CHAMP_ID')\n",
    "time.sleep(120)\n",
    "Red_SUP_list11 = champion_mastery(data11, 'RSUM5_ID', 'RSUP_CHAMP_ID')\n",
    "time.sleep(120)\n",
    "Red_SUP_list12 = champion_mastery(data12, 'RSUM5_ID', 'RSUP_CHAMP_ID')\n",
    "time.sleep(120)\n",
    "Red_SUP_list13 = champion_mastery(data13, 'RSUM5_ID', 'RSUP_CHAMP_ID')\n",
    "time.sleep(120)\n",
    "Red_SUP_list14 = champion_mastery(data14, 'RSUM5_ID', 'RSUP_CHAMP_ID')\n",
    "time.sleep(120)\n",
    "Red_SUP_list15 = champion_mastery(data15, 'RSUM5_ID', 'RSUP_CHAMP_ID')\n",
    "time.sleep(120)\n",
    "Red_SUP_list16 = champion_mastery(data16, 'RSUM5_ID', 'RSUP_CHAMP_ID')\n",
    "time.sleep(120)\n",
    "Red_SUP_list17 = champion_mastery(data17, 'RSUM5_ID', 'RSUP_CHAMP_ID')\n",
    "time.sleep(120)\n",
    "Red_SUP_list18 = champion_mastery(data18, 'RSUM5_ID', 'RSUP_CHAMP_ID')\n",
    "time.sleep(120)\n",
    "Red_SUP_list19 = champion_mastery(data19, 'RSUM5_ID', 'RSUP_CHAMP_ID')\n",
    "time.sleep(120)\n",
    "Red_SUP_list20 = champion_mastery(data20, 'RSUM5_ID', 'RSUP_CHAMP_ID')\n",
    "time.sleep(120)"
   ]
  },
  {
   "cell_type": "code",
   "execution_count": null,
   "metadata": {},
   "outputs": [],
   "source": [
    "Red_SUP_list = Red_SUP_list1 + Red_SUP_list2 + Red_SUP_list3 + Red_SUP_list4 + Red_SUP_list5 + Red_SUP_list6 + Red_SUP_list7 + Red_SUP_list8 + Red_SUP_list9 + Red_SUP_list10 + Red_SUP_list11 + Red_SUP_list12 + Red_SUP_list13 + Red_SUP_list14 + Red_SUP_list15 + Red_SUP_list16 + Red_SUP_list17 + Red_SUP_list18 + Red_SUP_list19 + Red_SUP_list20\n",
    "len(Red_SUP_list)"
   ]
  },
  {
   "cell_type": "markdown",
   "metadata": {},
   "source": [
    "## Champion Mastery Dataset"
   ]
  },
  {
   "cell_type": "code",
   "execution_count": 78,
   "metadata": {},
   "outputs": [
    {
     "data": {
      "text/html": [
       "<div>\n",
       "<style scoped>\n",
       "    .dataframe tbody tr th:only-of-type {\n",
       "        vertical-align: middle;\n",
       "    }\n",
       "\n",
       "    .dataframe tbody tr th {\n",
       "        vertical-align: top;\n",
       "    }\n",
       "\n",
       "    .dataframe thead th {\n",
       "        text-align: right;\n",
       "    }\n",
       "</style>\n",
       "<table border=\"1\" class=\"dataframe\">\n",
       "  <thead>\n",
       "    <tr style=\"text-align: right;\">\n",
       "      <th></th>\n",
       "      <th>BTOP_CHAMP_MAST</th>\n",
       "      <th>BJGL_CHAMP_MAST</th>\n",
       "      <th>BMID_CHAMP_MAST</th>\n",
       "      <th>BBOT_CHAMP_MAST</th>\n",
       "      <th>BSUP_CHAMP_MAST</th>\n",
       "      <th>RTOP_CHAMP_MAST</th>\n",
       "      <th>RJGL_CHAMP_MAST</th>\n",
       "      <th>RMID_CHAMP_MAST</th>\n",
       "      <th>RBOT_CHAMP_MAST</th>\n",
       "      <th>RSUP_CHAMP_MAST</th>\n",
       "    </tr>\n",
       "  </thead>\n",
       "  <tbody>\n",
       "    <tr>\n",
       "      <th>0</th>\n",
       "      <td>46397</td>\n",
       "      <td>387356</td>\n",
       "      <td>135748</td>\n",
       "      <td>102169</td>\n",
       "      <td>266708</td>\n",
       "      <td>707714</td>\n",
       "      <td>43375</td>\n",
       "      <td>16727</td>\n",
       "      <td>134518</td>\n",
       "      <td>919414</td>\n",
       "    </tr>\n",
       "    <tr>\n",
       "      <th>1</th>\n",
       "      <td>1161674</td>\n",
       "      <td>35904</td>\n",
       "      <td>654979</td>\n",
       "      <td>3998</td>\n",
       "      <td>247984</td>\n",
       "      <td>551271</td>\n",
       "      <td>48145</td>\n",
       "      <td>735792</td>\n",
       "      <td>102169</td>\n",
       "      <td>67304</td>\n",
       "    </tr>\n",
       "    <tr>\n",
       "      <th>2</th>\n",
       "      <td>156915</td>\n",
       "      <td>48145</td>\n",
       "      <td>111733</td>\n",
       "      <td>177752</td>\n",
       "      <td>46577</td>\n",
       "      <td>27298</td>\n",
       "      <td>285117</td>\n",
       "      <td>5336</td>\n",
       "      <td>136596</td>\n",
       "      <td>654979</td>\n",
       "    </tr>\n",
       "    <tr>\n",
       "      <th>3</th>\n",
       "      <td>82980</td>\n",
       "      <td>43375</td>\n",
       "      <td>315491</td>\n",
       "      <td>167949</td>\n",
       "      <td>41931</td>\n",
       "      <td>10929</td>\n",
       "      <td>12813</td>\n",
       "      <td>919414</td>\n",
       "      <td>105808</td>\n",
       "      <td>48602</td>\n",
       "    </tr>\n",
       "    <tr>\n",
       "      <th>4</th>\n",
       "      <td>462466</td>\n",
       "      <td>43375</td>\n",
       "      <td>40043</td>\n",
       "      <td>758251</td>\n",
       "      <td>240933</td>\n",
       "      <td>654979</td>\n",
       "      <td>2669483</td>\n",
       "      <td>62243</td>\n",
       "      <td>39954</td>\n",
       "      <td>397205</td>\n",
       "    </tr>\n",
       "  </tbody>\n",
       "</table>\n",
       "</div>"
      ],
      "text/plain": [
       "   BTOP_CHAMP_MAST  BJGL_CHAMP_MAST  BMID_CHAMP_MAST  BBOT_CHAMP_MAST  \\\n",
       "0            46397           387356           135748           102169   \n",
       "1          1161674            35904           654979             3998   \n",
       "2           156915            48145           111733           177752   \n",
       "3            82980            43375           315491           167949   \n",
       "4           462466            43375            40043           758251   \n",
       "\n",
       "   BSUP_CHAMP_MAST  RTOP_CHAMP_MAST  RJGL_CHAMP_MAST  RMID_CHAMP_MAST  \\\n",
       "0           266708           707714            43375            16727   \n",
       "1           247984           551271            48145           735792   \n",
       "2            46577            27298           285117             5336   \n",
       "3            41931            10929            12813           919414   \n",
       "4           240933           654979          2669483            62243   \n",
       "\n",
       "   RBOT_CHAMP_MAST  RSUP_CHAMP_MAST  \n",
       "0           134518           919414  \n",
       "1           102169            67304  \n",
       "2           136596           654979  \n",
       "3           105808            48602  \n",
       "4            39954           397205  "
      ]
     },
     "execution_count": 78,
     "metadata": {},
     "output_type": "execute_result"
    }
   ],
   "source": [
    "mastery = pd.DataFrame()\n",
    "mastery['BTOP_CHAMP_MAST'] = Blue_TOP_list\n",
    "mastery['BJGL_CHAMP_MAST'] = Blue_JGL_list\n",
    "mastery['BMID_CHAMP_MAST'] = Blue_MID_list\n",
    "mastery['BBOT_CHAMP_MAST'] = Blue_BOT_list\n",
    "mastery['BSUP_CHAMP_MAST'] = Blue_SUP_list\n",
    "mastery['RTOP_CHAMP_MAST'] = Red_TOP_list\n",
    "mastery['RJGL_CHAMP_MAST'] = Red_JGL_list\n",
    "mastery['RMID_CHAMP_MAST'] = Red_MID_list\n",
    "mastery['RBOT_CHAMP_MAST'] = Red_BOT_list\n",
    "mastery['RSUP_CHAMP_MAST'] = Red_SUP_list\n",
    "mastery.head()"
   ]
  },
  {
   "cell_type": "code",
   "execution_count": 82,
   "metadata": {},
   "outputs": [
    {
     "data": {
      "text/plain": [
       "BTOP_CHAMP_MAST    False\n",
       "BJGL_CHAMP_MAST    False\n",
       "BMID_CHAMP_MAST    False\n",
       "BBOT_CHAMP_MAST    False\n",
       "BSUP_CHAMP_MAST    False\n",
       "RTOP_CHAMP_MAST    False\n",
       "RJGL_CHAMP_MAST    False\n",
       "RMID_CHAMP_MAST    False\n",
       "RBOT_CHAMP_MAST    False\n",
       "RSUP_CHAMP_MAST    False\n",
       "dtype: bool"
      ]
     },
     "execution_count": 82,
     "metadata": {},
     "output_type": "execute_result"
    }
   ],
   "source": [
    "mastery.isin([\"error\"]).any()"
   ]
  },
  {
   "cell_type": "code",
   "execution_count": null,
   "metadata": {},
   "outputs": [],
   "source": [
    "mastery.to_csv('EU_mastery_366.csv', index=False)"
   ]
  },
  {
   "cell_type": "code",
   "execution_count": null,
   "metadata": {},
   "outputs": [],
   "source": []
  }
 ],
 "metadata": {
  "interpreter": {
   "hash": "39512f3c2a1741d7f752d45a133d4514127029333ea14bc2f3c6c5e6759b9029"
  },
  "kernelspec": {
   "display_name": "Python 3.8.13 ('base_env')",
   "language": "python",
   "name": "python3"
  },
  "language_info": {
   "codemirror_mode": {
    "name": "ipython",
    "version": 3
   },
   "file_extension": ".py",
   "mimetype": "text/x-python",
   "name": "python",
   "nbconvert_exporter": "python",
   "pygments_lexer": "ipython3",
   "version": "3.8.13"
  },
  "orig_nbformat": 4
 },
 "nbformat": 4,
 "nbformat_minor": 2
}
