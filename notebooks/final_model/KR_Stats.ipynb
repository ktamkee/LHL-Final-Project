{
 "cells": [
  {
   "cell_type": "markdown",
   "metadata": {},
   "source": [
    "# Win Loss Ratio and League Points - Europe"
   ]
  },
  {
   "cell_type": "code",
   "execution_count": 13,
   "metadata": {},
   "outputs": [],
   "source": [
    "import numpy as np\n",
    "import pandas as pd\n",
    "import requests as re\n",
    "import time"
   ]
  },
  {
   "cell_type": "code",
   "execution_count": 14,
   "metadata": {},
   "outputs": [],
   "source": [
    "headers = {\n",
    "    \"User-Agent\": \"Mozilla/5.0 (Macintosh; Intel Mac OS X 10_15_7) AppleWebKit/537.36 (KHTML, like Gecko) Chrome/104.0.5112.81 Safari/537.36 Edg/104.0.1293.47\",\n",
    "    \"Accept-Language\": \"en-CA,en-US;q=0.9,en;q=0.8\",\n",
    "    \"Accept-Charset\": \"application/x-www-form-urlencoded; charset=UTF-8\",\n",
    "    \"Origin\": \"https://developer.riotgames.com\",\n",
    "    \"X-Riot-Token\": \"RGAPI-59d23d98-22f7-47b2-be13-5851816103a6\"\n",
    "}"
   ]
  },
  {
   "cell_type": "code",
   "execution_count": 15,
   "metadata": {},
   "outputs": [
    {
     "name": "stdout",
     "output_type": "stream",
     "text": [
      "(358, 51)\n"
     ]
    },
    {
     "data": {
      "text/html": [
       "<div>\n",
       "<style scoped>\n",
       "    .dataframe tbody tr th:only-of-type {\n",
       "        vertical-align: middle;\n",
       "    }\n",
       "\n",
       "    .dataframe tbody tr th {\n",
       "        vertical-align: top;\n",
       "    }\n",
       "\n",
       "    .dataframe thead th {\n",
       "        text-align: right;\n",
       "    }\n",
       "</style>\n",
       "<table border=\"1\" class=\"dataframe\">\n",
       "  <thead>\n",
       "    <tr style=\"text-align: right;\">\n",
       "      <th></th>\n",
       "      <th>SERVER</th>\n",
       "      <th>MATCH_ID</th>\n",
       "      <th>BSUM1_ID</th>\n",
       "      <th>BTOP_CHAMP_ID</th>\n",
       "      <th>BSUM2_ID</th>\n",
       "      <th>BJGL_CHAMP_ID</th>\n",
       "      <th>BSUM3_ID</th>\n",
       "      <th>BMID_CHAMP_ID</th>\n",
       "      <th>BSUM4_ID</th>\n",
       "      <th>BBOT_CHAMP_ID</th>\n",
       "      <th>...</th>\n",
       "      <th>FIRST_TOWER</th>\n",
       "      <th>BTOWER_KILLS</th>\n",
       "      <th>RTOWER_KILLS</th>\n",
       "      <th>FIRST_BARON</th>\n",
       "      <th>BBARON_KILLS</th>\n",
       "      <th>RBARON_KILLS</th>\n",
       "      <th>FIRST_INHIB</th>\n",
       "      <th>BINHIB_KILLS</th>\n",
       "      <th>RINHIB_KILLS</th>\n",
       "      <th>WINNER</th>\n",
       "    </tr>\n",
       "  </thead>\n",
       "  <tbody>\n",
       "    <tr>\n",
       "      <th>0</th>\n",
       "      <td>KOREA</td>\n",
       "      <td>KR_6057844675</td>\n",
       "      <td>sbDHeqqUvLDhNA3yYnS3t93fG4d9doqldZjOkb3rwrybN_...</td>\n",
       "      <td>59</td>\n",
       "      <td>3PV_W4RY09TzgEQfBZNdSlsHFwxjwbjzIwXsawLuoSVYyp...</td>\n",
       "      <td>60</td>\n",
       "      <td>C8JeB0UVt7XBWdBC1EsTOMUecwXQ7M2s3aT8BiB6GCyoE4E</td>\n",
       "      <td>777</td>\n",
       "      <td>agy7tVJmthI4QFrgcC_GjBbhdd0juuBeCIIRwH-sS0AM1ek</td>\n",
       "      <td>157</td>\n",
       "      <td>...</td>\n",
       "      <td>RED</td>\n",
       "      <td>1</td>\n",
       "      <td>10</td>\n",
       "      <td>RED</td>\n",
       "      <td>0</td>\n",
       "      <td>1</td>\n",
       "      <td>RED</td>\n",
       "      <td>0</td>\n",
       "      <td>1</td>\n",
       "      <td>RED</td>\n",
       "    </tr>\n",
       "    <tr>\n",
       "      <th>1</th>\n",
       "      <td>KOREA</td>\n",
       "      <td>KR_6055710166</td>\n",
       "      <td>TOvKujDuw_rTCUebjSXidH8OJf_IoReR-YNkEDRhF-xCoOA</td>\n",
       "      <td>266</td>\n",
       "      <td>8K1yx07pCws-gzQxIzqyuoyVtEGbaUk35YQDtbEyoFgIA2Y</td>\n",
       "      <td>234</td>\n",
       "      <td>cTfhhY3u5vrB4LTFhUaJgVggwi1IKy14mnQRaL4lYT-SBQ</td>\n",
       "      <td>103</td>\n",
       "      <td>neTBID6mtg2VghrIdOtPVxRrBRJ4elf07mPURSA9hfz9bPc</td>\n",
       "      <td>15</td>\n",
       "      <td>...</td>\n",
       "      <td>BLUE</td>\n",
       "      <td>5</td>\n",
       "      <td>0</td>\n",
       "      <td>NONE</td>\n",
       "      <td>0</td>\n",
       "      <td>0</td>\n",
       "      <td>NONE</td>\n",
       "      <td>0</td>\n",
       "      <td>0</td>\n",
       "      <td>BLUE</td>\n",
       "    </tr>\n",
       "    <tr>\n",
       "      <th>2</th>\n",
       "      <td>KOREA</td>\n",
       "      <td>KR_6055326646</td>\n",
       "      <td>vw7N9YLAgtt3OEuzBHDzq7gQjIcdhK-crpvGNdbm7co2dck</td>\n",
       "      <td>29</td>\n",
       "      <td>EV23s0Fe5ptC8cyk1148besP5YnAtguSS9golPxZRwvwEyo</td>\n",
       "      <td>62</td>\n",
       "      <td>5C7Ab5bDdvKhppo5D5JoCiGkuW98oNYJLrjZPfo5cqpG20M</td>\n",
       "      <td>888</td>\n",
       "      <td>aFwzyFYDcqUvZje-bKywj8NPVlMxGj-MfCahYynTXvYVysQ</td>\n",
       "      <td>887</td>\n",
       "      <td>...</td>\n",
       "      <td>BLUE</td>\n",
       "      <td>5</td>\n",
       "      <td>0</td>\n",
       "      <td>NONE</td>\n",
       "      <td>0</td>\n",
       "      <td>0</td>\n",
       "      <td>NONE</td>\n",
       "      <td>0</td>\n",
       "      <td>0</td>\n",
       "      <td>BLUE</td>\n",
       "    </tr>\n",
       "    <tr>\n",
       "      <th>3</th>\n",
       "      <td>KOREA</td>\n",
       "      <td>KR_6053723720</td>\n",
       "      <td>5A4WJpFsCzkRoVDHzNAVO6bre5LRlLSlu5bDjX2oBOs9qKE</td>\n",
       "      <td>113</td>\n",
       "      <td>MDqGtPmXx3f2LMeKFTuWuI53bD4usXQCxyua869BLnh8Wx...</td>\n",
       "      <td>80</td>\n",
       "      <td>KgSuGOGxEJikfizSiVtI5v9QcqtN2aPrEmWAyP3Rj9bkuB0</td>\n",
       "      <td>711</td>\n",
       "      <td>T9cTTfK038tIME3U2xPWTaO4Vl20PhEfKnp9JQSobN8OCrk</td>\n",
       "      <td>523</td>\n",
       "      <td>...</td>\n",
       "      <td>RED</td>\n",
       "      <td>6</td>\n",
       "      <td>10</td>\n",
       "      <td>BLUE</td>\n",
       "      <td>1</td>\n",
       "      <td>0</td>\n",
       "      <td>RED</td>\n",
       "      <td>1</td>\n",
       "      <td>2</td>\n",
       "      <td>RED</td>\n",
       "    </tr>\n",
       "    <tr>\n",
       "      <th>4</th>\n",
       "      <td>KOREA</td>\n",
       "      <td>KR_6053619349</td>\n",
       "      <td>q3wZkwddVzV3gqDEZuE7l65m8U0j40aFprEdroCXXRyFXi0</td>\n",
       "      <td>14</td>\n",
       "      <td>Tx5p5q4af3CF8ckXbeZCZk4-RD8WepIX3KU1NzF5BS5swQ...</td>\n",
       "      <td>64</td>\n",
       "      <td>FR8ABgAmWaIHci98kpniqL3iddOz_W2zUv3gfV_GjpT74vGk</td>\n",
       "      <td>711</td>\n",
       "      <td>lhTGXwclX7jr-nYbvC1dwC4LaHBJhddgLzqhzO-GeMu62T...</td>\n",
       "      <td>221</td>\n",
       "      <td>...</td>\n",
       "      <td>BLUE</td>\n",
       "      <td>8</td>\n",
       "      <td>3</td>\n",
       "      <td>BLUE</td>\n",
       "      <td>1</td>\n",
       "      <td>0</td>\n",
       "      <td>BLUE</td>\n",
       "      <td>1</td>\n",
       "      <td>0</td>\n",
       "      <td>BLUE</td>\n",
       "    </tr>\n",
       "  </tbody>\n",
       "</table>\n",
       "<p>5 rows × 51 columns</p>\n",
       "</div>"
      ],
      "text/plain": [
       "  SERVER       MATCH_ID                                           BSUM1_ID  \\\n",
       "0  KOREA  KR_6057844675  sbDHeqqUvLDhNA3yYnS3t93fG4d9doqldZjOkb3rwrybN_...   \n",
       "1  KOREA  KR_6055710166    TOvKujDuw_rTCUebjSXidH8OJf_IoReR-YNkEDRhF-xCoOA   \n",
       "2  KOREA  KR_6055326646    vw7N9YLAgtt3OEuzBHDzq7gQjIcdhK-crpvGNdbm7co2dck   \n",
       "3  KOREA  KR_6053723720    5A4WJpFsCzkRoVDHzNAVO6bre5LRlLSlu5bDjX2oBOs9qKE   \n",
       "4  KOREA  KR_6053619349    q3wZkwddVzV3gqDEZuE7l65m8U0j40aFprEdroCXXRyFXi0   \n",
       "\n",
       "   BTOP_CHAMP_ID                                           BSUM2_ID  \\\n",
       "0             59  3PV_W4RY09TzgEQfBZNdSlsHFwxjwbjzIwXsawLuoSVYyp...   \n",
       "1            266    8K1yx07pCws-gzQxIzqyuoyVtEGbaUk35YQDtbEyoFgIA2Y   \n",
       "2             29    EV23s0Fe5ptC8cyk1148besP5YnAtguSS9golPxZRwvwEyo   \n",
       "3            113  MDqGtPmXx3f2LMeKFTuWuI53bD4usXQCxyua869BLnh8Wx...   \n",
       "4             14  Tx5p5q4af3CF8ckXbeZCZk4-RD8WepIX3KU1NzF5BS5swQ...   \n",
       "\n",
       "   BJGL_CHAMP_ID                                          BSUM3_ID  \\\n",
       "0             60   C8JeB0UVt7XBWdBC1EsTOMUecwXQ7M2s3aT8BiB6GCyoE4E   \n",
       "1            234    cTfhhY3u5vrB4LTFhUaJgVggwi1IKy14mnQRaL4lYT-SBQ   \n",
       "2             62   5C7Ab5bDdvKhppo5D5JoCiGkuW98oNYJLrjZPfo5cqpG20M   \n",
       "3             80   KgSuGOGxEJikfizSiVtI5v9QcqtN2aPrEmWAyP3Rj9bkuB0   \n",
       "4             64  FR8ABgAmWaIHci98kpniqL3iddOz_W2zUv3gfV_GjpT74vGk   \n",
       "\n",
       "   BMID_CHAMP_ID                                           BSUM4_ID  \\\n",
       "0            777    agy7tVJmthI4QFrgcC_GjBbhdd0juuBeCIIRwH-sS0AM1ek   \n",
       "1            103    neTBID6mtg2VghrIdOtPVxRrBRJ4elf07mPURSA9hfz9bPc   \n",
       "2            888    aFwzyFYDcqUvZje-bKywj8NPVlMxGj-MfCahYynTXvYVysQ   \n",
       "3            711    T9cTTfK038tIME3U2xPWTaO4Vl20PhEfKnp9JQSobN8OCrk   \n",
       "4            711  lhTGXwclX7jr-nYbvC1dwC4LaHBJhddgLzqhzO-GeMu62T...   \n",
       "\n",
       "   BBOT_CHAMP_ID  ... FIRST_TOWER  BTOWER_KILLS  RTOWER_KILLS  FIRST_BARON  \\\n",
       "0            157  ...         RED             1            10          RED   \n",
       "1             15  ...        BLUE             5             0         NONE   \n",
       "2            887  ...        BLUE             5             0         NONE   \n",
       "3            523  ...         RED             6            10         BLUE   \n",
       "4            221  ...        BLUE             8             3         BLUE   \n",
       "\n",
       "   BBARON_KILLS  RBARON_KILLS  FIRST_INHIB BINHIB_KILLS  RINHIB_KILLS WINNER  \n",
       "0             0             1          RED            0             1    RED  \n",
       "1             0             0         NONE            0             0   BLUE  \n",
       "2             0             0         NONE            0             0   BLUE  \n",
       "3             1             0          RED            1             2    RED  \n",
       "4             1             0         BLUE            1             0   BLUE  \n",
       "\n",
       "[5 rows x 51 columns]"
      ]
     },
     "execution_count": 15,
     "metadata": {},
     "output_type": "execute_result"
    }
   ],
   "source": [
    "KR = pd.read_csv('../../data/first_model/raw/KR_all_data_358.csv')\n",
    "print(KR.shape)\n",
    "KR.head()"
   ]
  },
  {
   "cell_type": "code",
   "execution_count": 16,
   "metadata": {},
   "outputs": [],
   "source": [
    "KR1 = KR[:100]\n",
    "KR2 = KR[100:200]\n",
    "KR3 = KR[200:300]\n",
    "KR4 = KR[300:]"
   ]
  },
  {
   "cell_type": "code",
   "execution_count": 17,
   "metadata": {},
   "outputs": [],
   "source": [
    "'''\n",
    "This function uses the champion mastery api to get the champion mastery for a specific champion and summoner.\n",
    "\n",
    "Region can be: euw1, na1, kr\n",
    "\n",
    "Summoner input can be:\n",
    "-  BSUM1 - BSUM5\n",
    "-  RSUM1 - RSUM5\n",
    "\n",
    "SummonerID input can be:\n",
    "-  BSUM1_ID - BSUM5_ID\n",
    "-  RSUM1_ID - RSUM5_ID\n",
    "'''\n",
    "\n",
    "def summoner_stats(df, server, summoner, summonerID):\n",
    "\n",
    "    stats_df = pd.DataFrame()\n",
    "    wins_column = summoner + '_WINS'\n",
    "    losses_column = summoner + '_LOSSES'\n",
    "    league_points_column = summoner + '_LEAGUE_POINTS'\n",
    "\n",
    "    wins_list = []\n",
    "    losses_list = []\n",
    "    league_points_list = []\n",
    "\n",
    "    for i in range(len(df)):\n",
    "        summoner_id = df.iloc[i][summonerID]\n",
    "        try: \n",
    "            url = 'https://'+ server + '.api.riotgames.com/lol/league/v4/entries/by-summoner/' + summoner_id\n",
    "            res = re.get(url, headers=headers).json()\n",
    "\n",
    "            wins = res[0]['wins']\n",
    "            wins_list.append(wins)\n",
    "\n",
    "            losses = res[0]['losses']\n",
    "            losses_list.append(losses)\n",
    "\n",
    "            leaguePoints = res[0]['leaguePoints']\n",
    "            league_points_list.append(leaguePoints)\n",
    "        \n",
    "        except:\n",
    "            wins_list.append(np.nan)\n",
    "            losses_list.append(np.nan)\n",
    "            league_points_list.append(np.nan)\n",
    "            pass\n",
    "\n",
    "    stats_df[wins_column] = wins_list\n",
    "    stats_df[losses_column] = losses_list\n",
    "    stats_df[league_points_column] = league_points_list\n",
    "        \n",
    "\n",
    "    return stats_df"
   ]
  },
  {
   "cell_type": "markdown",
   "metadata": {},
   "source": [
    "## Blue Team"
   ]
  },
  {
   "cell_type": "markdown",
   "metadata": {},
   "source": [
    "### SUMMONER 1 - TOP"
   ]
  },
  {
   "cell_type": "code",
   "execution_count": 18,
   "metadata": {},
   "outputs": [
    {
     "name": "stdout",
     "output_type": "stream",
     "text": [
      "(358, 3)\n"
     ]
    },
    {
     "data": {
      "text/html": [
       "<div>\n",
       "<style scoped>\n",
       "    .dataframe tbody tr th:only-of-type {\n",
       "        vertical-align: middle;\n",
       "    }\n",
       "\n",
       "    .dataframe tbody tr th {\n",
       "        vertical-align: top;\n",
       "    }\n",
       "\n",
       "    .dataframe thead th {\n",
       "        text-align: right;\n",
       "    }\n",
       "</style>\n",
       "<table border=\"1\" class=\"dataframe\">\n",
       "  <thead>\n",
       "    <tr style=\"text-align: right;\">\n",
       "      <th></th>\n",
       "      <th>BTOP_WINS</th>\n",
       "      <th>BTOP_LOSSES</th>\n",
       "      <th>BTOP_LEAGUE_POINTS</th>\n",
       "    </tr>\n",
       "  </thead>\n",
       "  <tbody>\n",
       "    <tr>\n",
       "      <th>0</th>\n",
       "      <td>743</td>\n",
       "      <td>641</td>\n",
       "      <td>1464</td>\n",
       "    </tr>\n",
       "    <tr>\n",
       "      <th>1</th>\n",
       "      <td>751</td>\n",
       "      <td>697</td>\n",
       "      <td>773</td>\n",
       "    </tr>\n",
       "    <tr>\n",
       "      <th>2</th>\n",
       "      <td>455</td>\n",
       "      <td>405</td>\n",
       "      <td>1016</td>\n",
       "    </tr>\n",
       "    <tr>\n",
       "      <th>3</th>\n",
       "      <td>200</td>\n",
       "      <td>135</td>\n",
       "      <td>1154</td>\n",
       "    </tr>\n",
       "    <tr>\n",
       "      <th>4</th>\n",
       "      <td>668</td>\n",
       "      <td>606</td>\n",
       "      <td>1166</td>\n",
       "    </tr>\n",
       "  </tbody>\n",
       "</table>\n",
       "</div>"
      ],
      "text/plain": [
       "   BTOP_WINS  BTOP_LOSSES  BTOP_LEAGUE_POINTS\n",
       "0        743          641                1464\n",
       "1        751          697                 773\n",
       "2        455          405                1016\n",
       "3        200          135                1154\n",
       "4        668          606                1166"
      ]
     },
     "execution_count": 18,
     "metadata": {},
     "output_type": "execute_result"
    }
   ],
   "source": [
    "BTOP1 = summoner_stats(KR1, 'kr', 'BTOP', 'BSUM1_ID')\n",
    "time.sleep(120)\n",
    "BTOP2 = summoner_stats(KR2, 'kr', 'BTOP', 'BSUM1_ID')\n",
    "time.sleep(120)\n",
    "BTOP3 = summoner_stats(KR3, 'kr', 'BTOP', 'BSUM1_ID')\n",
    "time.sleep(120)\n",
    "BTOP4 = summoner_stats(KR4, 'kr', 'BTOP', 'BSUM1_ID')\n",
    "time.sleep(120)\n",
    "BTOP_stats = pd.concat([BTOP1, BTOP2, BTOP3, BTOP4], axis=0)\n",
    "print(BTOP_stats.shape)\n",
    "BTOP_stats.head()"
   ]
  },
  {
   "cell_type": "code",
   "execution_count": 45,
   "metadata": {},
   "outputs": [
    {
     "data": {
      "text/plain": [
       "BTOP_WINS             False\n",
       "BTOP_LOSSES           False\n",
       "BTOP_LEAGUE_POINTS    False\n",
       "dtype: bool"
      ]
     },
     "execution_count": 45,
     "metadata": {},
     "output_type": "execute_result"
    }
   ],
   "source": [
    "BTOP_stats.isna().any()"
   ]
  },
  {
   "cell_type": "markdown",
   "metadata": {},
   "source": [
    "### SUMMONER 2 - JGL"
   ]
  },
  {
   "cell_type": "code",
   "execution_count": 20,
   "metadata": {},
   "outputs": [
    {
     "name": "stdout",
     "output_type": "stream",
     "text": [
      "(358, 3)\n"
     ]
    },
    {
     "data": {
      "text/html": [
       "<div>\n",
       "<style scoped>\n",
       "    .dataframe tbody tr th:only-of-type {\n",
       "        vertical-align: middle;\n",
       "    }\n",
       "\n",
       "    .dataframe tbody tr th {\n",
       "        vertical-align: top;\n",
       "    }\n",
       "\n",
       "    .dataframe thead th {\n",
       "        text-align: right;\n",
       "    }\n",
       "</style>\n",
       "<table border=\"1\" class=\"dataframe\">\n",
       "  <thead>\n",
       "    <tr style=\"text-align: right;\">\n",
       "      <th></th>\n",
       "      <th>BJGL_WINS</th>\n",
       "      <th>BJGL_LOSSES</th>\n",
       "      <th>BJGL_LEAGUE_POINTS</th>\n",
       "    </tr>\n",
       "  </thead>\n",
       "  <tbody>\n",
       "    <tr>\n",
       "      <th>0</th>\n",
       "      <td>138</td>\n",
       "      <td>104</td>\n",
       "      <td>691</td>\n",
       "    </tr>\n",
       "    <tr>\n",
       "      <th>1</th>\n",
       "      <td>581</td>\n",
       "      <td>528</td>\n",
       "      <td>919</td>\n",
       "    </tr>\n",
       "    <tr>\n",
       "      <th>2</th>\n",
       "      <td>280</td>\n",
       "      <td>226</td>\n",
       "      <td>1031</td>\n",
       "    </tr>\n",
       "    <tr>\n",
       "      <th>3</th>\n",
       "      <td>668</td>\n",
       "      <td>587</td>\n",
       "      <td>1140</td>\n",
       "    </tr>\n",
       "    <tr>\n",
       "      <th>4</th>\n",
       "      <td>505</td>\n",
       "      <td>453</td>\n",
       "      <td>991</td>\n",
       "    </tr>\n",
       "  </tbody>\n",
       "</table>\n",
       "</div>"
      ],
      "text/plain": [
       "   BJGL_WINS  BJGL_LOSSES  BJGL_LEAGUE_POINTS\n",
       "0        138          104                 691\n",
       "1        581          528                 919\n",
       "2        280          226                1031\n",
       "3        668          587                1140\n",
       "4        505          453                 991"
      ]
     },
     "execution_count": 20,
     "metadata": {},
     "output_type": "execute_result"
    }
   ],
   "source": [
    "BJGL1 = summoner_stats(KR1, 'kr', 'BJGL', 'BSUM2_ID')\n",
    "time.sleep(120)\n",
    "BJGL2 = summoner_stats(KR2, 'kr', 'BJGL', 'BSUM2_ID')\n",
    "time.sleep(120)\n",
    "BJGL3 = summoner_stats(KR3, 'kr', 'BJGL', 'BSUM2_ID')\n",
    "time.sleep(120)\n",
    "BJGL4 = summoner_stats(KR4, 'kr', 'BJGL', 'BSUM2_ID')\n",
    "time.sleep(120)\n",
    "BJGL_stats = pd.concat([BJGL1, BJGL2, BJGL3, BJGL4], axis=0)\n",
    "print(BJGL_stats.shape)\n",
    "BJGL_stats.head()"
   ]
  },
  {
   "cell_type": "code",
   "execution_count": 44,
   "metadata": {},
   "outputs": [
    {
     "data": {
      "text/plain": [
       "BJGL_WINS             False\n",
       "BJGL_LOSSES           False\n",
       "BJGL_LEAGUE_POINTS    False\n",
       "dtype: bool"
      ]
     },
     "execution_count": 44,
     "metadata": {},
     "output_type": "execute_result"
    }
   ],
   "source": [
    "BJGL_stats.isna().any()"
   ]
  },
  {
   "cell_type": "markdown",
   "metadata": {},
   "source": [
    "### SUMMONER 3 - MID"
   ]
  },
  {
   "cell_type": "code",
   "execution_count": 21,
   "metadata": {},
   "outputs": [
    {
     "name": "stdout",
     "output_type": "stream",
     "text": [
      "(358, 3)\n"
     ]
    },
    {
     "data": {
      "text/html": [
       "<div>\n",
       "<style scoped>\n",
       "    .dataframe tbody tr th:only-of-type {\n",
       "        vertical-align: middle;\n",
       "    }\n",
       "\n",
       "    .dataframe tbody tr th {\n",
       "        vertical-align: top;\n",
       "    }\n",
       "\n",
       "    .dataframe thead th {\n",
       "        text-align: right;\n",
       "    }\n",
       "</style>\n",
       "<table border=\"1\" class=\"dataframe\">\n",
       "  <thead>\n",
       "    <tr style=\"text-align: right;\">\n",
       "      <th></th>\n",
       "      <th>BMID_WINS</th>\n",
       "      <th>BMID_LOSSES</th>\n",
       "      <th>BMID_LEAGUE_POINTS</th>\n",
       "    </tr>\n",
       "  </thead>\n",
       "  <tbody>\n",
       "    <tr>\n",
       "      <th>0</th>\n",
       "      <td>448</td>\n",
       "      <td>410</td>\n",
       "      <td>733</td>\n",
       "    </tr>\n",
       "    <tr>\n",
       "      <th>1</th>\n",
       "      <td>465</td>\n",
       "      <td>414</td>\n",
       "      <td>942</td>\n",
       "    </tr>\n",
       "    <tr>\n",
       "      <th>2</th>\n",
       "      <td>783</td>\n",
       "      <td>721</td>\n",
       "      <td>1121</td>\n",
       "    </tr>\n",
       "    <tr>\n",
       "      <th>3</th>\n",
       "      <td>772</td>\n",
       "      <td>708</td>\n",
       "      <td>1076</td>\n",
       "    </tr>\n",
       "    <tr>\n",
       "      <th>4</th>\n",
       "      <td>533</td>\n",
       "      <td>477</td>\n",
       "      <td>1023</td>\n",
       "    </tr>\n",
       "  </tbody>\n",
       "</table>\n",
       "</div>"
      ],
      "text/plain": [
       "   BMID_WINS  BMID_LOSSES  BMID_LEAGUE_POINTS\n",
       "0        448          410                 733\n",
       "1        465          414                 942\n",
       "2        783          721                1121\n",
       "3        772          708                1076\n",
       "4        533          477                1023"
      ]
     },
     "execution_count": 21,
     "metadata": {},
     "output_type": "execute_result"
    }
   ],
   "source": [
    "BMID1 = summoner_stats(KR1, 'kr', 'BMID', 'BSUM3_ID')\n",
    "time.sleep(120)\n",
    "BMID2 = summoner_stats(KR2, 'kr', 'BMID', 'BSUM3_ID')\n",
    "time.sleep(120)\n",
    "BMID3 = summoner_stats(KR3, 'kr', 'BMID', 'BSUM3_ID')\n",
    "time.sleep(120)\n",
    "BMID4 = summoner_stats(KR4, 'kr', 'BMID', 'BSUM3_ID')\n",
    "time.sleep(120)\n",
    "BMID_stats = pd.concat([BMID1, BMID2, BMID3, BMID4], axis=0)\n",
    "print(BMID_stats.shape)\n",
    "BMID_stats.head()"
   ]
  },
  {
   "cell_type": "code",
   "execution_count": 43,
   "metadata": {},
   "outputs": [
    {
     "data": {
      "text/plain": [
       "BMID_WINS             False\n",
       "BMID_LOSSES           False\n",
       "BMID_LEAGUE_POINTS    False\n",
       "dtype: bool"
      ]
     },
     "execution_count": 43,
     "metadata": {},
     "output_type": "execute_result"
    }
   ],
   "source": [
    "BMID_stats.isna().any()"
   ]
  },
  {
   "cell_type": "markdown",
   "metadata": {},
   "source": [
    "### SUMMONER 4 - BOT"
   ]
  },
  {
   "cell_type": "code",
   "execution_count": 22,
   "metadata": {},
   "outputs": [
    {
     "name": "stdout",
     "output_type": "stream",
     "text": [
      "(358, 3)\n"
     ]
    },
    {
     "data": {
      "text/html": [
       "<div>\n",
       "<style scoped>\n",
       "    .dataframe tbody tr th:only-of-type {\n",
       "        vertical-align: middle;\n",
       "    }\n",
       "\n",
       "    .dataframe tbody tr th {\n",
       "        vertical-align: top;\n",
       "    }\n",
       "\n",
       "    .dataframe thead th {\n",
       "        text-align: right;\n",
       "    }\n",
       "</style>\n",
       "<table border=\"1\" class=\"dataframe\">\n",
       "  <thead>\n",
       "    <tr style=\"text-align: right;\">\n",
       "      <th></th>\n",
       "      <th>BBOT_WINS</th>\n",
       "      <th>BBOT_LOSSES</th>\n",
       "      <th>BBOT_LEAGUE_POINTS</th>\n",
       "    </tr>\n",
       "  </thead>\n",
       "  <tbody>\n",
       "    <tr>\n",
       "      <th>0</th>\n",
       "      <td>444</td>\n",
       "      <td>373</td>\n",
       "      <td>1294</td>\n",
       "    </tr>\n",
       "    <tr>\n",
       "      <th>1</th>\n",
       "      <td>724</td>\n",
       "      <td>660</td>\n",
       "      <td>1073</td>\n",
       "    </tr>\n",
       "    <tr>\n",
       "      <th>2</th>\n",
       "      <td>403</td>\n",
       "      <td>344</td>\n",
       "      <td>1038</td>\n",
       "    </tr>\n",
       "    <tr>\n",
       "      <th>3</th>\n",
       "      <td>796</td>\n",
       "      <td>737</td>\n",
       "      <td>1013</td>\n",
       "    </tr>\n",
       "    <tr>\n",
       "      <th>4</th>\n",
       "      <td>663</td>\n",
       "      <td>607</td>\n",
       "      <td>891</td>\n",
       "    </tr>\n",
       "  </tbody>\n",
       "</table>\n",
       "</div>"
      ],
      "text/plain": [
       "   BBOT_WINS  BBOT_LOSSES  BBOT_LEAGUE_POINTS\n",
       "0        444          373                1294\n",
       "1        724          660                1073\n",
       "2        403          344                1038\n",
       "3        796          737                1013\n",
       "4        663          607                 891"
      ]
     },
     "execution_count": 22,
     "metadata": {},
     "output_type": "execute_result"
    }
   ],
   "source": [
    "BBOT1 = summoner_stats(KR1, 'kr', 'BBOT', 'BSUM4_ID')\n",
    "time.sleep(120)\n",
    "BBOT2 = summoner_stats(KR2, 'kr', 'BBOT', 'BSUM4_ID')\n",
    "time.sleep(120)\n",
    "BBOT3 = summoner_stats(KR3, 'kr', 'BBOT', 'BSUM4_ID')\n",
    "time.sleep(120)\n",
    "BBOT4 = summoner_stats(KR4, 'kr', 'BBOT', 'BSUM4_ID')\n",
    "time.sleep(120)\n",
    "BBOT_stats = pd.concat([BBOT1, BBOT2, BBOT3, BBOT4], axis=0)\n",
    "print(BBOT_stats.shape)\n",
    "BBOT_stats.head()"
   ]
  },
  {
   "cell_type": "code",
   "execution_count": 42,
   "metadata": {},
   "outputs": [
    {
     "data": {
      "text/plain": [
       "BBOT_WINS             False\n",
       "BBOT_LOSSES           False\n",
       "BBOT_LEAGUE_POINTS    False\n",
       "dtype: bool"
      ]
     },
     "execution_count": 42,
     "metadata": {},
     "output_type": "execute_result"
    }
   ],
   "source": [
    "BBOT_stats.isna().any()"
   ]
  },
  {
   "cell_type": "markdown",
   "metadata": {},
   "source": [
    "### SUMMONER 5 - SUP"
   ]
  },
  {
   "cell_type": "code",
   "execution_count": 23,
   "metadata": {},
   "outputs": [
    {
     "name": "stdout",
     "output_type": "stream",
     "text": [
      "(358, 3)\n"
     ]
    },
    {
     "data": {
      "text/html": [
       "<div>\n",
       "<style scoped>\n",
       "    .dataframe tbody tr th:only-of-type {\n",
       "        vertical-align: middle;\n",
       "    }\n",
       "\n",
       "    .dataframe tbody tr th {\n",
       "        vertical-align: top;\n",
       "    }\n",
       "\n",
       "    .dataframe thead th {\n",
       "        text-align: right;\n",
       "    }\n",
       "</style>\n",
       "<table border=\"1\" class=\"dataframe\">\n",
       "  <thead>\n",
       "    <tr style=\"text-align: right;\">\n",
       "      <th></th>\n",
       "      <th>BSUP_WINS</th>\n",
       "      <th>BSUP_LOSSES</th>\n",
       "      <th>BSUP_LEAGUE_POINTS</th>\n",
       "    </tr>\n",
       "  </thead>\n",
       "  <tbody>\n",
       "    <tr>\n",
       "      <th>0</th>\n",
       "      <td>473</td>\n",
       "      <td>422</td>\n",
       "      <td>893</td>\n",
       "    </tr>\n",
       "    <tr>\n",
       "      <th>1</th>\n",
       "      <td>360</td>\n",
       "      <td>277</td>\n",
       "      <td>1018</td>\n",
       "    </tr>\n",
       "    <tr>\n",
       "      <th>2</th>\n",
       "      <td>465</td>\n",
       "      <td>414</td>\n",
       "      <td>942</td>\n",
       "    </tr>\n",
       "    <tr>\n",
       "      <th>3</th>\n",
       "      <td>381</td>\n",
       "      <td>325</td>\n",
       "      <td>1030</td>\n",
       "    </tr>\n",
       "    <tr>\n",
       "      <th>4</th>\n",
       "      <td>4</td>\n",
       "      <td>2</td>\n",
       "      <td>28</td>\n",
       "    </tr>\n",
       "  </tbody>\n",
       "</table>\n",
       "</div>"
      ],
      "text/plain": [
       "   BSUP_WINS  BSUP_LOSSES  BSUP_LEAGUE_POINTS\n",
       "0        473          422                 893\n",
       "1        360          277                1018\n",
       "2        465          414                 942\n",
       "3        381          325                1030\n",
       "4          4            2                  28"
      ]
     },
     "execution_count": 23,
     "metadata": {},
     "output_type": "execute_result"
    }
   ],
   "source": [
    "BSUP1 = summoner_stats(KR1, 'kr', 'BSUP', 'BSUM5_ID')\n",
    "time.sleep(120)\n",
    "BSUP2 = summoner_stats(KR2, 'kr', 'BSUP', 'BSUM5_ID')\n",
    "time.sleep(120)\n",
    "BSUP3 = summoner_stats(KR3, 'kr', 'BSUP', 'BSUM5_ID')\n",
    "time.sleep(120)\n",
    "BSUP4 = summoner_stats(KR4, 'kr', 'BSUP', 'BSUM5_ID')\n",
    "time.sleep(120)\n",
    "BSUP_stats = pd.concat([BSUP1, BSUP2, BSUP3, BSUP4], axis=0)\n",
    "print(BSUP_stats.shape)\n",
    "BSUP_stats.head()"
   ]
  },
  {
   "cell_type": "code",
   "execution_count": 41,
   "metadata": {},
   "outputs": [
    {
     "data": {
      "text/plain": [
       "BSUP_WINS             False\n",
       "BSUP_LOSSES           False\n",
       "BSUP_LEAGUE_POINTS    False\n",
       "dtype: bool"
      ]
     },
     "execution_count": 41,
     "metadata": {},
     "output_type": "execute_result"
    }
   ],
   "source": [
    "BSUP_stats.isna().any()"
   ]
  },
  {
   "cell_type": "markdown",
   "metadata": {},
   "source": [
    "## Red Team"
   ]
  },
  {
   "cell_type": "markdown",
   "metadata": {},
   "source": [
    "### Summoner 1 - TOP"
   ]
  },
  {
   "cell_type": "code",
   "execution_count": 24,
   "metadata": {},
   "outputs": [
    {
     "name": "stdout",
     "output_type": "stream",
     "text": [
      "(358, 3)\n"
     ]
    },
    {
     "data": {
      "text/html": [
       "<div>\n",
       "<style scoped>\n",
       "    .dataframe tbody tr th:only-of-type {\n",
       "        vertical-align: middle;\n",
       "    }\n",
       "\n",
       "    .dataframe tbody tr th {\n",
       "        vertical-align: top;\n",
       "    }\n",
       "\n",
       "    .dataframe thead th {\n",
       "        text-align: right;\n",
       "    }\n",
       "</style>\n",
       "<table border=\"1\" class=\"dataframe\">\n",
       "  <thead>\n",
       "    <tr style=\"text-align: right;\">\n",
       "      <th></th>\n",
       "      <th>RTOP_WINS</th>\n",
       "      <th>RTOP_LOSSES</th>\n",
       "      <th>RTOP_LEAGUE_POINTS</th>\n",
       "    </tr>\n",
       "  </thead>\n",
       "  <tbody>\n",
       "    <tr>\n",
       "      <th>0</th>\n",
       "      <td>425</td>\n",
       "      <td>359</td>\n",
       "      <td>1086</td>\n",
       "    </tr>\n",
       "    <tr>\n",
       "      <th>1</th>\n",
       "      <td>415</td>\n",
       "      <td>339</td>\n",
       "      <td>1196</td>\n",
       "    </tr>\n",
       "    <tr>\n",
       "      <th>2</th>\n",
       "      <td>577</td>\n",
       "      <td>531</td>\n",
       "      <td>901</td>\n",
       "    </tr>\n",
       "    <tr>\n",
       "      <th>3</th>\n",
       "      <td>20</td>\n",
       "      <td>18</td>\n",
       "      <td>100</td>\n",
       "    </tr>\n",
       "    <tr>\n",
       "      <th>4</th>\n",
       "      <td>512</td>\n",
       "      <td>457</td>\n",
       "      <td>815</td>\n",
       "    </tr>\n",
       "  </tbody>\n",
       "</table>\n",
       "</div>"
      ],
      "text/plain": [
       "   RTOP_WINS  RTOP_LOSSES  RTOP_LEAGUE_POINTS\n",
       "0        425          359                1086\n",
       "1        415          339                1196\n",
       "2        577          531                 901\n",
       "3         20           18                 100\n",
       "4        512          457                 815"
      ]
     },
     "execution_count": 24,
     "metadata": {},
     "output_type": "execute_result"
    }
   ],
   "source": [
    "RTOP1 = summoner_stats(KR1, 'kr', 'RTOP', 'RSUM1_ID')\n",
    "time.sleep(120)\n",
    "RTOP2 = summoner_stats(KR2, 'kr', 'RTOP', 'RSUM1_ID')\n",
    "time.sleep(120)\n",
    "RTOP3 = summoner_stats(KR3, 'kr', 'RTOP', 'RSUM1_ID')\n",
    "time.sleep(120)\n",
    "RTOP4 = summoner_stats(KR4, 'kr', 'RTOP', 'RSUM1_ID')\n",
    "time.sleep(120)\n",
    "RTOP_stats = pd.concat([RTOP1, RTOP2, RTOP3, RTOP4], axis=0)\n",
    "print(RTOP_stats.shape)\n",
    "RTOP_stats.head()"
   ]
  },
  {
   "cell_type": "code",
   "execution_count": 40,
   "metadata": {},
   "outputs": [
    {
     "data": {
      "text/plain": [
       "RTOP_WINS             False\n",
       "RTOP_LOSSES           False\n",
       "RTOP_LEAGUE_POINTS    False\n",
       "dtype: bool"
      ]
     },
     "execution_count": 40,
     "metadata": {},
     "output_type": "execute_result"
    }
   ],
   "source": [
    "RTOP_stats.isna().any()"
   ]
  },
  {
   "cell_type": "markdown",
   "metadata": {},
   "source": [
    "### Summoner 2 - JGL"
   ]
  },
  {
   "cell_type": "code",
   "execution_count": 25,
   "metadata": {},
   "outputs": [
    {
     "name": "stdout",
     "output_type": "stream",
     "text": [
      "(358, 3)\n"
     ]
    },
    {
     "data": {
      "text/html": [
       "<div>\n",
       "<style scoped>\n",
       "    .dataframe tbody tr th:only-of-type {\n",
       "        vertical-align: middle;\n",
       "    }\n",
       "\n",
       "    .dataframe tbody tr th {\n",
       "        vertical-align: top;\n",
       "    }\n",
       "\n",
       "    .dataframe thead th {\n",
       "        text-align: right;\n",
       "    }\n",
       "</style>\n",
       "<table border=\"1\" class=\"dataframe\">\n",
       "  <thead>\n",
       "    <tr style=\"text-align: right;\">\n",
       "      <th></th>\n",
       "      <th>RJGL_WINS</th>\n",
       "      <th>RJGL_LOSSES</th>\n",
       "      <th>RJGL_LEAGUE_POINTS</th>\n",
       "    </tr>\n",
       "  </thead>\n",
       "  <tbody>\n",
       "    <tr>\n",
       "      <th>0</th>\n",
       "      <td>575</td>\n",
       "      <td>518</td>\n",
       "      <td>947</td>\n",
       "    </tr>\n",
       "    <tr>\n",
       "      <th>1</th>\n",
       "      <td>711</td>\n",
       "      <td>677</td>\n",
       "      <td>525</td>\n",
       "    </tr>\n",
       "    <tr>\n",
       "      <th>2</th>\n",
       "      <td>386</td>\n",
       "      <td>332</td>\n",
       "      <td>1071</td>\n",
       "    </tr>\n",
       "    <tr>\n",
       "      <th>3</th>\n",
       "      <td>744</td>\n",
       "      <td>641</td>\n",
       "      <td>1481</td>\n",
       "    </tr>\n",
       "    <tr>\n",
       "      <th>4</th>\n",
       "      <td>10</td>\n",
       "      <td>5</td>\n",
       "      <td>75</td>\n",
       "    </tr>\n",
       "  </tbody>\n",
       "</table>\n",
       "</div>"
      ],
      "text/plain": [
       "   RJGL_WINS  RJGL_LOSSES  RJGL_LEAGUE_POINTS\n",
       "0        575          518                 947\n",
       "1        711          677                 525\n",
       "2        386          332                1071\n",
       "3        744          641                1481\n",
       "4         10            5                  75"
      ]
     },
     "execution_count": 25,
     "metadata": {},
     "output_type": "execute_result"
    }
   ],
   "source": [
    "RJGL1 = summoner_stats(KR1, 'kr', 'RJGL', 'RSUM2_ID')\n",
    "time.sleep(120)\n",
    "RJGL2 = summoner_stats(KR2, 'kr', 'RJGL', 'RSUM2_ID')\n",
    "time.sleep(120)\n",
    "RJGL3 = summoner_stats(KR3, 'kr', 'RJGL', 'RSUM2_ID')\n",
    "time.sleep(120)\n",
    "RJGL4 = summoner_stats(KR4, 'kr', 'RJGL', 'RSUM2_ID')\n",
    "time.sleep(120)\n",
    "RJGL_stats = pd.concat([RJGL1, RJGL2, RJGL3, RJGL4], axis=0)\n",
    "print(RJGL_stats.shape)\n",
    "RJGL_stats.head()"
   ]
  },
  {
   "cell_type": "code",
   "execution_count": 39,
   "metadata": {},
   "outputs": [
    {
     "data": {
      "text/plain": [
       "RJGL_WINS             False\n",
       "RJGL_LOSSES           False\n",
       "RJGL_LEAGUE_POINTS    False\n",
       "dtype: bool"
      ]
     },
     "execution_count": 39,
     "metadata": {},
     "output_type": "execute_result"
    }
   ],
   "source": [
    "RJGL_stats.isna().any()"
   ]
  },
  {
   "cell_type": "markdown",
   "metadata": {},
   "source": [
    "### Summoner 3 - MID"
   ]
  },
  {
   "cell_type": "code",
   "execution_count": 27,
   "metadata": {},
   "outputs": [
    {
     "name": "stdout",
     "output_type": "stream",
     "text": [
      "(358, 3)\n"
     ]
    },
    {
     "data": {
      "text/html": [
       "<div>\n",
       "<style scoped>\n",
       "    .dataframe tbody tr th:only-of-type {\n",
       "        vertical-align: middle;\n",
       "    }\n",
       "\n",
       "    .dataframe tbody tr th {\n",
       "        vertical-align: top;\n",
       "    }\n",
       "\n",
       "    .dataframe thead th {\n",
       "        text-align: right;\n",
       "    }\n",
       "</style>\n",
       "<table border=\"1\" class=\"dataframe\">\n",
       "  <thead>\n",
       "    <tr style=\"text-align: right;\">\n",
       "      <th></th>\n",
       "      <th>RMID_WINS</th>\n",
       "      <th>RMID_LOSSES</th>\n",
       "      <th>RMID_LEAGUE_POINTS</th>\n",
       "    </tr>\n",
       "  </thead>\n",
       "  <tbody>\n",
       "    <tr>\n",
       "      <th>0</th>\n",
       "      <td>465.0</td>\n",
       "      <td>414.0</td>\n",
       "      <td>942.0</td>\n",
       "    </tr>\n",
       "    <tr>\n",
       "      <th>1</th>\n",
       "      <td>303.0</td>\n",
       "      <td>269.0</td>\n",
       "      <td>698.0</td>\n",
       "    </tr>\n",
       "    <tr>\n",
       "      <th>2</th>\n",
       "      <td>662.0</td>\n",
       "      <td>590.0</td>\n",
       "      <td>1059.0</td>\n",
       "    </tr>\n",
       "    <tr>\n",
       "      <th>3</th>\n",
       "      <td>465.0</td>\n",
       "      <td>414.0</td>\n",
       "      <td>942.0</td>\n",
       "    </tr>\n",
       "    <tr>\n",
       "      <th>4</th>\n",
       "      <td>465.0</td>\n",
       "      <td>414.0</td>\n",
       "      <td>942.0</td>\n",
       "    </tr>\n",
       "  </tbody>\n",
       "</table>\n",
       "</div>"
      ],
      "text/plain": [
       "   RMID_WINS  RMID_LOSSES  RMID_LEAGUE_POINTS\n",
       "0      465.0        414.0               942.0\n",
       "1      303.0        269.0               698.0\n",
       "2      662.0        590.0              1059.0\n",
       "3      465.0        414.0               942.0\n",
       "4      465.0        414.0               942.0"
      ]
     },
     "execution_count": 27,
     "metadata": {},
     "output_type": "execute_result"
    }
   ],
   "source": [
    "RMID1 = summoner_stats(KR1, 'kr', 'RMID', 'RSUM3_ID')\n",
    "time.sleep(120)\n",
    "RMID2 = summoner_stats(KR2, 'kr', 'RMID', 'RSUM3_ID')\n",
    "time.sleep(120)\n",
    "RMID3 = summoner_stats(KR3, 'kr', 'RMID', 'RSUM3_ID')\n",
    "time.sleep(120)\n",
    "RMID4 = summoner_stats(KR4, 'kr', 'RMID', 'RSUM3_ID')\n",
    "time.sleep(120)\n",
    "RMID_stats = pd.concat([RMID1, RMID2, RMID3, RMID4], axis=0)\n",
    "print(RMID_stats.shape)\n",
    "RMID_stats.head()"
   ]
  },
  {
   "cell_type": "code",
   "execution_count": 38,
   "metadata": {},
   "outputs": [
    {
     "data": {
      "text/plain": [
       "RMID_WINS             True\n",
       "RMID_LOSSES           True\n",
       "RMID_LEAGUE_POINTS    True\n",
       "dtype: bool"
      ]
     },
     "execution_count": 38,
     "metadata": {},
     "output_type": "execute_result"
    }
   ],
   "source": [
    "RMID_stats.isna().any()"
   ]
  },
  {
   "cell_type": "markdown",
   "metadata": {},
   "source": [
    "### Summoner 4 - BOT"
   ]
  },
  {
   "cell_type": "code",
   "execution_count": 28,
   "metadata": {},
   "outputs": [
    {
     "name": "stdout",
     "output_type": "stream",
     "text": [
      "(358, 3)\n"
     ]
    },
    {
     "data": {
      "text/html": [
       "<div>\n",
       "<style scoped>\n",
       "    .dataframe tbody tr th:only-of-type {\n",
       "        vertical-align: middle;\n",
       "    }\n",
       "\n",
       "    .dataframe tbody tr th {\n",
       "        vertical-align: top;\n",
       "    }\n",
       "\n",
       "    .dataframe thead th {\n",
       "        text-align: right;\n",
       "    }\n",
       "</style>\n",
       "<table border=\"1\" class=\"dataframe\">\n",
       "  <thead>\n",
       "    <tr style=\"text-align: right;\">\n",
       "      <th></th>\n",
       "      <th>RBOT_WINS</th>\n",
       "      <th>RBOT_LOSSES</th>\n",
       "      <th>RBOT_LEAGUE_POINTS</th>\n",
       "    </tr>\n",
       "  </thead>\n",
       "  <tbody>\n",
       "    <tr>\n",
       "      <th>0</th>\n",
       "      <td>117.0</td>\n",
       "      <td>66.0</td>\n",
       "      <td>709.0</td>\n",
       "    </tr>\n",
       "    <tr>\n",
       "      <th>1</th>\n",
       "      <td>544.0</td>\n",
       "      <td>466.0</td>\n",
       "      <td>966.0</td>\n",
       "    </tr>\n",
       "    <tr>\n",
       "      <th>2</th>\n",
       "      <td>506.0</td>\n",
       "      <td>457.0</td>\n",
       "      <td>721.0</td>\n",
       "    </tr>\n",
       "    <tr>\n",
       "      <th>3</th>\n",
       "      <td>615.0</td>\n",
       "      <td>539.0</td>\n",
       "      <td>1038.0</td>\n",
       "    </tr>\n",
       "    <tr>\n",
       "      <th>4</th>\n",
       "      <td>204.0</td>\n",
       "      <td>143.0</td>\n",
       "      <td>754.0</td>\n",
       "    </tr>\n",
       "  </tbody>\n",
       "</table>\n",
       "</div>"
      ],
      "text/plain": [
       "   RBOT_WINS  RBOT_LOSSES  RBOT_LEAGUE_POINTS\n",
       "0      117.0         66.0               709.0\n",
       "1      544.0        466.0               966.0\n",
       "2      506.0        457.0               721.0\n",
       "3      615.0        539.0              1038.0\n",
       "4      204.0        143.0               754.0"
      ]
     },
     "execution_count": 28,
     "metadata": {},
     "output_type": "execute_result"
    }
   ],
   "source": [
    "RBOT1 = summoner_stats(KR1, 'kr', 'RBOT', 'RSUM4_ID')\n",
    "time.sleep(120)\n",
    "RBOT2 = summoner_stats(KR2, 'kr', 'RBOT', 'RSUM4_ID')\n",
    "time.sleep(120)\n",
    "RBOT3 = summoner_stats(KR3, 'kr', 'RBOT', 'RSUM4_ID')\n",
    "time.sleep(120)\n",
    "RBOT4 = summoner_stats(KR4, 'kr', 'RBOT', 'RSUM4_ID')\n",
    "time.sleep(120)\n",
    "RBOT_stats = pd.concat([RBOT1, RBOT2, RBOT3, RBOT4], axis=0)\n",
    "print(RBOT_stats.shape)\n",
    "RBOT_stats.head()"
   ]
  },
  {
   "cell_type": "code",
   "execution_count": 37,
   "metadata": {},
   "outputs": [
    {
     "data": {
      "text/plain": [
       "RBOT_WINS             True\n",
       "RBOT_LOSSES           True\n",
       "RBOT_LEAGUE_POINTS    True\n",
       "dtype: bool"
      ]
     },
     "execution_count": 37,
     "metadata": {},
     "output_type": "execute_result"
    }
   ],
   "source": [
    "RBOT_stats.isna().any()"
   ]
  },
  {
   "cell_type": "markdown",
   "metadata": {},
   "source": [
    "### Summoner 5 - SUP"
   ]
  },
  {
   "cell_type": "code",
   "execution_count": 34,
   "metadata": {},
   "outputs": [
    {
     "name": "stdout",
     "output_type": "stream",
     "text": [
      "(358, 3)\n"
     ]
    },
    {
     "data": {
      "text/html": [
       "<div>\n",
       "<style scoped>\n",
       "    .dataframe tbody tr th:only-of-type {\n",
       "        vertical-align: middle;\n",
       "    }\n",
       "\n",
       "    .dataframe tbody tr th {\n",
       "        vertical-align: top;\n",
       "    }\n",
       "\n",
       "    .dataframe thead th {\n",
       "        text-align: right;\n",
       "    }\n",
       "</style>\n",
       "<table border=\"1\" class=\"dataframe\">\n",
       "  <thead>\n",
       "    <tr style=\"text-align: right;\">\n",
       "      <th></th>\n",
       "      <th>RSUP_WINS</th>\n",
       "      <th>RSUP_LOSSES</th>\n",
       "      <th>RSUP_LEAGUE_POINTS</th>\n",
       "    </tr>\n",
       "  </thead>\n",
       "  <tbody>\n",
       "    <tr>\n",
       "      <th>0</th>\n",
       "      <td>565</td>\n",
       "      <td>473</td>\n",
       "      <td>1103</td>\n",
       "    </tr>\n",
       "    <tr>\n",
       "      <th>1</th>\n",
       "      <td>392</td>\n",
       "      <td>336</td>\n",
       "      <td>673</td>\n",
       "    </tr>\n",
       "    <tr>\n",
       "      <th>2</th>\n",
       "      <td>538</td>\n",
       "      <td>482</td>\n",
       "      <td>1234</td>\n",
       "    </tr>\n",
       "    <tr>\n",
       "      <th>3</th>\n",
       "      <td>559</td>\n",
       "      <td>486</td>\n",
       "      <td>1069</td>\n",
       "    </tr>\n",
       "    <tr>\n",
       "      <th>4</th>\n",
       "      <td>259</td>\n",
       "      <td>235</td>\n",
       "      <td>624</td>\n",
       "    </tr>\n",
       "  </tbody>\n",
       "</table>\n",
       "</div>"
      ],
      "text/plain": [
       "   RSUP_WINS  RSUP_LOSSES  RSUP_LEAGUE_POINTS\n",
       "0        565          473                1103\n",
       "1        392          336                 673\n",
       "2        538          482                1234\n",
       "3        559          486                1069\n",
       "4        259          235                 624"
      ]
     },
     "execution_count": 34,
     "metadata": {},
     "output_type": "execute_result"
    }
   ],
   "source": [
    "RSUP1 = summoner_stats(KR1, 'kr', 'RSUP', 'RSUM5_ID')\n",
    "time.sleep(120)\n",
    "RSUP2 = summoner_stats(KR2, 'kr', 'RSUP', 'RSUM5_ID')\n",
    "time.sleep(120)\n",
    "RSUP3 = summoner_stats(KR3, 'kr', 'RSUP', 'RSUM5_ID')\n",
    "time.sleep(120)\n",
    "RSUP4 = summoner_stats(KR4, 'kr', 'RSUP', 'RSUM5_ID')\n",
    "time.sleep(120)\n",
    "RSUP_stats = pd.concat([RSUP1, RSUP2, RSUP3, RSUP4], axis=0)\n",
    "print(RSUP_stats.shape)\n",
    "RSUP_stats.head()"
   ]
  },
  {
   "cell_type": "code",
   "execution_count": 36,
   "metadata": {},
   "outputs": [
    {
     "data": {
      "text/plain": [
       "RBOT_WINS             True\n",
       "RBOT_LOSSES           True\n",
       "RBOT_LEAGUE_POINTS    True\n",
       "dtype: bool"
      ]
     },
     "execution_count": 36,
     "metadata": {},
     "output_type": "execute_result"
    }
   ],
   "source": [
    "RBOT_stats.isna().any()"
   ]
  },
  {
   "cell_type": "markdown",
   "metadata": {},
   "source": [
    "### Combine into one DataFrame"
   ]
  },
  {
   "cell_type": "code",
   "execution_count": 30,
   "metadata": {},
   "outputs": [
    {
     "name": "stdout",
     "output_type": "stream",
     "text": [
      "(358, 30)\n"
     ]
    },
    {
     "data": {
      "text/html": [
       "<div>\n",
       "<style scoped>\n",
       "    .dataframe tbody tr th:only-of-type {\n",
       "        vertical-align: middle;\n",
       "    }\n",
       "\n",
       "    .dataframe tbody tr th {\n",
       "        vertical-align: top;\n",
       "    }\n",
       "\n",
       "    .dataframe thead th {\n",
       "        text-align: right;\n",
       "    }\n",
       "</style>\n",
       "<table border=\"1\" class=\"dataframe\">\n",
       "  <thead>\n",
       "    <tr style=\"text-align: right;\">\n",
       "      <th></th>\n",
       "      <th>BTOP_WINS</th>\n",
       "      <th>BTOP_LOSSES</th>\n",
       "      <th>BTOP_LEAGUE_POINTS</th>\n",
       "      <th>BJGL_WINS</th>\n",
       "      <th>BJGL_LOSSES</th>\n",
       "      <th>BJGL_LEAGUE_POINTS</th>\n",
       "      <th>BMID_WINS</th>\n",
       "      <th>BMID_LOSSES</th>\n",
       "      <th>BMID_LEAGUE_POINTS</th>\n",
       "      <th>BBOT_WINS</th>\n",
       "      <th>...</th>\n",
       "      <th>RJGL_LEAGUE_POINTS</th>\n",
       "      <th>RMID_WINS</th>\n",
       "      <th>RMID_LOSSES</th>\n",
       "      <th>RMID_LEAGUE_POINTS</th>\n",
       "      <th>RBOT_WINS</th>\n",
       "      <th>RBOT_LOSSES</th>\n",
       "      <th>RBOT_LEAGUE_POINTS</th>\n",
       "      <th>RSUP_WINS</th>\n",
       "      <th>RSUP_LOSSES</th>\n",
       "      <th>RSUP_LEAGUE_POINTS</th>\n",
       "    </tr>\n",
       "  </thead>\n",
       "  <tbody>\n",
       "    <tr>\n",
       "      <th>0</th>\n",
       "      <td>743</td>\n",
       "      <td>641</td>\n",
       "      <td>1464</td>\n",
       "      <td>138</td>\n",
       "      <td>104</td>\n",
       "      <td>691</td>\n",
       "      <td>448</td>\n",
       "      <td>410</td>\n",
       "      <td>733</td>\n",
       "      <td>444</td>\n",
       "      <td>...</td>\n",
       "      <td>947</td>\n",
       "      <td>465.0</td>\n",
       "      <td>414.0</td>\n",
       "      <td>942.0</td>\n",
       "      <td>117.0</td>\n",
       "      <td>66.0</td>\n",
       "      <td>709.0</td>\n",
       "      <td>565.0</td>\n",
       "      <td>473.0</td>\n",
       "      <td>1103.0</td>\n",
       "    </tr>\n",
       "    <tr>\n",
       "      <th>1</th>\n",
       "      <td>751</td>\n",
       "      <td>697</td>\n",
       "      <td>773</td>\n",
       "      <td>581</td>\n",
       "      <td>528</td>\n",
       "      <td>919</td>\n",
       "      <td>465</td>\n",
       "      <td>414</td>\n",
       "      <td>942</td>\n",
       "      <td>724</td>\n",
       "      <td>...</td>\n",
       "      <td>525</td>\n",
       "      <td>303.0</td>\n",
       "      <td>269.0</td>\n",
       "      <td>698.0</td>\n",
       "      <td>544.0</td>\n",
       "      <td>466.0</td>\n",
       "      <td>966.0</td>\n",
       "      <td>392.0</td>\n",
       "      <td>336.0</td>\n",
       "      <td>673.0</td>\n",
       "    </tr>\n",
       "    <tr>\n",
       "      <th>2</th>\n",
       "      <td>455</td>\n",
       "      <td>405</td>\n",
       "      <td>1016</td>\n",
       "      <td>280</td>\n",
       "      <td>226</td>\n",
       "      <td>1031</td>\n",
       "      <td>783</td>\n",
       "      <td>721</td>\n",
       "      <td>1121</td>\n",
       "      <td>403</td>\n",
       "      <td>...</td>\n",
       "      <td>1071</td>\n",
       "      <td>662.0</td>\n",
       "      <td>590.0</td>\n",
       "      <td>1059.0</td>\n",
       "      <td>506.0</td>\n",
       "      <td>457.0</td>\n",
       "      <td>721.0</td>\n",
       "      <td>538.0</td>\n",
       "      <td>482.0</td>\n",
       "      <td>1234.0</td>\n",
       "    </tr>\n",
       "    <tr>\n",
       "      <th>3</th>\n",
       "      <td>200</td>\n",
       "      <td>135</td>\n",
       "      <td>1154</td>\n",
       "      <td>668</td>\n",
       "      <td>587</td>\n",
       "      <td>1140</td>\n",
       "      <td>772</td>\n",
       "      <td>708</td>\n",
       "      <td>1076</td>\n",
       "      <td>796</td>\n",
       "      <td>...</td>\n",
       "      <td>1481</td>\n",
       "      <td>465.0</td>\n",
       "      <td>414.0</td>\n",
       "      <td>942.0</td>\n",
       "      <td>615.0</td>\n",
       "      <td>539.0</td>\n",
       "      <td>1038.0</td>\n",
       "      <td>559.0</td>\n",
       "      <td>486.0</td>\n",
       "      <td>1069.0</td>\n",
       "    </tr>\n",
       "    <tr>\n",
       "      <th>4</th>\n",
       "      <td>668</td>\n",
       "      <td>606</td>\n",
       "      <td>1166</td>\n",
       "      <td>505</td>\n",
       "      <td>453</td>\n",
       "      <td>991</td>\n",
       "      <td>533</td>\n",
       "      <td>477</td>\n",
       "      <td>1023</td>\n",
       "      <td>663</td>\n",
       "      <td>...</td>\n",
       "      <td>75</td>\n",
       "      <td>465.0</td>\n",
       "      <td>414.0</td>\n",
       "      <td>942.0</td>\n",
       "      <td>204.0</td>\n",
       "      <td>143.0</td>\n",
       "      <td>754.0</td>\n",
       "      <td>259.0</td>\n",
       "      <td>235.0</td>\n",
       "      <td>624.0</td>\n",
       "    </tr>\n",
       "  </tbody>\n",
       "</table>\n",
       "<p>5 rows × 30 columns</p>\n",
       "</div>"
      ],
      "text/plain": [
       "   BTOP_WINS  BTOP_LOSSES  BTOP_LEAGUE_POINTS  BJGL_WINS  BJGL_LOSSES  \\\n",
       "0        743          641                1464        138          104   \n",
       "1        751          697                 773        581          528   \n",
       "2        455          405                1016        280          226   \n",
       "3        200          135                1154        668          587   \n",
       "4        668          606                1166        505          453   \n",
       "\n",
       "   BJGL_LEAGUE_POINTS  BMID_WINS  BMID_LOSSES  BMID_LEAGUE_POINTS  BBOT_WINS  \\\n",
       "0                 691        448          410                 733        444   \n",
       "1                 919        465          414                 942        724   \n",
       "2                1031        783          721                1121        403   \n",
       "3                1140        772          708                1076        796   \n",
       "4                 991        533          477                1023        663   \n",
       "\n",
       "   ...  RJGL_LEAGUE_POINTS  RMID_WINS  RMID_LOSSES  RMID_LEAGUE_POINTS  \\\n",
       "0  ...                 947      465.0        414.0               942.0   \n",
       "1  ...                 525      303.0        269.0               698.0   \n",
       "2  ...                1071      662.0        590.0              1059.0   \n",
       "3  ...                1481      465.0        414.0               942.0   \n",
       "4  ...                  75      465.0        414.0               942.0   \n",
       "\n",
       "   RBOT_WINS  RBOT_LOSSES  RBOT_LEAGUE_POINTS  RSUP_WINS  RSUP_LOSSES  \\\n",
       "0      117.0         66.0               709.0      565.0        473.0   \n",
       "1      544.0        466.0               966.0      392.0        336.0   \n",
       "2      506.0        457.0               721.0      538.0        482.0   \n",
       "3      615.0        539.0              1038.0      559.0        486.0   \n",
       "4      204.0        143.0               754.0      259.0        235.0   \n",
       "\n",
       "   RSUP_LEAGUE_POINTS  \n",
       "0              1103.0  \n",
       "1               673.0  \n",
       "2              1234.0  \n",
       "3              1069.0  \n",
       "4               624.0  \n",
       "\n",
       "[5 rows x 30 columns]"
      ]
     },
     "execution_count": 30,
     "metadata": {},
     "output_type": "execute_result"
    }
   ],
   "source": [
    "KR_stats = pd.concat([BTOP_stats, BJGL_stats, BMID_stats, BBOT_stats, BSUP_stats, RTOP_stats, RJGL_stats, RMID_stats, RBOT_stats, RSUP_stats], axis=1)\n",
    "print(KR_stats.shape)\n",
    "KR_stats.head()"
   ]
  },
  {
   "cell_type": "code",
   "execution_count": 31,
   "metadata": {},
   "outputs": [],
   "source": [
    "KR_stats.to_csv('KR_stats_358.csv', index=False)"
   ]
  },
  {
   "cell_type": "code",
   "execution_count": null,
   "metadata": {},
   "outputs": [],
   "source": []
  }
 ],
 "metadata": {
  "interpreter": {
   "hash": "39512f3c2a1741d7f752d45a133d4514127029333ea14bc2f3c6c5e6759b9029"
  },
  "kernelspec": {
   "display_name": "Python 3.8.13 ('base_env')",
   "language": "python",
   "name": "python3"
  },
  "language_info": {
   "codemirror_mode": {
    "name": "ipython",
    "version": 3
   },
   "file_extension": ".py",
   "mimetype": "text/x-python",
   "name": "python",
   "nbconvert_exporter": "python",
   "pygments_lexer": "ipython3",
   "version": "3.8.13"
  },
  "orig_nbformat": 4
 },
 "nbformat": 4,
 "nbformat_minor": 2
}
