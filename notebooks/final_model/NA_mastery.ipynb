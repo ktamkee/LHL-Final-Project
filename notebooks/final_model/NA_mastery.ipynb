{
 "cells": [
  {
   "cell_type": "markdown",
   "metadata": {},
   "source": [
    "# Champion Mastery - North America"
   ]
  },
  {
   "cell_type": "code",
   "execution_count": 24,
   "metadata": {},
   "outputs": [],
   "source": [
    "import numpy as np\n",
    "import pandas as pd\n",
    "import requests as re\n",
    "import time"
   ]
  },
  {
   "cell_type": "code",
   "execution_count": 25,
   "metadata": {},
   "outputs": [],
   "source": [
    "headers = {\n",
    "    \"User-Agent\": \"Mozilla/5.0 (Macintosh; Intel Mac OS X 10_15_7) AppleWebKit/537.36 (KHTML, like Gecko) Chrome/103.0.5060.134 Safari/537.36 Edg/103.0.1264.77\",\n",
    "    \"Accept-Language\": \"en-CA,en-US;q=0.9,en;q=0.8\",\n",
    "    \"Accept-Charset\": \"application/x-www-form-urlencoded; charset=UTF-8\",\n",
    "    \"Origin\": \"https://developer.riotgames.com\",\n",
    "    \"X-Riot-Token\": \"RGAPI-046cac00-eb22-432a-94e1-9c68bd571a92\"\n",
    "}"
   ]
  },
  {
   "cell_type": "code",
   "execution_count": 26,
   "metadata": {},
   "outputs": [
    {
     "data": {
      "text/html": [
       "<div>\n",
       "<style scoped>\n",
       "    .dataframe tbody tr th:only-of-type {\n",
       "        vertical-align: middle;\n",
       "    }\n",
       "\n",
       "    .dataframe tbody tr th {\n",
       "        vertical-align: top;\n",
       "    }\n",
       "\n",
       "    .dataframe thead th {\n",
       "        text-align: right;\n",
       "    }\n",
       "</style>\n",
       "<table border=\"1\" class=\"dataframe\">\n",
       "  <thead>\n",
       "    <tr style=\"text-align: right;\">\n",
       "      <th></th>\n",
       "      <th>SERVER</th>\n",
       "      <th>MATCH_ID</th>\n",
       "      <th>BSUM1_ID</th>\n",
       "      <th>BTOP_CHAMP_ID</th>\n",
       "      <th>BSUM2_ID</th>\n",
       "      <th>BJGL_CHAMP_ID</th>\n",
       "      <th>BSUM3_ID</th>\n",
       "      <th>BMID_CHAMP_ID</th>\n",
       "      <th>BSUM4_ID</th>\n",
       "      <th>BBOT_CHAMP_ID</th>\n",
       "      <th>...</th>\n",
       "      <th>FIRST_TOWER</th>\n",
       "      <th>BTOWER_KILLS</th>\n",
       "      <th>RTOWER_KILLS</th>\n",
       "      <th>FIRST_BARON</th>\n",
       "      <th>BBARON_KILLS</th>\n",
       "      <th>RBARON_KILLS</th>\n",
       "      <th>FIRST_INHIB</th>\n",
       "      <th>BINHIB_KILLS</th>\n",
       "      <th>RINHIB_KILLS</th>\n",
       "      <th>WINNER</th>\n",
       "    </tr>\n",
       "  </thead>\n",
       "  <tbody>\n",
       "    <tr>\n",
       "      <th>0</th>\n",
       "      <td>NORTH AMERICA</td>\n",
       "      <td>NA1_4396515853</td>\n",
       "      <td>_rz2B5gcGgG78Ce-qPHbK_BjSGuAYXVbU5HehuD69QhJE2I</td>\n",
       "      <td>50</td>\n",
       "      <td>RWNELKaFziEInyoYrBUt2CAKeHxIi_1S71GwvUdr__CJErI</td>\n",
       "      <td>200</td>\n",
       "      <td>WTTjHK7BiVw0fYiDWcPfuV248NITM-7Yvz2t1KqtYjEJzjA</td>\n",
       "      <td>38</td>\n",
       "      <td>F8TVH5gwahG6ByWfv5nt6xmqGItJAOHTP_vRj6R_kYIuDn...</td>\n",
       "      <td>119</td>\n",
       "      <td>...</td>\n",
       "      <td>BLUE</td>\n",
       "      <td>7</td>\n",
       "      <td>0</td>\n",
       "      <td>NONE</td>\n",
       "      <td>0</td>\n",
       "      <td>0</td>\n",
       "      <td>BLUE</td>\n",
       "      <td>1</td>\n",
       "      <td>0</td>\n",
       "      <td>BLUE</td>\n",
       "    </tr>\n",
       "    <tr>\n",
       "      <th>1</th>\n",
       "      <td>NORTH AMERICA</td>\n",
       "      <td>NA1_4396540388</td>\n",
       "      <td>r0VX6FfhshlR1S_yFNnv3FZ24b37EPCXZ0X5PUpu82Mqncs</td>\n",
       "      <td>266</td>\n",
       "      <td>qxox9oRsNSZttfe03EJKZgf5_YV7eqYl5SbsSuioeY0zlF8</td>\n",
       "      <td>9</td>\n",
       "      <td>-mhcp2urSsr5scOkFeXXMkzMhzrrJSZ1dWH4z3xLgjlukls</td>\n",
       "      <td>8</td>\n",
       "      <td>F8TVH5gwahG6ByWfv5nt6xmqGItJAOHTP_vRj6R_kYIuDn...</td>\n",
       "      <td>119</td>\n",
       "      <td>...</td>\n",
       "      <td>BLUE</td>\n",
       "      <td>8</td>\n",
       "      <td>4</td>\n",
       "      <td>BLUE</td>\n",
       "      <td>1</td>\n",
       "      <td>0</td>\n",
       "      <td>BLUE</td>\n",
       "      <td>1</td>\n",
       "      <td>0</td>\n",
       "      <td>BLUE</td>\n",
       "    </tr>\n",
       "    <tr>\n",
       "      <th>2</th>\n",
       "      <td>NORTH AMERICA</td>\n",
       "      <td>NA1_4396495283</td>\n",
       "      <td>g96u4Zu60wNHE_ghxcPDuC_Mc9ouc3m48Mx_NLdZ1FMdfxg</td>\n",
       "      <td>266</td>\n",
       "      <td>Dr8A8hpa5aBnlkY4qMoo8d40qEcqOIIlfc0C3ojR4JGkJmQ</td>\n",
       "      <td>200</td>\n",
       "      <td>F8TVH5gwahG6ByWfv5nt6xmqGItJAOHTP_vRj6R_kYIuDn...</td>\n",
       "      <td>1</td>\n",
       "      <td>V-vrG5r7dzvV3vppV-vDVZXsFAE0jMQWCIMJPYom6RjAhS...</td>\n",
       "      <td>360</td>\n",
       "      <td>...</td>\n",
       "      <td>BLUE</td>\n",
       "      <td>9</td>\n",
       "      <td>5</td>\n",
       "      <td>BLUE</td>\n",
       "      <td>1</td>\n",
       "      <td>0</td>\n",
       "      <td>BLUE</td>\n",
       "      <td>1</td>\n",
       "      <td>0</td>\n",
       "      <td>BLUE</td>\n",
       "    </tr>\n",
       "    <tr>\n",
       "      <th>3</th>\n",
       "      <td>NORTH AMERICA</td>\n",
       "      <td>NA1_4396437949</td>\n",
       "      <td>Mj8iPiDSI3xHQO_1gDFsGz5uf6dwY7vHZla08rzzMuRmHYc</td>\n",
       "      <td>27</td>\n",
       "      <td>H9lyL4tk2OM82hgYSU36Dr-MlVdpGFY7OBQ45cQSnP0jKzNh</td>\n",
       "      <td>421</td>\n",
       "      <td>36g0ZTyQO7y54a6u-u2oAR0lAWoIrU7rL_V65ipeEyautWY</td>\n",
       "      <td>74</td>\n",
       "      <td>DWXk985dJPD6ywHdP9yIVJQe7kGLMVb3c502hFDTLGIaJyU</td>\n",
       "      <td>119</td>\n",
       "      <td>...</td>\n",
       "      <td>BLUE</td>\n",
       "      <td>3</td>\n",
       "      <td>7</td>\n",
       "      <td>RED</td>\n",
       "      <td>0</td>\n",
       "      <td>1</td>\n",
       "      <td>RED</td>\n",
       "      <td>0</td>\n",
       "      <td>2</td>\n",
       "      <td>RED</td>\n",
       "    </tr>\n",
       "    <tr>\n",
       "      <th>4</th>\n",
       "      <td>NORTH AMERICA</td>\n",
       "      <td>NA1_4396434056</td>\n",
       "      <td>daODRa4nnhTu0q1-eycLcvTqE_eG9-knakaOpTdDwymGsD0</td>\n",
       "      <td>516</td>\n",
       "      <td>MxCz3g6oBXQubGlvJnMTvdaJ73L6J9CIlYgzoj9nOY_SXuA</td>\n",
       "      <td>131</td>\n",
       "      <td>d1taUIColLPNBQdrVyuo-LdG80RYmo6Bqk_qU5gPsYGsLQs</td>\n",
       "      <td>104</td>\n",
       "      <td>xL-gHga9xDBG2avQT56HZlPRLQUKX2OkvJkfsOtr29S2mr...</td>\n",
       "      <td>523</td>\n",
       "      <td>...</td>\n",
       "      <td>BLUE</td>\n",
       "      <td>4</td>\n",
       "      <td>11</td>\n",
       "      <td>RED</td>\n",
       "      <td>0</td>\n",
       "      <td>1</td>\n",
       "      <td>RED</td>\n",
       "      <td>0</td>\n",
       "      <td>2</td>\n",
       "      <td>RED</td>\n",
       "    </tr>\n",
       "  </tbody>\n",
       "</table>\n",
       "<p>5 rows × 51 columns</p>\n",
       "</div>"
      ],
      "text/plain": [
       "          SERVER        MATCH_ID  \\\n",
       "0  NORTH AMERICA  NA1_4396515853   \n",
       "1  NORTH AMERICA  NA1_4396540388   \n",
       "2  NORTH AMERICA  NA1_4396495283   \n",
       "3  NORTH AMERICA  NA1_4396437949   \n",
       "4  NORTH AMERICA  NA1_4396434056   \n",
       "\n",
       "                                          BSUM1_ID  BTOP_CHAMP_ID  \\\n",
       "0  _rz2B5gcGgG78Ce-qPHbK_BjSGuAYXVbU5HehuD69QhJE2I             50   \n",
       "1  r0VX6FfhshlR1S_yFNnv3FZ24b37EPCXZ0X5PUpu82Mqncs            266   \n",
       "2  g96u4Zu60wNHE_ghxcPDuC_Mc9ouc3m48Mx_NLdZ1FMdfxg            266   \n",
       "3  Mj8iPiDSI3xHQO_1gDFsGz5uf6dwY7vHZla08rzzMuRmHYc             27   \n",
       "4  daODRa4nnhTu0q1-eycLcvTqE_eG9-knakaOpTdDwymGsD0            516   \n",
       "\n",
       "                                           BSUM2_ID  BJGL_CHAMP_ID  \\\n",
       "0   RWNELKaFziEInyoYrBUt2CAKeHxIi_1S71GwvUdr__CJErI            200   \n",
       "1   qxox9oRsNSZttfe03EJKZgf5_YV7eqYl5SbsSuioeY0zlF8              9   \n",
       "2   Dr8A8hpa5aBnlkY4qMoo8d40qEcqOIIlfc0C3ojR4JGkJmQ            200   \n",
       "3  H9lyL4tk2OM82hgYSU36Dr-MlVdpGFY7OBQ45cQSnP0jKzNh            421   \n",
       "4   MxCz3g6oBXQubGlvJnMTvdaJ73L6J9CIlYgzoj9nOY_SXuA            131   \n",
       "\n",
       "                                            BSUM3_ID  BMID_CHAMP_ID  \\\n",
       "0    WTTjHK7BiVw0fYiDWcPfuV248NITM-7Yvz2t1KqtYjEJzjA             38   \n",
       "1    -mhcp2urSsr5scOkFeXXMkzMhzrrJSZ1dWH4z3xLgjlukls              8   \n",
       "2  F8TVH5gwahG6ByWfv5nt6xmqGItJAOHTP_vRj6R_kYIuDn...              1   \n",
       "3    36g0ZTyQO7y54a6u-u2oAR0lAWoIrU7rL_V65ipeEyautWY             74   \n",
       "4    d1taUIColLPNBQdrVyuo-LdG80RYmo6Bqk_qU5gPsYGsLQs            104   \n",
       "\n",
       "                                            BSUM4_ID  BBOT_CHAMP_ID  ...  \\\n",
       "0  F8TVH5gwahG6ByWfv5nt6xmqGItJAOHTP_vRj6R_kYIuDn...            119  ...   \n",
       "1  F8TVH5gwahG6ByWfv5nt6xmqGItJAOHTP_vRj6R_kYIuDn...            119  ...   \n",
       "2  V-vrG5r7dzvV3vppV-vDVZXsFAE0jMQWCIMJPYom6RjAhS...            360  ...   \n",
       "3    DWXk985dJPD6ywHdP9yIVJQe7kGLMVb3c502hFDTLGIaJyU            119  ...   \n",
       "4  xL-gHga9xDBG2avQT56HZlPRLQUKX2OkvJkfsOtr29S2mr...            523  ...   \n",
       "\n",
       "  FIRST_TOWER  BTOWER_KILLS  RTOWER_KILLS  FIRST_BARON  BBARON_KILLS  \\\n",
       "0        BLUE             7             0         NONE             0   \n",
       "1        BLUE             8             4         BLUE             1   \n",
       "2        BLUE             9             5         BLUE             1   \n",
       "3        BLUE             3             7          RED             0   \n",
       "4        BLUE             4            11          RED             0   \n",
       "\n",
       "   RBARON_KILLS  FIRST_INHIB BINHIB_KILLS  RINHIB_KILLS WINNER  \n",
       "0             0         BLUE            1             0   BLUE  \n",
       "1             0         BLUE            1             0   BLUE  \n",
       "2             0         BLUE            1             0   BLUE  \n",
       "3             1          RED            0             2    RED  \n",
       "4             1          RED            0             2    RED  \n",
       "\n",
       "[5 rows x 51 columns]"
      ]
     },
     "execution_count": 26,
     "metadata": {},
     "output_type": "execute_result"
    }
   ],
   "source": [
    "NA = pd.read_csv('../../data/first_model/raw/NA_all_data_379.csv')\n",
    "NA.head()"
   ]
  },
  {
   "cell_type": "code",
   "execution_count": 27,
   "metadata": {},
   "outputs": [
    {
     "data": {
      "text/plain": [
       "(379, 51)"
      ]
     },
     "execution_count": 27,
     "metadata": {},
     "output_type": "execute_result"
    }
   ],
   "source": [
    "NA.shape"
   ]
  },
  {
   "cell_type": "code",
   "execution_count": 72,
   "metadata": {},
   "outputs": [
    {
     "data": {
      "text/html": [
       "<div>\n",
       "<style scoped>\n",
       "    .dataframe tbody tr th:only-of-type {\n",
       "        vertical-align: middle;\n",
       "    }\n",
       "\n",
       "    .dataframe tbody tr th {\n",
       "        vertical-align: top;\n",
       "    }\n",
       "\n",
       "    .dataframe thead th {\n",
       "        text-align: right;\n",
       "    }\n",
       "</style>\n",
       "<table border=\"1\" class=\"dataframe\">\n",
       "  <thead>\n",
       "    <tr style=\"text-align: right;\">\n",
       "      <th></th>\n",
       "      <th>SERVER</th>\n",
       "      <th>MATCH_ID</th>\n",
       "      <th>BSUM1_ID</th>\n",
       "      <th>BTOP_CHAMP_ID</th>\n",
       "      <th>BSUM2_ID</th>\n",
       "      <th>BJGL_CHAMP_ID</th>\n",
       "      <th>BSUM3_ID</th>\n",
       "      <th>BMID_CHAMP_ID</th>\n",
       "      <th>BSUM4_ID</th>\n",
       "      <th>BBOT_CHAMP_ID</th>\n",
       "      <th>...</th>\n",
       "      <th>FIRST_TOWER</th>\n",
       "      <th>BTOWER_KILLS</th>\n",
       "      <th>RTOWER_KILLS</th>\n",
       "      <th>FIRST_BARON</th>\n",
       "      <th>BBARON_KILLS</th>\n",
       "      <th>RBARON_KILLS</th>\n",
       "      <th>FIRST_INHIB</th>\n",
       "      <th>BINHIB_KILLS</th>\n",
       "      <th>RINHIB_KILLS</th>\n",
       "      <th>WINNER</th>\n",
       "    </tr>\n",
       "  </thead>\n",
       "  <tbody>\n",
       "    <tr>\n",
       "      <th>225</th>\n",
       "      <td>NORTH AMERICA</td>\n",
       "      <td>NA1_4390667606</td>\n",
       "      <td>1ENyOW9qo2vrB-GdGzC2pz_cc4k6HgUjvq7BHw_9qT3rFVQ</td>\n",
       "      <td>10</td>\n",
       "      <td>hhkOYpDSscbeJVFVSG4yDy4hzpENeWEeZPGpesLZoll0Gro</td>\n",
       "      <td>421</td>\n",
       "      <td>ybznjVYN6EPs01t8Xp6w5boMHTJj4OWyg4WBj8FASEaaYzA</td>\n",
       "      <td>134</td>\n",
       "      <td>6J4CtYldCOYxToOuU8Xv5SCWWaNQbhlAuped5o7znoJ7l_8</td>\n",
       "      <td>360</td>\n",
       "      <td>...</td>\n",
       "      <td>NONE</td>\n",
       "      <td>0</td>\n",
       "      <td>0</td>\n",
       "      <td>NONE</td>\n",
       "      <td>0</td>\n",
       "      <td>0</td>\n",
       "      <td>NONE</td>\n",
       "      <td>0</td>\n",
       "      <td>0</td>\n",
       "      <td>RED</td>\n",
       "    </tr>\n",
       "  </tbody>\n",
       "</table>\n",
       "<p>1 rows × 51 columns</p>\n",
       "</div>"
      ],
      "text/plain": [
       "            SERVER        MATCH_ID  \\\n",
       "225  NORTH AMERICA  NA1_4390667606   \n",
       "\n",
       "                                            BSUM1_ID  BTOP_CHAMP_ID  \\\n",
       "225  1ENyOW9qo2vrB-GdGzC2pz_cc4k6HgUjvq7BHw_9qT3rFVQ             10   \n",
       "\n",
       "                                            BSUM2_ID  BJGL_CHAMP_ID  \\\n",
       "225  hhkOYpDSscbeJVFVSG4yDy4hzpENeWEeZPGpesLZoll0Gro            421   \n",
       "\n",
       "                                            BSUM3_ID  BMID_CHAMP_ID  \\\n",
       "225  ybznjVYN6EPs01t8Xp6w5boMHTJj4OWyg4WBj8FASEaaYzA            134   \n",
       "\n",
       "                                            BSUM4_ID  BBOT_CHAMP_ID  ...  \\\n",
       "225  6J4CtYldCOYxToOuU8Xv5SCWWaNQbhlAuped5o7znoJ7l_8            360  ...   \n",
       "\n",
       "    FIRST_TOWER  BTOWER_KILLS  RTOWER_KILLS  FIRST_BARON  BBARON_KILLS  \\\n",
       "225        NONE             0             0         NONE             0   \n",
       "\n",
       "     RBARON_KILLS  FIRST_INHIB BINHIB_KILLS  RINHIB_KILLS WINNER  \n",
       "225             0         NONE            0             0    RED  \n",
       "\n",
       "[1 rows x 51 columns]"
      ]
     },
     "execution_count": 72,
     "metadata": {},
     "output_type": "execute_result"
    }
   ],
   "source": [
    "NA.iloc[[225]]"
   ]
  },
  {
   "cell_type": "code",
   "execution_count": 28,
   "metadata": {},
   "outputs": [],
   "source": [
    "NA1 = NA[:100]\n",
    "NA2 = NA[100:200]\n",
    "NA3 = NA[200:300]\n",
    "NA4 = NA[300:]"
   ]
  },
  {
   "cell_type": "code",
   "execution_count": 29,
   "metadata": {},
   "outputs": [],
   "source": [
    "'''\n",
    "This function uses the champion mastery api to get the champion mastery for a specific champion and summoner.\n",
    "\n",
    "Region can be: euw1, na1, kr\n",
    "Summoner input can be:\n",
    "-  BSUM1_ID - BSUM5_ID\n",
    "-  RSUM1_ID - RSUM5_ID\n",
    "\n",
    "Summoner_champ_id input can be:\n",
    "- BTOP_CHAMP_ID or RTOP_CHAMP_ID\n",
    "- BJGL_CHAMP_ID or RJGL_CHAMP_ID\n",
    "- BMID_CHAMP_ID or RMID_CHAMP_ID\n",
    "- BBOT_CHAMP_ID or RBOT_CHAMP_ID\n",
    "- BSUP_CHAMP_ID or RSUP_CHAMP_ID\n",
    "'''\n",
    "\n",
    "\n",
    "def champion_mastery(df, server, summoner, summoner_champ_id):\n",
    "\n",
    "    mastery_list = []\n",
    "    for i in range(len(df)):\n",
    "        summoner_id = df.iloc[i][summoner]\n",
    "        champion_id = df.iloc[i][summoner_champ_id]\n",
    "\n",
    "        try:\n",
    "            url = 'https://'+ server + '.api.riotgames.com/lol/champion-mastery/v4/champion-masteries/by-summoner/' + summoner_id + '/by-champion/' + str(champion_id)\n",
    "            res = re.get(url, headers=headers).json()\n",
    "\n",
    "            mastery = res['championPoints']\n",
    "            mastery_list.append(mastery)\n",
    "        except:\n",
    "            mastery_list.append('error')\n",
    "            pass\n",
    "\n",
    "    return mastery_list\n"
   ]
  },
  {
   "cell_type": "markdown",
   "metadata": {},
   "source": [
    "## Blue Top"
   ]
  },
  {
   "cell_type": "code",
   "execution_count": 30,
   "metadata": {},
   "outputs": [
    {
     "data": {
      "text/plain": [
       "379"
      ]
     },
     "execution_count": 30,
     "metadata": {},
     "output_type": "execute_result"
    }
   ],
   "source": [
    "Blue_top_list1 = champion_mastery(NA1, 'na1', 'BSUM1_ID', 'BTOP_CHAMP_ID')\n",
    "time.sleep(120)\n",
    "Blue_top_list2 = champion_mastery(NA2, 'na1', 'BSUM1_ID', 'BTOP_CHAMP_ID')\n",
    "time.sleep(120)\n",
    "Blue_top_list3 = champion_mastery(NA3, 'na1', 'BSUM1_ID', 'BTOP_CHAMP_ID')\n",
    "time.sleep(120)\n",
    "Blue_top_list4 = champion_mastery(NA4, 'na1', 'BSUM1_ID', 'BTOP_CHAMP_ID')\n",
    "time.sleep(120)\n",
    "Blue_TOP_list = Blue_top_list1 + Blue_top_list2 + Blue_top_list3 + Blue_top_list4\n",
    "len(Blue_TOP_list)"
   ]
  },
  {
   "cell_type": "code",
   "execution_count": 31,
   "metadata": {},
   "outputs": [
    {
     "name": "stdout",
     "output_type": "stream",
     "text": [
      "False\n"
     ]
    }
   ],
   "source": [
    "if 'error' in Blue_TOP_list:\n",
    "    print(True)\n",
    "else:\n",
    "    print(False)"
   ]
  },
  {
   "cell_type": "markdown",
   "metadata": {},
   "source": [
    "## Blue JGL"
   ]
  },
  {
   "cell_type": "code",
   "execution_count": 32,
   "metadata": {},
   "outputs": [
    {
     "data": {
      "text/plain": [
       "379"
      ]
     },
     "execution_count": 32,
     "metadata": {},
     "output_type": "execute_result"
    }
   ],
   "source": [
    "Blue_JGL_list1 = champion_mastery(NA1, 'na1', 'BSUM2_ID', 'BJGL_CHAMP_ID')\n",
    "time.sleep(120)\n",
    "Blue_JGL_list2 = champion_mastery(NA2, 'na1', 'BSUM2_ID', 'BJGL_CHAMP_ID')\n",
    "time.sleep(120)\n",
    "Blue_JGL_list3 = champion_mastery(NA3, 'na1', 'BSUM2_ID', 'BJGL_CHAMP_ID')\n",
    "time.sleep(120)\n",
    "Blue_JGL_list4 = champion_mastery(NA4, 'na1', 'BSUM2_ID', 'BJGL_CHAMP_ID')\n",
    "time.sleep(120)\n",
    "Blue_JGL_list = Blue_JGL_list1 + Blue_JGL_list2 + Blue_JGL_list3 + Blue_JGL_list4\n",
    "len(Blue_JGL_list)"
   ]
  },
  {
   "cell_type": "code",
   "execution_count": 33,
   "metadata": {},
   "outputs": [
    {
     "name": "stdout",
     "output_type": "stream",
     "text": [
      "False\n"
     ]
    }
   ],
   "source": [
    "if 'error' in Blue_JGL_list:\n",
    "    print(True)\n",
    "else:\n",
    "    print(False)"
   ]
  },
  {
   "cell_type": "markdown",
   "metadata": {},
   "source": [
    "## Blue MID"
   ]
  },
  {
   "cell_type": "code",
   "execution_count": 36,
   "metadata": {},
   "outputs": [
    {
     "data": {
      "text/plain": [
       "379"
      ]
     },
     "execution_count": 36,
     "metadata": {},
     "output_type": "execute_result"
    }
   ],
   "source": [
    "Blue_MID_list1 = champion_mastery(NA1, 'na1', 'BSUM3_ID', 'BMID_CHAMP_ID')\n",
    "time.sleep(120)\n",
    "Blue_MID_list2 = champion_mastery(NA2, 'na1', 'BSUM3_ID', 'BMID_CHAMP_ID')\n",
    "time.sleep(120)\n",
    "Blue_MID_list3 = champion_mastery(NA3, 'na1', 'BSUM3_ID', 'BMID_CHAMP_ID')\n",
    "time.sleep(120)\n",
    "Blue_MID_list4 = champion_mastery(NA4, 'na1', 'BSUM3_ID', 'BMID_CHAMP_ID')\n",
    "time.sleep(120)\n",
    "Blue_MID_list = Blue_MID_list1 + Blue_MID_list2 + Blue_MID_list3 + Blue_MID_list4\n",
    "len(Blue_MID_list)"
   ]
  },
  {
   "cell_type": "code",
   "execution_count": 37,
   "metadata": {},
   "outputs": [
    {
     "name": "stdout",
     "output_type": "stream",
     "text": [
      "False\n"
     ]
    }
   ],
   "source": [
    "if 'error' in Blue_MID_list:\n",
    "    print(True)\n",
    "else:\n",
    "    print(False)"
   ]
  },
  {
   "cell_type": "markdown",
   "metadata": {},
   "source": [
    "## Blue BOT"
   ]
  },
  {
   "cell_type": "code",
   "execution_count": 38,
   "metadata": {},
   "outputs": [
    {
     "data": {
      "text/plain": [
       "379"
      ]
     },
     "execution_count": 38,
     "metadata": {},
     "output_type": "execute_result"
    }
   ],
   "source": [
    "Blue_BOT_list1 = champion_mastery(NA1, 'na1', 'BSUM4_ID', 'BBOT_CHAMP_ID')\n",
    "time.sleep(120)\n",
    "Blue_BOT_list2 = champion_mastery(NA2, 'na1', 'BSUM4_ID', 'BBOT_CHAMP_ID')\n",
    "time.sleep(120)\n",
    "Blue_BOT_list3 = champion_mastery(NA3, 'na1', 'BSUM4_ID', 'BBOT_CHAMP_ID')\n",
    "time.sleep(120)\n",
    "Blue_BOT_list4 = champion_mastery(NA4, 'na1', 'BSUM4_ID', 'BBOT_CHAMP_ID')\n",
    "time.sleep(120)\n",
    "Blue_BOT_list = Blue_BOT_list1 + Blue_BOT_list2 + Blue_BOT_list3 + Blue_BOT_list4\n",
    "len(Blue_BOT_list)"
   ]
  },
  {
   "cell_type": "code",
   "execution_count": 39,
   "metadata": {},
   "outputs": [
    {
     "name": "stdout",
     "output_type": "stream",
     "text": [
      "False\n"
     ]
    }
   ],
   "source": [
    "if 'error' in Blue_BOT_list:\n",
    "    print(True)\n",
    "else:\n",
    "    print(False)"
   ]
  },
  {
   "cell_type": "markdown",
   "metadata": {},
   "source": [
    "## Blue SUP"
   ]
  },
  {
   "cell_type": "code",
   "execution_count": 40,
   "metadata": {},
   "outputs": [
    {
     "data": {
      "text/plain": [
       "379"
      ]
     },
     "execution_count": 40,
     "metadata": {},
     "output_type": "execute_result"
    }
   ],
   "source": [
    "Blue_SUP_list1 = champion_mastery(NA1, 'na1', 'BSUM5_ID', 'BSUP_CHAMP_ID')\n",
    "time.sleep(120)\n",
    "Blue_SUP_list2 = champion_mastery(NA2, 'na1', 'BSUM5_ID', 'BSUP_CHAMP_ID')\n",
    "time.sleep(120)\n",
    "Blue_SUP_list3 = champion_mastery(NA3, 'na1', 'BSUM5_ID', 'BSUP_CHAMP_ID')\n",
    "time.sleep(120)\n",
    "Blue_SUP_list4 = champion_mastery(NA4, 'na1', 'BSUM5_ID', 'BSUP_CHAMP_ID')\n",
    "time.sleep(120)\n",
    "Blue_SUP_list = Blue_SUP_list1 + Blue_SUP_list2 + Blue_SUP_list3 + Blue_SUP_list4\n",
    "len(Blue_SUP_list)"
   ]
  },
  {
   "cell_type": "code",
   "execution_count": 41,
   "metadata": {},
   "outputs": [
    {
     "name": "stdout",
     "output_type": "stream",
     "text": [
      "False\n"
     ]
    }
   ],
   "source": [
    "if 'error' in Blue_SUP_list:\n",
    "    print(True)\n",
    "else:\n",
    "    print(False)"
   ]
  },
  {
   "cell_type": "markdown",
   "metadata": {},
   "source": [
    "## Red TOP"
   ]
  },
  {
   "cell_type": "code",
   "execution_count": 59,
   "metadata": {},
   "outputs": [
    {
     "data": {
      "text/plain": [
       "379"
      ]
     },
     "execution_count": 59,
     "metadata": {},
     "output_type": "execute_result"
    }
   ],
   "source": [
    "Red_TOP_list1 = champion_mastery(NA1, 'na1', 'RSUM1_ID', 'RTOP_CHAMP_ID')\n",
    "time.sleep(120)\n",
    "Red_TOP_list2 = champion_mastery(NA2, 'na1', 'RSUM1_ID', 'RTOP_CHAMP_ID')\n",
    "time.sleep(120)\n",
    "Red_TOP_list3 = champion_mastery(NA3, 'na1', 'RSUM1_ID', 'RTOP_CHAMP_ID')\n",
    "time.sleep(120)\n",
    "Red_TOP_list4 = champion_mastery(NA4, 'na1', 'RSUM1_ID', 'RTOP_CHAMP_ID')\n",
    "time.sleep(120)\n",
    "Red_TOP_list = Red_TOP_list1 + Red_TOP_list2 + Red_TOP_list3 + Red_TOP_list4\n",
    "len(Red_TOP_list)"
   ]
  },
  {
   "cell_type": "code",
   "execution_count": 61,
   "metadata": {},
   "outputs": [
    {
     "name": "stdout",
     "output_type": "stream",
     "text": [
      "True\n"
     ]
    }
   ],
   "source": [
    "if 'error' in Red_TOP_list:\n",
    "    print(True)\n",
    "else:\n",
    "    print(False)"
   ]
  },
  {
   "cell_type": "code",
   "execution_count": 63,
   "metadata": {},
   "outputs": [
    {
     "data": {
      "text/plain": [
       "225"
      ]
     },
     "execution_count": 63,
     "metadata": {},
     "output_type": "execute_result"
    }
   ],
   "source": [
    "Red_TOP_list.index('error')"
   ]
  },
  {
   "cell_type": "code",
   "execution_count": 64,
   "metadata": {},
   "outputs": [
    {
     "data": {
      "text/plain": [
       "[1658054,\n",
       " 18405,\n",
       " 1003564,\n",
       " 596227,\n",
       " 64034,\n",
       " 32292,\n",
       " 892941,\n",
       " 1955369,\n",
       " 267752,\n",
       " 809226,\n",
       " 6783,\n",
       " 40316,\n",
       " 232476,\n",
       " 895246,\n",
       " 121829,\n",
       " 1554550,\n",
       " 219767,\n",
       " 295681,\n",
       " 1821627,\n",
       " 376387,\n",
       " 66349,\n",
       " 87440,\n",
       " 7272,\n",
       " 1022821,\n",
       " 98502,\n",
       " 816262,\n",
       " 43770,\n",
       " 125619,\n",
       " 48120,\n",
       " 33148,\n",
       " 265,\n",
       " 150696,\n",
       " 326832,\n",
       " 84683,\n",
       " 1554550,\n",
       " 118783,\n",
       " 346031,\n",
       " 23326,\n",
       " 32292,\n",
       " 157480,\n",
       " 281997,\n",
       " 376387,\n",
       " 60513,\n",
       " 593103,\n",
       " 24877,\n",
       " 63205,\n",
       " 758728,\n",
       " 25321,\n",
       " 271679,\n",
       " 376387,\n",
       " 1173664,\n",
       " 281970,\n",
       " 120267,\n",
       " 875,\n",
       " 8356,\n",
       " 111228,\n",
       " 192701,\n",
       " 6928,\n",
       " 13283,\n",
       " 29823,\n",
       " 153925,\n",
       " 150696,\n",
       " 964182,\n",
       " 1188436,\n",
       " 913512,\n",
       " 895246,\n",
       " 106171,\n",
       " 95147,\n",
       " 6528,\n",
       " 55126,\n",
       " 196077,\n",
       " 81143,\n",
       " 57342,\n",
       " 1143,\n",
       " 56799,\n",
       " 351995,\n",
       " 998524,\n",
       " 81143,\n",
       " 482246,\n",
       " 3745202,\n",
       " 333429,\n",
       " 7670,\n",
       " 394833,\n",
       " 258851,\n",
       " 6620,\n",
       " 181957,\n",
       " 173809,\n",
       " 947449,\n",
       " 809226,\n",
       " 26187,\n",
       " 733,\n",
       " 232476,\n",
       " 43906,\n",
       " 244095,\n",
       " 154745,\n",
       " 1288825,\n",
       " 122294,\n",
       " 376387,\n",
       " 100933,\n",
       " 67638,\n",
       " 253053,\n",
       " 407535,\n",
       " 723877,\n",
       " 29814,\n",
       " 1978756,\n",
       " 64344,\n",
       " 86796,\n",
       " 228657,\n",
       " 573749,\n",
       " 12375,\n",
       " 787616,\n",
       " 463587,\n",
       " 1071010,\n",
       " 3752,\n",
       " 494168,\n",
       " 81774,\n",
       " 205712,\n",
       " 6244,\n",
       " 331107,\n",
       " 858,\n",
       " 6221,\n",
       " 271679,\n",
       " 2326809,\n",
       " 392230,\n",
       " 30799,\n",
       " 100652,\n",
       " 959680,\n",
       " 33309,\n",
       " 515064,\n",
       " 129226,\n",
       " 27248,\n",
       " 399610,\n",
       " 321523,\n",
       " 28282,\n",
       " 515064,\n",
       " 723877,\n",
       " 494168,\n",
       " 964182,\n",
       " 69061,\n",
       " 33864,\n",
       " 414736,\n",
       " 24877,\n",
       " 59342,\n",
       " 172122,\n",
       " 21882,\n",
       " 330766,\n",
       " 1843851,\n",
       " 66078,\n",
       " 15600,\n",
       " 23778,\n",
       " 24034,\n",
       " 35147,\n",
       " 1029473,\n",
       " 7272,\n",
       " 891432,\n",
       " 18033,\n",
       " 59407,\n",
       " 330766,\n",
       " 185303,\n",
       " 38767,\n",
       " 5697,\n",
       " 494168,\n",
       " 149214,\n",
       " 12783,\n",
       " 10155,\n",
       " 30806,\n",
       " 131292,\n",
       " 139859,\n",
       " 11956,\n",
       " 1159895,\n",
       " 1978756,\n",
       " 20008,\n",
       " 5902,\n",
       " 190625,\n",
       " 221027,\n",
       " 83826,\n",
       " 1666691,\n",
       " 5697,\n",
       " 17330,\n",
       " 6985,\n",
       " 2421,\n",
       " 1018830,\n",
       " 37578,\n",
       " 132567,\n",
       " 154745,\n",
       " 225829,\n",
       " 23450,\n",
       " 100652,\n",
       " 13433,\n",
       " 816262,\n",
       " 698448,\n",
       " 354514,\n",
       " 12949,\n",
       " 12949,\n",
       " 29515,\n",
       " 44800,\n",
       " 33552,\n",
       " 241944,\n",
       " 26792,\n",
       " 1821627,\n",
       " 54708,\n",
       " 213675,\n",
       " 10083,\n",
       " 59378,\n",
       " 15600,\n",
       " 72187,\n",
       " 81537,\n",
       " 1562275,\n",
       " 593103,\n",
       " 2216889,\n",
       " 367016,\n",
       " 34190,\n",
       " 24877,\n",
       " 1216,\n",
       " 247554,\n",
       " 35205,\n",
       " 93548,\n",
       " 34190,\n",
       " 79876,\n",
       " 91224,\n",
       " 22202,\n",
       " 45647,\n",
       " 3145,\n",
       " 3382,\n",
       " 571,\n",
       " 'error',\n",
       " 1425264,\n",
       " 16542,\n",
       " 1574351,\n",
       " 96501,\n",
       " 12155,\n",
       " 3471,\n",
       " 176457,\n",
       " 150696,\n",
       " 309844,\n",
       " 193984,\n",
       " 10381,\n",
       " 73271,\n",
       " 19423,\n",
       " 185781,\n",
       " 157026,\n",
       " 15215,\n",
       " 228657,\n",
       " 47146,\n",
       " 26890,\n",
       " 262143,\n",
       " 1613,\n",
       " 81537,\n",
       " 44482,\n",
       " 4262,\n",
       " 89549,\n",
       " 840391,\n",
       " 121156,\n",
       " 179624,\n",
       " 376387,\n",
       " 133261,\n",
       " 4070,\n",
       " 56799,\n",
       " 76223,\n",
       " 81326,\n",
       " 81326,\n",
       " 24775,\n",
       " 7266,\n",
       " 94936,\n",
       " 99487,\n",
       " 75721,\n",
       " 96501,\n",
       " 90136,\n",
       " 217788,\n",
       " 29823,\n",
       " 23150,\n",
       " 120267,\n",
       " 2216889,\n",
       " 45298,\n",
       " 82844,\n",
       " 43948,\n",
       " 2216889,\n",
       " 313162,\n",
       " 641170,\n",
       " 2326809,\n",
       " 4451,\n",
       " 12949,\n",
       " 494168,\n",
       " 46421,\n",
       " 44493,\n",
       " 154424,\n",
       " 19870,\n",
       " 83953,\n",
       " 22472,\n",
       " 96193,\n",
       " 19423,\n",
       " 98502,\n",
       " 1392321,\n",
       " 365360,\n",
       " 24877,\n",
       " 252748,\n",
       " 74227,\n",
       " 352964,\n",
       " 68837,\n",
       " 1666691,\n",
       " 18665,\n",
       " 21500,\n",
       " 527166,\n",
       " 1392321,\n",
       " 1392321,\n",
       " 43781,\n",
       " 1554550,\n",
       " 199573,\n",
       " 88361,\n",
       " 20516,\n",
       " 28829,\n",
       " 130223,\n",
       " 176457,\n",
       " 1116790,\n",
       " 4361,\n",
       " 55961,\n",
       " 31505,\n",
       " 16890,\n",
       " 15183,\n",
       " 1173664,\n",
       " 2896346,\n",
       " 8475,\n",
       " 501294,\n",
       " 72067,\n",
       " 19440,\n",
       " 483567,\n",
       " 998524,\n",
       " 723877,\n",
       " 33552,\n",
       " 33552,\n",
       " 5697,\n",
       " 333429,\n",
       " 98502,\n",
       " 33552,\n",
       " 34190,\n",
       " 5697,\n",
       " 494168,\n",
       " 8907,\n",
       " 98502,\n",
       " 19609,\n",
       " 572463,\n",
       " 331107,\n",
       " 184666,\n",
       " 227546,\n",
       " 177380,\n",
       " 177380,\n",
       " 118322,\n",
       " 1233129,\n",
       " 546250,\n",
       " 231367,\n",
       " 31961,\n",
       " 304295,\n",
       " 74100,\n",
       " 9567,\n",
       " 26844,\n",
       " 1717613,\n",
       " 214913,\n",
       " 392230,\n",
       " 6640,\n",
       " 1978756,\n",
       " 98936,\n",
       " 451769,\n",
       " 1392321,\n",
       " 4640,\n",
       " 123563,\n",
       " 120267,\n",
       " 139859,\n",
       " 120267,\n",
       " 9429,\n",
       " 98936,\n",
       " 207356,\n",
       " 913512,\n",
       " 1595721,\n",
       " 389451,\n",
       " 98502,\n",
       " 2326809,\n",
       " 3745202,\n",
       " 1978756,\n",
       " 98502]"
      ]
     },
     "execution_count": 64,
     "metadata": {},
     "output_type": "execute_result"
    }
   ],
   "source": [
    "Red_TOP_list"
   ]
  },
  {
   "cell_type": "markdown",
   "metadata": {},
   "source": [
    "## Red JGL"
   ]
  },
  {
   "cell_type": "code",
   "execution_count": 44,
   "metadata": {},
   "outputs": [
    {
     "data": {
      "text/plain": [
       "379"
      ]
     },
     "execution_count": 44,
     "metadata": {},
     "output_type": "execute_result"
    }
   ],
   "source": [
    "Red_JGL_list1 = champion_mastery(NA1, 'na1', 'RSUM2_ID', 'RJGL_CHAMP_ID')\n",
    "time.sleep(120)\n",
    "Red_JGL_list2 = champion_mastery(NA2, 'na1', 'RSUM2_ID', 'RJGL_CHAMP_ID')\n",
    "time.sleep(120)\n",
    "Red_JGL_list3 = champion_mastery(NA3, 'na1', 'RSUM2_ID', 'RJGL_CHAMP_ID')\n",
    "time.sleep(120)\n",
    "Red_JGL_list4 = champion_mastery(NA4, 'na1', 'RSUM2_ID', 'RJGL_CHAMP_ID')\n",
    "time.sleep(120)\n",
    "Red_JGL_list = Red_JGL_list1 + Red_JGL_list2 + Red_JGL_list3 + Red_JGL_list4\n",
    "len(Red_JGL_list)"
   ]
  },
  {
   "cell_type": "code",
   "execution_count": 45,
   "metadata": {},
   "outputs": [
    {
     "name": "stdout",
     "output_type": "stream",
     "text": [
      "False\n"
     ]
    }
   ],
   "source": [
    "if 'error' in Red_JGL_list:\n",
    "    print(True)\n",
    "else:\n",
    "    print(False)"
   ]
  },
  {
   "cell_type": "markdown",
   "metadata": {},
   "source": [
    "## Red MID"
   ]
  },
  {
   "cell_type": "code",
   "execution_count": 46,
   "metadata": {},
   "outputs": [
    {
     "data": {
      "text/plain": [
       "379"
      ]
     },
     "execution_count": 46,
     "metadata": {},
     "output_type": "execute_result"
    }
   ],
   "source": [
    "Red_MID_list1 = champion_mastery(NA1, 'na1', 'RSUM3_ID', 'RMID_CHAMP_ID')\n",
    "time.sleep(120)\n",
    "Red_MID_list2 = champion_mastery(NA2, 'na1', 'RSUM3_ID', 'RMID_CHAMP_ID')\n",
    "time.sleep(120)\n",
    "Red_MID_list3 = champion_mastery(NA3, 'na1', 'RSUM3_ID', 'RMID_CHAMP_ID')\n",
    "time.sleep(120)\n",
    "Red_MID_list4 = champion_mastery(NA4, 'na1', 'RSUM3_ID', 'RMID_CHAMP_ID')\n",
    "time.sleep(120)\n",
    "Red_MID_list = Red_MID_list1 + Red_MID_list2 + Red_MID_list3 + Red_MID_list4\n",
    "len(Red_MID_list)"
   ]
  },
  {
   "cell_type": "code",
   "execution_count": 47,
   "metadata": {},
   "outputs": [
    {
     "name": "stdout",
     "output_type": "stream",
     "text": [
      "False\n"
     ]
    }
   ],
   "source": [
    "if 'error' in Red_MID_list:\n",
    "    print(True)\n",
    "else:\n",
    "    print(False)"
   ]
  },
  {
   "cell_type": "markdown",
   "metadata": {},
   "source": [
    "## Red BOT"
   ]
  },
  {
   "cell_type": "code",
   "execution_count": 48,
   "metadata": {},
   "outputs": [
    {
     "data": {
      "text/plain": [
       "379"
      ]
     },
     "execution_count": 48,
     "metadata": {},
     "output_type": "execute_result"
    }
   ],
   "source": [
    "Red_BOT_list1 = champion_mastery(NA1, 'na1', 'RSUM4_ID', 'RBOT_CHAMP_ID')\n",
    "time.sleep(120)\n",
    "Red_BOT_list2 = champion_mastery(NA2, 'na1', 'RSUM4_ID', 'RBOT_CHAMP_ID')\n",
    "time.sleep(120)\n",
    "Red_BOT_list3 = champion_mastery(NA3, 'na1', 'RSUM4_ID', 'RBOT_CHAMP_ID')\n",
    "time.sleep(120)\n",
    "Red_BOT_list4 = champion_mastery(NA4, 'na1', 'RSUM4_ID', 'RBOT_CHAMP_ID')\n",
    "time.sleep(120)\n",
    "Red_BOT_list = Red_BOT_list1 + Red_BOT_list2 + Red_BOT_list3 + Red_BOT_list4\n",
    "len(Red_BOT_list)"
   ]
  },
  {
   "cell_type": "code",
   "execution_count": 49,
   "metadata": {},
   "outputs": [
    {
     "name": "stdout",
     "output_type": "stream",
     "text": [
      "False\n"
     ]
    }
   ],
   "source": [
    "if 'error' in Red_BOT_list:\n",
    "    print(True)\n",
    "else:\n",
    "    print(False)"
   ]
  },
  {
   "cell_type": "markdown",
   "metadata": {},
   "source": [
    "## Red SUP"
   ]
  },
  {
   "cell_type": "code",
   "execution_count": 50,
   "metadata": {},
   "outputs": [
    {
     "data": {
      "text/plain": [
       "379"
      ]
     },
     "execution_count": 50,
     "metadata": {},
     "output_type": "execute_result"
    }
   ],
   "source": [
    "Red_SUP_list1 = champion_mastery(NA1, 'na1', 'RSUM5_ID', 'RSUP_CHAMP_ID')\n",
    "time.sleep(120)\n",
    "Red_SUP_list2 = champion_mastery(NA2, 'na1', 'RSUM5_ID', 'RSUP_CHAMP_ID')\n",
    "time.sleep(120)\n",
    "Red_SUP_list3 = champion_mastery(NA3, 'na1', 'RSUM5_ID', 'RSUP_CHAMP_ID')\n",
    "time.sleep(120)\n",
    "Red_SUP_list4 = champion_mastery(NA4, 'na1', 'RSUM5_ID', 'RSUP_CHAMP_ID')\n",
    "time.sleep(120)\n",
    "Red_SUP_list = Red_SUP_list1 + Red_SUP_list2 + Red_SUP_list3 + Red_SUP_list4\n",
    "len(Red_SUP_list)"
   ]
  },
  {
   "cell_type": "code",
   "execution_count": 51,
   "metadata": {},
   "outputs": [
    {
     "name": "stdout",
     "output_type": "stream",
     "text": [
      "False\n"
     ]
    }
   ],
   "source": [
    "if 'error' in Red_SUP_list:\n",
    "    print(True)\n",
    "else:\n",
    "    print(False)"
   ]
  },
  {
   "cell_type": "markdown",
   "metadata": {},
   "source": [
    "## Champion Mastery Dataset"
   ]
  },
  {
   "cell_type": "code",
   "execution_count": 77,
   "metadata": {},
   "outputs": [
    {
     "data": {
      "text/html": [
       "<div>\n",
       "<style scoped>\n",
       "    .dataframe tbody tr th:only-of-type {\n",
       "        vertical-align: middle;\n",
       "    }\n",
       "\n",
       "    .dataframe tbody tr th {\n",
       "        vertical-align: top;\n",
       "    }\n",
       "\n",
       "    .dataframe thead th {\n",
       "        text-align: right;\n",
       "    }\n",
       "</style>\n",
       "<table border=\"1\" class=\"dataframe\">\n",
       "  <thead>\n",
       "    <tr style=\"text-align: right;\">\n",
       "      <th></th>\n",
       "      <th>BTOP_CHAMP_MAST</th>\n",
       "      <th>BJGL_CHAMP_MAST</th>\n",
       "      <th>BMID_CHAMP_MAST</th>\n",
       "      <th>BBOT_CHAMP_MAST</th>\n",
       "      <th>BSUP_CHAMP_MAST</th>\n",
       "      <th>RTOP_CHAMP_MAST</th>\n",
       "      <th>RJGL_CHAMP_MAST</th>\n",
       "      <th>RMID_CHAMP_MAST</th>\n",
       "      <th>RBOT_CHAMP_MAST</th>\n",
       "      <th>RSUP_CHAMP_MAST</th>\n",
       "    </tr>\n",
       "  </thead>\n",
       "  <tbody>\n",
       "    <tr>\n",
       "      <th>0</th>\n",
       "      <td>24775</td>\n",
       "      <td>2414</td>\n",
       "      <td>9967</td>\n",
       "      <td>54102</td>\n",
       "      <td>429503</td>\n",
       "      <td>1658054</td>\n",
       "      <td>15682</td>\n",
       "      <td>143237</td>\n",
       "      <td>83</td>\n",
       "      <td>25745</td>\n",
       "    </tr>\n",
       "    <tr>\n",
       "      <th>1</th>\n",
       "      <td>187696</td>\n",
       "      <td>11695</td>\n",
       "      <td>143237</td>\n",
       "      <td>54102</td>\n",
       "      <td>169710</td>\n",
       "      <td>18405</td>\n",
       "      <td>869400</td>\n",
       "      <td>20193</td>\n",
       "      <td>201021</td>\n",
       "      <td>14692</td>\n",
       "    </tr>\n",
       "    <tr>\n",
       "      <th>2</th>\n",
       "      <td>75754</td>\n",
       "      <td>29543</td>\n",
       "      <td>24789</td>\n",
       "      <td>2018</td>\n",
       "      <td>4643</td>\n",
       "      <td>1003564</td>\n",
       "      <td>7139</td>\n",
       "      <td>149442</td>\n",
       "      <td>20536</td>\n",
       "      <td>32735</td>\n",
       "    </tr>\n",
       "    <tr>\n",
       "      <th>3</th>\n",
       "      <td>676942</td>\n",
       "      <td>26248</td>\n",
       "      <td>966580</td>\n",
       "      <td>100651</td>\n",
       "      <td>199</td>\n",
       "      <td>596227</td>\n",
       "      <td>1121660</td>\n",
       "      <td>45616</td>\n",
       "      <td>23540</td>\n",
       "      <td>541359</td>\n",
       "    </tr>\n",
       "    <tr>\n",
       "      <th>4</th>\n",
       "      <td>12820</td>\n",
       "      <td>218760</td>\n",
       "      <td>301346</td>\n",
       "      <td>26261</td>\n",
       "      <td>27904</td>\n",
       "      <td>64034</td>\n",
       "      <td>1121660</td>\n",
       "      <td>38006</td>\n",
       "      <td>54102</td>\n",
       "      <td>178676</td>\n",
       "    </tr>\n",
       "  </tbody>\n",
       "</table>\n",
       "</div>"
      ],
      "text/plain": [
       "   BTOP_CHAMP_MAST  BJGL_CHAMP_MAST  BMID_CHAMP_MAST  BBOT_CHAMP_MAST  \\\n",
       "0            24775             2414             9967            54102   \n",
       "1           187696            11695           143237            54102   \n",
       "2            75754            29543            24789             2018   \n",
       "3           676942            26248           966580           100651   \n",
       "4            12820           218760           301346            26261   \n",
       "\n",
       "   BSUP_CHAMP_MAST RTOP_CHAMP_MAST  RJGL_CHAMP_MAST  RMID_CHAMP_MAST  \\\n",
       "0           429503         1658054            15682           143237   \n",
       "1           169710           18405           869400            20193   \n",
       "2             4643         1003564             7139           149442   \n",
       "3              199          596227          1121660            45616   \n",
       "4            27904           64034          1121660            38006   \n",
       "\n",
       "   RBOT_CHAMP_MAST  RSUP_CHAMP_MAST  \n",
       "0               83            25745  \n",
       "1           201021            14692  \n",
       "2            20536            32735  \n",
       "3            23540           541359  \n",
       "4            54102           178676  "
      ]
     },
     "execution_count": 77,
     "metadata": {},
     "output_type": "execute_result"
    }
   ],
   "source": [
    "NA_mastery = pd.DataFrame()\n",
    "NA_mastery['BTOP_CHAMP_MAST'] = Blue_TOP_list\n",
    "NA_mastery['BJGL_CHAMP_MAST'] = Blue_JGL_list\n",
    "NA_mastery['BMID_CHAMP_MAST'] = Blue_MID_list\n",
    "NA_mastery['BBOT_CHAMP_MAST'] = Blue_BOT_list\n",
    "NA_mastery['BSUP_CHAMP_MAST'] = Blue_SUP_list\n",
    "NA_mastery['RTOP_CHAMP_MAST'] = Red_TOP_list\n",
    "NA_mastery['RJGL_CHAMP_MAST'] = Red_JGL_list\n",
    "NA_mastery['RMID_CHAMP_MAST'] = Red_MID_list\n",
    "NA_mastery['RBOT_CHAMP_MAST'] = Red_BOT_list\n",
    "NA_mastery['RSUP_CHAMP_MAST'] = Red_SUP_list\n",
    "NA_mastery.head()"
   ]
  },
  {
   "cell_type": "code",
   "execution_count": 78,
   "metadata": {},
   "outputs": [
    {
     "data": {
      "text/plain": [
       "BTOP_CHAMP_MAST    False\n",
       "BJGL_CHAMP_MAST    False\n",
       "BMID_CHAMP_MAST    False\n",
       "BBOT_CHAMP_MAST    False\n",
       "BSUP_CHAMP_MAST    False\n",
       "RTOP_CHAMP_MAST     True\n",
       "RJGL_CHAMP_MAST    False\n",
       "RMID_CHAMP_MAST    False\n",
       "RBOT_CHAMP_MAST    False\n",
       "RSUP_CHAMP_MAST    False\n",
       "dtype: bool"
      ]
     },
     "execution_count": 78,
     "metadata": {},
     "output_type": "execute_result"
    }
   ],
   "source": [
    "NA_mastery.isin([\"error\"]).any()"
   ]
  },
  {
   "cell_type": "code",
   "execution_count": 76,
   "metadata": {},
   "outputs": [],
   "source": [
    "NA_mastery.to_csv('NA_mastery_379.csv', index=False)"
   ]
  },
  {
   "cell_type": "code",
   "execution_count": null,
   "metadata": {},
   "outputs": [],
   "source": []
  }
 ],
 "metadata": {
  "interpreter": {
   "hash": "39512f3c2a1741d7f752d45a133d4514127029333ea14bc2f3c6c5e6759b9029"
  },
  "kernelspec": {
   "display_name": "Python 3.8.13 ('base_env')",
   "language": "python",
   "name": "python3"
  },
  "language_info": {
   "codemirror_mode": {
    "name": "ipython",
    "version": 3
   },
   "file_extension": ".py",
   "mimetype": "text/x-python",
   "name": "python",
   "nbconvert_exporter": "python",
   "pygments_lexer": "ipython3",
   "version": "3.8.13"
  },
  "orig_nbformat": 4
 },
 "nbformat": 4,
 "nbformat_minor": 2
}
