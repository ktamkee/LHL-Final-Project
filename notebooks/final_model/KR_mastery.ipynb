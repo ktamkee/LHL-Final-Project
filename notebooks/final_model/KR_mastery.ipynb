{
 "cells": [
  {
   "cell_type": "markdown",
   "metadata": {},
   "source": [
    "# Champion Mastery - Korea"
   ]
  },
  {
   "cell_type": "code",
   "execution_count": 32,
   "metadata": {},
   "outputs": [],
   "source": [
    "import numpy as np\n",
    "import pandas as pd\n",
    "import requests as re\n",
    "import time"
   ]
  },
  {
   "cell_type": "code",
   "execution_count": 33,
   "metadata": {},
   "outputs": [],
   "source": [
    "headers = {\n",
    "    \"User-Agent\": \"Mozilla/5.0 (Macintosh; Intel Mac OS X 10_15_7) AppleWebKit/537.36 (KHTML, like Gecko) Chrome/103.0.5060.134 Safari/537.36 Edg/103.0.1264.77\",\n",
    "    \"Accept-Language\": \"en-CA,en-US;q=0.9,en;q=0.8\",\n",
    "    \"Accept-Charset\": \"application/x-www-form-urlencoded; charset=UTF-8\",\n",
    "    \"Origin\": \"https://developer.riotgames.com\",\n",
    "    \"X-Riot-Token\": \"RGAPI-046cac00-eb22-432a-94e1-9c68bd571a92\"\n",
    "}"
   ]
  },
  {
   "cell_type": "code",
   "execution_count": 34,
   "metadata": {},
   "outputs": [
    {
     "data": {
      "text/html": [
       "<div>\n",
       "<style scoped>\n",
       "    .dataframe tbody tr th:only-of-type {\n",
       "        vertical-align: middle;\n",
       "    }\n",
       "\n",
       "    .dataframe tbody tr th {\n",
       "        vertical-align: top;\n",
       "    }\n",
       "\n",
       "    .dataframe thead th {\n",
       "        text-align: right;\n",
       "    }\n",
       "</style>\n",
       "<table border=\"1\" class=\"dataframe\">\n",
       "  <thead>\n",
       "    <tr style=\"text-align: right;\">\n",
       "      <th></th>\n",
       "      <th>SERVER</th>\n",
       "      <th>MATCH_ID</th>\n",
       "      <th>BSUM1_ID</th>\n",
       "      <th>BTOP_CHAMP_ID</th>\n",
       "      <th>BSUM2_ID</th>\n",
       "      <th>BJGL_CHAMP_ID</th>\n",
       "      <th>BSUM3_ID</th>\n",
       "      <th>BMID_CHAMP_ID</th>\n",
       "      <th>BSUM4_ID</th>\n",
       "      <th>BBOT_CHAMP_ID</th>\n",
       "      <th>...</th>\n",
       "      <th>FIRST_TOWER</th>\n",
       "      <th>BTOWER_KILLS</th>\n",
       "      <th>RTOWER_KILLS</th>\n",
       "      <th>FIRST_BARON</th>\n",
       "      <th>BBARON_KILLS</th>\n",
       "      <th>RBARON_KILLS</th>\n",
       "      <th>FIRST_INHIB</th>\n",
       "      <th>BINHIB_KILLS</th>\n",
       "      <th>RINHIB_KILLS</th>\n",
       "      <th>WINNER</th>\n",
       "    </tr>\n",
       "  </thead>\n",
       "  <tbody>\n",
       "    <tr>\n",
       "      <th>0</th>\n",
       "      <td>KOREA</td>\n",
       "      <td>KR_6057844675</td>\n",
       "      <td>sbDHeqqUvLDhNA3yYnS3t93fG4d9doqldZjOkb3rwrybN_...</td>\n",
       "      <td>59</td>\n",
       "      <td>3PV_W4RY09TzgEQfBZNdSlsHFwxjwbjzIwXsawLuoSVYyp...</td>\n",
       "      <td>60</td>\n",
       "      <td>C8JeB0UVt7XBWdBC1EsTOMUecwXQ7M2s3aT8BiB6GCyoE4E</td>\n",
       "      <td>777</td>\n",
       "      <td>agy7tVJmthI4QFrgcC_GjBbhdd0juuBeCIIRwH-sS0AM1ek</td>\n",
       "      <td>157</td>\n",
       "      <td>...</td>\n",
       "      <td>RED</td>\n",
       "      <td>1</td>\n",
       "      <td>10</td>\n",
       "      <td>RED</td>\n",
       "      <td>0</td>\n",
       "      <td>1</td>\n",
       "      <td>RED</td>\n",
       "      <td>0</td>\n",
       "      <td>1</td>\n",
       "      <td>RED</td>\n",
       "    </tr>\n",
       "    <tr>\n",
       "      <th>1</th>\n",
       "      <td>KOREA</td>\n",
       "      <td>KR_6055710166</td>\n",
       "      <td>TOvKujDuw_rTCUebjSXidH8OJf_IoReR-YNkEDRhF-xCoOA</td>\n",
       "      <td>266</td>\n",
       "      <td>8K1yx07pCws-gzQxIzqyuoyVtEGbaUk35YQDtbEyoFgIA2Y</td>\n",
       "      <td>234</td>\n",
       "      <td>cTfhhY3u5vrB4LTFhUaJgVggwi1IKy14mnQRaL4lYT-SBQ</td>\n",
       "      <td>103</td>\n",
       "      <td>neTBID6mtg2VghrIdOtPVxRrBRJ4elf07mPURSA9hfz9bPc</td>\n",
       "      <td>15</td>\n",
       "      <td>...</td>\n",
       "      <td>BLUE</td>\n",
       "      <td>5</td>\n",
       "      <td>0</td>\n",
       "      <td>NONE</td>\n",
       "      <td>0</td>\n",
       "      <td>0</td>\n",
       "      <td>NONE</td>\n",
       "      <td>0</td>\n",
       "      <td>0</td>\n",
       "      <td>BLUE</td>\n",
       "    </tr>\n",
       "    <tr>\n",
       "      <th>2</th>\n",
       "      <td>KOREA</td>\n",
       "      <td>KR_6055326646</td>\n",
       "      <td>vw7N9YLAgtt3OEuzBHDzq7gQjIcdhK-crpvGNdbm7co2dck</td>\n",
       "      <td>29</td>\n",
       "      <td>EV23s0Fe5ptC8cyk1148besP5YnAtguSS9golPxZRwvwEyo</td>\n",
       "      <td>62</td>\n",
       "      <td>5C7Ab5bDdvKhppo5D5JoCiGkuW98oNYJLrjZPfo5cqpG20M</td>\n",
       "      <td>888</td>\n",
       "      <td>aFwzyFYDcqUvZje-bKywj8NPVlMxGj-MfCahYynTXvYVysQ</td>\n",
       "      <td>887</td>\n",
       "      <td>...</td>\n",
       "      <td>BLUE</td>\n",
       "      <td>5</td>\n",
       "      <td>0</td>\n",
       "      <td>NONE</td>\n",
       "      <td>0</td>\n",
       "      <td>0</td>\n",
       "      <td>NONE</td>\n",
       "      <td>0</td>\n",
       "      <td>0</td>\n",
       "      <td>BLUE</td>\n",
       "    </tr>\n",
       "    <tr>\n",
       "      <th>3</th>\n",
       "      <td>KOREA</td>\n",
       "      <td>KR_6053723720</td>\n",
       "      <td>5A4WJpFsCzkRoVDHzNAVO6bre5LRlLSlu5bDjX2oBOs9qKE</td>\n",
       "      <td>113</td>\n",
       "      <td>MDqGtPmXx3f2LMeKFTuWuI53bD4usXQCxyua869BLnh8Wx...</td>\n",
       "      <td>80</td>\n",
       "      <td>KgSuGOGxEJikfizSiVtI5v9QcqtN2aPrEmWAyP3Rj9bkuB0</td>\n",
       "      <td>711</td>\n",
       "      <td>T9cTTfK038tIME3U2xPWTaO4Vl20PhEfKnp9JQSobN8OCrk</td>\n",
       "      <td>523</td>\n",
       "      <td>...</td>\n",
       "      <td>RED</td>\n",
       "      <td>6</td>\n",
       "      <td>10</td>\n",
       "      <td>BLUE</td>\n",
       "      <td>1</td>\n",
       "      <td>0</td>\n",
       "      <td>RED</td>\n",
       "      <td>1</td>\n",
       "      <td>2</td>\n",
       "      <td>RED</td>\n",
       "    </tr>\n",
       "    <tr>\n",
       "      <th>4</th>\n",
       "      <td>KOREA</td>\n",
       "      <td>KR_6053619349</td>\n",
       "      <td>q3wZkwddVzV3gqDEZuE7l65m8U0j40aFprEdroCXXRyFXi0</td>\n",
       "      <td>14</td>\n",
       "      <td>Tx5p5q4af3CF8ckXbeZCZk4-RD8WepIX3KU1NzF5BS5swQ...</td>\n",
       "      <td>64</td>\n",
       "      <td>FR8ABgAmWaIHci98kpniqL3iddOz_W2zUv3gfV_GjpT74vGk</td>\n",
       "      <td>711</td>\n",
       "      <td>lhTGXwclX7jr-nYbvC1dwC4LaHBJhddgLzqhzO-GeMu62T...</td>\n",
       "      <td>221</td>\n",
       "      <td>...</td>\n",
       "      <td>BLUE</td>\n",
       "      <td>8</td>\n",
       "      <td>3</td>\n",
       "      <td>BLUE</td>\n",
       "      <td>1</td>\n",
       "      <td>0</td>\n",
       "      <td>BLUE</td>\n",
       "      <td>1</td>\n",
       "      <td>0</td>\n",
       "      <td>BLUE</td>\n",
       "    </tr>\n",
       "  </tbody>\n",
       "</table>\n",
       "<p>5 rows × 51 columns</p>\n",
       "</div>"
      ],
      "text/plain": [
       "  SERVER       MATCH_ID                                           BSUM1_ID  \\\n",
       "0  KOREA  KR_6057844675  sbDHeqqUvLDhNA3yYnS3t93fG4d9doqldZjOkb3rwrybN_...   \n",
       "1  KOREA  KR_6055710166    TOvKujDuw_rTCUebjSXidH8OJf_IoReR-YNkEDRhF-xCoOA   \n",
       "2  KOREA  KR_6055326646    vw7N9YLAgtt3OEuzBHDzq7gQjIcdhK-crpvGNdbm7co2dck   \n",
       "3  KOREA  KR_6053723720    5A4WJpFsCzkRoVDHzNAVO6bre5LRlLSlu5bDjX2oBOs9qKE   \n",
       "4  KOREA  KR_6053619349    q3wZkwddVzV3gqDEZuE7l65m8U0j40aFprEdroCXXRyFXi0   \n",
       "\n",
       "   BTOP_CHAMP_ID                                           BSUM2_ID  \\\n",
       "0             59  3PV_W4RY09TzgEQfBZNdSlsHFwxjwbjzIwXsawLuoSVYyp...   \n",
       "1            266    8K1yx07pCws-gzQxIzqyuoyVtEGbaUk35YQDtbEyoFgIA2Y   \n",
       "2             29    EV23s0Fe5ptC8cyk1148besP5YnAtguSS9golPxZRwvwEyo   \n",
       "3            113  MDqGtPmXx3f2LMeKFTuWuI53bD4usXQCxyua869BLnh8Wx...   \n",
       "4             14  Tx5p5q4af3CF8ckXbeZCZk4-RD8WepIX3KU1NzF5BS5swQ...   \n",
       "\n",
       "   BJGL_CHAMP_ID                                          BSUM3_ID  \\\n",
       "0             60   C8JeB0UVt7XBWdBC1EsTOMUecwXQ7M2s3aT8BiB6GCyoE4E   \n",
       "1            234    cTfhhY3u5vrB4LTFhUaJgVggwi1IKy14mnQRaL4lYT-SBQ   \n",
       "2             62   5C7Ab5bDdvKhppo5D5JoCiGkuW98oNYJLrjZPfo5cqpG20M   \n",
       "3             80   KgSuGOGxEJikfizSiVtI5v9QcqtN2aPrEmWAyP3Rj9bkuB0   \n",
       "4             64  FR8ABgAmWaIHci98kpniqL3iddOz_W2zUv3gfV_GjpT74vGk   \n",
       "\n",
       "   BMID_CHAMP_ID                                           BSUM4_ID  \\\n",
       "0            777    agy7tVJmthI4QFrgcC_GjBbhdd0juuBeCIIRwH-sS0AM1ek   \n",
       "1            103    neTBID6mtg2VghrIdOtPVxRrBRJ4elf07mPURSA9hfz9bPc   \n",
       "2            888    aFwzyFYDcqUvZje-bKywj8NPVlMxGj-MfCahYynTXvYVysQ   \n",
       "3            711    T9cTTfK038tIME3U2xPWTaO4Vl20PhEfKnp9JQSobN8OCrk   \n",
       "4            711  lhTGXwclX7jr-nYbvC1dwC4LaHBJhddgLzqhzO-GeMu62T...   \n",
       "\n",
       "   BBOT_CHAMP_ID  ... FIRST_TOWER  BTOWER_KILLS  RTOWER_KILLS  FIRST_BARON  \\\n",
       "0            157  ...         RED             1            10          RED   \n",
       "1             15  ...        BLUE             5             0         NONE   \n",
       "2            887  ...        BLUE             5             0         NONE   \n",
       "3            523  ...         RED             6            10         BLUE   \n",
       "4            221  ...        BLUE             8             3         BLUE   \n",
       "\n",
       "   BBARON_KILLS  RBARON_KILLS  FIRST_INHIB BINHIB_KILLS  RINHIB_KILLS WINNER  \n",
       "0             0             1          RED            0             1    RED  \n",
       "1             0             0         NONE            0             0   BLUE  \n",
       "2             0             0         NONE            0             0   BLUE  \n",
       "3             1             0          RED            1             2    RED  \n",
       "4             1             0         BLUE            1             0   BLUE  \n",
       "\n",
       "[5 rows x 51 columns]"
      ]
     },
     "execution_count": 34,
     "metadata": {},
     "output_type": "execute_result"
    }
   ],
   "source": [
    "KR = pd.read_csv('../../data/first_model/raw/KR_all_data_358.csv')\n",
    "KR.head()"
   ]
  },
  {
   "cell_type": "code",
   "execution_count": 35,
   "metadata": {},
   "outputs": [
    {
     "data": {
      "text/plain": [
       "(358, 51)"
      ]
     },
     "execution_count": 35,
     "metadata": {},
     "output_type": "execute_result"
    }
   ],
   "source": [
    "KR.shape"
   ]
  },
  {
   "cell_type": "code",
   "execution_count": 36,
   "metadata": {},
   "outputs": [],
   "source": [
    "KR1 = KR[:90]\n",
    "KR2 = KR[90:180]\n",
    "KR3 = KR[180:270]\n",
    "KR4 = KR[270:]"
   ]
  },
  {
   "cell_type": "code",
   "execution_count": 37,
   "metadata": {},
   "outputs": [],
   "source": [
    "'''\n",
    "This function uses the champion mastery api to get the champion mastery for a specific champion and summoner.\n",
    "\n",
    "Region can be: euw1, na1, kr\n",
    "Summoner input can be:\n",
    "-  BSUM1_ID - BSUM5_ID\n",
    "-  RSUM1_ID - RSUM5_ID\n",
    "\n",
    "Summoner_champ_id input can be:\n",
    "- BTOP_CHAMP_ID or RTOP_CHAMP_ID\n",
    "- BJGL_CHAMP_ID or RJGL_CHAMP_ID\n",
    "- BMID_CHAMP_ID or RMID_CHAMP_ID\n",
    "- BBOT_CHAMP_ID or RBOT_CHAMP_ID\n",
    "- BSUP_CHAMP_ID or RSUP_CHAMP_ID\n",
    "'''\n",
    "\n",
    "\n",
    "def champion_mastery(df, server, summoner, summoner_champ_id):\n",
    "\n",
    "    mastery_list = []\n",
    "    for i in range(len(df)):\n",
    "        summoner_id = df.iloc[i][summoner]\n",
    "        champion_id = df.iloc[i][summoner_champ_id]\n",
    "\n",
    "        try:\n",
    "            url = 'https://'+ server + '.api.riotgames.com/lol/champion-mastery/v4/champion-masteries/by-summoner/' + summoner_id + '/by-champion/' + str(champion_id)\n",
    "            res = re.get(url, headers=headers).json()\n",
    "\n",
    "            mastery = res['championPoints']\n",
    "            mastery_list.append(mastery)\n",
    "        except:\n",
    "            mastery_list.append('error')\n",
    "            pass\n",
    "\n",
    "    return mastery_list\n"
   ]
  },
  {
   "cell_type": "markdown",
   "metadata": {},
   "source": [
    "## Blue Top"
   ]
  },
  {
   "cell_type": "code",
   "execution_count": 38,
   "metadata": {},
   "outputs": [
    {
     "data": {
      "text/plain": [
       "358"
      ]
     },
     "execution_count": 38,
     "metadata": {},
     "output_type": "execute_result"
    }
   ],
   "source": [
    "Blue_top_list1 = champion_mastery(KR1, 'kr', 'BSUM1_ID', 'BTOP_CHAMP_ID')\n",
    "time.sleep(120)\n",
    "Blue_top_list2 = champion_mastery(KR2, 'kr', 'BSUM1_ID', 'BTOP_CHAMP_ID')\n",
    "time.sleep(120)\n",
    "Blue_top_list3 = champion_mastery(KR3, 'kr', 'BSUM1_ID', 'BTOP_CHAMP_ID')\n",
    "time.sleep(120)\n",
    "Blue_top_list4 = champion_mastery(KR4, 'kr', 'BSUM1_ID', 'BTOP_CHAMP_ID')\n",
    "time.sleep(120)\n",
    "Blue_TOP_list = Blue_top_list1 + Blue_top_list2 + Blue_top_list3 + Blue_top_list4\n",
    "len(Blue_TOP_list)"
   ]
  },
  {
   "cell_type": "code",
   "execution_count": 39,
   "metadata": {},
   "outputs": [
    {
     "name": "stdout",
     "output_type": "stream",
     "text": [
      "False\n"
     ]
    }
   ],
   "source": [
    "if 'error' in Blue_TOP_list:\n",
    "    print(True)\n",
    "else:\n",
    "    print(False)"
   ]
  },
  {
   "cell_type": "markdown",
   "metadata": {},
   "source": [
    "## Blue JGL"
   ]
  },
  {
   "cell_type": "code",
   "execution_count": 43,
   "metadata": {},
   "outputs": [
    {
     "data": {
      "text/plain": [
       "358"
      ]
     },
     "execution_count": 43,
     "metadata": {},
     "output_type": "execute_result"
    }
   ],
   "source": [
    "Blue_JGL_list1 = champion_mastery(KR1, 'kr', 'BSUM2_ID', 'BJGL_CHAMP_ID')\n",
    "time.sleep(120)\n",
    "Blue_JGL_list2 = champion_mastery(KR2, 'kr', 'BSUM2_ID', 'BJGL_CHAMP_ID')\n",
    "time.sleep(120)\n",
    "Blue_JGL_list3 = champion_mastery(KR3, 'kr', 'BSUM2_ID', 'BJGL_CHAMP_ID')\n",
    "time.sleep(120)\n",
    "Blue_JGL_list4 = champion_mastery(KR4, 'kr', 'BSUM2_ID', 'BJGL_CHAMP_ID')\n",
    "time.sleep(120)\n",
    "Blue_JGL_list = Blue_JGL_list1 + Blue_JGL_list2 + Blue_JGL_list3 + Blue_JGL_list4\n",
    "len(Blue_JGL_list)"
   ]
  },
  {
   "cell_type": "code",
   "execution_count": 44,
   "metadata": {},
   "outputs": [
    {
     "name": "stdout",
     "output_type": "stream",
     "text": [
      "False\n"
     ]
    }
   ],
   "source": [
    "if 'error' in Blue_JGL_list:\n",
    "    print(True)\n",
    "else:\n",
    "    print(False)"
   ]
  },
  {
   "cell_type": "markdown",
   "metadata": {},
   "source": [
    "## Blue MID"
   ]
  },
  {
   "cell_type": "code",
   "execution_count": 45,
   "metadata": {},
   "outputs": [
    {
     "data": {
      "text/plain": [
       "358"
      ]
     },
     "execution_count": 45,
     "metadata": {},
     "output_type": "execute_result"
    }
   ],
   "source": [
    "Blue_MID_list1 = champion_mastery(KR1, 'kr', 'BSUM3_ID', 'BMID_CHAMP_ID')\n",
    "time.sleep(120)\n",
    "Blue_MID_list2 = champion_mastery(KR2, 'kr', 'BSUM3_ID', 'BMID_CHAMP_ID')\n",
    "time.sleep(120)\n",
    "Blue_MID_list3 = champion_mastery(KR3, 'kr', 'BSUM3_ID', 'BMID_CHAMP_ID')\n",
    "time.sleep(120)\n",
    "Blue_MID_list4 = champion_mastery(KR4, 'kr', 'BSUM3_ID', 'BMID_CHAMP_ID')\n",
    "time.sleep(120)\n",
    "Blue_MID_list = Blue_MID_list1 + Blue_MID_list2 + Blue_MID_list3 + Blue_MID_list4\n",
    "len(Blue_MID_list)"
   ]
  },
  {
   "cell_type": "code",
   "execution_count": 46,
   "metadata": {},
   "outputs": [
    {
     "name": "stdout",
     "output_type": "stream",
     "text": [
      "False\n"
     ]
    }
   ],
   "source": [
    "if 'error' in Blue_MID_list:\n",
    "    print(True)\n",
    "else:\n",
    "    print(False)"
   ]
  },
  {
   "cell_type": "markdown",
   "metadata": {},
   "source": [
    "## Blue BOT"
   ]
  },
  {
   "cell_type": "code",
   "execution_count": 47,
   "metadata": {},
   "outputs": [
    {
     "data": {
      "text/plain": [
       "358"
      ]
     },
     "execution_count": 47,
     "metadata": {},
     "output_type": "execute_result"
    }
   ],
   "source": [
    "Blue_BOT_list1 = champion_mastery(KR1, 'kr', 'BSUM4_ID', 'BBOT_CHAMP_ID')\n",
    "time.sleep(120)\n",
    "Blue_BOT_list2 = champion_mastery(KR2, 'kr', 'BSUM4_ID', 'BBOT_CHAMP_ID')\n",
    "time.sleep(120)\n",
    "Blue_BOT_list3 = champion_mastery(KR3, 'kr', 'BSUM4_ID', 'BBOT_CHAMP_ID')\n",
    "time.sleep(120)\n",
    "Blue_BOT_list4 = champion_mastery(KR4, 'kr', 'BSUM4_ID', 'BBOT_CHAMP_ID')\n",
    "time.sleep(120)\n",
    "Blue_BOT_list = Blue_BOT_list1 + Blue_BOT_list2 + Blue_BOT_list3 + Blue_BOT_list4\n",
    "len(Blue_BOT_list)"
   ]
  },
  {
   "cell_type": "code",
   "execution_count": 48,
   "metadata": {},
   "outputs": [
    {
     "name": "stdout",
     "output_type": "stream",
     "text": [
      "False\n"
     ]
    }
   ],
   "source": [
    "if 'error' in Blue_BOT_list:\n",
    "    print(True)\n",
    "else:\n",
    "    print(False)"
   ]
  },
  {
   "cell_type": "markdown",
   "metadata": {},
   "source": [
    "## Blue SUP"
   ]
  },
  {
   "cell_type": "code",
   "execution_count": 49,
   "metadata": {},
   "outputs": [
    {
     "data": {
      "text/plain": [
       "358"
      ]
     },
     "execution_count": 49,
     "metadata": {},
     "output_type": "execute_result"
    }
   ],
   "source": [
    "Blue_SUP_list1 = champion_mastery(KR1, 'kr', 'BSUM5_ID', 'BSUP_CHAMP_ID')\n",
    "time.sleep(120)\n",
    "Blue_SUP_list2 = champion_mastery(KR2, 'kr', 'BSUM5_ID', 'BSUP_CHAMP_ID')\n",
    "time.sleep(120)\n",
    "Blue_SUP_list3 = champion_mastery(KR3, 'kr', 'BSUM5_ID', 'BSUP_CHAMP_ID')\n",
    "time.sleep(120)\n",
    "Blue_SUP_list4 = champion_mastery(KR4, 'kr', 'BSUM5_ID', 'BSUP_CHAMP_ID')\n",
    "time.sleep(120)\n",
    "Blue_SUP_list = Blue_SUP_list1 + Blue_SUP_list2 + Blue_SUP_list3 + Blue_SUP_list4\n",
    "len(Blue_SUP_list)"
   ]
  },
  {
   "cell_type": "code",
   "execution_count": 50,
   "metadata": {},
   "outputs": [
    {
     "name": "stdout",
     "output_type": "stream",
     "text": [
      "False\n"
     ]
    }
   ],
   "source": [
    "if 'error' in Blue_SUP_list:\n",
    "    print(True)\n",
    "else:\n",
    "    print(False)"
   ]
  },
  {
   "cell_type": "markdown",
   "metadata": {},
   "source": [
    "## Red TOP"
   ]
  },
  {
   "cell_type": "code",
   "execution_count": 51,
   "metadata": {},
   "outputs": [
    {
     "data": {
      "text/plain": [
       "358"
      ]
     },
     "execution_count": 51,
     "metadata": {},
     "output_type": "execute_result"
    }
   ],
   "source": [
    "Red_TOP_list1 = champion_mastery(KR1, 'kr', 'RSUM1_ID', 'RTOP_CHAMP_ID')\n",
    "time.sleep(120)\n",
    "Red_TOP_list2 = champion_mastery(KR2, 'kr', 'RSUM1_ID', 'RTOP_CHAMP_ID')\n",
    "time.sleep(120)\n",
    "Red_TOP_list3 = champion_mastery(KR3, 'kr', 'RSUM1_ID', 'RTOP_CHAMP_ID')\n",
    "time.sleep(120)\n",
    "Red_TOP_list4 = champion_mastery(KR4, 'kr', 'RSUM1_ID', 'RTOP_CHAMP_ID')\n",
    "time.sleep(120)\n",
    "Red_TOP_list = Red_TOP_list1 + Red_TOP_list2 + Red_TOP_list3 + Red_TOP_list4\n",
    "len(Red_TOP_list)"
   ]
  },
  {
   "cell_type": "code",
   "execution_count": 52,
   "metadata": {},
   "outputs": [
    {
     "name": "stdout",
     "output_type": "stream",
     "text": [
      "False\n"
     ]
    }
   ],
   "source": [
    "if 'error' in Red_TOP_list:\n",
    "    print(True)\n",
    "else:\n",
    "    print(False)"
   ]
  },
  {
   "cell_type": "markdown",
   "metadata": {},
   "source": [
    "## Red JGL"
   ]
  },
  {
   "cell_type": "code",
   "execution_count": 53,
   "metadata": {},
   "outputs": [
    {
     "data": {
      "text/plain": [
       "358"
      ]
     },
     "execution_count": 53,
     "metadata": {},
     "output_type": "execute_result"
    }
   ],
   "source": [
    "Red_JGL_list1 = champion_mastery(KR1, 'kr', 'RSUM2_ID', 'RJGL_CHAMP_ID')\n",
    "time.sleep(120)\n",
    "Red_JGL_list2 = champion_mastery(KR2, 'kr', 'RSUM2_ID', 'RJGL_CHAMP_ID')\n",
    "time.sleep(120)\n",
    "Red_JGL_list3 = champion_mastery(KR3, 'kr', 'RSUM2_ID', 'RJGL_CHAMP_ID')\n",
    "time.sleep(120)\n",
    "Red_JGL_list4 = champion_mastery(KR4, 'kr', 'RSUM2_ID', 'RJGL_CHAMP_ID')\n",
    "time.sleep(120)\n",
    "Red_JGL_list = Red_JGL_list1 + Red_JGL_list2 + Red_JGL_list3 + Red_JGL_list4\n",
    "len(Red_JGL_list)"
   ]
  },
  {
   "cell_type": "code",
   "execution_count": 54,
   "metadata": {},
   "outputs": [
    {
     "name": "stdout",
     "output_type": "stream",
     "text": [
      "False\n"
     ]
    }
   ],
   "source": [
    "if 'error' in Red_JGL_list:\n",
    "    print(True)\n",
    "else:\n",
    "    print(False)"
   ]
  },
  {
   "cell_type": "markdown",
   "metadata": {},
   "source": [
    "## Red MID"
   ]
  },
  {
   "cell_type": "code",
   "execution_count": 55,
   "metadata": {},
   "outputs": [
    {
     "data": {
      "text/plain": [
       "358"
      ]
     },
     "execution_count": 55,
     "metadata": {},
     "output_type": "execute_result"
    }
   ],
   "source": [
    "Red_MID_list1 = champion_mastery(KR1, 'kr', 'RSUM3_ID', 'RMID_CHAMP_ID')\n",
    "time.sleep(120)\n",
    "Red_MID_list2 = champion_mastery(KR2, 'kr', 'RSUM3_ID', 'RMID_CHAMP_ID')\n",
    "time.sleep(120)\n",
    "Red_MID_list3 = champion_mastery(KR3, 'kr', 'RSUM3_ID', 'RMID_CHAMP_ID')\n",
    "time.sleep(120)\n",
    "Red_MID_list4 = champion_mastery(KR4, 'kr', 'RSUM3_ID', 'RMID_CHAMP_ID')\n",
    "time.sleep(120)\n",
    "Red_MID_list = Red_MID_list1 + Red_MID_list2 + Red_MID_list3 + Red_MID_list4\n",
    "len(Red_MID_list)"
   ]
  },
  {
   "cell_type": "code",
   "execution_count": 56,
   "metadata": {},
   "outputs": [
    {
     "name": "stdout",
     "output_type": "stream",
     "text": [
      "False\n"
     ]
    }
   ],
   "source": [
    "if 'error' in Red_MID_list:\n",
    "    print(True)\n",
    "else:\n",
    "    print(False)"
   ]
  },
  {
   "cell_type": "markdown",
   "metadata": {},
   "source": [
    "## Red BOT"
   ]
  },
  {
   "cell_type": "code",
   "execution_count": 57,
   "metadata": {},
   "outputs": [
    {
     "data": {
      "text/plain": [
       "358"
      ]
     },
     "execution_count": 57,
     "metadata": {},
     "output_type": "execute_result"
    }
   ],
   "source": [
    "Red_BOT_list1 = champion_mastery(KR1, 'kr', 'RSUM4_ID', 'RBOT_CHAMP_ID')\n",
    "time.sleep(120)\n",
    "Red_BOT_list2 = champion_mastery(KR2, 'kr', 'RSUM4_ID', 'RBOT_CHAMP_ID')\n",
    "time.sleep(120)\n",
    "Red_BOT_list3 = champion_mastery(KR3, 'kr', 'RSUM4_ID', 'RBOT_CHAMP_ID')\n",
    "time.sleep(120)\n",
    "Red_BOT_list4 = champion_mastery(KR4, 'kr', 'RSUM4_ID', 'RBOT_CHAMP_ID')\n",
    "time.sleep(120)\n",
    "Red_BOT_list = Red_BOT_list1 + Red_BOT_list2 + Red_BOT_list3 + Red_BOT_list4\n",
    "len(Red_BOT_list)"
   ]
  },
  {
   "cell_type": "code",
   "execution_count": 58,
   "metadata": {},
   "outputs": [
    {
     "name": "stdout",
     "output_type": "stream",
     "text": [
      "False\n"
     ]
    }
   ],
   "source": [
    "if 'error' in Red_BOT_list:\n",
    "    print(True)\n",
    "else:\n",
    "    print(False)"
   ]
  },
  {
   "cell_type": "markdown",
   "metadata": {},
   "source": [
    "## Red SUP"
   ]
  },
  {
   "cell_type": "code",
   "execution_count": 59,
   "metadata": {},
   "outputs": [
    {
     "data": {
      "text/plain": [
       "358"
      ]
     },
     "execution_count": 59,
     "metadata": {},
     "output_type": "execute_result"
    }
   ],
   "source": [
    "Red_SUP_list1 = champion_mastery(KR1, 'kr', 'RSUM5_ID', 'RSUP_CHAMP_ID')\n",
    "time.sleep(120)\n",
    "Red_SUP_list2 = champion_mastery(KR2, 'kr', 'RSUM5_ID', 'RSUP_CHAMP_ID')\n",
    "time.sleep(120)\n",
    "Red_SUP_list3 = champion_mastery(KR3, 'kr', 'RSUM5_ID', 'RSUP_CHAMP_ID')\n",
    "time.sleep(120)\n",
    "Red_SUP_list4 = champion_mastery(KR4, 'kr', 'RSUM5_ID', 'RSUP_CHAMP_ID')\n",
    "time.sleep(120)\n",
    "Red_SUP_list = Red_SUP_list1 + Red_SUP_list2 + Red_SUP_list3 + Red_SUP_list4\n",
    "len(Red_SUP_list)"
   ]
  },
  {
   "cell_type": "code",
   "execution_count": 60,
   "metadata": {},
   "outputs": [
    {
     "name": "stdout",
     "output_type": "stream",
     "text": [
      "False\n"
     ]
    }
   ],
   "source": [
    "if 'error' in Red_SUP_list:\n",
    "    print(True)\n",
    "else:\n",
    "    print(False)"
   ]
  },
  {
   "cell_type": "markdown",
   "metadata": {},
   "source": [
    "## Champion Mastery Dataset"
   ]
  },
  {
   "cell_type": "code",
   "execution_count": 61,
   "metadata": {},
   "outputs": [
    {
     "data": {
      "text/html": [
       "<div>\n",
       "<style scoped>\n",
       "    .dataframe tbody tr th:only-of-type {\n",
       "        vertical-align: middle;\n",
       "    }\n",
       "\n",
       "    .dataframe tbody tr th {\n",
       "        vertical-align: top;\n",
       "    }\n",
       "\n",
       "    .dataframe thead th {\n",
       "        text-align: right;\n",
       "    }\n",
       "</style>\n",
       "<table border=\"1\" class=\"dataframe\">\n",
       "  <thead>\n",
       "    <tr style=\"text-align: right;\">\n",
       "      <th></th>\n",
       "      <th>BTOP_CHAMP_MAST</th>\n",
       "      <th>BJGL_CHAMP_MAST</th>\n",
       "      <th>BMID_CHAMP_MAST</th>\n",
       "      <th>BBOT_CHAMP_MAST</th>\n",
       "      <th>BSUP_CHAMP_MAST</th>\n",
       "      <th>RTOP_CHAMP_MAST</th>\n",
       "      <th>RJGL_CHAMP_MAST</th>\n",
       "      <th>RMID_CHAMP_MAST</th>\n",
       "      <th>RBOT_CHAMP_MAST</th>\n",
       "      <th>RSUP_CHAMP_MAST</th>\n",
       "    </tr>\n",
       "  </thead>\n",
       "  <tbody>\n",
       "    <tr>\n",
       "      <th>0</th>\n",
       "      <td>6919</td>\n",
       "      <td>57809</td>\n",
       "      <td>87478</td>\n",
       "      <td>48208</td>\n",
       "      <td>1931</td>\n",
       "      <td>14517</td>\n",
       "      <td>41466</td>\n",
       "      <td>38198</td>\n",
       "      <td>6319</td>\n",
       "      <td>14430</td>\n",
       "    </tr>\n",
       "    <tr>\n",
       "      <th>1</th>\n",
       "      <td>235664</td>\n",
       "      <td>70503</td>\n",
       "      <td>85602</td>\n",
       "      <td>42734</td>\n",
       "      <td>34418</td>\n",
       "      <td>1559495</td>\n",
       "      <td>20122</td>\n",
       "      <td>249803</td>\n",
       "      <td>317881</td>\n",
       "      <td>55241</td>\n",
       "    </tr>\n",
       "    <tr>\n",
       "      <th>2</th>\n",
       "      <td>27958</td>\n",
       "      <td>19517</td>\n",
       "      <td>10032</td>\n",
       "      <td>76675</td>\n",
       "      <td>205939</td>\n",
       "      <td>199381</td>\n",
       "      <td>16312</td>\n",
       "      <td>66103</td>\n",
       "      <td>77548</td>\n",
       "      <td>182881</td>\n",
       "    </tr>\n",
       "    <tr>\n",
       "      <th>3</th>\n",
       "      <td>8310</td>\n",
       "      <td>4802</td>\n",
       "      <td>72337</td>\n",
       "      <td>352103</td>\n",
       "      <td>40156</td>\n",
       "      <td>1713163</td>\n",
       "      <td>38277</td>\n",
       "      <td>205939</td>\n",
       "      <td>42859</td>\n",
       "      <td>39987</td>\n",
       "    </tr>\n",
       "    <tr>\n",
       "      <th>4</th>\n",
       "      <td>7703</td>\n",
       "      <td>40831</td>\n",
       "      <td>59683</td>\n",
       "      <td>60969</td>\n",
       "      <td>47285</td>\n",
       "      <td>821404</td>\n",
       "      <td>2228525</td>\n",
       "      <td>205939</td>\n",
       "      <td>7932</td>\n",
       "      <td>54456</td>\n",
       "    </tr>\n",
       "  </tbody>\n",
       "</table>\n",
       "</div>"
      ],
      "text/plain": [
       "   BTOP_CHAMP_MAST  BJGL_CHAMP_MAST  BMID_CHAMP_MAST  BBOT_CHAMP_MAST  \\\n",
       "0             6919            57809            87478            48208   \n",
       "1           235664            70503            85602            42734   \n",
       "2            27958            19517            10032            76675   \n",
       "3             8310             4802            72337           352103   \n",
       "4             7703            40831            59683            60969   \n",
       "\n",
       "   BSUP_CHAMP_MAST  RTOP_CHAMP_MAST  RJGL_CHAMP_MAST  RMID_CHAMP_MAST  \\\n",
       "0             1931            14517            41466            38198   \n",
       "1            34418          1559495            20122           249803   \n",
       "2           205939           199381            16312            66103   \n",
       "3            40156          1713163            38277           205939   \n",
       "4            47285           821404          2228525           205939   \n",
       "\n",
       "   RBOT_CHAMP_MAST  RSUP_CHAMP_MAST  \n",
       "0             6319            14430  \n",
       "1           317881            55241  \n",
       "2            77548           182881  \n",
       "3            42859            39987  \n",
       "4             7932            54456  "
      ]
     },
     "execution_count": 61,
     "metadata": {},
     "output_type": "execute_result"
    }
   ],
   "source": [
    "KR_mastery = pd.DataFrame()\n",
    "KR_mastery['BTOP_CHAMP_MAST'] = Blue_TOP_list\n",
    "KR_mastery['BJGL_CHAMP_MAST'] = Blue_JGL_list\n",
    "KR_mastery['BMID_CHAMP_MAST'] = Blue_MID_list\n",
    "KR_mastery['BBOT_CHAMP_MAST'] = Blue_BOT_list\n",
    "KR_mastery['BSUP_CHAMP_MAST'] = Blue_SUP_list\n",
    "KR_mastery['RTOP_CHAMP_MAST'] = Red_TOP_list\n",
    "KR_mastery['RJGL_CHAMP_MAST'] = Red_JGL_list\n",
    "KR_mastery['RMID_CHAMP_MAST'] = Red_MID_list\n",
    "KR_mastery['RBOT_CHAMP_MAST'] = Red_BOT_list\n",
    "KR_mastery['RSUP_CHAMP_MAST'] = Red_SUP_list\n",
    "KR_mastery.head()"
   ]
  },
  {
   "cell_type": "code",
   "execution_count": 62,
   "metadata": {},
   "outputs": [
    {
     "data": {
      "text/html": [
       "<div>\n",
       "<style scoped>\n",
       "    .dataframe tbody tr th:only-of-type {\n",
       "        vertical-align: middle;\n",
       "    }\n",
       "\n",
       "    .dataframe tbody tr th {\n",
       "        vertical-align: top;\n",
       "    }\n",
       "\n",
       "    .dataframe thead th {\n",
       "        text-align: right;\n",
       "    }\n",
       "</style>\n",
       "<table border=\"1\" class=\"dataframe\">\n",
       "  <thead>\n",
       "    <tr style=\"text-align: right;\">\n",
       "      <th></th>\n",
       "      <th>BTOP_CHAMP_MAST</th>\n",
       "      <th>BJGL_CHAMP_MAST</th>\n",
       "      <th>BMID_CHAMP_MAST</th>\n",
       "      <th>BBOT_CHAMP_MAST</th>\n",
       "      <th>BSUP_CHAMP_MAST</th>\n",
       "      <th>RTOP_CHAMP_MAST</th>\n",
       "      <th>RJGL_CHAMP_MAST</th>\n",
       "      <th>RMID_CHAMP_MAST</th>\n",
       "      <th>RBOT_CHAMP_MAST</th>\n",
       "      <th>RSUP_CHAMP_MAST</th>\n",
       "    </tr>\n",
       "  </thead>\n",
       "  <tbody>\n",
       "    <tr>\n",
       "      <th>0</th>\n",
       "      <td>6919</td>\n",
       "      <td>57809</td>\n",
       "      <td>87478</td>\n",
       "      <td>48208</td>\n",
       "      <td>1931</td>\n",
       "      <td>14517</td>\n",
       "      <td>41466</td>\n",
       "      <td>38198</td>\n",
       "      <td>6319</td>\n",
       "      <td>14430</td>\n",
       "    </tr>\n",
       "    <tr>\n",
       "      <th>1</th>\n",
       "      <td>235664</td>\n",
       "      <td>70503</td>\n",
       "      <td>85602</td>\n",
       "      <td>42734</td>\n",
       "      <td>34418</td>\n",
       "      <td>1559495</td>\n",
       "      <td>20122</td>\n",
       "      <td>249803</td>\n",
       "      <td>317881</td>\n",
       "      <td>55241</td>\n",
       "    </tr>\n",
       "    <tr>\n",
       "      <th>2</th>\n",
       "      <td>27958</td>\n",
       "      <td>19517</td>\n",
       "      <td>10032</td>\n",
       "      <td>76675</td>\n",
       "      <td>205939</td>\n",
       "      <td>199381</td>\n",
       "      <td>16312</td>\n",
       "      <td>66103</td>\n",
       "      <td>77548</td>\n",
       "      <td>182881</td>\n",
       "    </tr>\n",
       "    <tr>\n",
       "      <th>3</th>\n",
       "      <td>8310</td>\n",
       "      <td>4802</td>\n",
       "      <td>72337</td>\n",
       "      <td>352103</td>\n",
       "      <td>40156</td>\n",
       "      <td>1713163</td>\n",
       "      <td>38277</td>\n",
       "      <td>205939</td>\n",
       "      <td>42859</td>\n",
       "      <td>39987</td>\n",
       "    </tr>\n",
       "    <tr>\n",
       "      <th>4</th>\n",
       "      <td>7703</td>\n",
       "      <td>40831</td>\n",
       "      <td>59683</td>\n",
       "      <td>60969</td>\n",
       "      <td>47285</td>\n",
       "      <td>821404</td>\n",
       "      <td>2228525</td>\n",
       "      <td>205939</td>\n",
       "      <td>7932</td>\n",
       "      <td>54456</td>\n",
       "    </tr>\n",
       "    <tr>\n",
       "      <th>...</th>\n",
       "      <td>...</td>\n",
       "      <td>...</td>\n",
       "      <td>...</td>\n",
       "      <td>...</td>\n",
       "      <td>...</td>\n",
       "      <td>...</td>\n",
       "      <td>...</td>\n",
       "      <td>...</td>\n",
       "      <td>...</td>\n",
       "      <td>...</td>\n",
       "    </tr>\n",
       "    <tr>\n",
       "      <th>353</th>\n",
       "      <td>74883</td>\n",
       "      <td>1732099</td>\n",
       "      <td>143567</td>\n",
       "      <td>11516</td>\n",
       "      <td>43784</td>\n",
       "      <td>104128</td>\n",
       "      <td>586347</td>\n",
       "      <td>118783</td>\n",
       "      <td>10344</td>\n",
       "      <td>147390</td>\n",
       "    </tr>\n",
       "    <tr>\n",
       "      <th>354</th>\n",
       "      <td>820</td>\n",
       "      <td>40113</td>\n",
       "      <td>385460</td>\n",
       "      <td>213353</td>\n",
       "      <td>108781</td>\n",
       "      <td>74883</td>\n",
       "      <td>19003</td>\n",
       "      <td>80178</td>\n",
       "      <td>43335</td>\n",
       "      <td>1940</td>\n",
       "    </tr>\n",
       "    <tr>\n",
       "      <th>355</th>\n",
       "      <td>74883</td>\n",
       "      <td>31676</td>\n",
       "      <td>271304</td>\n",
       "      <td>14294</td>\n",
       "      <td>147390</td>\n",
       "      <td>15898</td>\n",
       "      <td>35002</td>\n",
       "      <td>15402</td>\n",
       "      <td>18539</td>\n",
       "      <td>32769</td>\n",
       "    </tr>\n",
       "    <tr>\n",
       "      <th>356</th>\n",
       "      <td>96902</td>\n",
       "      <td>95926</td>\n",
       "      <td>23069</td>\n",
       "      <td>7768</td>\n",
       "      <td>182881</td>\n",
       "      <td>193105</td>\n",
       "      <td>52457</td>\n",
       "      <td>415247</td>\n",
       "      <td>45242</td>\n",
       "      <td>10491</td>\n",
       "    </tr>\n",
       "    <tr>\n",
       "      <th>357</th>\n",
       "      <td>265082</td>\n",
       "      <td>739907</td>\n",
       "      <td>96281</td>\n",
       "      <td>24163</td>\n",
       "      <td>3031</td>\n",
       "      <td>96902</td>\n",
       "      <td>19955</td>\n",
       "      <td>102977</td>\n",
       "      <td>26927</td>\n",
       "      <td>20517</td>\n",
       "    </tr>\n",
       "  </tbody>\n",
       "</table>\n",
       "<p>358 rows × 10 columns</p>\n",
       "</div>"
      ],
      "text/plain": [
       "     BTOP_CHAMP_MAST  BJGL_CHAMP_MAST  BMID_CHAMP_MAST  BBOT_CHAMP_MAST  \\\n",
       "0               6919            57809            87478            48208   \n",
       "1             235664            70503            85602            42734   \n",
       "2              27958            19517            10032            76675   \n",
       "3               8310             4802            72337           352103   \n",
       "4               7703            40831            59683            60969   \n",
       "..               ...              ...              ...              ...   \n",
       "353            74883          1732099           143567            11516   \n",
       "354              820            40113           385460           213353   \n",
       "355            74883            31676           271304            14294   \n",
       "356            96902            95926            23069             7768   \n",
       "357           265082           739907            96281            24163   \n",
       "\n",
       "     BSUP_CHAMP_MAST  RTOP_CHAMP_MAST  RJGL_CHAMP_MAST  RMID_CHAMP_MAST  \\\n",
       "0               1931            14517            41466            38198   \n",
       "1              34418          1559495            20122           249803   \n",
       "2             205939           199381            16312            66103   \n",
       "3              40156          1713163            38277           205939   \n",
       "4              47285           821404          2228525           205939   \n",
       "..               ...              ...              ...              ...   \n",
       "353            43784           104128           586347           118783   \n",
       "354           108781            74883            19003            80178   \n",
       "355           147390            15898            35002            15402   \n",
       "356           182881           193105            52457           415247   \n",
       "357             3031            96902            19955           102977   \n",
       "\n",
       "     RBOT_CHAMP_MAST  RSUP_CHAMP_MAST  \n",
       "0               6319            14430  \n",
       "1             317881            55241  \n",
       "2              77548           182881  \n",
       "3              42859            39987  \n",
       "4               7932            54456  \n",
       "..               ...              ...  \n",
       "353            10344           147390  \n",
       "354            43335             1940  \n",
       "355            18539            32769  \n",
       "356            45242            10491  \n",
       "357            26927            20517  \n",
       "\n",
       "[358 rows x 10 columns]"
      ]
     },
     "execution_count": 62,
     "metadata": {},
     "output_type": "execute_result"
    }
   ],
   "source": [
    "KR_mastery"
   ]
  },
  {
   "cell_type": "code",
   "execution_count": 64,
   "metadata": {},
   "outputs": [
    {
     "data": {
      "text/plain": [
       "BTOP_CHAMP_MAST    False\n",
       "BJGL_CHAMP_MAST    False\n",
       "BMID_CHAMP_MAST    False\n",
       "BBOT_CHAMP_MAST    False\n",
       "BSUP_CHAMP_MAST    False\n",
       "RTOP_CHAMP_MAST    False\n",
       "RJGL_CHAMP_MAST    False\n",
       "RMID_CHAMP_MAST    False\n",
       "RBOT_CHAMP_MAST    False\n",
       "RSUP_CHAMP_MAST    False\n",
       "dtype: bool"
      ]
     },
     "execution_count": 64,
     "metadata": {},
     "output_type": "execute_result"
    }
   ],
   "source": [
    "KR_mastery.isin([\"error\"]).any()"
   ]
  },
  {
   "cell_type": "code",
   "execution_count": 22,
   "metadata": {},
   "outputs": [],
   "source": [
    "KR_mastery.to_csv('KR_mastery_358.csv', index=False)"
   ]
  },
  {
   "cell_type": "code",
   "execution_count": null,
   "metadata": {},
   "outputs": [],
   "source": []
  }
 ],
 "metadata": {
  "interpreter": {
   "hash": "39512f3c2a1741d7f752d45a133d4514127029333ea14bc2f3c6c5e6759b9029"
  },
  "kernelspec": {
   "display_name": "Python 3.8.13 ('base_env')",
   "language": "python",
   "name": "python3"
  },
  "language_info": {
   "codemirror_mode": {
    "name": "ipython",
    "version": 3
   },
   "file_extension": ".py",
   "mimetype": "text/x-python",
   "name": "python",
   "nbconvert_exporter": "python",
   "pygments_lexer": "ipython3",
   "version": "3.8.13"
  },
  "orig_nbformat": 4
 },
 "nbformat": 4,
 "nbformat_minor": 2
}
