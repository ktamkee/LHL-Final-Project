{
 "cells": [
  {
   "cell_type": "markdown",
   "metadata": {},
   "source": [
    "# Data Exploration"
   ]
  },
  {
   "cell_type": "code",
   "execution_count": 4,
   "metadata": {},
   "outputs": [],
   "source": [
    "import pandas as pd\n",
    "import plotly.express as px"
   ]
  },
  {
   "cell_type": "markdown",
   "metadata": {},
   "source": [
    "## Preparation"
   ]
  },
  {
   "cell_type": "code",
   "execution_count": 10,
   "metadata": {},
   "outputs": [
    {
     "data": {
      "text/html": [
       "<div>\n",
       "<style scoped>\n",
       "    .dataframe tbody tr th:only-of-type {\n",
       "        vertical-align: middle;\n",
       "    }\n",
       "\n",
       "    .dataframe tbody tr th {\n",
       "        vertical-align: top;\n",
       "    }\n",
       "\n",
       "    .dataframe thead th {\n",
       "        text-align: right;\n",
       "    }\n",
       "</style>\n",
       "<table border=\"1\" class=\"dataframe\">\n",
       "  <thead>\n",
       "    <tr style=\"text-align: right;\">\n",
       "      <th></th>\n",
       "      <th>MATCH_ID</th>\n",
       "      <th>BSUM1_ID</th>\n",
       "      <th>BTOP_CHAMP_ID</th>\n",
       "      <th>BSUM2_ID</th>\n",
       "      <th>BJGL_CHAMP_ID</th>\n",
       "      <th>BSUM3_ID</th>\n",
       "      <th>BMID_CHAMP_ID</th>\n",
       "      <th>BSUM4_ID</th>\n",
       "      <th>BBOT_CHAMP_ID</th>\n",
       "      <th>BSUM5_ID</th>\n",
       "      <th>...</th>\n",
       "      <th>FIRST_TOWER</th>\n",
       "      <th>BTOWER_KILLS</th>\n",
       "      <th>RTOWER_KILLS</th>\n",
       "      <th>FIRST_BARON</th>\n",
       "      <th>BBARON_KILLS</th>\n",
       "      <th>RBARON_KILLS</th>\n",
       "      <th>FIRST_INHIB</th>\n",
       "      <th>BINHIB_KILLS</th>\n",
       "      <th>RINHIB_KILLS</th>\n",
       "      <th>WINNER</th>\n",
       "    </tr>\n",
       "  </thead>\n",
       "  <tbody>\n",
       "    <tr>\n",
       "      <th>0</th>\n",
       "      <td>EUW1_6001811167</td>\n",
       "      <td>0AZy9ZPtWQh6Vx8Kq7OvFy4UrZwrJACKWYJs-E6rzV4cizM</td>\n",
       "      <td>150</td>\n",
       "      <td>xh8g794rjw2i3e2OFWyH8NLvm9U94qaGNIAvSZUTDC9-BJRL</td>\n",
       "      <td>246</td>\n",
       "      <td>9T_e3hPA8BJJkJ-VGvGVJWR24xPZ0yyY5aGTOIKl95Cd6h8g</td>\n",
       "      <td>268</td>\n",
       "      <td>7Fa7S45GBBFAvaW3BGMq4AJpClEZ61ZamQCUPYjGAgBkxRg</td>\n",
       "      <td>15</td>\n",
       "      <td>FygyISn3sodmzfAOYhDXYwmXxwH27oT_MvyJjiDbZnRv-eU</td>\n",
       "      <td>...</td>\n",
       "      <td>RED</td>\n",
       "      <td>2</td>\n",
       "      <td>4</td>\n",
       "      <td>NONE</td>\n",
       "      <td>0</td>\n",
       "      <td>0</td>\n",
       "      <td>NONE</td>\n",
       "      <td>0</td>\n",
       "      <td>0</td>\n",
       "      <td>RED</td>\n",
       "    </tr>\n",
       "    <tr>\n",
       "      <th>1</th>\n",
       "      <td>EUW1_6001677114</td>\n",
       "      <td>o02MjualoBd8c2L1Nu2ZRjnhkt_ne-Yx2iYRZkhd3uDKsY4</td>\n",
       "      <td>114</td>\n",
       "      <td>CaqfcvprY1V7DVI5sfOJP5Vc3luQoyshL8AemHrvh43qUQw</td>\n",
       "      <td>254</td>\n",
       "      <td>puPeQuN3cAKued6EAm3b5gd6Al11zyzbm32lGMki4yemKt2x</td>\n",
       "      <td>79</td>\n",
       "      <td>jWysZe-gwuPtokIJR-NI8cCCG-GninDNH-TpdxiJ9r-ZaxA</td>\n",
       "      <td>498</td>\n",
       "      <td>CREBE7QYXxAJ-gIWtvBB02ijKHQXu4oW_a4zsgWdasIJWB4</td>\n",
       "      <td>...</td>\n",
       "      <td>RED</td>\n",
       "      <td>0</td>\n",
       "      <td>4</td>\n",
       "      <td>NONE</td>\n",
       "      <td>0</td>\n",
       "      <td>0</td>\n",
       "      <td>NONE</td>\n",
       "      <td>0</td>\n",
       "      <td>0</td>\n",
       "      <td>RED</td>\n",
       "    </tr>\n",
       "    <tr>\n",
       "      <th>2</th>\n",
       "      <td>EUW1_6001722049</td>\n",
       "      <td>lz7z9m2ZwFuDm0kSa-6SYXtXLFTLLLlWizzRxSyCgh-Msk0</td>\n",
       "      <td>150</td>\n",
       "      <td>Gu0-dhJT1_53zm_TQt4BQ1uQ_CZhl4fHrN33OQG3cfz5teM</td>\n",
       "      <td>78</td>\n",
       "      <td>_o_3E5f4P_CY9ztsrbdkUPwVCg7hJ7TSAXHiEEsevv1bdVbI</td>\n",
       "      <td>517</td>\n",
       "      <td>YYnE90RJfzypVDAO_Qt8syFQwCwhunwTWEfidwcucoFPqtc</td>\n",
       "      <td>523</td>\n",
       "      <td>CREBE7QYXxAJ-gIWtvBB02ijKHQXu4oW_a4zsgWdasIJWB4</td>\n",
       "      <td>...</td>\n",
       "      <td>RED</td>\n",
       "      <td>5</td>\n",
       "      <td>8</td>\n",
       "      <td>RED</td>\n",
       "      <td>0</td>\n",
       "      <td>1</td>\n",
       "      <td>RED</td>\n",
       "      <td>1</td>\n",
       "      <td>2</td>\n",
       "      <td>BLUE</td>\n",
       "    </tr>\n",
       "    <tr>\n",
       "      <th>3</th>\n",
       "      <td>EUW1_6001557446</td>\n",
       "      <td>ZCHr8rokYRXJMJIUWzFcIehrJs6jShr0Zkc3aFJZ4xEiTfE</td>\n",
       "      <td>79</td>\n",
       "      <td>Gu0-dhJT1_53zm_TQt4BQ1uQ_CZhl4fHrN33OQG3cfz5teM</td>\n",
       "      <td>80</td>\n",
       "      <td>sO2INLctOSFuq_VBeqSjSAC6faH4PvvgZA3grfCOathsYUSH</td>\n",
       "      <td>4</td>\n",
       "      <td>hgowSBUFsyDNo-S2AshXWRF2xM_mOBktpCtV1Mw7K4sRIq0</td>\n",
       "      <td>18</td>\n",
       "      <td>Dw25s0DUtd1sGtP-FXV4F_2BIQalOmXoqvHh3MUgHBA1B_Wf</td>\n",
       "      <td>...</td>\n",
       "      <td>BLUE</td>\n",
       "      <td>6</td>\n",
       "      <td>4</td>\n",
       "      <td>RED</td>\n",
       "      <td>0</td>\n",
       "      <td>1</td>\n",
       "      <td>NONE</td>\n",
       "      <td>0</td>\n",
       "      <td>0</td>\n",
       "      <td>RED</td>\n",
       "    </tr>\n",
       "    <tr>\n",
       "      <th>4</th>\n",
       "      <td>EUW1_6001602687</td>\n",
       "      <td>Yp9kCQ3SqtxY-dyRdyAm7i3zZgtduT21MlAjGPN_0NZ5tR...</td>\n",
       "      <td>122</td>\n",
       "      <td>Gu0-dhJT1_53zm_TQt4BQ1uQ_CZhl4fHrN33OQG3cfz5teM</td>\n",
       "      <td>80</td>\n",
       "      <td>hIoSka6anKc6_WSUhIDk06K6JnZF5kz5JaeSaKeLIA0U8m...</td>\n",
       "      <td>517</td>\n",
       "      <td>BgbTbMspKYR1yIsQjzW-e_bpn45fjAEcAPnAGX5dLfR6sao</td>\n",
       "      <td>96</td>\n",
       "      <td>Dw25s0DUtd1sGtP-FXV4F_2BIQalOmXoqvHh3MUgHBA1B_Wf</td>\n",
       "      <td>...</td>\n",
       "      <td>BLUE</td>\n",
       "      <td>7</td>\n",
       "      <td>2</td>\n",
       "      <td>NONE</td>\n",
       "      <td>0</td>\n",
       "      <td>0</td>\n",
       "      <td>BLUE</td>\n",
       "      <td>1</td>\n",
       "      <td>0</td>\n",
       "      <td>BLUE</td>\n",
       "    </tr>\n",
       "  </tbody>\n",
       "</table>\n",
       "<p>5 rows × 50 columns</p>\n",
       "</div>"
      ],
      "text/plain": [
       "          MATCH_ID                                           BSUM1_ID  \\\n",
       "0  EUW1_6001811167    0AZy9ZPtWQh6Vx8Kq7OvFy4UrZwrJACKWYJs-E6rzV4cizM   \n",
       "1  EUW1_6001677114    o02MjualoBd8c2L1Nu2ZRjnhkt_ne-Yx2iYRZkhd3uDKsY4   \n",
       "2  EUW1_6001722049    lz7z9m2ZwFuDm0kSa-6SYXtXLFTLLLlWizzRxSyCgh-Msk0   \n",
       "3  EUW1_6001557446    ZCHr8rokYRXJMJIUWzFcIehrJs6jShr0Zkc3aFJZ4xEiTfE   \n",
       "4  EUW1_6001602687  Yp9kCQ3SqtxY-dyRdyAm7i3zZgtduT21MlAjGPN_0NZ5tR...   \n",
       "\n",
       "   BTOP_CHAMP_ID                                          BSUM2_ID  \\\n",
       "0            150  xh8g794rjw2i3e2OFWyH8NLvm9U94qaGNIAvSZUTDC9-BJRL   \n",
       "1            114   CaqfcvprY1V7DVI5sfOJP5Vc3luQoyshL8AemHrvh43qUQw   \n",
       "2            150   Gu0-dhJT1_53zm_TQt4BQ1uQ_CZhl4fHrN33OQG3cfz5teM   \n",
       "3             79   Gu0-dhJT1_53zm_TQt4BQ1uQ_CZhl4fHrN33OQG3cfz5teM   \n",
       "4            122   Gu0-dhJT1_53zm_TQt4BQ1uQ_CZhl4fHrN33OQG3cfz5teM   \n",
       "\n",
       "   BJGL_CHAMP_ID                                           BSUM3_ID  \\\n",
       "0            246   9T_e3hPA8BJJkJ-VGvGVJWR24xPZ0yyY5aGTOIKl95Cd6h8g   \n",
       "1            254   puPeQuN3cAKued6EAm3b5gd6Al11zyzbm32lGMki4yemKt2x   \n",
       "2             78   _o_3E5f4P_CY9ztsrbdkUPwVCg7hJ7TSAXHiEEsevv1bdVbI   \n",
       "3             80   sO2INLctOSFuq_VBeqSjSAC6faH4PvvgZA3grfCOathsYUSH   \n",
       "4             80  hIoSka6anKc6_WSUhIDk06K6JnZF5kz5JaeSaKeLIA0U8m...   \n",
       "\n",
       "   BMID_CHAMP_ID                                         BSUM4_ID  \\\n",
       "0            268  7Fa7S45GBBFAvaW3BGMq4AJpClEZ61ZamQCUPYjGAgBkxRg   \n",
       "1             79  jWysZe-gwuPtokIJR-NI8cCCG-GninDNH-TpdxiJ9r-ZaxA   \n",
       "2            517  YYnE90RJfzypVDAO_Qt8syFQwCwhunwTWEfidwcucoFPqtc   \n",
       "3              4  hgowSBUFsyDNo-S2AshXWRF2xM_mOBktpCtV1Mw7K4sRIq0   \n",
       "4            517  BgbTbMspKYR1yIsQjzW-e_bpn45fjAEcAPnAGX5dLfR6sao   \n",
       "\n",
       "   BBOT_CHAMP_ID                                          BSUM5_ID  ...  \\\n",
       "0             15   FygyISn3sodmzfAOYhDXYwmXxwH27oT_MvyJjiDbZnRv-eU  ...   \n",
       "1            498   CREBE7QYXxAJ-gIWtvBB02ijKHQXu4oW_a4zsgWdasIJWB4  ...   \n",
       "2            523   CREBE7QYXxAJ-gIWtvBB02ijKHQXu4oW_a4zsgWdasIJWB4  ...   \n",
       "3             18  Dw25s0DUtd1sGtP-FXV4F_2BIQalOmXoqvHh3MUgHBA1B_Wf  ...   \n",
       "4             96  Dw25s0DUtd1sGtP-FXV4F_2BIQalOmXoqvHh3MUgHBA1B_Wf  ...   \n",
       "\n",
       "   FIRST_TOWER  BTOWER_KILLS  RTOWER_KILLS  FIRST_BARON  BBARON_KILLS  \\\n",
       "0          RED             2             4         NONE             0   \n",
       "1          RED             0             4         NONE             0   \n",
       "2          RED             5             8          RED             0   \n",
       "3         BLUE             6             4          RED             0   \n",
       "4         BLUE             7             2         NONE             0   \n",
       "\n",
       "   RBARON_KILLS FIRST_INHIB  BINHIB_KILLS RINHIB_KILLS  WINNER  \n",
       "0             0        NONE             0            0     RED  \n",
       "1             0        NONE             0            0     RED  \n",
       "2             1         RED             1            2    BLUE  \n",
       "3             1        NONE             0            0     RED  \n",
       "4             0        BLUE             1            0    BLUE  \n",
       "\n",
       "[5 rows x 50 columns]"
      ]
     },
     "execution_count": 10,
     "metadata": {},
     "output_type": "execute_result"
    }
   ],
   "source": [
    "EUW1_matches = pd.read_csv('../data/raw/EUW_matches_200.csv')\n",
    "EUW1_matches = EUW1_matches.rename(columns={'BSUM1_CHAMP_ID': 'BTOP_CHAMP_ID', 'BSUM2_CHAMP_ID': 'BJGL_CHAMP_ID', 'BSUM3_CHAMP_ID': 'BMID_CHAMP_ID', 'BSUM4_CHAMP_ID': 'BBOT_CHAMP_ID', 'BSUM5_CHAMP_ID': 'BSUP_CHAMP_ID'})\n",
    "EUW1_matches = EUW1_matches.rename(columns={'RSUM1_CHAMP_ID': 'RTOP_CHAMP_ID', 'RSUM2_CHAMP_ID': 'RJGL_CHAMP_ID', 'RSUM3_CHAMP_ID': 'RMID_CHAMP_ID', 'RSUM4_CHAMP_ID': 'RBOT_CHAMP_ID', 'RSUM5_CHAMP_ID': 'RSUP_CHAMP_ID'})\n",
    "EUW1_matches = EUW1_matches.drop_duplicates()\n",
    "EUW1_matches = EUW1_matches.reset_index(drop=True)\n",
    "EUW1_matches.head()"
   ]
  },
  {
   "cell_type": "code",
   "execution_count": 11,
   "metadata": {},
   "outputs": [
    {
     "data": {
      "text/html": [
       "<div>\n",
       "<style scoped>\n",
       "    .dataframe tbody tr th:only-of-type {\n",
       "        vertical-align: middle;\n",
       "    }\n",
       "\n",
       "    .dataframe tbody tr th {\n",
       "        vertical-align: top;\n",
       "    }\n",
       "\n",
       "    .dataframe thead th {\n",
       "        text-align: right;\n",
       "    }\n",
       "</style>\n",
       "<table border=\"1\" class=\"dataframe\">\n",
       "  <thead>\n",
       "    <tr style=\"text-align: right;\">\n",
       "      <th></th>\n",
       "      <th>MATCH_ID</th>\n",
       "      <th>BSUM1_ID</th>\n",
       "      <th>BTOP_CHAMP_ID</th>\n",
       "      <th>BSUM2_ID</th>\n",
       "      <th>BJGL_CHAMP_ID</th>\n",
       "      <th>BSUM3_ID</th>\n",
       "      <th>BMID_CHAMP_ID</th>\n",
       "      <th>BSUM4_ID</th>\n",
       "      <th>BBOT_CHAMP_ID</th>\n",
       "      <th>BSUM5_ID</th>\n",
       "      <th>...</th>\n",
       "      <th>FIRST_TOWER</th>\n",
       "      <th>BTOWER_KILLS</th>\n",
       "      <th>RTOWER_KILLS</th>\n",
       "      <th>FIRST_BARON</th>\n",
       "      <th>BBARON_KILLS</th>\n",
       "      <th>RBARON_KILLS</th>\n",
       "      <th>FIRST_INHIB</th>\n",
       "      <th>BINHIB_KILLS</th>\n",
       "      <th>RINHIB_KILLS</th>\n",
       "      <th>WINNER</th>\n",
       "    </tr>\n",
       "  </thead>\n",
       "  <tbody>\n",
       "    <tr>\n",
       "      <th>0</th>\n",
       "      <td>KR_6057844675</td>\n",
       "      <td>sbDHeqqUvLDhNA3yYnS3t93fG4d9doqldZjOkb3rwrybN_...</td>\n",
       "      <td>59</td>\n",
       "      <td>3PV_W4RY09TzgEQfBZNdSlsHFwxjwbjzIwXsawLuoSVYyp...</td>\n",
       "      <td>60</td>\n",
       "      <td>C8JeB0UVt7XBWdBC1EsTOMUecwXQ7M2s3aT8BiB6GCyoE4E</td>\n",
       "      <td>777</td>\n",
       "      <td>agy7tVJmthI4QFrgcC_GjBbhdd0juuBeCIIRwH-sS0AM1ek</td>\n",
       "      <td>157</td>\n",
       "      <td>4k8yFgb1e-uPWqMPKbNCnPIlnj9CmYjJNAWDYwVYZAUyfxc</td>\n",
       "      <td>...</td>\n",
       "      <td>RED</td>\n",
       "      <td>1</td>\n",
       "      <td>10</td>\n",
       "      <td>RED</td>\n",
       "      <td>0</td>\n",
       "      <td>1</td>\n",
       "      <td>RED</td>\n",
       "      <td>0</td>\n",
       "      <td>1</td>\n",
       "      <td>RED</td>\n",
       "    </tr>\n",
       "    <tr>\n",
       "      <th>1</th>\n",
       "      <td>KR_6055710166</td>\n",
       "      <td>TOvKujDuw_rTCUebjSXidH8OJf_IoReR-YNkEDRhF-xCoOA</td>\n",
       "      <td>266</td>\n",
       "      <td>8K1yx07pCws-gzQxIzqyuoyVtEGbaUk35YQDtbEyoFgIA2Y</td>\n",
       "      <td>234</td>\n",
       "      <td>cTfhhY3u5vrB4LTFhUaJgVggwi1IKy14mnQRaL4lYT-SBQ</td>\n",
       "      <td>103</td>\n",
       "      <td>neTBID6mtg2VghrIdOtPVxRrBRJ4elf07mPURSA9hfz9bPc</td>\n",
       "      <td>15</td>\n",
       "      <td>aWidBVCzTkjdeRk-Am68IhSgtOFms3Lg3zIV1OEcpF2fDn...</td>\n",
       "      <td>...</td>\n",
       "      <td>BLUE</td>\n",
       "      <td>5</td>\n",
       "      <td>0</td>\n",
       "      <td>NONE</td>\n",
       "      <td>0</td>\n",
       "      <td>0</td>\n",
       "      <td>NONE</td>\n",
       "      <td>0</td>\n",
       "      <td>0</td>\n",
       "      <td>BLUE</td>\n",
       "    </tr>\n",
       "    <tr>\n",
       "      <th>2</th>\n",
       "      <td>KR_6055326646</td>\n",
       "      <td>vw7N9YLAgtt3OEuzBHDzq7gQjIcdhK-crpvGNdbm7co2dck</td>\n",
       "      <td>29</td>\n",
       "      <td>EV23s0Fe5ptC8cyk1148besP5YnAtguSS9golPxZRwvwEyo</td>\n",
       "      <td>62</td>\n",
       "      <td>5C7Ab5bDdvKhppo5D5JoCiGkuW98oNYJLrjZPfo5cqpG20M</td>\n",
       "      <td>888</td>\n",
       "      <td>aFwzyFYDcqUvZje-bKywj8NPVlMxGj-MfCahYynTXvYVysQ</td>\n",
       "      <td>887</td>\n",
       "      <td>cTfhhY3u5vrB4LTFhUaJgVggwi1IKy14mnQRaL4lYT-SBQ</td>\n",
       "      <td>...</td>\n",
       "      <td>BLUE</td>\n",
       "      <td>5</td>\n",
       "      <td>0</td>\n",
       "      <td>NONE</td>\n",
       "      <td>0</td>\n",
       "      <td>0</td>\n",
       "      <td>NONE</td>\n",
       "      <td>0</td>\n",
       "      <td>0</td>\n",
       "      <td>BLUE</td>\n",
       "    </tr>\n",
       "    <tr>\n",
       "      <th>3</th>\n",
       "      <td>KR_6053723720</td>\n",
       "      <td>5A4WJpFsCzkRoVDHzNAVO6bre5LRlLSlu5bDjX2oBOs9qKE</td>\n",
       "      <td>113</td>\n",
       "      <td>MDqGtPmXx3f2LMeKFTuWuI53bD4usXQCxyua869BLnh8Wx...</td>\n",
       "      <td>80</td>\n",
       "      <td>KgSuGOGxEJikfizSiVtI5v9QcqtN2aPrEmWAyP3Rj9bkuB0</td>\n",
       "      <td>711</td>\n",
       "      <td>T9cTTfK038tIME3U2xPWTaO4Vl20PhEfKnp9JQSobN8OCrk</td>\n",
       "      <td>523</td>\n",
       "      <td>sagYqipZBJ5neU3czDDJ0Nce6yygJU3jQCsH2s7N1O46F6s</td>\n",
       "      <td>...</td>\n",
       "      <td>RED</td>\n",
       "      <td>6</td>\n",
       "      <td>10</td>\n",
       "      <td>BLUE</td>\n",
       "      <td>1</td>\n",
       "      <td>0</td>\n",
       "      <td>RED</td>\n",
       "      <td>1</td>\n",
       "      <td>2</td>\n",
       "      <td>RED</td>\n",
       "    </tr>\n",
       "    <tr>\n",
       "      <th>4</th>\n",
       "      <td>KR_6053619349</td>\n",
       "      <td>q3wZkwddVzV3gqDEZuE7l65m8U0j40aFprEdroCXXRyFXi0</td>\n",
       "      <td>14</td>\n",
       "      <td>Tx5p5q4af3CF8ckXbeZCZk4-RD8WepIX3KU1NzF5BS5swQ...</td>\n",
       "      <td>64</td>\n",
       "      <td>FR8ABgAmWaIHci98kpniqL3iddOz_W2zUv3gfV_GjpT74vGk</td>\n",
       "      <td>711</td>\n",
       "      <td>lhTGXwclX7jr-nYbvC1dwC4LaHBJhddgLzqhzO-GeMu62T...</td>\n",
       "      <td>221</td>\n",
       "      <td>SCu_pVJRXo5x2xkIH4ur1pKE51Cuf8_AtCqERkKtFa-KV1...</td>\n",
       "      <td>...</td>\n",
       "      <td>BLUE</td>\n",
       "      <td>8</td>\n",
       "      <td>3</td>\n",
       "      <td>BLUE</td>\n",
       "      <td>1</td>\n",
       "      <td>0</td>\n",
       "      <td>BLUE</td>\n",
       "      <td>1</td>\n",
       "      <td>0</td>\n",
       "      <td>BLUE</td>\n",
       "    </tr>\n",
       "  </tbody>\n",
       "</table>\n",
       "<p>5 rows × 50 columns</p>\n",
       "</div>"
      ],
      "text/plain": [
       "        MATCH_ID                                           BSUM1_ID  \\\n",
       "0  KR_6057844675  sbDHeqqUvLDhNA3yYnS3t93fG4d9doqldZjOkb3rwrybN_...   \n",
       "1  KR_6055710166    TOvKujDuw_rTCUebjSXidH8OJf_IoReR-YNkEDRhF-xCoOA   \n",
       "2  KR_6055326646    vw7N9YLAgtt3OEuzBHDzq7gQjIcdhK-crpvGNdbm7co2dck   \n",
       "3  KR_6053723720    5A4WJpFsCzkRoVDHzNAVO6bre5LRlLSlu5bDjX2oBOs9qKE   \n",
       "4  KR_6053619349    q3wZkwddVzV3gqDEZuE7l65m8U0j40aFprEdroCXXRyFXi0   \n",
       "\n",
       "   BTOP_CHAMP_ID                                           BSUM2_ID  \\\n",
       "0             59  3PV_W4RY09TzgEQfBZNdSlsHFwxjwbjzIwXsawLuoSVYyp...   \n",
       "1            266    8K1yx07pCws-gzQxIzqyuoyVtEGbaUk35YQDtbEyoFgIA2Y   \n",
       "2             29    EV23s0Fe5ptC8cyk1148besP5YnAtguSS9golPxZRwvwEyo   \n",
       "3            113  MDqGtPmXx3f2LMeKFTuWuI53bD4usXQCxyua869BLnh8Wx...   \n",
       "4             14  Tx5p5q4af3CF8ckXbeZCZk4-RD8WepIX3KU1NzF5BS5swQ...   \n",
       "\n",
       "   BJGL_CHAMP_ID                                          BSUM3_ID  \\\n",
       "0             60   C8JeB0UVt7XBWdBC1EsTOMUecwXQ7M2s3aT8BiB6GCyoE4E   \n",
       "1            234    cTfhhY3u5vrB4LTFhUaJgVggwi1IKy14mnQRaL4lYT-SBQ   \n",
       "2             62   5C7Ab5bDdvKhppo5D5JoCiGkuW98oNYJLrjZPfo5cqpG20M   \n",
       "3             80   KgSuGOGxEJikfizSiVtI5v9QcqtN2aPrEmWAyP3Rj9bkuB0   \n",
       "4             64  FR8ABgAmWaIHci98kpniqL3iddOz_W2zUv3gfV_GjpT74vGk   \n",
       "\n",
       "   BMID_CHAMP_ID                                           BSUM4_ID  \\\n",
       "0            777    agy7tVJmthI4QFrgcC_GjBbhdd0juuBeCIIRwH-sS0AM1ek   \n",
       "1            103    neTBID6mtg2VghrIdOtPVxRrBRJ4elf07mPURSA9hfz9bPc   \n",
       "2            888    aFwzyFYDcqUvZje-bKywj8NPVlMxGj-MfCahYynTXvYVysQ   \n",
       "3            711    T9cTTfK038tIME3U2xPWTaO4Vl20PhEfKnp9JQSobN8OCrk   \n",
       "4            711  lhTGXwclX7jr-nYbvC1dwC4LaHBJhddgLzqhzO-GeMu62T...   \n",
       "\n",
       "   BBOT_CHAMP_ID                                           BSUM5_ID  ...  \\\n",
       "0            157    4k8yFgb1e-uPWqMPKbNCnPIlnj9CmYjJNAWDYwVYZAUyfxc  ...   \n",
       "1             15  aWidBVCzTkjdeRk-Am68IhSgtOFms3Lg3zIV1OEcpF2fDn...  ...   \n",
       "2            887     cTfhhY3u5vrB4LTFhUaJgVggwi1IKy14mnQRaL4lYT-SBQ  ...   \n",
       "3            523    sagYqipZBJ5neU3czDDJ0Nce6yygJU3jQCsH2s7N1O46F6s  ...   \n",
       "4            221  SCu_pVJRXo5x2xkIH4ur1pKE51Cuf8_AtCqERkKtFa-KV1...  ...   \n",
       "\n",
       "   FIRST_TOWER  BTOWER_KILLS  RTOWER_KILLS  FIRST_BARON  BBARON_KILLS  \\\n",
       "0          RED             1            10          RED             0   \n",
       "1         BLUE             5             0         NONE             0   \n",
       "2         BLUE             5             0         NONE             0   \n",
       "3          RED             6            10         BLUE             1   \n",
       "4         BLUE             8             3         BLUE             1   \n",
       "\n",
       "   RBARON_KILLS FIRST_INHIB  BINHIB_KILLS RINHIB_KILLS  WINNER  \n",
       "0             1         RED             0            1     RED  \n",
       "1             0        NONE             0            0    BLUE  \n",
       "2             0        NONE             0            0    BLUE  \n",
       "3             0         RED             1            2     RED  \n",
       "4             0        BLUE             1            0    BLUE  \n",
       "\n",
       "[5 rows x 50 columns]"
      ]
     },
     "execution_count": 11,
     "metadata": {},
     "output_type": "execute_result"
    }
   ],
   "source": [
    "KR1_matches = pd.read_csv('../data/raw/KR_matches_200.csv')\n",
    "KR1_matches = KR1_matches.rename(columns={'BSUM1_CHAMP_ID': 'BTOP_CHAMP_ID', 'BSUM2_CHAMP_ID': 'BJGL_CHAMP_ID', 'BSUM3_CHAMP_ID': 'BMID_CHAMP_ID', 'BSUM4_CHAMP_ID': 'BBOT_CHAMP_ID', 'BSUM5_CHAMP_ID': 'BSUP_CHAMP_ID'})\n",
    "KR1_matches = KR1_matches.rename(columns={'RSUM1_CHAMP_ID': 'RTOP_CHAMP_ID', 'RSUM2_CHAMP_ID': 'RJGL_CHAMP_ID', 'RSUM3_CHAMP_ID': 'RMID_CHAMP_ID', 'RSUM4_CHAMP_ID': 'RBOT_CHAMP_ID', 'RSUM5_CHAMP_ID': 'RSUP_CHAMP_ID'})\n",
    "KR1_matches = KR1_matches.drop_duplicates()\n",
    "KR1_matches = KR1_matches.reset_index(drop=True)\n",
    "KR1_matches.head()"
   ]
  },
  {
   "cell_type": "code",
   "execution_count": 12,
   "metadata": {},
   "outputs": [
    {
     "data": {
      "text/html": [
       "<div>\n",
       "<style scoped>\n",
       "    .dataframe tbody tr th:only-of-type {\n",
       "        vertical-align: middle;\n",
       "    }\n",
       "\n",
       "    .dataframe tbody tr th {\n",
       "        vertical-align: top;\n",
       "    }\n",
       "\n",
       "    .dataframe thead th {\n",
       "        text-align: right;\n",
       "    }\n",
       "</style>\n",
       "<table border=\"1\" class=\"dataframe\">\n",
       "  <thead>\n",
       "    <tr style=\"text-align: right;\">\n",
       "      <th></th>\n",
       "      <th>MATCH_ID</th>\n",
       "      <th>BSUM1_ID</th>\n",
       "      <th>BTOP_CHAMP_ID</th>\n",
       "      <th>BSUM2_ID</th>\n",
       "      <th>BJGL_CHAMP_ID</th>\n",
       "      <th>BSUM3_ID</th>\n",
       "      <th>BMID_CHAMP_ID</th>\n",
       "      <th>BSUM4_ID</th>\n",
       "      <th>BBOT_CHAMP_ID</th>\n",
       "      <th>BSUM5_ID</th>\n",
       "      <th>...</th>\n",
       "      <th>FIRST_TOWER</th>\n",
       "      <th>BTOWER_KILLS</th>\n",
       "      <th>RTOWER_KILLS</th>\n",
       "      <th>FIRST_BARON</th>\n",
       "      <th>BBARON_KILLS</th>\n",
       "      <th>RBARON_KILLS</th>\n",
       "      <th>FIRST_INHIB</th>\n",
       "      <th>BINHIB_KILLS</th>\n",
       "      <th>RINHIB_KILLS</th>\n",
       "      <th>WINNER</th>\n",
       "    </tr>\n",
       "  </thead>\n",
       "  <tbody>\n",
       "    <tr>\n",
       "      <th>0</th>\n",
       "      <td>NA1_4396515853</td>\n",
       "      <td>_rz2B5gcGgG78Ce-qPHbK_BjSGuAYXVbU5HehuD69QhJE2I</td>\n",
       "      <td>50</td>\n",
       "      <td>RWNELKaFziEInyoYrBUt2CAKeHxIi_1S71GwvUdr__CJErI</td>\n",
       "      <td>200</td>\n",
       "      <td>WTTjHK7BiVw0fYiDWcPfuV248NITM-7Yvz2t1KqtYjEJzjA</td>\n",
       "      <td>38</td>\n",
       "      <td>F8TVH5gwahG6ByWfv5nt6xmqGItJAOHTP_vRj6R_kYIuDn...</td>\n",
       "      <td>119</td>\n",
       "      <td>SObOtRbK5xU7yZaH--gtYohyycXJv-6yAhcGudzWkB9VeYE</td>\n",
       "      <td>...</td>\n",
       "      <td>BLUE</td>\n",
       "      <td>7</td>\n",
       "      <td>0</td>\n",
       "      <td>NONE</td>\n",
       "      <td>0</td>\n",
       "      <td>0</td>\n",
       "      <td>BLUE</td>\n",
       "      <td>1</td>\n",
       "      <td>0</td>\n",
       "      <td>BLUE</td>\n",
       "    </tr>\n",
       "    <tr>\n",
       "      <th>1</th>\n",
       "      <td>NA1_4396540388</td>\n",
       "      <td>r0VX6FfhshlR1S_yFNnv3FZ24b37EPCXZ0X5PUpu82Mqncs</td>\n",
       "      <td>266</td>\n",
       "      <td>qxox9oRsNSZttfe03EJKZgf5_YV7eqYl5SbsSuioeY0zlF8</td>\n",
       "      <td>9</td>\n",
       "      <td>-mhcp2urSsr5scOkFeXXMkzMhzrrJSZ1dWH4z3xLgjlukls</td>\n",
       "      <td>8</td>\n",
       "      <td>F8TVH5gwahG6ByWfv5nt6xmqGItJAOHTP_vRj6R_kYIuDn...</td>\n",
       "      <td>119</td>\n",
       "      <td>Q5G21bXQS9mNgwc3BZn2Eqmj1_bn3rSuQF6YVTNExheM3qc</td>\n",
       "      <td>...</td>\n",
       "      <td>BLUE</td>\n",
       "      <td>8</td>\n",
       "      <td>4</td>\n",
       "      <td>BLUE</td>\n",
       "      <td>1</td>\n",
       "      <td>0</td>\n",
       "      <td>BLUE</td>\n",
       "      <td>1</td>\n",
       "      <td>0</td>\n",
       "      <td>BLUE</td>\n",
       "    </tr>\n",
       "    <tr>\n",
       "      <th>2</th>\n",
       "      <td>NA1_4396495283</td>\n",
       "      <td>g96u4Zu60wNHE_ghxcPDuC_Mc9ouc3m48Mx_NLdZ1FMdfxg</td>\n",
       "      <td>266</td>\n",
       "      <td>Dr8A8hpa5aBnlkY4qMoo8d40qEcqOIIlfc0C3ojR4JGkJmQ</td>\n",
       "      <td>200</td>\n",
       "      <td>F8TVH5gwahG6ByWfv5nt6xmqGItJAOHTP_vRj6R_kYIuDn...</td>\n",
       "      <td>1</td>\n",
       "      <td>V-vrG5r7dzvV3vppV-vDVZXsFAE0jMQWCIMJPYom6RjAhS...</td>\n",
       "      <td>360</td>\n",
       "      <td>Mhua_I7r3cnbEpXXBucN6RddhnP88ZmJYG76SmLlNKEnxs...</td>\n",
       "      <td>...</td>\n",
       "      <td>BLUE</td>\n",
       "      <td>9</td>\n",
       "      <td>5</td>\n",
       "      <td>BLUE</td>\n",
       "      <td>1</td>\n",
       "      <td>0</td>\n",
       "      <td>BLUE</td>\n",
       "      <td>1</td>\n",
       "      <td>0</td>\n",
       "      <td>BLUE</td>\n",
       "    </tr>\n",
       "    <tr>\n",
       "      <th>3</th>\n",
       "      <td>NA1_4396437949</td>\n",
       "      <td>Mj8iPiDSI3xHQO_1gDFsGz5uf6dwY7vHZla08rzzMuRmHYc</td>\n",
       "      <td>27</td>\n",
       "      <td>H9lyL4tk2OM82hgYSU36Dr-MlVdpGFY7OBQ45cQSnP0jKzNh</td>\n",
       "      <td>421</td>\n",
       "      <td>36g0ZTyQO7y54a6u-u2oAR0lAWoIrU7rL_V65ipeEyautWY</td>\n",
       "      <td>74</td>\n",
       "      <td>DWXk985dJPD6ywHdP9yIVJQe7kGLMVb3c502hFDTLGIaJyU</td>\n",
       "      <td>119</td>\n",
       "      <td>xL-gHga9xDBG2avQT56HZlPRLQUKX2OkvJkfsOtr29S2mr...</td>\n",
       "      <td>...</td>\n",
       "      <td>BLUE</td>\n",
       "      <td>3</td>\n",
       "      <td>7</td>\n",
       "      <td>RED</td>\n",
       "      <td>0</td>\n",
       "      <td>1</td>\n",
       "      <td>RED</td>\n",
       "      <td>0</td>\n",
       "      <td>2</td>\n",
       "      <td>RED</td>\n",
       "    </tr>\n",
       "    <tr>\n",
       "      <th>4</th>\n",
       "      <td>NA1_4396434056</td>\n",
       "      <td>daODRa4nnhTu0q1-eycLcvTqE_eG9-knakaOpTdDwymGsD0</td>\n",
       "      <td>516</td>\n",
       "      <td>MxCz3g6oBXQubGlvJnMTvdaJ73L6J9CIlYgzoj9nOY_SXuA</td>\n",
       "      <td>131</td>\n",
       "      <td>d1taUIColLPNBQdrVyuo-LdG80RYmo6Bqk_qU5gPsYGsLQs</td>\n",
       "      <td>104</td>\n",
       "      <td>xL-gHga9xDBG2avQT56HZlPRLQUKX2OkvJkfsOtr29S2mr...</td>\n",
       "      <td>523</td>\n",
       "      <td>F_vN1N4c2g8lBXpleJwskpDM3QCi9NBxgKje10-BhCkXZ60</td>\n",
       "      <td>...</td>\n",
       "      <td>BLUE</td>\n",
       "      <td>4</td>\n",
       "      <td>11</td>\n",
       "      <td>RED</td>\n",
       "      <td>0</td>\n",
       "      <td>1</td>\n",
       "      <td>RED</td>\n",
       "      <td>0</td>\n",
       "      <td>2</td>\n",
       "      <td>RED</td>\n",
       "    </tr>\n",
       "  </tbody>\n",
       "</table>\n",
       "<p>5 rows × 50 columns</p>\n",
       "</div>"
      ],
      "text/plain": [
       "         MATCH_ID                                         BSUM1_ID  \\\n",
       "0  NA1_4396515853  _rz2B5gcGgG78Ce-qPHbK_BjSGuAYXVbU5HehuD69QhJE2I   \n",
       "1  NA1_4396540388  r0VX6FfhshlR1S_yFNnv3FZ24b37EPCXZ0X5PUpu82Mqncs   \n",
       "2  NA1_4396495283  g96u4Zu60wNHE_ghxcPDuC_Mc9ouc3m48Mx_NLdZ1FMdfxg   \n",
       "3  NA1_4396437949  Mj8iPiDSI3xHQO_1gDFsGz5uf6dwY7vHZla08rzzMuRmHYc   \n",
       "4  NA1_4396434056  daODRa4nnhTu0q1-eycLcvTqE_eG9-knakaOpTdDwymGsD0   \n",
       "\n",
       "   BTOP_CHAMP_ID                                          BSUM2_ID  \\\n",
       "0             50   RWNELKaFziEInyoYrBUt2CAKeHxIi_1S71GwvUdr__CJErI   \n",
       "1            266   qxox9oRsNSZttfe03EJKZgf5_YV7eqYl5SbsSuioeY0zlF8   \n",
       "2            266   Dr8A8hpa5aBnlkY4qMoo8d40qEcqOIIlfc0C3ojR4JGkJmQ   \n",
       "3             27  H9lyL4tk2OM82hgYSU36Dr-MlVdpGFY7OBQ45cQSnP0jKzNh   \n",
       "4            516   MxCz3g6oBXQubGlvJnMTvdaJ73L6J9CIlYgzoj9nOY_SXuA   \n",
       "\n",
       "   BJGL_CHAMP_ID                                           BSUM3_ID  \\\n",
       "0            200    WTTjHK7BiVw0fYiDWcPfuV248NITM-7Yvz2t1KqtYjEJzjA   \n",
       "1              9    -mhcp2urSsr5scOkFeXXMkzMhzrrJSZ1dWH4z3xLgjlukls   \n",
       "2            200  F8TVH5gwahG6ByWfv5nt6xmqGItJAOHTP_vRj6R_kYIuDn...   \n",
       "3            421    36g0ZTyQO7y54a6u-u2oAR0lAWoIrU7rL_V65ipeEyautWY   \n",
       "4            131    d1taUIColLPNBQdrVyuo-LdG80RYmo6Bqk_qU5gPsYGsLQs   \n",
       "\n",
       "   BMID_CHAMP_ID                                           BSUM4_ID  \\\n",
       "0             38  F8TVH5gwahG6ByWfv5nt6xmqGItJAOHTP_vRj6R_kYIuDn...   \n",
       "1              8  F8TVH5gwahG6ByWfv5nt6xmqGItJAOHTP_vRj6R_kYIuDn...   \n",
       "2              1  V-vrG5r7dzvV3vppV-vDVZXsFAE0jMQWCIMJPYom6RjAhS...   \n",
       "3             74    DWXk985dJPD6ywHdP9yIVJQe7kGLMVb3c502hFDTLGIaJyU   \n",
       "4            104  xL-gHga9xDBG2avQT56HZlPRLQUKX2OkvJkfsOtr29S2mr...   \n",
       "\n",
       "   BBOT_CHAMP_ID                                           BSUM5_ID  ...  \\\n",
       "0            119    SObOtRbK5xU7yZaH--gtYohyycXJv-6yAhcGudzWkB9VeYE  ...   \n",
       "1            119    Q5G21bXQS9mNgwc3BZn2Eqmj1_bn3rSuQF6YVTNExheM3qc  ...   \n",
       "2            360  Mhua_I7r3cnbEpXXBucN6RddhnP88ZmJYG76SmLlNKEnxs...  ...   \n",
       "3            119  xL-gHga9xDBG2avQT56HZlPRLQUKX2OkvJkfsOtr29S2mr...  ...   \n",
       "4            523    F_vN1N4c2g8lBXpleJwskpDM3QCi9NBxgKje10-BhCkXZ60  ...   \n",
       "\n",
       "   FIRST_TOWER  BTOWER_KILLS  RTOWER_KILLS  FIRST_BARON  BBARON_KILLS  \\\n",
       "0         BLUE             7             0         NONE             0   \n",
       "1         BLUE             8             4         BLUE             1   \n",
       "2         BLUE             9             5         BLUE             1   \n",
       "3         BLUE             3             7          RED             0   \n",
       "4         BLUE             4            11          RED             0   \n",
       "\n",
       "   RBARON_KILLS FIRST_INHIB  BINHIB_KILLS RINHIB_KILLS  WINNER  \n",
       "0             0        BLUE             1            0    BLUE  \n",
       "1             0        BLUE             1            0    BLUE  \n",
       "2             0        BLUE             1            0    BLUE  \n",
       "3             1         RED             0            2     RED  \n",
       "4             1         RED             0            2     RED  \n",
       "\n",
       "[5 rows x 50 columns]"
      ]
     },
     "execution_count": 12,
     "metadata": {},
     "output_type": "execute_result"
    }
   ],
   "source": [
    "NA1_matches = pd.read_csv('../data/raw/NA_matches_200.csv')\n",
    "NA1_matches = NA1_matches.rename(columns={'BSUM1_CHAMP_ID': 'BTOP_CHAMP_ID', 'BSUM2_CHAMP_ID': 'BJGL_CHAMP_ID', 'BSUM3_CHAMP_ID': 'BMID_CHAMP_ID', 'BSUM4_CHAMP_ID': 'BBOT_CHAMP_ID', 'BSUM5_CHAMP_ID': 'BSUP_CHAMP_ID'})\n",
    "NA1_matches = NA1_matches.rename(columns={'RSUM1_CHAMP_ID': 'RTOP_CHAMP_ID', 'RSUM2_CHAMP_ID': 'RJGL_CHAMP_ID', 'RSUM3_CHAMP_ID': 'RMID_CHAMP_ID', 'RSUM4_CHAMP_ID': 'RBOT_CHAMP_ID', 'RSUM5_CHAMP_ID': 'RSUP_CHAMP_ID'})\n",
    "NA1_matches = NA1_matches.drop_duplicates()\n",
    "NA1_matches = NA1_matches.reset_index(drop=True)\n",
    "NA1_matches.head()"
   ]
  },
  {
   "cell_type": "markdown",
   "metadata": {},
   "source": [
    "## Exploration\n",
    "### What is the length of each dataset?"
   ]
  },
  {
   "cell_type": "code",
   "execution_count": 121,
   "metadata": {},
   "outputs": [
    {
     "name": "stdout",
     "output_type": "stream",
     "text": [
      "EU_Matches Len: 180\n",
      "KR_Matches Len: 183\n",
      "NA_Matches Len: 192\n"
     ]
    }
   ],
   "source": [
    "print('EU_Matches Len:' ,len(EUW1_matches))\n",
    "print('KR_Matches Len:' ,len(KR1_matches))\n",
    "print('NA_Matches Len:' ,len(NA1_matches))"
   ]
  },
  {
   "cell_type": "markdown",
   "metadata": {},
   "source": [
    "### Which team is more likely to win?"
   ]
  },
  {
   "cell_type": "code",
   "execution_count": 114,
   "metadata": {},
   "outputs": [
    {
     "data": {
      "application/vnd.plotly.v1+json": {
       "config": {
        "plotlyServerURL": "https://plot.ly"
       },
       "data": [
        {
         "alignmentgroup": "True",
         "hovertemplate": "index=%{x}<br>COUNT=%{y}<extra></extra>",
         "legendgroup": "",
         "marker": {
          "color": "#636efa",
          "pattern": {
           "shape": ""
          }
         },
         "name": "",
         "offsetgroup": "",
         "orientation": "v",
         "showlegend": false,
         "textposition": "auto",
         "type": "bar",
         "x": [
          0,
          1
         ],
         "xaxis": "x",
         "y": [
          86,
          94
         ],
         "yaxis": "y"
        }
       ],
       "layout": {
        "barmode": "relative",
        "legend": {
         "tracegroupgap": 0
        },
        "template": {
         "data": {
          "bar": [
           {
            "error_x": {
             "color": "#2a3f5f"
            },
            "error_y": {
             "color": "#2a3f5f"
            },
            "marker": {
             "line": {
              "color": "#E5ECF6",
              "width": 0.5
             },
             "pattern": {
              "fillmode": "overlay",
              "size": 10,
              "solidity": 0.2
             }
            },
            "type": "bar"
           }
          ],
          "barpolar": [
           {
            "marker": {
             "line": {
              "color": "#E5ECF6",
              "width": 0.5
             },
             "pattern": {
              "fillmode": "overlay",
              "size": 10,
              "solidity": 0.2
             }
            },
            "type": "barpolar"
           }
          ],
          "carpet": [
           {
            "aaxis": {
             "endlinecolor": "#2a3f5f",
             "gridcolor": "white",
             "linecolor": "white",
             "minorgridcolor": "white",
             "startlinecolor": "#2a3f5f"
            },
            "baxis": {
             "endlinecolor": "#2a3f5f",
             "gridcolor": "white",
             "linecolor": "white",
             "minorgridcolor": "white",
             "startlinecolor": "#2a3f5f"
            },
            "type": "carpet"
           }
          ],
          "choropleth": [
           {
            "colorbar": {
             "outlinewidth": 0,
             "ticks": ""
            },
            "type": "choropleth"
           }
          ],
          "contour": [
           {
            "colorbar": {
             "outlinewidth": 0,
             "ticks": ""
            },
            "colorscale": [
             [
              0,
              "#0d0887"
             ],
             [
              0.1111111111111111,
              "#46039f"
             ],
             [
              0.2222222222222222,
              "#7201a8"
             ],
             [
              0.3333333333333333,
              "#9c179e"
             ],
             [
              0.4444444444444444,
              "#bd3786"
             ],
             [
              0.5555555555555556,
              "#d8576b"
             ],
             [
              0.6666666666666666,
              "#ed7953"
             ],
             [
              0.7777777777777778,
              "#fb9f3a"
             ],
             [
              0.8888888888888888,
              "#fdca26"
             ],
             [
              1,
              "#f0f921"
             ]
            ],
            "type": "contour"
           }
          ],
          "contourcarpet": [
           {
            "colorbar": {
             "outlinewidth": 0,
             "ticks": ""
            },
            "type": "contourcarpet"
           }
          ],
          "heatmap": [
           {
            "colorbar": {
             "outlinewidth": 0,
             "ticks": ""
            },
            "colorscale": [
             [
              0,
              "#0d0887"
             ],
             [
              0.1111111111111111,
              "#46039f"
             ],
             [
              0.2222222222222222,
              "#7201a8"
             ],
             [
              0.3333333333333333,
              "#9c179e"
             ],
             [
              0.4444444444444444,
              "#bd3786"
             ],
             [
              0.5555555555555556,
              "#d8576b"
             ],
             [
              0.6666666666666666,
              "#ed7953"
             ],
             [
              0.7777777777777778,
              "#fb9f3a"
             ],
             [
              0.8888888888888888,
              "#fdca26"
             ],
             [
              1,
              "#f0f921"
             ]
            ],
            "type": "heatmap"
           }
          ],
          "heatmapgl": [
           {
            "colorbar": {
             "outlinewidth": 0,
             "ticks": ""
            },
            "colorscale": [
             [
              0,
              "#0d0887"
             ],
             [
              0.1111111111111111,
              "#46039f"
             ],
             [
              0.2222222222222222,
              "#7201a8"
             ],
             [
              0.3333333333333333,
              "#9c179e"
             ],
             [
              0.4444444444444444,
              "#bd3786"
             ],
             [
              0.5555555555555556,
              "#d8576b"
             ],
             [
              0.6666666666666666,
              "#ed7953"
             ],
             [
              0.7777777777777778,
              "#fb9f3a"
             ],
             [
              0.8888888888888888,
              "#fdca26"
             ],
             [
              1,
              "#f0f921"
             ]
            ],
            "type": "heatmapgl"
           }
          ],
          "histogram": [
           {
            "marker": {
             "pattern": {
              "fillmode": "overlay",
              "size": 10,
              "solidity": 0.2
             }
            },
            "type": "histogram"
           }
          ],
          "histogram2d": [
           {
            "colorbar": {
             "outlinewidth": 0,
             "ticks": ""
            },
            "colorscale": [
             [
              0,
              "#0d0887"
             ],
             [
              0.1111111111111111,
              "#46039f"
             ],
             [
              0.2222222222222222,
              "#7201a8"
             ],
             [
              0.3333333333333333,
              "#9c179e"
             ],
             [
              0.4444444444444444,
              "#bd3786"
             ],
             [
              0.5555555555555556,
              "#d8576b"
             ],
             [
              0.6666666666666666,
              "#ed7953"
             ],
             [
              0.7777777777777778,
              "#fb9f3a"
             ],
             [
              0.8888888888888888,
              "#fdca26"
             ],
             [
              1,
              "#f0f921"
             ]
            ],
            "type": "histogram2d"
           }
          ],
          "histogram2dcontour": [
           {
            "colorbar": {
             "outlinewidth": 0,
             "ticks": ""
            },
            "colorscale": [
             [
              0,
              "#0d0887"
             ],
             [
              0.1111111111111111,
              "#46039f"
             ],
             [
              0.2222222222222222,
              "#7201a8"
             ],
             [
              0.3333333333333333,
              "#9c179e"
             ],
             [
              0.4444444444444444,
              "#bd3786"
             ],
             [
              0.5555555555555556,
              "#d8576b"
             ],
             [
              0.6666666666666666,
              "#ed7953"
             ],
             [
              0.7777777777777778,
              "#fb9f3a"
             ],
             [
              0.8888888888888888,
              "#fdca26"
             ],
             [
              1,
              "#f0f921"
             ]
            ],
            "type": "histogram2dcontour"
           }
          ],
          "mesh3d": [
           {
            "colorbar": {
             "outlinewidth": 0,
             "ticks": ""
            },
            "type": "mesh3d"
           }
          ],
          "parcoords": [
           {
            "line": {
             "colorbar": {
              "outlinewidth": 0,
              "ticks": ""
             }
            },
            "type": "parcoords"
           }
          ],
          "pie": [
           {
            "automargin": true,
            "type": "pie"
           }
          ],
          "scatter": [
           {
            "fillpattern": {
             "fillmode": "overlay",
             "size": 10,
             "solidity": 0.2
            },
            "type": "scatter"
           }
          ],
          "scatter3d": [
           {
            "line": {
             "colorbar": {
              "outlinewidth": 0,
              "ticks": ""
             }
            },
            "marker": {
             "colorbar": {
              "outlinewidth": 0,
              "ticks": ""
             }
            },
            "type": "scatter3d"
           }
          ],
          "scattercarpet": [
           {
            "marker": {
             "colorbar": {
              "outlinewidth": 0,
              "ticks": ""
             }
            },
            "type": "scattercarpet"
           }
          ],
          "scattergeo": [
           {
            "marker": {
             "colorbar": {
              "outlinewidth": 0,
              "ticks": ""
             }
            },
            "type": "scattergeo"
           }
          ],
          "scattergl": [
           {
            "marker": {
             "colorbar": {
              "outlinewidth": 0,
              "ticks": ""
             }
            },
            "type": "scattergl"
           }
          ],
          "scattermapbox": [
           {
            "marker": {
             "colorbar": {
              "outlinewidth": 0,
              "ticks": ""
             }
            },
            "type": "scattermapbox"
           }
          ],
          "scatterpolar": [
           {
            "marker": {
             "colorbar": {
              "outlinewidth": 0,
              "ticks": ""
             }
            },
            "type": "scatterpolar"
           }
          ],
          "scatterpolargl": [
           {
            "marker": {
             "colorbar": {
              "outlinewidth": 0,
              "ticks": ""
             }
            },
            "type": "scatterpolargl"
           }
          ],
          "scatterternary": [
           {
            "marker": {
             "colorbar": {
              "outlinewidth": 0,
              "ticks": ""
             }
            },
            "type": "scatterternary"
           }
          ],
          "surface": [
           {
            "colorbar": {
             "outlinewidth": 0,
             "ticks": ""
            },
            "colorscale": [
             [
              0,
              "#0d0887"
             ],
             [
              0.1111111111111111,
              "#46039f"
             ],
             [
              0.2222222222222222,
              "#7201a8"
             ],
             [
              0.3333333333333333,
              "#9c179e"
             ],
             [
              0.4444444444444444,
              "#bd3786"
             ],
             [
              0.5555555555555556,
              "#d8576b"
             ],
             [
              0.6666666666666666,
              "#ed7953"
             ],
             [
              0.7777777777777778,
              "#fb9f3a"
             ],
             [
              0.8888888888888888,
              "#fdca26"
             ],
             [
              1,
              "#f0f921"
             ]
            ],
            "type": "surface"
           }
          ],
          "table": [
           {
            "cells": {
             "fill": {
              "color": "#EBF0F8"
             },
             "line": {
              "color": "white"
             }
            },
            "header": {
             "fill": {
              "color": "#C8D4E3"
             },
             "line": {
              "color": "white"
             }
            },
            "type": "table"
           }
          ]
         },
         "layout": {
          "annotationdefaults": {
           "arrowcolor": "#2a3f5f",
           "arrowhead": 0,
           "arrowwidth": 1
          },
          "autotypenumbers": "strict",
          "coloraxis": {
           "colorbar": {
            "outlinewidth": 0,
            "ticks": ""
           }
          },
          "colorscale": {
           "diverging": [
            [
             0,
             "#8e0152"
            ],
            [
             0.1,
             "#c51b7d"
            ],
            [
             0.2,
             "#de77ae"
            ],
            [
             0.3,
             "#f1b6da"
            ],
            [
             0.4,
             "#fde0ef"
            ],
            [
             0.5,
             "#f7f7f7"
            ],
            [
             0.6,
             "#e6f5d0"
            ],
            [
             0.7,
             "#b8e186"
            ],
            [
             0.8,
             "#7fbc41"
            ],
            [
             0.9,
             "#4d9221"
            ],
            [
             1,
             "#276419"
            ]
           ],
           "sequential": [
            [
             0,
             "#0d0887"
            ],
            [
             0.1111111111111111,
             "#46039f"
            ],
            [
             0.2222222222222222,
             "#7201a8"
            ],
            [
             0.3333333333333333,
             "#9c179e"
            ],
            [
             0.4444444444444444,
             "#bd3786"
            ],
            [
             0.5555555555555556,
             "#d8576b"
            ],
            [
             0.6666666666666666,
             "#ed7953"
            ],
            [
             0.7777777777777778,
             "#fb9f3a"
            ],
            [
             0.8888888888888888,
             "#fdca26"
            ],
            [
             1,
             "#f0f921"
            ]
           ],
           "sequentialminus": [
            [
             0,
             "#0d0887"
            ],
            [
             0.1111111111111111,
             "#46039f"
            ],
            [
             0.2222222222222222,
             "#7201a8"
            ],
            [
             0.3333333333333333,
             "#9c179e"
            ],
            [
             0.4444444444444444,
             "#bd3786"
            ],
            [
             0.5555555555555556,
             "#d8576b"
            ],
            [
             0.6666666666666666,
             "#ed7953"
            ],
            [
             0.7777777777777778,
             "#fb9f3a"
            ],
            [
             0.8888888888888888,
             "#fdca26"
            ],
            [
             1,
             "#f0f921"
            ]
           ]
          },
          "colorway": [
           "#636efa",
           "#EF553B",
           "#00cc96",
           "#ab63fa",
           "#FFA15A",
           "#19d3f3",
           "#FF6692",
           "#B6E880",
           "#FF97FF",
           "#FECB52"
          ],
          "font": {
           "color": "#2a3f5f"
          },
          "geo": {
           "bgcolor": "white",
           "lakecolor": "white",
           "landcolor": "#E5ECF6",
           "showlakes": true,
           "showland": true,
           "subunitcolor": "white"
          },
          "hoverlabel": {
           "align": "left"
          },
          "hovermode": "closest",
          "mapbox": {
           "style": "light"
          },
          "paper_bgcolor": "white",
          "plot_bgcolor": "#E5ECF6",
          "polar": {
           "angularaxis": {
            "gridcolor": "white",
            "linecolor": "white",
            "ticks": ""
           },
           "bgcolor": "#E5ECF6",
           "radialaxis": {
            "gridcolor": "white",
            "linecolor": "white",
            "ticks": ""
           }
          },
          "scene": {
           "xaxis": {
            "backgroundcolor": "#E5ECF6",
            "gridcolor": "white",
            "gridwidth": 2,
            "linecolor": "white",
            "showbackground": true,
            "ticks": "",
            "zerolinecolor": "white"
           },
           "yaxis": {
            "backgroundcolor": "#E5ECF6",
            "gridcolor": "white",
            "gridwidth": 2,
            "linecolor": "white",
            "showbackground": true,
            "ticks": "",
            "zerolinecolor": "white"
           },
           "zaxis": {
            "backgroundcolor": "#E5ECF6",
            "gridcolor": "white",
            "gridwidth": 2,
            "linecolor": "white",
            "showbackground": true,
            "ticks": "",
            "zerolinecolor": "white"
           }
          },
          "shapedefaults": {
           "line": {
            "color": "#2a3f5f"
           }
          },
          "ternary": {
           "aaxis": {
            "gridcolor": "white",
            "linecolor": "white",
            "ticks": ""
           },
           "baxis": {
            "gridcolor": "white",
            "linecolor": "white",
            "ticks": ""
           },
           "bgcolor": "#E5ECF6",
           "caxis": {
            "gridcolor": "white",
            "linecolor": "white",
            "ticks": ""
           }
          },
          "title": {
           "x": 0.05
          },
          "xaxis": {
           "automargin": true,
           "gridcolor": "white",
           "linecolor": "white",
           "ticks": "",
           "title": {
            "standoff": 15
           },
           "zerolinecolor": "white",
           "zerolinewidth": 2
          },
          "yaxis": {
           "automargin": true,
           "gridcolor": "white",
           "linecolor": "white",
           "ticks": "",
           "title": {
            "standoff": 15
           },
           "zerolinecolor": "white",
           "zerolinewidth": 2
          }
         }
        },
        "title": {
         "text": "EU: Which Team Wins More?"
        },
        "xaxis": {
         "anchor": "y",
         "domain": [
          0,
          1
         ],
         "title": {
          "text": "index"
         }
        },
        "yaxis": {
         "anchor": "x",
         "domain": [
          0,
          1
         ],
         "title": {
          "text": "COUNT"
         }
        }
       }
      }
     },
     "metadata": {},
     "output_type": "display_data"
    },
    {
     "name": "stdout",
     "output_type": "stream",
     "text": [
      "Blue Team Win Percentage:  47.78\n",
      "Red Team Win Percentage:  52.22\n"
     ]
    }
   ],
   "source": [
    "EUW1_winners = pd.DataFrame(EUW1_matches.groupby('WINNER')['WINNER'].count())\n",
    "EUW1_winners.columns = ['COUNT']\n",
    "EUW1_winners = EUW1_winners.reset_index()\n",
    "EUW1_winners\n",
    "\n",
    "fig = px.bar(EUW1_winners, \n",
    "            x = EUW1_winners.index, \n",
    "            y = EUW1_winners.COUNT,\n",
    "            title = 'EU: Which Team Wins More?')\n",
    "fig.show()\n",
    "\n",
    "print('Blue Team Win Percentage: ', round(EUW1_winners.loc[EUW1_winners['WINNER'] == 'BLUE', 'COUNT'].iloc[0] / EUW1_winners.COUNT.sum() * 100, 2))\n",
    "print('Red Team Win Percentage: ', round(EUW1_winners.loc[EUW1_winners['WINNER'] == 'RED', 'COUNT'].iloc[0] / EUW1_winners.COUNT.sum() * 100, 2))"
   ]
  },
  {
   "cell_type": "markdown",
   "metadata": {},
   "source": [
    "###"
   ]
  },
  {
   "cell_type": "code",
   "execution_count": 116,
   "metadata": {},
   "outputs": [
    {
     "data": {
      "application/vnd.plotly.v1+json": {
       "config": {
        "plotlyServerURL": "https://plot.ly"
       },
       "data": [
        {
         "alignmentgroup": "True",
         "hovertemplate": "WINNER=%{x}<br>COUNT=%{y}<extra></extra>",
         "legendgroup": "",
         "marker": {
          "color": "#636efa",
          "pattern": {
           "shape": ""
          }
         },
         "name": "",
         "offsetgroup": "",
         "orientation": "v",
         "showlegend": false,
         "textposition": "auto",
         "type": "bar",
         "x": [
          "BLUE",
          "RED"
         ],
         "xaxis": "x",
         "y": [
          95,
          88
         ],
         "yaxis": "y"
        }
       ],
       "layout": {
        "barmode": "relative",
        "legend": {
         "tracegroupgap": 0
        },
        "template": {
         "data": {
          "bar": [
           {
            "error_x": {
             "color": "#2a3f5f"
            },
            "error_y": {
             "color": "#2a3f5f"
            },
            "marker": {
             "line": {
              "color": "#E5ECF6",
              "width": 0.5
             },
             "pattern": {
              "fillmode": "overlay",
              "size": 10,
              "solidity": 0.2
             }
            },
            "type": "bar"
           }
          ],
          "barpolar": [
           {
            "marker": {
             "line": {
              "color": "#E5ECF6",
              "width": 0.5
             },
             "pattern": {
              "fillmode": "overlay",
              "size": 10,
              "solidity": 0.2
             }
            },
            "type": "barpolar"
           }
          ],
          "carpet": [
           {
            "aaxis": {
             "endlinecolor": "#2a3f5f",
             "gridcolor": "white",
             "linecolor": "white",
             "minorgridcolor": "white",
             "startlinecolor": "#2a3f5f"
            },
            "baxis": {
             "endlinecolor": "#2a3f5f",
             "gridcolor": "white",
             "linecolor": "white",
             "minorgridcolor": "white",
             "startlinecolor": "#2a3f5f"
            },
            "type": "carpet"
           }
          ],
          "choropleth": [
           {
            "colorbar": {
             "outlinewidth": 0,
             "ticks": ""
            },
            "type": "choropleth"
           }
          ],
          "contour": [
           {
            "colorbar": {
             "outlinewidth": 0,
             "ticks": ""
            },
            "colorscale": [
             [
              0,
              "#0d0887"
             ],
             [
              0.1111111111111111,
              "#46039f"
             ],
             [
              0.2222222222222222,
              "#7201a8"
             ],
             [
              0.3333333333333333,
              "#9c179e"
             ],
             [
              0.4444444444444444,
              "#bd3786"
             ],
             [
              0.5555555555555556,
              "#d8576b"
             ],
             [
              0.6666666666666666,
              "#ed7953"
             ],
             [
              0.7777777777777778,
              "#fb9f3a"
             ],
             [
              0.8888888888888888,
              "#fdca26"
             ],
             [
              1,
              "#f0f921"
             ]
            ],
            "type": "contour"
           }
          ],
          "contourcarpet": [
           {
            "colorbar": {
             "outlinewidth": 0,
             "ticks": ""
            },
            "type": "contourcarpet"
           }
          ],
          "heatmap": [
           {
            "colorbar": {
             "outlinewidth": 0,
             "ticks": ""
            },
            "colorscale": [
             [
              0,
              "#0d0887"
             ],
             [
              0.1111111111111111,
              "#46039f"
             ],
             [
              0.2222222222222222,
              "#7201a8"
             ],
             [
              0.3333333333333333,
              "#9c179e"
             ],
             [
              0.4444444444444444,
              "#bd3786"
             ],
             [
              0.5555555555555556,
              "#d8576b"
             ],
             [
              0.6666666666666666,
              "#ed7953"
             ],
             [
              0.7777777777777778,
              "#fb9f3a"
             ],
             [
              0.8888888888888888,
              "#fdca26"
             ],
             [
              1,
              "#f0f921"
             ]
            ],
            "type": "heatmap"
           }
          ],
          "heatmapgl": [
           {
            "colorbar": {
             "outlinewidth": 0,
             "ticks": ""
            },
            "colorscale": [
             [
              0,
              "#0d0887"
             ],
             [
              0.1111111111111111,
              "#46039f"
             ],
             [
              0.2222222222222222,
              "#7201a8"
             ],
             [
              0.3333333333333333,
              "#9c179e"
             ],
             [
              0.4444444444444444,
              "#bd3786"
             ],
             [
              0.5555555555555556,
              "#d8576b"
             ],
             [
              0.6666666666666666,
              "#ed7953"
             ],
             [
              0.7777777777777778,
              "#fb9f3a"
             ],
             [
              0.8888888888888888,
              "#fdca26"
             ],
             [
              1,
              "#f0f921"
             ]
            ],
            "type": "heatmapgl"
           }
          ],
          "histogram": [
           {
            "marker": {
             "pattern": {
              "fillmode": "overlay",
              "size": 10,
              "solidity": 0.2
             }
            },
            "type": "histogram"
           }
          ],
          "histogram2d": [
           {
            "colorbar": {
             "outlinewidth": 0,
             "ticks": ""
            },
            "colorscale": [
             [
              0,
              "#0d0887"
             ],
             [
              0.1111111111111111,
              "#46039f"
             ],
             [
              0.2222222222222222,
              "#7201a8"
             ],
             [
              0.3333333333333333,
              "#9c179e"
             ],
             [
              0.4444444444444444,
              "#bd3786"
             ],
             [
              0.5555555555555556,
              "#d8576b"
             ],
             [
              0.6666666666666666,
              "#ed7953"
             ],
             [
              0.7777777777777778,
              "#fb9f3a"
             ],
             [
              0.8888888888888888,
              "#fdca26"
             ],
             [
              1,
              "#f0f921"
             ]
            ],
            "type": "histogram2d"
           }
          ],
          "histogram2dcontour": [
           {
            "colorbar": {
             "outlinewidth": 0,
             "ticks": ""
            },
            "colorscale": [
             [
              0,
              "#0d0887"
             ],
             [
              0.1111111111111111,
              "#46039f"
             ],
             [
              0.2222222222222222,
              "#7201a8"
             ],
             [
              0.3333333333333333,
              "#9c179e"
             ],
             [
              0.4444444444444444,
              "#bd3786"
             ],
             [
              0.5555555555555556,
              "#d8576b"
             ],
             [
              0.6666666666666666,
              "#ed7953"
             ],
             [
              0.7777777777777778,
              "#fb9f3a"
             ],
             [
              0.8888888888888888,
              "#fdca26"
             ],
             [
              1,
              "#f0f921"
             ]
            ],
            "type": "histogram2dcontour"
           }
          ],
          "mesh3d": [
           {
            "colorbar": {
             "outlinewidth": 0,
             "ticks": ""
            },
            "type": "mesh3d"
           }
          ],
          "parcoords": [
           {
            "line": {
             "colorbar": {
              "outlinewidth": 0,
              "ticks": ""
             }
            },
            "type": "parcoords"
           }
          ],
          "pie": [
           {
            "automargin": true,
            "type": "pie"
           }
          ],
          "scatter": [
           {
            "fillpattern": {
             "fillmode": "overlay",
             "size": 10,
             "solidity": 0.2
            },
            "type": "scatter"
           }
          ],
          "scatter3d": [
           {
            "line": {
             "colorbar": {
              "outlinewidth": 0,
              "ticks": ""
             }
            },
            "marker": {
             "colorbar": {
              "outlinewidth": 0,
              "ticks": ""
             }
            },
            "type": "scatter3d"
           }
          ],
          "scattercarpet": [
           {
            "marker": {
             "colorbar": {
              "outlinewidth": 0,
              "ticks": ""
             }
            },
            "type": "scattercarpet"
           }
          ],
          "scattergeo": [
           {
            "marker": {
             "colorbar": {
              "outlinewidth": 0,
              "ticks": ""
             }
            },
            "type": "scattergeo"
           }
          ],
          "scattergl": [
           {
            "marker": {
             "colorbar": {
              "outlinewidth": 0,
              "ticks": ""
             }
            },
            "type": "scattergl"
           }
          ],
          "scattermapbox": [
           {
            "marker": {
             "colorbar": {
              "outlinewidth": 0,
              "ticks": ""
             }
            },
            "type": "scattermapbox"
           }
          ],
          "scatterpolar": [
           {
            "marker": {
             "colorbar": {
              "outlinewidth": 0,
              "ticks": ""
             }
            },
            "type": "scatterpolar"
           }
          ],
          "scatterpolargl": [
           {
            "marker": {
             "colorbar": {
              "outlinewidth": 0,
              "ticks": ""
             }
            },
            "type": "scatterpolargl"
           }
          ],
          "scatterternary": [
           {
            "marker": {
             "colorbar": {
              "outlinewidth": 0,
              "ticks": ""
             }
            },
            "type": "scatterternary"
           }
          ],
          "surface": [
           {
            "colorbar": {
             "outlinewidth": 0,
             "ticks": ""
            },
            "colorscale": [
             [
              0,
              "#0d0887"
             ],
             [
              0.1111111111111111,
              "#46039f"
             ],
             [
              0.2222222222222222,
              "#7201a8"
             ],
             [
              0.3333333333333333,
              "#9c179e"
             ],
             [
              0.4444444444444444,
              "#bd3786"
             ],
             [
              0.5555555555555556,
              "#d8576b"
             ],
             [
              0.6666666666666666,
              "#ed7953"
             ],
             [
              0.7777777777777778,
              "#fb9f3a"
             ],
             [
              0.8888888888888888,
              "#fdca26"
             ],
             [
              1,
              "#f0f921"
             ]
            ],
            "type": "surface"
           }
          ],
          "table": [
           {
            "cells": {
             "fill": {
              "color": "#EBF0F8"
             },
             "line": {
              "color": "white"
             }
            },
            "header": {
             "fill": {
              "color": "#C8D4E3"
             },
             "line": {
              "color": "white"
             }
            },
            "type": "table"
           }
          ]
         },
         "layout": {
          "annotationdefaults": {
           "arrowcolor": "#2a3f5f",
           "arrowhead": 0,
           "arrowwidth": 1
          },
          "autotypenumbers": "strict",
          "coloraxis": {
           "colorbar": {
            "outlinewidth": 0,
            "ticks": ""
           }
          },
          "colorscale": {
           "diverging": [
            [
             0,
             "#8e0152"
            ],
            [
             0.1,
             "#c51b7d"
            ],
            [
             0.2,
             "#de77ae"
            ],
            [
             0.3,
             "#f1b6da"
            ],
            [
             0.4,
             "#fde0ef"
            ],
            [
             0.5,
             "#f7f7f7"
            ],
            [
             0.6,
             "#e6f5d0"
            ],
            [
             0.7,
             "#b8e186"
            ],
            [
             0.8,
             "#7fbc41"
            ],
            [
             0.9,
             "#4d9221"
            ],
            [
             1,
             "#276419"
            ]
           ],
           "sequential": [
            [
             0,
             "#0d0887"
            ],
            [
             0.1111111111111111,
             "#46039f"
            ],
            [
             0.2222222222222222,
             "#7201a8"
            ],
            [
             0.3333333333333333,
             "#9c179e"
            ],
            [
             0.4444444444444444,
             "#bd3786"
            ],
            [
             0.5555555555555556,
             "#d8576b"
            ],
            [
             0.6666666666666666,
             "#ed7953"
            ],
            [
             0.7777777777777778,
             "#fb9f3a"
            ],
            [
             0.8888888888888888,
             "#fdca26"
            ],
            [
             1,
             "#f0f921"
            ]
           ],
           "sequentialminus": [
            [
             0,
             "#0d0887"
            ],
            [
             0.1111111111111111,
             "#46039f"
            ],
            [
             0.2222222222222222,
             "#7201a8"
            ],
            [
             0.3333333333333333,
             "#9c179e"
            ],
            [
             0.4444444444444444,
             "#bd3786"
            ],
            [
             0.5555555555555556,
             "#d8576b"
            ],
            [
             0.6666666666666666,
             "#ed7953"
            ],
            [
             0.7777777777777778,
             "#fb9f3a"
            ],
            [
             0.8888888888888888,
             "#fdca26"
            ],
            [
             1,
             "#f0f921"
            ]
           ]
          },
          "colorway": [
           "#636efa",
           "#EF553B",
           "#00cc96",
           "#ab63fa",
           "#FFA15A",
           "#19d3f3",
           "#FF6692",
           "#B6E880",
           "#FF97FF",
           "#FECB52"
          ],
          "font": {
           "color": "#2a3f5f"
          },
          "geo": {
           "bgcolor": "white",
           "lakecolor": "white",
           "landcolor": "#E5ECF6",
           "showlakes": true,
           "showland": true,
           "subunitcolor": "white"
          },
          "hoverlabel": {
           "align": "left"
          },
          "hovermode": "closest",
          "mapbox": {
           "style": "light"
          },
          "paper_bgcolor": "white",
          "plot_bgcolor": "#E5ECF6",
          "polar": {
           "angularaxis": {
            "gridcolor": "white",
            "linecolor": "white",
            "ticks": ""
           },
           "bgcolor": "#E5ECF6",
           "radialaxis": {
            "gridcolor": "white",
            "linecolor": "white",
            "ticks": ""
           }
          },
          "scene": {
           "xaxis": {
            "backgroundcolor": "#E5ECF6",
            "gridcolor": "white",
            "gridwidth": 2,
            "linecolor": "white",
            "showbackground": true,
            "ticks": "",
            "zerolinecolor": "white"
           },
           "yaxis": {
            "backgroundcolor": "#E5ECF6",
            "gridcolor": "white",
            "gridwidth": 2,
            "linecolor": "white",
            "showbackground": true,
            "ticks": "",
            "zerolinecolor": "white"
           },
           "zaxis": {
            "backgroundcolor": "#E5ECF6",
            "gridcolor": "white",
            "gridwidth": 2,
            "linecolor": "white",
            "showbackground": true,
            "ticks": "",
            "zerolinecolor": "white"
           }
          },
          "shapedefaults": {
           "line": {
            "color": "#2a3f5f"
           }
          },
          "ternary": {
           "aaxis": {
            "gridcolor": "white",
            "linecolor": "white",
            "ticks": ""
           },
           "baxis": {
            "gridcolor": "white",
            "linecolor": "white",
            "ticks": ""
           },
           "bgcolor": "#E5ECF6",
           "caxis": {
            "gridcolor": "white",
            "linecolor": "white",
            "ticks": ""
           }
          },
          "title": {
           "x": 0.05
          },
          "xaxis": {
           "automargin": true,
           "gridcolor": "white",
           "linecolor": "white",
           "ticks": "",
           "title": {
            "standoff": 15
           },
           "zerolinecolor": "white",
           "zerolinewidth": 2
          },
          "yaxis": {
           "automargin": true,
           "gridcolor": "white",
           "linecolor": "white",
           "ticks": "",
           "title": {
            "standoff": 15
           },
           "zerolinecolor": "white",
           "zerolinewidth": 2
          }
         }
        },
        "title": {
         "text": "KR: Which Team Wins More?"
        },
        "xaxis": {
         "anchor": "y",
         "domain": [
          0,
          1
         ],
         "title": {
          "text": "WINNER"
         }
        },
        "yaxis": {
         "anchor": "x",
         "domain": [
          0,
          1
         ],
         "title": {
          "text": "COUNT"
         }
        }
       }
      }
     },
     "metadata": {},
     "output_type": "display_data"
    },
    {
     "name": "stdout",
     "output_type": "stream",
     "text": [
      "Blue Team Win Percentage:  51.91\n",
      "Red Team Win Percentage:  48.09\n"
     ]
    }
   ],
   "source": [
    "KR1_winners = pd.DataFrame(KR1_matches.groupby('WINNER')['WINNER'].count())\n",
    "KR1_winners.columns = ['COUNT']\n",
    "KR1_winners = KR1_winners.reset_index()\n",
    "\n",
    "fig = px.bar(KR1_winners, \n",
    "            x = KR1_winners.WINNER, \n",
    "            y = KR1_winners.COUNT,\n",
    "            title = 'KR: Which Team Wins More?')\n",
    "fig.show()\n",
    "\n",
    "print('Blue Team Win Percentage: ', round(KR1_winners.loc[KR1_winners['WINNER'] == 'BLUE', 'COUNT'].iloc[0] / KR1_winners.COUNT.sum() * 100, 2))\n",
    "print('Red Team Win Percentage: ', round(KR1_winners.loc[KR1_winners['WINNER'] == 'RED', 'COUNT'].iloc[0] / KR1_winners.COUNT.sum() * 100, 2))"
   ]
  },
  {
   "cell_type": "code",
   "execution_count": 117,
   "metadata": {},
   "outputs": [
    {
     "data": {
      "application/vnd.plotly.v1+json": {
       "config": {
        "plotlyServerURL": "https://plot.ly"
       },
       "data": [
        {
         "alignmentgroup": "True",
         "hovertemplate": "WINNER=%{x}<br>COUNT=%{y}<extra></extra>",
         "legendgroup": "",
         "marker": {
          "color": "#636efa",
          "pattern": {
           "shape": ""
          }
         },
         "name": "",
         "offsetgroup": "",
         "orientation": "v",
         "showlegend": false,
         "textposition": "auto",
         "type": "bar",
         "x": [
          "BLUE",
          "RED"
         ],
         "xaxis": "x",
         "y": [
          89,
          103
         ],
         "yaxis": "y"
        }
       ],
       "layout": {
        "barmode": "relative",
        "legend": {
         "tracegroupgap": 0
        },
        "template": {
         "data": {
          "bar": [
           {
            "error_x": {
             "color": "#2a3f5f"
            },
            "error_y": {
             "color": "#2a3f5f"
            },
            "marker": {
             "line": {
              "color": "#E5ECF6",
              "width": 0.5
             },
             "pattern": {
              "fillmode": "overlay",
              "size": 10,
              "solidity": 0.2
             }
            },
            "type": "bar"
           }
          ],
          "barpolar": [
           {
            "marker": {
             "line": {
              "color": "#E5ECF6",
              "width": 0.5
             },
             "pattern": {
              "fillmode": "overlay",
              "size": 10,
              "solidity": 0.2
             }
            },
            "type": "barpolar"
           }
          ],
          "carpet": [
           {
            "aaxis": {
             "endlinecolor": "#2a3f5f",
             "gridcolor": "white",
             "linecolor": "white",
             "minorgridcolor": "white",
             "startlinecolor": "#2a3f5f"
            },
            "baxis": {
             "endlinecolor": "#2a3f5f",
             "gridcolor": "white",
             "linecolor": "white",
             "minorgridcolor": "white",
             "startlinecolor": "#2a3f5f"
            },
            "type": "carpet"
           }
          ],
          "choropleth": [
           {
            "colorbar": {
             "outlinewidth": 0,
             "ticks": ""
            },
            "type": "choropleth"
           }
          ],
          "contour": [
           {
            "colorbar": {
             "outlinewidth": 0,
             "ticks": ""
            },
            "colorscale": [
             [
              0,
              "#0d0887"
             ],
             [
              0.1111111111111111,
              "#46039f"
             ],
             [
              0.2222222222222222,
              "#7201a8"
             ],
             [
              0.3333333333333333,
              "#9c179e"
             ],
             [
              0.4444444444444444,
              "#bd3786"
             ],
             [
              0.5555555555555556,
              "#d8576b"
             ],
             [
              0.6666666666666666,
              "#ed7953"
             ],
             [
              0.7777777777777778,
              "#fb9f3a"
             ],
             [
              0.8888888888888888,
              "#fdca26"
             ],
             [
              1,
              "#f0f921"
             ]
            ],
            "type": "contour"
           }
          ],
          "contourcarpet": [
           {
            "colorbar": {
             "outlinewidth": 0,
             "ticks": ""
            },
            "type": "contourcarpet"
           }
          ],
          "heatmap": [
           {
            "colorbar": {
             "outlinewidth": 0,
             "ticks": ""
            },
            "colorscale": [
             [
              0,
              "#0d0887"
             ],
             [
              0.1111111111111111,
              "#46039f"
             ],
             [
              0.2222222222222222,
              "#7201a8"
             ],
             [
              0.3333333333333333,
              "#9c179e"
             ],
             [
              0.4444444444444444,
              "#bd3786"
             ],
             [
              0.5555555555555556,
              "#d8576b"
             ],
             [
              0.6666666666666666,
              "#ed7953"
             ],
             [
              0.7777777777777778,
              "#fb9f3a"
             ],
             [
              0.8888888888888888,
              "#fdca26"
             ],
             [
              1,
              "#f0f921"
             ]
            ],
            "type": "heatmap"
           }
          ],
          "heatmapgl": [
           {
            "colorbar": {
             "outlinewidth": 0,
             "ticks": ""
            },
            "colorscale": [
             [
              0,
              "#0d0887"
             ],
             [
              0.1111111111111111,
              "#46039f"
             ],
             [
              0.2222222222222222,
              "#7201a8"
             ],
             [
              0.3333333333333333,
              "#9c179e"
             ],
             [
              0.4444444444444444,
              "#bd3786"
             ],
             [
              0.5555555555555556,
              "#d8576b"
             ],
             [
              0.6666666666666666,
              "#ed7953"
             ],
             [
              0.7777777777777778,
              "#fb9f3a"
             ],
             [
              0.8888888888888888,
              "#fdca26"
             ],
             [
              1,
              "#f0f921"
             ]
            ],
            "type": "heatmapgl"
           }
          ],
          "histogram": [
           {
            "marker": {
             "pattern": {
              "fillmode": "overlay",
              "size": 10,
              "solidity": 0.2
             }
            },
            "type": "histogram"
           }
          ],
          "histogram2d": [
           {
            "colorbar": {
             "outlinewidth": 0,
             "ticks": ""
            },
            "colorscale": [
             [
              0,
              "#0d0887"
             ],
             [
              0.1111111111111111,
              "#46039f"
             ],
             [
              0.2222222222222222,
              "#7201a8"
             ],
             [
              0.3333333333333333,
              "#9c179e"
             ],
             [
              0.4444444444444444,
              "#bd3786"
             ],
             [
              0.5555555555555556,
              "#d8576b"
             ],
             [
              0.6666666666666666,
              "#ed7953"
             ],
             [
              0.7777777777777778,
              "#fb9f3a"
             ],
             [
              0.8888888888888888,
              "#fdca26"
             ],
             [
              1,
              "#f0f921"
             ]
            ],
            "type": "histogram2d"
           }
          ],
          "histogram2dcontour": [
           {
            "colorbar": {
             "outlinewidth": 0,
             "ticks": ""
            },
            "colorscale": [
             [
              0,
              "#0d0887"
             ],
             [
              0.1111111111111111,
              "#46039f"
             ],
             [
              0.2222222222222222,
              "#7201a8"
             ],
             [
              0.3333333333333333,
              "#9c179e"
             ],
             [
              0.4444444444444444,
              "#bd3786"
             ],
             [
              0.5555555555555556,
              "#d8576b"
             ],
             [
              0.6666666666666666,
              "#ed7953"
             ],
             [
              0.7777777777777778,
              "#fb9f3a"
             ],
             [
              0.8888888888888888,
              "#fdca26"
             ],
             [
              1,
              "#f0f921"
             ]
            ],
            "type": "histogram2dcontour"
           }
          ],
          "mesh3d": [
           {
            "colorbar": {
             "outlinewidth": 0,
             "ticks": ""
            },
            "type": "mesh3d"
           }
          ],
          "parcoords": [
           {
            "line": {
             "colorbar": {
              "outlinewidth": 0,
              "ticks": ""
             }
            },
            "type": "parcoords"
           }
          ],
          "pie": [
           {
            "automargin": true,
            "type": "pie"
           }
          ],
          "scatter": [
           {
            "fillpattern": {
             "fillmode": "overlay",
             "size": 10,
             "solidity": 0.2
            },
            "type": "scatter"
           }
          ],
          "scatter3d": [
           {
            "line": {
             "colorbar": {
              "outlinewidth": 0,
              "ticks": ""
             }
            },
            "marker": {
             "colorbar": {
              "outlinewidth": 0,
              "ticks": ""
             }
            },
            "type": "scatter3d"
           }
          ],
          "scattercarpet": [
           {
            "marker": {
             "colorbar": {
              "outlinewidth": 0,
              "ticks": ""
             }
            },
            "type": "scattercarpet"
           }
          ],
          "scattergeo": [
           {
            "marker": {
             "colorbar": {
              "outlinewidth": 0,
              "ticks": ""
             }
            },
            "type": "scattergeo"
           }
          ],
          "scattergl": [
           {
            "marker": {
             "colorbar": {
              "outlinewidth": 0,
              "ticks": ""
             }
            },
            "type": "scattergl"
           }
          ],
          "scattermapbox": [
           {
            "marker": {
             "colorbar": {
              "outlinewidth": 0,
              "ticks": ""
             }
            },
            "type": "scattermapbox"
           }
          ],
          "scatterpolar": [
           {
            "marker": {
             "colorbar": {
              "outlinewidth": 0,
              "ticks": ""
             }
            },
            "type": "scatterpolar"
           }
          ],
          "scatterpolargl": [
           {
            "marker": {
             "colorbar": {
              "outlinewidth": 0,
              "ticks": ""
             }
            },
            "type": "scatterpolargl"
           }
          ],
          "scatterternary": [
           {
            "marker": {
             "colorbar": {
              "outlinewidth": 0,
              "ticks": ""
             }
            },
            "type": "scatterternary"
           }
          ],
          "surface": [
           {
            "colorbar": {
             "outlinewidth": 0,
             "ticks": ""
            },
            "colorscale": [
             [
              0,
              "#0d0887"
             ],
             [
              0.1111111111111111,
              "#46039f"
             ],
             [
              0.2222222222222222,
              "#7201a8"
             ],
             [
              0.3333333333333333,
              "#9c179e"
             ],
             [
              0.4444444444444444,
              "#bd3786"
             ],
             [
              0.5555555555555556,
              "#d8576b"
             ],
             [
              0.6666666666666666,
              "#ed7953"
             ],
             [
              0.7777777777777778,
              "#fb9f3a"
             ],
             [
              0.8888888888888888,
              "#fdca26"
             ],
             [
              1,
              "#f0f921"
             ]
            ],
            "type": "surface"
           }
          ],
          "table": [
           {
            "cells": {
             "fill": {
              "color": "#EBF0F8"
             },
             "line": {
              "color": "white"
             }
            },
            "header": {
             "fill": {
              "color": "#C8D4E3"
             },
             "line": {
              "color": "white"
             }
            },
            "type": "table"
           }
          ]
         },
         "layout": {
          "annotationdefaults": {
           "arrowcolor": "#2a3f5f",
           "arrowhead": 0,
           "arrowwidth": 1
          },
          "autotypenumbers": "strict",
          "coloraxis": {
           "colorbar": {
            "outlinewidth": 0,
            "ticks": ""
           }
          },
          "colorscale": {
           "diverging": [
            [
             0,
             "#8e0152"
            ],
            [
             0.1,
             "#c51b7d"
            ],
            [
             0.2,
             "#de77ae"
            ],
            [
             0.3,
             "#f1b6da"
            ],
            [
             0.4,
             "#fde0ef"
            ],
            [
             0.5,
             "#f7f7f7"
            ],
            [
             0.6,
             "#e6f5d0"
            ],
            [
             0.7,
             "#b8e186"
            ],
            [
             0.8,
             "#7fbc41"
            ],
            [
             0.9,
             "#4d9221"
            ],
            [
             1,
             "#276419"
            ]
           ],
           "sequential": [
            [
             0,
             "#0d0887"
            ],
            [
             0.1111111111111111,
             "#46039f"
            ],
            [
             0.2222222222222222,
             "#7201a8"
            ],
            [
             0.3333333333333333,
             "#9c179e"
            ],
            [
             0.4444444444444444,
             "#bd3786"
            ],
            [
             0.5555555555555556,
             "#d8576b"
            ],
            [
             0.6666666666666666,
             "#ed7953"
            ],
            [
             0.7777777777777778,
             "#fb9f3a"
            ],
            [
             0.8888888888888888,
             "#fdca26"
            ],
            [
             1,
             "#f0f921"
            ]
           ],
           "sequentialminus": [
            [
             0,
             "#0d0887"
            ],
            [
             0.1111111111111111,
             "#46039f"
            ],
            [
             0.2222222222222222,
             "#7201a8"
            ],
            [
             0.3333333333333333,
             "#9c179e"
            ],
            [
             0.4444444444444444,
             "#bd3786"
            ],
            [
             0.5555555555555556,
             "#d8576b"
            ],
            [
             0.6666666666666666,
             "#ed7953"
            ],
            [
             0.7777777777777778,
             "#fb9f3a"
            ],
            [
             0.8888888888888888,
             "#fdca26"
            ],
            [
             1,
             "#f0f921"
            ]
           ]
          },
          "colorway": [
           "#636efa",
           "#EF553B",
           "#00cc96",
           "#ab63fa",
           "#FFA15A",
           "#19d3f3",
           "#FF6692",
           "#B6E880",
           "#FF97FF",
           "#FECB52"
          ],
          "font": {
           "color": "#2a3f5f"
          },
          "geo": {
           "bgcolor": "white",
           "lakecolor": "white",
           "landcolor": "#E5ECF6",
           "showlakes": true,
           "showland": true,
           "subunitcolor": "white"
          },
          "hoverlabel": {
           "align": "left"
          },
          "hovermode": "closest",
          "mapbox": {
           "style": "light"
          },
          "paper_bgcolor": "white",
          "plot_bgcolor": "#E5ECF6",
          "polar": {
           "angularaxis": {
            "gridcolor": "white",
            "linecolor": "white",
            "ticks": ""
           },
           "bgcolor": "#E5ECF6",
           "radialaxis": {
            "gridcolor": "white",
            "linecolor": "white",
            "ticks": ""
           }
          },
          "scene": {
           "xaxis": {
            "backgroundcolor": "#E5ECF6",
            "gridcolor": "white",
            "gridwidth": 2,
            "linecolor": "white",
            "showbackground": true,
            "ticks": "",
            "zerolinecolor": "white"
           },
           "yaxis": {
            "backgroundcolor": "#E5ECF6",
            "gridcolor": "white",
            "gridwidth": 2,
            "linecolor": "white",
            "showbackground": true,
            "ticks": "",
            "zerolinecolor": "white"
           },
           "zaxis": {
            "backgroundcolor": "#E5ECF6",
            "gridcolor": "white",
            "gridwidth": 2,
            "linecolor": "white",
            "showbackground": true,
            "ticks": "",
            "zerolinecolor": "white"
           }
          },
          "shapedefaults": {
           "line": {
            "color": "#2a3f5f"
           }
          },
          "ternary": {
           "aaxis": {
            "gridcolor": "white",
            "linecolor": "white",
            "ticks": ""
           },
           "baxis": {
            "gridcolor": "white",
            "linecolor": "white",
            "ticks": ""
           },
           "bgcolor": "#E5ECF6",
           "caxis": {
            "gridcolor": "white",
            "linecolor": "white",
            "ticks": ""
           }
          },
          "title": {
           "x": 0.05
          },
          "xaxis": {
           "automargin": true,
           "gridcolor": "white",
           "linecolor": "white",
           "ticks": "",
           "title": {
            "standoff": 15
           },
           "zerolinecolor": "white",
           "zerolinewidth": 2
          },
          "yaxis": {
           "automargin": true,
           "gridcolor": "white",
           "linecolor": "white",
           "ticks": "",
           "title": {
            "standoff": 15
           },
           "zerolinecolor": "white",
           "zerolinewidth": 2
          }
         }
        },
        "title": {
         "text": "NA: Which Team Wins More?"
        },
        "xaxis": {
         "anchor": "y",
         "domain": [
          0,
          1
         ],
         "title": {
          "text": "WINNER"
         }
        },
        "yaxis": {
         "anchor": "x",
         "domain": [
          0,
          1
         ],
         "title": {
          "text": "COUNT"
         }
        }
       }
      }
     },
     "metadata": {},
     "output_type": "display_data"
    },
    {
     "name": "stdout",
     "output_type": "stream",
     "text": [
      "Blue Team Win Percentage:  46.35\n",
      "Red Team Win Percentage:  53.65\n"
     ]
    }
   ],
   "source": [
    "NA1_winners = pd.DataFrame(NA1_matches.groupby('WINNER')['WINNER'].count())\n",
    "NA1_winners.columns = ['COUNT']\n",
    "NA1_winners = NA1_winners.reset_index()\n",
    "\n",
    "fig = px.bar(NA1_winners, \n",
    "            x = NA1_winners.WINNER, \n",
    "            y = NA1_winners.COUNT,\n",
    "            title = 'NA: Which Team Wins More?')\n",
    "fig.show()\n",
    "\n",
    "print('Blue Team Win Percentage: ', round(NA1_winners.loc[NA1_winners['WINNER'] == 'BLUE', 'COUNT'].iloc[0] / NA1_winners.COUNT.sum() * 100, 2))\n",
    "print('Red Team Win Percentage: ', round(NA1_winners.loc[NA1_winners['WINNER'] == 'RED', 'COUNT'].iloc[0] / NA1_winners.COUNT.sum() * 100, 2))"
   ]
  },
  {
   "cell_type": "markdown",
   "metadata": {},
   "source": [
    "### Which Champions are Most Commonly Found on the Winning Team?"
   ]
  },
  {
   "cell_type": "code",
   "execution_count": 144,
   "metadata": {},
   "outputs": [
    {
     "data": {
      "text/html": [
       "<div>\n",
       "<style scoped>\n",
       "    .dataframe tbody tr th:only-of-type {\n",
       "        vertical-align: middle;\n",
       "    }\n",
       "\n",
       "    .dataframe tbody tr th {\n",
       "        vertical-align: top;\n",
       "    }\n",
       "\n",
       "    .dataframe thead th {\n",
       "        text-align: right;\n",
       "    }\n",
       "</style>\n",
       "<table border=\"1\" class=\"dataframe\">\n",
       "  <thead>\n",
       "    <tr style=\"text-align: right;\">\n",
       "      <th></th>\n",
       "      <th>Champion_ID</th>\n",
       "      <th>Champion_Name</th>\n",
       "    </tr>\n",
       "  </thead>\n",
       "  <tbody>\n",
       "    <tr>\n",
       "      <th>0</th>\n",
       "      <td>-1</td>\n",
       "      <td>None</td>\n",
       "    </tr>\n",
       "    <tr>\n",
       "      <th>1</th>\n",
       "      <td>266</td>\n",
       "      <td>Aatrox</td>\n",
       "    </tr>\n",
       "    <tr>\n",
       "      <th>2</th>\n",
       "      <td>103</td>\n",
       "      <td>Ahri</td>\n",
       "    </tr>\n",
       "    <tr>\n",
       "      <th>3</th>\n",
       "      <td>84</td>\n",
       "      <td>Akali</td>\n",
       "    </tr>\n",
       "    <tr>\n",
       "      <th>4</th>\n",
       "      <td>166</td>\n",
       "      <td>Akshan</td>\n",
       "    </tr>\n",
       "  </tbody>\n",
       "</table>\n",
       "</div>"
      ],
      "text/plain": [
       "   Champion_ID Champion_Name\n",
       "0           -1          None\n",
       "1          266        Aatrox\n",
       "2          103          Ahri\n",
       "3           84         Akali\n",
       "4          166        Akshan"
      ]
     },
     "execution_count": 144,
     "metadata": {},
     "output_type": "execute_result"
    }
   ],
   "source": [
    "champions = pd.read_csv('../data/raw/champions.csv')\n",
    "champions.head()"
   ]
  },
  {
   "cell_type": "code",
   "execution_count": 190,
   "metadata": {},
   "outputs": [
    {
     "data": {
      "text/html": [
       "<div>\n",
       "<style scoped>\n",
       "    .dataframe tbody tr th:only-of-type {\n",
       "        vertical-align: middle;\n",
       "    }\n",
       "\n",
       "    .dataframe tbody tr th {\n",
       "        vertical-align: top;\n",
       "    }\n",
       "\n",
       "    .dataframe thead th {\n",
       "        text-align: right;\n",
       "    }\n",
       "</style>\n",
       "<table border=\"1\" class=\"dataframe\">\n",
       "  <thead>\n",
       "    <tr style=\"text-align: right;\">\n",
       "      <th></th>\n",
       "      <th>TOP_CHAMP_ID</th>\n",
       "      <th>TOP_CHAMP_FREQ</th>\n",
       "      <th>TOP_CHAMP_NAME</th>\n",
       "      <th>JGL_CHAMP_ID</th>\n",
       "      <th>JGL_CHAMP_FREQ</th>\n",
       "      <th>JGL_CHAMP_NAME</th>\n",
       "      <th>MID_CHAMP_ID</th>\n",
       "      <th>MID_CHAMP_FREQ</th>\n",
       "      <th>MID_CHAMP_NAME</th>\n",
       "      <th>BOT_CHAMP_ID</th>\n",
       "      <th>BOT_CHAMP_FREQ</th>\n",
       "      <th>BOT_CHAMP_NAME</th>\n",
       "      <th>SUP_CHAMP_ID</th>\n",
       "      <th>SUP_CHAMP_FREQ</th>\n",
       "      <th>SUP_CHAMP_NAME</th>\n",
       "    </tr>\n",
       "  </thead>\n",
       "  <tbody>\n",
       "    <tr>\n",
       "      <th>0</th>\n",
       "      <td>887.0</td>\n",
       "      <td>18.0</td>\n",
       "      <td>Gwen</td>\n",
       "      <td>234.0</td>\n",
       "      <td>22.0</td>\n",
       "      <td>Viego</td>\n",
       "      <td>517</td>\n",
       "      <td>22</td>\n",
       "      <td>Sylas</td>\n",
       "      <td>15.0</td>\n",
       "      <td>32.0</td>\n",
       "      <td>Sivir</td>\n",
       "      <td>888.0</td>\n",
       "      <td>17.0</td>\n",
       "      <td>Renata Glasc</td>\n",
       "    </tr>\n",
       "    <tr>\n",
       "      <th>1</th>\n",
       "      <td>150.0</td>\n",
       "      <td>17.0</td>\n",
       "      <td>Gnar</td>\n",
       "      <td>200.0</td>\n",
       "      <td>17.0</td>\n",
       "      <td>Bel'Veth</td>\n",
       "      <td>163</td>\n",
       "      <td>21</td>\n",
       "      <td>Taliyah</td>\n",
       "      <td>81.0</td>\n",
       "      <td>21.0</td>\n",
       "      <td>Ezreal</td>\n",
       "      <td>432.0</td>\n",
       "      <td>15.0</td>\n",
       "      <td>Bard</td>\n",
       "    </tr>\n",
       "    <tr>\n",
       "      <th>2</th>\n",
       "      <td>58.0</td>\n",
       "      <td>11.0</td>\n",
       "      <td>Renekton</td>\n",
       "      <td>62.0</td>\n",
       "      <td>17.0</td>\n",
       "      <td>Wukong</td>\n",
       "      <td>103</td>\n",
       "      <td>12</td>\n",
       "      <td>Ahri</td>\n",
       "      <td>429.0</td>\n",
       "      <td>19.0</td>\n",
       "      <td>Kalista</td>\n",
       "      <td>43.0</td>\n",
       "      <td>15.0</td>\n",
       "      <td>Karma</td>\n",
       "    </tr>\n",
       "    <tr>\n",
       "      <th>3</th>\n",
       "      <td>24.0</td>\n",
       "      <td>10.0</td>\n",
       "      <td>Jax</td>\n",
       "      <td>78.0</td>\n",
       "      <td>14.0</td>\n",
       "      <td>Poppy</td>\n",
       "      <td>268</td>\n",
       "      <td>10</td>\n",
       "      <td>Azir</td>\n",
       "      <td>523.0</td>\n",
       "      <td>18.0</td>\n",
       "      <td>Aphelios</td>\n",
       "      <td>111.0</td>\n",
       "      <td>11.0</td>\n",
       "      <td>Nautilus</td>\n",
       "    </tr>\n",
       "    <tr>\n",
       "      <th>4</th>\n",
       "      <td>23.0</td>\n",
       "      <td>8.0</td>\n",
       "      <td>Tryndamere</td>\n",
       "      <td>80.0</td>\n",
       "      <td>11.0</td>\n",
       "      <td>Pantheon</td>\n",
       "      <td>84</td>\n",
       "      <td>10</td>\n",
       "      <td>Akali</td>\n",
       "      <td>119.0</td>\n",
       "      <td>11.0</td>\n",
       "      <td>Draven</td>\n",
       "      <td>117.0</td>\n",
       "      <td>10.0</td>\n",
       "      <td>Lulu</td>\n",
       "    </tr>\n",
       "  </tbody>\n",
       "</table>\n",
       "</div>"
      ],
      "text/plain": [
       "   TOP_CHAMP_ID  TOP_CHAMP_FREQ TOP_CHAMP_NAME  JGL_CHAMP_ID  JGL_CHAMP_FREQ  \\\n",
       "0         887.0            18.0           Gwen         234.0            22.0   \n",
       "1         150.0            17.0           Gnar         200.0            17.0   \n",
       "2          58.0            11.0       Renekton          62.0            17.0   \n",
       "3          24.0            10.0            Jax          78.0            14.0   \n",
       "4          23.0             8.0     Tryndamere          80.0            11.0   \n",
       "\n",
       "  JGL_CHAMP_NAME  MID_CHAMP_ID  MID_CHAMP_FREQ MID_CHAMP_NAME  BOT_CHAMP_ID  \\\n",
       "0          Viego           517              22          Sylas          15.0   \n",
       "1       Bel'Veth           163              21        Taliyah          81.0   \n",
       "2         Wukong           103              12           Ahri         429.0   \n",
       "3          Poppy           268              10           Azir         523.0   \n",
       "4       Pantheon            84              10          Akali         119.0   \n",
       "\n",
       "   BOT_CHAMP_FREQ BOT_CHAMP_NAME  SUP_CHAMP_ID  SUP_CHAMP_FREQ SUP_CHAMP_NAME  \n",
       "0            32.0          Sivir         888.0            17.0   Renata Glasc  \n",
       "1            21.0         Ezreal         432.0            15.0           Bard  \n",
       "2            19.0        Kalista          43.0            15.0          Karma  \n",
       "3            18.0       Aphelios         111.0            11.0       Nautilus  \n",
       "4            11.0         Draven         117.0            10.0           Lulu  "
      ]
     },
     "execution_count": 190,
     "metadata": {},
     "output_type": "execute_result"
    }
   ],
   "source": [
    "EU1_TOP_CHAMP_ID = []\n",
    "EU1_JGL_CHAMP_ID = []\n",
    "EU1_MID_CHAMP_ID = []\n",
    "EU1_BOT_CHAMP_ID = []\n",
    "EU1_SUP_CHAMP_ID = []\n",
    "\n",
    "for i in range(len(EUW1_matches)):\n",
    "    if EUW1_matches.WINNER[i] == 'BLUE':\n",
    "        EU1_TOP_CHAMP_ID.append(EUW1_matches.BTOP_CHAMP_ID[i])\n",
    "        EU1_JGL_CHAMP_ID.append(EUW1_matches.BJGL_CHAMP_ID[i])\n",
    "        EU1_MID_CHAMP_ID.append(EUW1_matches.BMID_CHAMP_ID[i])\n",
    "        EU1_BOT_CHAMP_ID.append(EUW1_matches.BBOT_CHAMP_ID[i])\n",
    "        EU1_SUP_CHAMP_ID.append(EUW1_matches.BSUP_CHAMP_ID[i])\n",
    "    else:\n",
    "        EU1_TOP_CHAMP_ID.append(EUW1_matches.RTOP_CHAMP_ID[i])\n",
    "        EU1_JGL_CHAMP_ID.append(EUW1_matches.RJGL_CHAMP_ID[i])\n",
    "        EU1_MID_CHAMP_ID.append(EUW1_matches.RMID_CHAMP_ID[i])\n",
    "        EU1_BOT_CHAMP_ID.append(EUW1_matches.RBOT_CHAMP_ID[i])\n",
    "        EU1_SUP_CHAMP_ID.append(EUW1_matches.RSUP_CHAMP_ID[i])\n",
    "\n",
    "\n",
    "EU1_TOP = pd.DataFrame()\n",
    "EU1_TOP['Champion_ID'] = EU1_TOP_CHAMP_ID\n",
    "EU1_TOP['Champion_Freq'] = EU1_TOP.groupby('Champion_ID')['Champion_ID'].transform('count')\n",
    "EU1_TOP = EU1_TOP.drop_duplicates()\n",
    "EU1_TOP = pd.merge(EU1_TOP, champions, on='Champion_ID')\n",
    "EU1_TOP = EU1_TOP.sort_values('Champion_Freq', ascending=False)\n",
    "EU1_TOP = EU1_TOP.reset_index(drop=True)\n",
    "EU1_TOP.columns = ['TOP_CHAMP_ID', 'TOP_CHAMP_FREQ', 'TOP_CHAMP_NAME']\n",
    "\n",
    "EU1_JGL = pd.DataFrame()\n",
    "EU1_JGL['Champion_ID'] = EU1_JGL_CHAMP_ID\n",
    "EU1_JGL['Champion_Freq'] = EU1_JGL.groupby('Champion_ID')['Champion_ID'].transform('count')\n",
    "EU1_JGL = EU1_JGL.drop_duplicates()\n",
    "EU1_JGL = pd.merge(EU1_JGL, champions, on='Champion_ID')\n",
    "EU1_JGL = EU1_JGL.sort_values('Champion_Freq', ascending=False)\n",
    "EU1_JGL = EU1_JGL.reset_index(drop=True)\n",
    "EU1_JGL.columns = ['JGL_CHAMP_ID', 'JGL_CHAMP_FREQ', 'JGL_CHAMP_NAME']\n",
    "\n",
    "EU1_MID = pd.DataFrame()\n",
    "EU1_MID['Champion_ID'] = EU1_MID_CHAMP_ID\n",
    "EU1_MID['Champion_Freq'] = EU1_MID.groupby('Champion_ID')['Champion_ID'].transform('count')\n",
    "EU1_MID = EU1_MID.drop_duplicates()\n",
    "EU1_MID = pd.merge(EU1_MID, champions, on='Champion_ID')\n",
    "EU1_MID = EU1_MID.sort_values('Champion_Freq', ascending=False)\n",
    "EU1_MID = EU1_MID.reset_index(drop=True)\n",
    "EU1_MID.columns = ['MID_CHAMP_ID', 'MID_CHAMP_FREQ', 'MID_CHAMP_NAME']\n",
    "\n",
    "EU1_BOT = pd.DataFrame()\n",
    "EU1_BOT['Champion_ID'] = EU1_BOT_CHAMP_ID\n",
    "EU1_BOT['Champion_Freq'] = EU1_BOT.groupby('Champion_ID')['Champion_ID'].transform('count')\n",
    "EU1_BOT = EU1_BOT.drop_duplicates()\n",
    "EU1_BOT = pd.merge(EU1_BOT, champions, on='Champion_ID')\n",
    "EU1_BOT = EU1_BOT.sort_values('Champion_Freq', ascending=False)\n",
    "EU1_BOT = EU1_BOT.reset_index(drop=True)\n",
    "EU1_BOT.columns = ['BOT_CHAMP_ID', 'BOT_CHAMP_FREQ', 'BOT_CHAMP_NAME']\n",
    "\n",
    "EU1_SUP = pd.DataFrame()\n",
    "EU1_SUP['Champion_ID'] = EU1_SUP_CHAMP_ID\n",
    "EU1_SUP['Champion_Freq'] = EU1_SUP.groupby('Champion_ID')['Champion_ID'].transform('count')\n",
    "EU1_SUP = EU1_SUP.drop_duplicates()\n",
    "EU1_SUP = pd.merge(EU1_SUP, champions, on='Champion_ID')\n",
    "EU1_SUP = EU1_SUP.sort_values('Champion_Freq', ascending=False)\n",
    "EU1_SUP = EU1_SUP.reset_index(drop=True)\n",
    "EU1_SUP.columns = ['SUP_CHAMP_ID', 'SUP_CHAMP_FREQ', 'SUP_CHAMP_NAME']\n",
    "\n",
    "EU1_winning_champs = pd.concat([EU1_TOP, EU1_JGL, EU1_MID, EU1_BOT, EU1_SUP], axis=1)\n",
    "EU1_winning_champs.head()"
   ]
  },
  {
   "cell_type": "code",
   "execution_count": 199,
   "metadata": {},
   "outputs": [
    {
     "data": {
      "text/html": [
       "<div>\n",
       "<style scoped>\n",
       "    .dataframe tbody tr th:only-of-type {\n",
       "        vertical-align: middle;\n",
       "    }\n",
       "\n",
       "    .dataframe tbody tr th {\n",
       "        vertical-align: top;\n",
       "    }\n",
       "\n",
       "    .dataframe thead th {\n",
       "        text-align: right;\n",
       "    }\n",
       "</style>\n",
       "<table border=\"1\" class=\"dataframe\">\n",
       "  <thead>\n",
       "    <tr style=\"text-align: right;\">\n",
       "      <th></th>\n",
       "      <th>TOP_CHAMP_ID</th>\n",
       "      <th>TOP_CHAMP_FREQ</th>\n",
       "      <th>TOP_CHAMP_NAME</th>\n",
       "      <th>JGL_CHAMP_ID</th>\n",
       "      <th>JGL_CHAMP_FREQ</th>\n",
       "      <th>JGL_CHAMP_NAME</th>\n",
       "      <th>MID_CHAMP_ID</th>\n",
       "      <th>MID_CHAMP_FREQ</th>\n",
       "      <th>MID_CHAMP_NAME</th>\n",
       "      <th>BOT_CHAMP_ID</th>\n",
       "      <th>BOT_CHAMP_FREQ</th>\n",
       "      <th>BOT_CHAMP_NAME</th>\n",
       "      <th>SUP_CHAMP_ID</th>\n",
       "      <th>SUP_CHAMP_FREQ</th>\n",
       "      <th>SUP_CHAMP_NAME</th>\n",
       "    </tr>\n",
       "  </thead>\n",
       "  <tbody>\n",
       "    <tr>\n",
       "      <th>0</th>\n",
       "      <td>887</td>\n",
       "      <td>25</td>\n",
       "      <td>Gwen</td>\n",
       "      <td>64.0</td>\n",
       "      <td>26.0</td>\n",
       "      <td>Lee Sin</td>\n",
       "      <td>268.0</td>\n",
       "      <td>32.0</td>\n",
       "      <td>Azir</td>\n",
       "      <td>15.0</td>\n",
       "      <td>28.0</td>\n",
       "      <td>Sivir</td>\n",
       "      <td>111.0</td>\n",
       "      <td>20.0</td>\n",
       "      <td>Nautilus</td>\n",
       "    </tr>\n",
       "    <tr>\n",
       "      <th>1</th>\n",
       "      <td>58</td>\n",
       "      <td>14</td>\n",
       "      <td>Renekton</td>\n",
       "      <td>234.0</td>\n",
       "      <td>17.0</td>\n",
       "      <td>Viego</td>\n",
       "      <td>517.0</td>\n",
       "      <td>26.0</td>\n",
       "      <td>Sylas</td>\n",
       "      <td>221.0</td>\n",
       "      <td>26.0</td>\n",
       "      <td>Zeri</td>\n",
       "      <td>350.0</td>\n",
       "      <td>19.0</td>\n",
       "      <td>Yuumi</td>\n",
       "    </tr>\n",
       "    <tr>\n",
       "      <th>2</th>\n",
       "      <td>24</td>\n",
       "      <td>13</td>\n",
       "      <td>Jax</td>\n",
       "      <td>80.0</td>\n",
       "      <td>13.0</td>\n",
       "      <td>Pantheon</td>\n",
       "      <td>777.0</td>\n",
       "      <td>15.0</td>\n",
       "      <td>Yone</td>\n",
       "      <td>429.0</td>\n",
       "      <td>16.0</td>\n",
       "      <td>Kalista</td>\n",
       "      <td>888.0</td>\n",
       "      <td>17.0</td>\n",
       "      <td>Renata Glasc</td>\n",
       "    </tr>\n",
       "    <tr>\n",
       "      <th>3</th>\n",
       "      <td>41</td>\n",
       "      <td>12</td>\n",
       "      <td>Gangplank</td>\n",
       "      <td>78.0</td>\n",
       "      <td>12.0</td>\n",
       "      <td>Poppy</td>\n",
       "      <td>7.0</td>\n",
       "      <td>14.0</td>\n",
       "      <td>LeBlanc</td>\n",
       "      <td>523.0</td>\n",
       "      <td>14.0</td>\n",
       "      <td>Aphelios</td>\n",
       "      <td>497.0</td>\n",
       "      <td>15.0</td>\n",
       "      <td>Rakan</td>\n",
       "    </tr>\n",
       "    <tr>\n",
       "      <th>4</th>\n",
       "      <td>268</td>\n",
       "      <td>9</td>\n",
       "      <td>Azir</td>\n",
       "      <td>62.0</td>\n",
       "      <td>12.0</td>\n",
       "      <td>Wukong</td>\n",
       "      <td>103.0</td>\n",
       "      <td>12.0</td>\n",
       "      <td>Ahri</td>\n",
       "      <td>236.0</td>\n",
       "      <td>13.0</td>\n",
       "      <td>Lucian</td>\n",
       "      <td>223.0</td>\n",
       "      <td>12.0</td>\n",
       "      <td>Tahm Kench</td>\n",
       "    </tr>\n",
       "  </tbody>\n",
       "</table>\n",
       "</div>"
      ],
      "text/plain": [
       "   TOP_CHAMP_ID  TOP_CHAMP_FREQ TOP_CHAMP_NAME  JGL_CHAMP_ID  JGL_CHAMP_FREQ  \\\n",
       "0           887              25           Gwen          64.0            26.0   \n",
       "1            58              14       Renekton         234.0            17.0   \n",
       "2            24              13            Jax          80.0            13.0   \n",
       "3            41              12      Gangplank          78.0            12.0   \n",
       "4           268               9           Azir          62.0            12.0   \n",
       "\n",
       "  JGL_CHAMP_NAME  MID_CHAMP_ID  MID_CHAMP_FREQ MID_CHAMP_NAME  BOT_CHAMP_ID  \\\n",
       "0        Lee Sin         268.0            32.0           Azir          15.0   \n",
       "1          Viego         517.0            26.0          Sylas         221.0   \n",
       "2       Pantheon         777.0            15.0           Yone         429.0   \n",
       "3          Poppy           7.0            14.0        LeBlanc         523.0   \n",
       "4         Wukong         103.0            12.0           Ahri         236.0   \n",
       "\n",
       "   BOT_CHAMP_FREQ BOT_CHAMP_NAME  SUP_CHAMP_ID  SUP_CHAMP_FREQ SUP_CHAMP_NAME  \n",
       "0            28.0          Sivir         111.0            20.0       Nautilus  \n",
       "1            26.0           Zeri         350.0            19.0          Yuumi  \n",
       "2            16.0        Kalista         888.0            17.0   Renata Glasc  \n",
       "3            14.0       Aphelios         497.0            15.0          Rakan  \n",
       "4            13.0         Lucian         223.0            12.0     Tahm Kench  "
      ]
     },
     "execution_count": 199,
     "metadata": {},
     "output_type": "execute_result"
    }
   ],
   "source": [
    "KR1_TOP_CHAMP_ID = []\n",
    "KR1_JGL_CHAMP_ID = []\n",
    "KR1_MID_CHAMP_ID = []\n",
    "KR1_BOT_CHAMP_ID = []\n",
    "KR1_SUP_CHAMP_ID = []\n",
    "\n",
    "for i in range(len(KR1_matches)):\n",
    "    if KR1_matches.WINNER[i] == 'BLUE':\n",
    "        KR1_TOP_CHAMP_ID.append(KR1_matches.BTOP_CHAMP_ID[i])\n",
    "        KR1_JGL_CHAMP_ID.append(KR1_matches.BJGL_CHAMP_ID[i])\n",
    "        KR1_MID_CHAMP_ID.append(KR1_matches.BMID_CHAMP_ID[i])\n",
    "        KR1_BOT_CHAMP_ID.append(KR1_matches.BBOT_CHAMP_ID[i])\n",
    "        KR1_SUP_CHAMP_ID.append(KR1_matches.BSUP_CHAMP_ID[i])\n",
    "    else:\n",
    "        KR1_TOP_CHAMP_ID.append(KR1_matches.RTOP_CHAMP_ID[i])\n",
    "        KR1_JGL_CHAMP_ID.append(KR1_matches.RJGL_CHAMP_ID[i])\n",
    "        KR1_MID_CHAMP_ID.append(KR1_matches.RMID_CHAMP_ID[i])\n",
    "        KR1_BOT_CHAMP_ID.append(KR1_matches.RBOT_CHAMP_ID[i])\n",
    "        KR1_SUP_CHAMP_ID.append(KR1_matches.RSUP_CHAMP_ID[i])\n",
    "\n",
    "\n",
    "KR1_TOP = pd.DataFrame()\n",
    "KR1_TOP['Champion_ID'] = KR1_TOP_CHAMP_ID\n",
    "KR1_TOP['Champion_Freq'] = KR1_TOP.groupby('Champion_ID')['Champion_ID'].transform('count')\n",
    "KR1_TOP = KR1_TOP.drop_duplicates()\n",
    "KR1_TOP = pd.merge(KR1_TOP, champions, on='Champion_ID')\n",
    "KR1_TOP = KR1_TOP.sort_values('Champion_Freq', ascending=False)\n",
    "KR1_TOP = KR1_TOP.reset_index(drop=True)\n",
    "KR1_TOP.columns = ['TOP_CHAMP_ID', 'TOP_CHAMP_FREQ', 'TOP_CHAMP_NAME']\n",
    "\n",
    "KR1_JGL = pd.DataFrame()\n",
    "KR1_JGL['Champion_ID'] = KR1_JGL_CHAMP_ID\n",
    "KR1_JGL['Champion_Freq'] = KR1_JGL.groupby('Champion_ID')['Champion_ID'].transform('count')\n",
    "KR1_JGL = KR1_JGL.drop_duplicates()\n",
    "KR1_JGL = pd.merge(KR1_JGL, champions, on='Champion_ID')\n",
    "KR1_JGL = KR1_JGL.sort_values('Champion_Freq', ascending=False)\n",
    "KR1_JGL = KR1_JGL.reset_index(drop=True)\n",
    "KR1_JGL.columns = ['JGL_CHAMP_ID', 'JGL_CHAMP_FREQ', 'JGL_CHAMP_NAME']\n",
    "\n",
    "KR1_MID = pd.DataFrame()\n",
    "KR1_MID['Champion_ID'] = KR1_MID_CHAMP_ID\n",
    "KR1_MID['Champion_Freq'] = KR1_MID.groupby('Champion_ID')['Champion_ID'].transform('count')\n",
    "KR1_MID = KR1_MID.drop_duplicates()\n",
    "KR1_MID = pd.merge(KR1_MID, champions, on='Champion_ID')\n",
    "KR1_MID = KR1_MID.sort_values('Champion_Freq', ascending=False)\n",
    "KR1_MID = KR1_MID.reset_index(drop=True)\n",
    "KR1_MID.columns = ['MID_CHAMP_ID', 'MID_CHAMP_FREQ', 'MID_CHAMP_NAME']\n",
    "\n",
    "KR1_BOT = pd.DataFrame()\n",
    "KR1_BOT['Champion_ID'] = KR1_BOT_CHAMP_ID\n",
    "KR1_BOT['Champion_Freq'] = KR1_BOT.groupby('Champion_ID')['Champion_ID'].transform('count')\n",
    "KR1_BOT = KR1_BOT.drop_duplicates()\n",
    "KR1_BOT = pd.merge(KR1_BOT, champions, on='Champion_ID')\n",
    "KR1_BOT = KR1_BOT.sort_values('Champion_Freq', ascending=False)\n",
    "KR1_BOT = KR1_BOT.reset_index(drop=True)\n",
    "KR1_BOT.columns = ['BOT_CHAMP_ID', 'BOT_CHAMP_FREQ', 'BOT_CHAMP_NAME']\n",
    "\n",
    "KR1_SUP = pd.DataFrame()\n",
    "KR1_SUP['Champion_ID'] = KR1_SUP_CHAMP_ID\n",
    "KR1_SUP['Champion_Freq'] = KR1_SUP.groupby('Champion_ID')['Champion_ID'].transform('count')\n",
    "KR1_SUP = KR1_SUP.drop_duplicates()\n",
    "KR1_SUP = pd.merge(KR1_SUP, champions, on='Champion_ID')\n",
    "KR1_SUP = KR1_SUP.sort_values('Champion_Freq', ascending=False)\n",
    "KR1_SUP = KR1_SUP.reset_index(drop=True)\n",
    "KR1_SUP.columns = ['SUP_CHAMP_ID', 'SUP_CHAMP_FREQ', 'SUP_CHAMP_NAME']\n",
    "\n",
    "KR1_winning_champs = pd.concat([KR1_TOP, KR1_JGL, KR1_MID, KR1_BOT, KR1_SUP], axis=1)\n",
    "KR1_winning_champs.head()"
   ]
  },
  {
   "cell_type": "markdown",
   "metadata": {},
   "source": [
    "## Cleaning the Data\n",
    "### Europe Data"
   ]
  },
  {
   "cell_type": "code",
   "execution_count": 13,
   "metadata": {},
   "outputs": [],
   "source": [
    "# Dropping irrelevant columns\n",
    "EUW1_matches = EUW1_matches.drop(columns=['BSUM1_ID', 'BSUM2_ID', 'BSUM3_ID','BSUM4_ID', 'BSUM5_ID','RSUM1_ID', 'RSUM2_ID', 'RSUM3_ID','RSUM4_ID', 'RSUM5_ID'])\n",
    "\n",
    "# Encoding Categorical Data\n",
    "    # None -> 2\n",
    "    #Blue Team -> 0\n",
    "    #Rlue Team -> 1\n",
    "EUW1_matches = EUW1_matches.replace({'NONE': 2, 'BLUE': 0, 'RED':1})\n",
    "\n",
    "EUW1_matches['MATCH_ID'] = 'EUROPE'\n",
    "EUW1_matches = EUW1_matches.rename(columns={'MATCH_ID': 'SERVER'})"
   ]
  },
  {
   "cell_type": "code",
   "execution_count": 14,
   "metadata": {},
   "outputs": [
    {
     "data": {
      "text/html": [
       "<div>\n",
       "<style scoped>\n",
       "    .dataframe tbody tr th:only-of-type {\n",
       "        vertical-align: middle;\n",
       "    }\n",
       "\n",
       "    .dataframe tbody tr th {\n",
       "        vertical-align: top;\n",
       "    }\n",
       "\n",
       "    .dataframe thead th {\n",
       "        text-align: right;\n",
       "    }\n",
       "</style>\n",
       "<table border=\"1\" class=\"dataframe\">\n",
       "  <thead>\n",
       "    <tr style=\"text-align: right;\">\n",
       "      <th></th>\n",
       "      <th>SERVER</th>\n",
       "      <th>BTOP_CHAMP_ID</th>\n",
       "      <th>BJGL_CHAMP_ID</th>\n",
       "      <th>BMID_CHAMP_ID</th>\n",
       "      <th>BBOT_CHAMP_ID</th>\n",
       "      <th>BSUP_CHAMP_ID</th>\n",
       "      <th>BBAN1</th>\n",
       "      <th>BBAN2</th>\n",
       "      <th>BBAN3</th>\n",
       "      <th>BBAN4</th>\n",
       "      <th>...</th>\n",
       "      <th>FIRST_TOWER</th>\n",
       "      <th>BTOWER_KILLS</th>\n",
       "      <th>RTOWER_KILLS</th>\n",
       "      <th>FIRST_BARON</th>\n",
       "      <th>BBARON_KILLS</th>\n",
       "      <th>RBARON_KILLS</th>\n",
       "      <th>FIRST_INHIB</th>\n",
       "      <th>BINHIB_KILLS</th>\n",
       "      <th>RINHIB_KILLS</th>\n",
       "      <th>WINNER</th>\n",
       "    </tr>\n",
       "  </thead>\n",
       "  <tbody>\n",
       "    <tr>\n",
       "      <th>0</th>\n",
       "      <td>EUROPE</td>\n",
       "      <td>150</td>\n",
       "      <td>246</td>\n",
       "      <td>268</td>\n",
       "      <td>15</td>\n",
       "      <td>497</td>\n",
       "      <td>62</td>\n",
       "      <td>107</td>\n",
       "      <td>119</td>\n",
       "      <td>114</td>\n",
       "      <td>...</td>\n",
       "      <td>1</td>\n",
       "      <td>2</td>\n",
       "      <td>4</td>\n",
       "      <td>2</td>\n",
       "      <td>0</td>\n",
       "      <td>0</td>\n",
       "      <td>2</td>\n",
       "      <td>0</td>\n",
       "      <td>0</td>\n",
       "      <td>1</td>\n",
       "    </tr>\n",
       "    <tr>\n",
       "      <th>1</th>\n",
       "      <td>EUROPE</td>\n",
       "      <td>114</td>\n",
       "      <td>254</td>\n",
       "      <td>79</td>\n",
       "      <td>498</td>\n",
       "      <td>497</td>\n",
       "      <td>555</td>\n",
       "      <td>-1</td>\n",
       "      <td>-1</td>\n",
       "      <td>103</td>\n",
       "      <td>...</td>\n",
       "      <td>1</td>\n",
       "      <td>0</td>\n",
       "      <td>4</td>\n",
       "      <td>2</td>\n",
       "      <td>0</td>\n",
       "      <td>0</td>\n",
       "      <td>2</td>\n",
       "      <td>0</td>\n",
       "      <td>0</td>\n",
       "      <td>1</td>\n",
       "    </tr>\n",
       "    <tr>\n",
       "      <th>2</th>\n",
       "      <td>EUROPE</td>\n",
       "      <td>150</td>\n",
       "      <td>78</td>\n",
       "      <td>517</td>\n",
       "      <td>523</td>\n",
       "      <td>888</td>\n",
       "      <td>432</td>\n",
       "      <td>119</td>\n",
       "      <td>555</td>\n",
       "      <td>55</td>\n",
       "      <td>...</td>\n",
       "      <td>1</td>\n",
       "      <td>5</td>\n",
       "      <td>8</td>\n",
       "      <td>1</td>\n",
       "      <td>0</td>\n",
       "      <td>1</td>\n",
       "      <td>1</td>\n",
       "      <td>1</td>\n",
       "      <td>2</td>\n",
       "      <td>0</td>\n",
       "    </tr>\n",
       "    <tr>\n",
       "      <th>3</th>\n",
       "      <td>EUROPE</td>\n",
       "      <td>79</td>\n",
       "      <td>80</td>\n",
       "      <td>4</td>\n",
       "      <td>18</td>\n",
       "      <td>235</td>\n",
       "      <td>517</td>\n",
       "      <td>20</td>\n",
       "      <td>350</td>\n",
       "      <td>122</td>\n",
       "      <td>...</td>\n",
       "      <td>0</td>\n",
       "      <td>6</td>\n",
       "      <td>4</td>\n",
       "      <td>1</td>\n",
       "      <td>0</td>\n",
       "      <td>1</td>\n",
       "      <td>2</td>\n",
       "      <td>0</td>\n",
       "      <td>0</td>\n",
       "      <td>1</td>\n",
       "    </tr>\n",
       "    <tr>\n",
       "      <th>4</th>\n",
       "      <td>EUROPE</td>\n",
       "      <td>122</td>\n",
       "      <td>80</td>\n",
       "      <td>517</td>\n",
       "      <td>96</td>\n",
       "      <td>432</td>\n",
       "      <td>67</td>\n",
       "      <td>350</td>\n",
       "      <td>20</td>\n",
       "      <td>29</td>\n",
       "      <td>...</td>\n",
       "      <td>0</td>\n",
       "      <td>7</td>\n",
       "      <td>2</td>\n",
       "      <td>2</td>\n",
       "      <td>0</td>\n",
       "      <td>0</td>\n",
       "      <td>0</td>\n",
       "      <td>1</td>\n",
       "      <td>0</td>\n",
       "      <td>0</td>\n",
       "    </tr>\n",
       "  </tbody>\n",
       "</table>\n",
       "<p>5 rows × 40 columns</p>\n",
       "</div>"
      ],
      "text/plain": [
       "   SERVER  BTOP_CHAMP_ID  BJGL_CHAMP_ID  BMID_CHAMP_ID  BBOT_CHAMP_ID  \\\n",
       "0  EUROPE            150            246            268             15   \n",
       "1  EUROPE            114            254             79            498   \n",
       "2  EUROPE            150             78            517            523   \n",
       "3  EUROPE             79             80              4             18   \n",
       "4  EUROPE            122             80            517             96   \n",
       "\n",
       "   BSUP_CHAMP_ID  BBAN1  BBAN2  BBAN3  BBAN4  ...  FIRST_TOWER  BTOWER_KILLS  \\\n",
       "0            497     62    107    119    114  ...            1             2   \n",
       "1            497    555     -1     -1    103  ...            1             0   \n",
       "2            888    432    119    555     55  ...            1             5   \n",
       "3            235    517     20    350    122  ...            0             6   \n",
       "4            432     67    350     20     29  ...            0             7   \n",
       "\n",
       "   RTOWER_KILLS  FIRST_BARON  BBARON_KILLS  RBARON_KILLS  FIRST_INHIB  \\\n",
       "0             4            2             0             0            2   \n",
       "1             4            2             0             0            2   \n",
       "2             8            1             0             1            1   \n",
       "3             4            1             0             1            2   \n",
       "4             2            2             0             0            0   \n",
       "\n",
       "   BINHIB_KILLS  RINHIB_KILLS  WINNER  \n",
       "0             0             0       1  \n",
       "1             0             0       1  \n",
       "2             1             2       0  \n",
       "3             0             0       1  \n",
       "4             1             0       0  \n",
       "\n",
       "[5 rows x 40 columns]"
      ]
     },
     "execution_count": 14,
     "metadata": {},
     "output_type": "execute_result"
    }
   ],
   "source": [
    "EUW1_matches.head()"
   ]
  },
  {
   "cell_type": "code",
   "execution_count": 15,
   "metadata": {},
   "outputs": [],
   "source": [
    "#EUW1_matches.to_csv('EUW1_matches_cleaned.csv', index=False)"
   ]
  },
  {
   "cell_type": "code",
   "execution_count": 16,
   "metadata": {},
   "outputs": [
    {
     "data": {
      "text/html": [
       "<div>\n",
       "<style scoped>\n",
       "    .dataframe tbody tr th:only-of-type {\n",
       "        vertical-align: middle;\n",
       "    }\n",
       "\n",
       "    .dataframe tbody tr th {\n",
       "        vertical-align: top;\n",
       "    }\n",
       "\n",
       "    .dataframe thead th {\n",
       "        text-align: right;\n",
       "    }\n",
       "</style>\n",
       "<table border=\"1\" class=\"dataframe\">\n",
       "  <thead>\n",
       "    <tr style=\"text-align: right;\">\n",
       "      <th></th>\n",
       "      <th>SERVER</th>\n",
       "    </tr>\n",
       "  </thead>\n",
       "  <tbody>\n",
       "    <tr>\n",
       "      <th>0</th>\n",
       "      <td>EUROPE</td>\n",
       "    </tr>\n",
       "    <tr>\n",
       "      <th>1</th>\n",
       "      <td>EUROPE</td>\n",
       "    </tr>\n",
       "    <tr>\n",
       "      <th>2</th>\n",
       "      <td>EUROPE</td>\n",
       "    </tr>\n",
       "    <tr>\n",
       "      <th>3</th>\n",
       "      <td>EUROPE</td>\n",
       "    </tr>\n",
       "    <tr>\n",
       "      <th>4</th>\n",
       "      <td>EUROPE</td>\n",
       "    </tr>\n",
       "  </tbody>\n",
       "</table>\n",
       "</div>"
      ],
      "text/plain": [
       "   SERVER\n",
       "0  EUROPE\n",
       "1  EUROPE\n",
       "2  EUROPE\n",
       "3  EUROPE\n",
       "4  EUROPE"
      ]
     },
     "execution_count": 16,
     "metadata": {},
     "output_type": "execute_result"
    }
   ],
   "source": [
    "# Check to see which columns are still categorical\n",
    "EUW1_matches.select_dtypes(\"object\").head()"
   ]
  },
  {
   "cell_type": "markdown",
   "metadata": {},
   "source": [
    "### Korea Data"
   ]
  },
  {
   "cell_type": "code",
   "execution_count": 17,
   "metadata": {},
   "outputs": [],
   "source": [
    "# Dropping irrelevant columns\n",
    "KR1_matches = KR1_matches.drop(columns=['BSUM1_ID', 'BSUM2_ID', 'BSUM3_ID','BSUM4_ID', 'BSUM5_ID','RSUM1_ID', 'RSUM2_ID', 'RSUM3_ID','RSUM4_ID', 'RSUM5_ID'])\n",
    "\n",
    "# Encoding Categorical Data\n",
    "    # None -> 2\n",
    "    #Blue Team -> 0\n",
    "    #Rlue Team -> 1\n",
    "KR1_matches = KR1_matches.replace({'NONE': 2, 'BLUE': 0, 'RED':1})\n",
    "KR1_matches['MATCH_ID'] = 'KOREA'\n",
    "KR1_matches = KR1_matches.rename(columns={'MATCH_ID': 'SERVER'})"
   ]
  },
  {
   "cell_type": "code",
   "execution_count": 18,
   "metadata": {},
   "outputs": [
    {
     "data": {
      "text/html": [
       "<div>\n",
       "<style scoped>\n",
       "    .dataframe tbody tr th:only-of-type {\n",
       "        vertical-align: middle;\n",
       "    }\n",
       "\n",
       "    .dataframe tbody tr th {\n",
       "        vertical-align: top;\n",
       "    }\n",
       "\n",
       "    .dataframe thead th {\n",
       "        text-align: right;\n",
       "    }\n",
       "</style>\n",
       "<table border=\"1\" class=\"dataframe\">\n",
       "  <thead>\n",
       "    <tr style=\"text-align: right;\">\n",
       "      <th></th>\n",
       "      <th>SERVER</th>\n",
       "      <th>BTOP_CHAMP_ID</th>\n",
       "      <th>BJGL_CHAMP_ID</th>\n",
       "      <th>BMID_CHAMP_ID</th>\n",
       "      <th>BBOT_CHAMP_ID</th>\n",
       "      <th>BSUP_CHAMP_ID</th>\n",
       "      <th>BBAN1</th>\n",
       "      <th>BBAN2</th>\n",
       "      <th>BBAN3</th>\n",
       "      <th>BBAN4</th>\n",
       "      <th>...</th>\n",
       "      <th>FIRST_TOWER</th>\n",
       "      <th>BTOWER_KILLS</th>\n",
       "      <th>RTOWER_KILLS</th>\n",
       "      <th>FIRST_BARON</th>\n",
       "      <th>BBARON_KILLS</th>\n",
       "      <th>RBARON_KILLS</th>\n",
       "      <th>FIRST_INHIB</th>\n",
       "      <th>BINHIB_KILLS</th>\n",
       "      <th>RINHIB_KILLS</th>\n",
       "      <th>WINNER</th>\n",
       "    </tr>\n",
       "  </thead>\n",
       "  <tbody>\n",
       "    <tr>\n",
       "      <th>0</th>\n",
       "      <td>KOREA</td>\n",
       "      <td>59</td>\n",
       "      <td>60</td>\n",
       "      <td>777</td>\n",
       "      <td>157</td>\n",
       "      <td>254</td>\n",
       "      <td>887</td>\n",
       "      <td>91</td>\n",
       "      <td>163</td>\n",
       "      <td>-1</td>\n",
       "      <td>...</td>\n",
       "      <td>1</td>\n",
       "      <td>1</td>\n",
       "      <td>10</td>\n",
       "      <td>1</td>\n",
       "      <td>0</td>\n",
       "      <td>1</td>\n",
       "      <td>1</td>\n",
       "      <td>0</td>\n",
       "      <td>1</td>\n",
       "      <td>1</td>\n",
       "    </tr>\n",
       "    <tr>\n",
       "      <th>1</th>\n",
       "      <td>KOREA</td>\n",
       "      <td>266</td>\n",
       "      <td>234</td>\n",
       "      <td>103</td>\n",
       "      <td>15</td>\n",
       "      <td>50</td>\n",
       "      <td>517</td>\n",
       "      <td>350</td>\n",
       "      <td>221</td>\n",
       "      <td>429</td>\n",
       "      <td>...</td>\n",
       "      <td>0</td>\n",
       "      <td>5</td>\n",
       "      <td>0</td>\n",
       "      <td>2</td>\n",
       "      <td>0</td>\n",
       "      <td>0</td>\n",
       "      <td>2</td>\n",
       "      <td>0</td>\n",
       "      <td>0</td>\n",
       "      <td>0</td>\n",
       "    </tr>\n",
       "    <tr>\n",
       "      <th>2</th>\n",
       "      <td>KOREA</td>\n",
       "      <td>29</td>\n",
       "      <td>62</td>\n",
       "      <td>888</td>\n",
       "      <td>887</td>\n",
       "      <td>517</td>\n",
       "      <td>86</td>\n",
       "      <td>68</td>\n",
       "      <td>895</td>\n",
       "      <td>78</td>\n",
       "      <td>...</td>\n",
       "      <td>0</td>\n",
       "      <td>5</td>\n",
       "      <td>0</td>\n",
       "      <td>2</td>\n",
       "      <td>0</td>\n",
       "      <td>0</td>\n",
       "      <td>2</td>\n",
       "      <td>0</td>\n",
       "      <td>0</td>\n",
       "      <td>0</td>\n",
       "    </tr>\n",
       "    <tr>\n",
       "      <th>3</th>\n",
       "      <td>KOREA</td>\n",
       "      <td>113</td>\n",
       "      <td>80</td>\n",
       "      <td>711</td>\n",
       "      <td>523</td>\n",
       "      <td>888</td>\n",
       "      <td>429</td>\n",
       "      <td>163</td>\n",
       "      <td>-1</td>\n",
       "      <td>-1</td>\n",
       "      <td>...</td>\n",
       "      <td>1</td>\n",
       "      <td>6</td>\n",
       "      <td>10</td>\n",
       "      <td>0</td>\n",
       "      <td>1</td>\n",
       "      <td>0</td>\n",
       "      <td>1</td>\n",
       "      <td>1</td>\n",
       "      <td>2</td>\n",
       "      <td>1</td>\n",
       "    </tr>\n",
       "    <tr>\n",
       "      <th>4</th>\n",
       "      <td>KOREA</td>\n",
       "      <td>14</td>\n",
       "      <td>64</td>\n",
       "      <td>711</td>\n",
       "      <td>221</td>\n",
       "      <td>888</td>\n",
       "      <td>429</td>\n",
       "      <td>895</td>\n",
       "      <td>-1</td>\n",
       "      <td>-1</td>\n",
       "      <td>...</td>\n",
       "      <td>0</td>\n",
       "      <td>8</td>\n",
       "      <td>3</td>\n",
       "      <td>0</td>\n",
       "      <td>1</td>\n",
       "      <td>0</td>\n",
       "      <td>0</td>\n",
       "      <td>1</td>\n",
       "      <td>0</td>\n",
       "      <td>0</td>\n",
       "    </tr>\n",
       "  </tbody>\n",
       "</table>\n",
       "<p>5 rows × 40 columns</p>\n",
       "</div>"
      ],
      "text/plain": [
       "  SERVER  BTOP_CHAMP_ID  BJGL_CHAMP_ID  BMID_CHAMP_ID  BBOT_CHAMP_ID  \\\n",
       "0  KOREA             59             60            777            157   \n",
       "1  KOREA            266            234            103             15   \n",
       "2  KOREA             29             62            888            887   \n",
       "3  KOREA            113             80            711            523   \n",
       "4  KOREA             14             64            711            221   \n",
       "\n",
       "   BSUP_CHAMP_ID  BBAN1  BBAN2  BBAN3  BBAN4  ...  FIRST_TOWER  BTOWER_KILLS  \\\n",
       "0            254    887     91    163     -1  ...            1             1   \n",
       "1             50    517    350    221    429  ...            0             5   \n",
       "2            517     86     68    895     78  ...            0             5   \n",
       "3            888    429    163     -1     -1  ...            1             6   \n",
       "4            888    429    895     -1     -1  ...            0             8   \n",
       "\n",
       "   RTOWER_KILLS  FIRST_BARON  BBARON_KILLS  RBARON_KILLS  FIRST_INHIB  \\\n",
       "0            10            1             0             1            1   \n",
       "1             0            2             0             0            2   \n",
       "2             0            2             0             0            2   \n",
       "3            10            0             1             0            1   \n",
       "4             3            0             1             0            0   \n",
       "\n",
       "   BINHIB_KILLS  RINHIB_KILLS  WINNER  \n",
       "0             0             1       1  \n",
       "1             0             0       0  \n",
       "2             0             0       0  \n",
       "3             1             2       1  \n",
       "4             1             0       0  \n",
       "\n",
       "[5 rows x 40 columns]"
      ]
     },
     "execution_count": 18,
     "metadata": {},
     "output_type": "execute_result"
    }
   ],
   "source": [
    "KR1_matches.head()"
   ]
  },
  {
   "cell_type": "code",
   "execution_count": 19,
   "metadata": {},
   "outputs": [],
   "source": [
    "#KR1_matches.to_csv('KR1_matches_cleaned.csv', index=False)"
   ]
  },
  {
   "cell_type": "markdown",
   "metadata": {},
   "source": [
    "### North America Data"
   ]
  },
  {
   "cell_type": "code",
   "execution_count": 20,
   "metadata": {},
   "outputs": [],
   "source": [
    "# Dropping irrelevant columns\n",
    "NA1_matches = NA1_matches.drop(columns=['BSUM1_ID', 'BSUM2_ID', 'BSUM3_ID','BSUM4_ID', 'BSUM5_ID','RSUM1_ID', 'RSUM2_ID', 'RSUM3_ID','RSUM4_ID', 'RSUM5_ID'])\n",
    "\n",
    "# Encoding Categorical Data\n",
    "    # None -> 2\n",
    "    #Blue Team -> 0\n",
    "    #Rlue Team -> 1\n",
    "NA1_matches = NA1_matches.replace({'NONE': 2, 'BLUE': 0, 'RED':1})\n",
    "\n",
    "NA1_matches['MATCH_ID'] = 'NORTH_AMERICA'\n",
    "NA1_matches = NA1_matches.rename(columns={'MATCH_ID': 'SERVER'})"
   ]
  },
  {
   "cell_type": "code",
   "execution_count": 21,
   "metadata": {},
   "outputs": [
    {
     "data": {
      "text/html": [
       "<div>\n",
       "<style scoped>\n",
       "    .dataframe tbody tr th:only-of-type {\n",
       "        vertical-align: middle;\n",
       "    }\n",
       "\n",
       "    .dataframe tbody tr th {\n",
       "        vertical-align: top;\n",
       "    }\n",
       "\n",
       "    .dataframe thead th {\n",
       "        text-align: right;\n",
       "    }\n",
       "</style>\n",
       "<table border=\"1\" class=\"dataframe\">\n",
       "  <thead>\n",
       "    <tr style=\"text-align: right;\">\n",
       "      <th></th>\n",
       "      <th>SERVER</th>\n",
       "      <th>BTOP_CHAMP_ID</th>\n",
       "      <th>BJGL_CHAMP_ID</th>\n",
       "      <th>BMID_CHAMP_ID</th>\n",
       "      <th>BBOT_CHAMP_ID</th>\n",
       "      <th>BSUP_CHAMP_ID</th>\n",
       "      <th>BBAN1</th>\n",
       "      <th>BBAN2</th>\n",
       "      <th>BBAN3</th>\n",
       "      <th>BBAN4</th>\n",
       "      <th>...</th>\n",
       "      <th>FIRST_TOWER</th>\n",
       "      <th>BTOWER_KILLS</th>\n",
       "      <th>RTOWER_KILLS</th>\n",
       "      <th>FIRST_BARON</th>\n",
       "      <th>BBARON_KILLS</th>\n",
       "      <th>RBARON_KILLS</th>\n",
       "      <th>FIRST_INHIB</th>\n",
       "      <th>BINHIB_KILLS</th>\n",
       "      <th>RINHIB_KILLS</th>\n",
       "      <th>WINNER</th>\n",
       "    </tr>\n",
       "  </thead>\n",
       "  <tbody>\n",
       "    <tr>\n",
       "      <th>0</th>\n",
       "      <td>NORTH_AMERICA</td>\n",
       "      <td>50</td>\n",
       "      <td>200</td>\n",
       "      <td>38</td>\n",
       "      <td>119</td>\n",
       "      <td>555</td>\n",
       "      <td>350</td>\n",
       "      <td>266</td>\n",
       "      <td>147</td>\n",
       "      <td>888</td>\n",
       "      <td>...</td>\n",
       "      <td>0</td>\n",
       "      <td>7</td>\n",
       "      <td>0</td>\n",
       "      <td>2</td>\n",
       "      <td>0</td>\n",
       "      <td>0</td>\n",
       "      <td>0</td>\n",
       "      <td>1</td>\n",
       "      <td>0</td>\n",
       "      <td>0</td>\n",
       "    </tr>\n",
       "    <tr>\n",
       "      <th>1</th>\n",
       "      <td>NORTH_AMERICA</td>\n",
       "      <td>266</td>\n",
       "      <td>9</td>\n",
       "      <td>8</td>\n",
       "      <td>119</td>\n",
       "      <td>875</td>\n",
       "      <td>888</td>\n",
       "      <td>84</td>\n",
       "      <td>114</td>\n",
       "      <td>147</td>\n",
       "      <td>...</td>\n",
       "      <td>0</td>\n",
       "      <td>8</td>\n",
       "      <td>4</td>\n",
       "      <td>0</td>\n",
       "      <td>1</td>\n",
       "      <td>0</td>\n",
       "      <td>0</td>\n",
       "      <td>1</td>\n",
       "      <td>0</td>\n",
       "      <td>0</td>\n",
       "    </tr>\n",
       "    <tr>\n",
       "      <th>2</th>\n",
       "      <td>NORTH_AMERICA</td>\n",
       "      <td>266</td>\n",
       "      <td>200</td>\n",
       "      <td>1</td>\n",
       "      <td>360</td>\n",
       "      <td>113</td>\n",
       "      <td>246</td>\n",
       "      <td>55</td>\n",
       "      <td>238</td>\n",
       "      <td>91</td>\n",
       "      <td>...</td>\n",
       "      <td>0</td>\n",
       "      <td>9</td>\n",
       "      <td>5</td>\n",
       "      <td>0</td>\n",
       "      <td>1</td>\n",
       "      <td>0</td>\n",
       "      <td>0</td>\n",
       "      <td>1</td>\n",
       "      <td>0</td>\n",
       "      <td>0</td>\n",
       "    </tr>\n",
       "    <tr>\n",
       "      <th>3</th>\n",
       "      <td>NORTH_AMERICA</td>\n",
       "      <td>27</td>\n",
       "      <td>421</td>\n",
       "      <td>74</td>\n",
       "      <td>119</td>\n",
       "      <td>111</td>\n",
       "      <td>35</td>\n",
       "      <td>350</td>\n",
       "      <td>268</td>\n",
       "      <td>103</td>\n",
       "      <td>...</td>\n",
       "      <td>0</td>\n",
       "      <td>3</td>\n",
       "      <td>7</td>\n",
       "      <td>1</td>\n",
       "      <td>0</td>\n",
       "      <td>1</td>\n",
       "      <td>1</td>\n",
       "      <td>0</td>\n",
       "      <td>2</td>\n",
       "      <td>1</td>\n",
       "    </tr>\n",
       "    <tr>\n",
       "      <th>4</th>\n",
       "      <td>NORTH_AMERICA</td>\n",
       "      <td>516</td>\n",
       "      <td>131</td>\n",
       "      <td>104</td>\n",
       "      <td>523</td>\n",
       "      <td>43</td>\n",
       "      <td>200</td>\n",
       "      <td>221</td>\n",
       "      <td>203</td>\n",
       "      <td>266</td>\n",
       "      <td>...</td>\n",
       "      <td>0</td>\n",
       "      <td>4</td>\n",
       "      <td>11</td>\n",
       "      <td>1</td>\n",
       "      <td>0</td>\n",
       "      <td>1</td>\n",
       "      <td>1</td>\n",
       "      <td>0</td>\n",
       "      <td>2</td>\n",
       "      <td>1</td>\n",
       "    </tr>\n",
       "  </tbody>\n",
       "</table>\n",
       "<p>5 rows × 40 columns</p>\n",
       "</div>"
      ],
      "text/plain": [
       "          SERVER  BTOP_CHAMP_ID  BJGL_CHAMP_ID  BMID_CHAMP_ID  BBOT_CHAMP_ID  \\\n",
       "0  NORTH_AMERICA             50            200             38            119   \n",
       "1  NORTH_AMERICA            266              9              8            119   \n",
       "2  NORTH_AMERICA            266            200              1            360   \n",
       "3  NORTH_AMERICA             27            421             74            119   \n",
       "4  NORTH_AMERICA            516            131            104            523   \n",
       "\n",
       "   BSUP_CHAMP_ID  BBAN1  BBAN2  BBAN3  BBAN4  ...  FIRST_TOWER  BTOWER_KILLS  \\\n",
       "0            555    350    266    147    888  ...            0             7   \n",
       "1            875    888     84    114    147  ...            0             8   \n",
       "2            113    246     55    238     91  ...            0             9   \n",
       "3            111     35    350    268    103  ...            0             3   \n",
       "4             43    200    221    203    266  ...            0             4   \n",
       "\n",
       "   RTOWER_KILLS  FIRST_BARON  BBARON_KILLS  RBARON_KILLS  FIRST_INHIB  \\\n",
       "0             0            2             0             0            0   \n",
       "1             4            0             1             0            0   \n",
       "2             5            0             1             0            0   \n",
       "3             7            1             0             1            1   \n",
       "4            11            1             0             1            1   \n",
       "\n",
       "   BINHIB_KILLS  RINHIB_KILLS  WINNER  \n",
       "0             1             0       0  \n",
       "1             1             0       0  \n",
       "2             1             0       0  \n",
       "3             0             2       1  \n",
       "4             0             2       1  \n",
       "\n",
       "[5 rows x 40 columns]"
      ]
     },
     "execution_count": 21,
     "metadata": {},
     "output_type": "execute_result"
    }
   ],
   "source": [
    "NA1_matches.head()"
   ]
  },
  {
   "cell_type": "code",
   "execution_count": 22,
   "metadata": {},
   "outputs": [],
   "source": [
    "#NA1_matches.to_csv('NA1_matches_cleaned.csv', index=False)"
   ]
  },
  {
   "cell_type": "markdown",
   "metadata": {},
   "source": [
    "### Combine Datasets"
   ]
  },
  {
   "cell_type": "code",
   "execution_count": 23,
   "metadata": {},
   "outputs": [
    {
     "data": {
      "text/html": [
       "<div>\n",
       "<style scoped>\n",
       "    .dataframe tbody tr th:only-of-type {\n",
       "        vertical-align: middle;\n",
       "    }\n",
       "\n",
       "    .dataframe tbody tr th {\n",
       "        vertical-align: top;\n",
       "    }\n",
       "\n",
       "    .dataframe thead th {\n",
       "        text-align: right;\n",
       "    }\n",
       "</style>\n",
       "<table border=\"1\" class=\"dataframe\">\n",
       "  <thead>\n",
       "    <tr style=\"text-align: right;\">\n",
       "      <th></th>\n",
       "      <th>SERVER</th>\n",
       "      <th>BTOP_CHAMP_ID</th>\n",
       "      <th>BJGL_CHAMP_ID</th>\n",
       "      <th>BMID_CHAMP_ID</th>\n",
       "      <th>BBOT_CHAMP_ID</th>\n",
       "      <th>BSUP_CHAMP_ID</th>\n",
       "      <th>BBAN1</th>\n",
       "      <th>BBAN2</th>\n",
       "      <th>BBAN3</th>\n",
       "      <th>BBAN4</th>\n",
       "      <th>...</th>\n",
       "      <th>FIRST_TOWER</th>\n",
       "      <th>BTOWER_KILLS</th>\n",
       "      <th>RTOWER_KILLS</th>\n",
       "      <th>FIRST_BARON</th>\n",
       "      <th>BBARON_KILLS</th>\n",
       "      <th>RBARON_KILLS</th>\n",
       "      <th>FIRST_INHIB</th>\n",
       "      <th>BINHIB_KILLS</th>\n",
       "      <th>RINHIB_KILLS</th>\n",
       "      <th>WINNER</th>\n",
       "    </tr>\n",
       "  </thead>\n",
       "  <tbody>\n",
       "    <tr>\n",
       "      <th>0</th>\n",
       "      <td>EUROPE</td>\n",
       "      <td>150</td>\n",
       "      <td>246</td>\n",
       "      <td>268</td>\n",
       "      <td>15</td>\n",
       "      <td>497</td>\n",
       "      <td>62</td>\n",
       "      <td>107</td>\n",
       "      <td>119</td>\n",
       "      <td>114</td>\n",
       "      <td>...</td>\n",
       "      <td>1</td>\n",
       "      <td>2</td>\n",
       "      <td>4</td>\n",
       "      <td>2</td>\n",
       "      <td>0</td>\n",
       "      <td>0</td>\n",
       "      <td>2</td>\n",
       "      <td>0</td>\n",
       "      <td>0</td>\n",
       "      <td>1</td>\n",
       "    </tr>\n",
       "    <tr>\n",
       "      <th>1</th>\n",
       "      <td>EUROPE</td>\n",
       "      <td>114</td>\n",
       "      <td>254</td>\n",
       "      <td>79</td>\n",
       "      <td>498</td>\n",
       "      <td>497</td>\n",
       "      <td>555</td>\n",
       "      <td>-1</td>\n",
       "      <td>-1</td>\n",
       "      <td>103</td>\n",
       "      <td>...</td>\n",
       "      <td>1</td>\n",
       "      <td>0</td>\n",
       "      <td>4</td>\n",
       "      <td>2</td>\n",
       "      <td>0</td>\n",
       "      <td>0</td>\n",
       "      <td>2</td>\n",
       "      <td>0</td>\n",
       "      <td>0</td>\n",
       "      <td>1</td>\n",
       "    </tr>\n",
       "    <tr>\n",
       "      <th>2</th>\n",
       "      <td>EUROPE</td>\n",
       "      <td>150</td>\n",
       "      <td>78</td>\n",
       "      <td>517</td>\n",
       "      <td>523</td>\n",
       "      <td>888</td>\n",
       "      <td>432</td>\n",
       "      <td>119</td>\n",
       "      <td>555</td>\n",
       "      <td>55</td>\n",
       "      <td>...</td>\n",
       "      <td>1</td>\n",
       "      <td>5</td>\n",
       "      <td>8</td>\n",
       "      <td>1</td>\n",
       "      <td>0</td>\n",
       "      <td>1</td>\n",
       "      <td>1</td>\n",
       "      <td>1</td>\n",
       "      <td>2</td>\n",
       "      <td>0</td>\n",
       "    </tr>\n",
       "    <tr>\n",
       "      <th>3</th>\n",
       "      <td>EUROPE</td>\n",
       "      <td>79</td>\n",
       "      <td>80</td>\n",
       "      <td>4</td>\n",
       "      <td>18</td>\n",
       "      <td>235</td>\n",
       "      <td>517</td>\n",
       "      <td>20</td>\n",
       "      <td>350</td>\n",
       "      <td>122</td>\n",
       "      <td>...</td>\n",
       "      <td>0</td>\n",
       "      <td>6</td>\n",
       "      <td>4</td>\n",
       "      <td>1</td>\n",
       "      <td>0</td>\n",
       "      <td>1</td>\n",
       "      <td>2</td>\n",
       "      <td>0</td>\n",
       "      <td>0</td>\n",
       "      <td>1</td>\n",
       "    </tr>\n",
       "    <tr>\n",
       "      <th>4</th>\n",
       "      <td>EUROPE</td>\n",
       "      <td>122</td>\n",
       "      <td>80</td>\n",
       "      <td>517</td>\n",
       "      <td>96</td>\n",
       "      <td>432</td>\n",
       "      <td>67</td>\n",
       "      <td>350</td>\n",
       "      <td>20</td>\n",
       "      <td>29</td>\n",
       "      <td>...</td>\n",
       "      <td>0</td>\n",
       "      <td>7</td>\n",
       "      <td>2</td>\n",
       "      <td>2</td>\n",
       "      <td>0</td>\n",
       "      <td>0</td>\n",
       "      <td>0</td>\n",
       "      <td>1</td>\n",
       "      <td>0</td>\n",
       "      <td>0</td>\n",
       "    </tr>\n",
       "  </tbody>\n",
       "</table>\n",
       "<p>5 rows × 40 columns</p>\n",
       "</div>"
      ],
      "text/plain": [
       "   SERVER  BTOP_CHAMP_ID  BJGL_CHAMP_ID  BMID_CHAMP_ID  BBOT_CHAMP_ID  \\\n",
       "0  EUROPE            150            246            268             15   \n",
       "1  EUROPE            114            254             79            498   \n",
       "2  EUROPE            150             78            517            523   \n",
       "3  EUROPE             79             80              4             18   \n",
       "4  EUROPE            122             80            517             96   \n",
       "\n",
       "   BSUP_CHAMP_ID  BBAN1  BBAN2  BBAN3  BBAN4  ...  FIRST_TOWER  BTOWER_KILLS  \\\n",
       "0            497     62    107    119    114  ...            1             2   \n",
       "1            497    555     -1     -1    103  ...            1             0   \n",
       "2            888    432    119    555     55  ...            1             5   \n",
       "3            235    517     20    350    122  ...            0             6   \n",
       "4            432     67    350     20     29  ...            0             7   \n",
       "\n",
       "   RTOWER_KILLS  FIRST_BARON  BBARON_KILLS  RBARON_KILLS  FIRST_INHIB  \\\n",
       "0             4            2             0             0            2   \n",
       "1             4            2             0             0            2   \n",
       "2             8            1             0             1            1   \n",
       "3             4            1             0             1            2   \n",
       "4             2            2             0             0            0   \n",
       "\n",
       "   BINHIB_KILLS  RINHIB_KILLS  WINNER  \n",
       "0             0             0       1  \n",
       "1             0             0       1  \n",
       "2             1             2       0  \n",
       "3             0             0       1  \n",
       "4             1             0       0  \n",
       "\n",
       "[5 rows x 40 columns]"
      ]
     },
     "execution_count": 23,
     "metadata": {},
     "output_type": "execute_result"
    }
   ],
   "source": [
    "data = pd.concat([EUW1_matches, KR1_matches, NA1_matches], axis=0)\n",
    "data.head()"
   ]
  },
  {
   "cell_type": "code",
   "execution_count": 24,
   "metadata": {},
   "outputs": [],
   "source": [
    "data.to_csv('full_game_data.csv', index=False)"
   ]
  },
  {
   "cell_type": "code",
   "execution_count": 222,
   "metadata": {},
   "outputs": [
    {
     "data": {
      "text/plain": [
       "Index(['SERVER', 'BTOP_CHAMP_ID', 'BJGL_CHAMP_ID', 'BMID_CHAMP_ID',\n",
       "       'BBOT_CHAMP_ID', 'BSUP_CHAMP_ID', 'BBAN1', 'BBAN2', 'BBAN3', 'BBAN4',\n",
       "       'BBAN5', 'RTOP_CHAMP_ID', 'RJGL_CHAMP_ID', 'RMID_CHAMP_ID',\n",
       "       'RBOT_CHAMP_ID', 'RSUP_CHAMP_ID', 'RBAN1', 'RBAN2', 'RBAN3', 'RBAN4',\n",
       "       'RBAN5', 'FIRST_BLOOD', 'BCHAMP_KILLS', 'RCHAMP_KILLS', 'FIRST_DRAG',\n",
       "       'BDRAG_KILLS', 'RDRAG_KILLS', 'FIRST_HERALD', 'BHERALD_KILLS',\n",
       "       'RHERALD_KILLS', 'FIRST_TOWER', 'BTOWER_KILLS', 'RTOWER_KILLS',\n",
       "       'FIRST_BARON', 'BBARON_KILLS', 'RBARON_KILLS', 'FIRST_INHIB',\n",
       "       'BINHIB_KILLS', 'RINHIB_KILLS', 'WINNER'],\n",
       "      dtype='object')"
      ]
     },
     "execution_count": 222,
     "metadata": {},
     "output_type": "execute_result"
    }
   ],
   "source": [
    "data.columns"
   ]
  },
  {
   "cell_type": "code",
   "execution_count": 25,
   "metadata": {},
   "outputs": [],
   "source": [
    "pre_game_data = data[['SERVER', 'BTOP_CHAMP_ID', 'BJGL_CHAMP_ID', 'BMID_CHAMP_ID',\n",
    "       'BBOT_CHAMP_ID', 'BSUP_CHAMP_ID', 'BBAN1', 'BBAN2', 'BBAN3', 'BBAN4',\n",
    "       'BBAN5', 'RTOP_CHAMP_ID', 'RJGL_CHAMP_ID', 'RMID_CHAMP_ID',\n",
    "       'RBOT_CHAMP_ID', 'RSUP_CHAMP_ID', 'RBAN1', 'RBAN2', 'RBAN3', 'RBAN4',\n",
    "       'RBAN5', 'WINNER']]"
   ]
  },
  {
   "cell_type": "code",
   "execution_count": 26,
   "metadata": {},
   "outputs": [
    {
     "data": {
      "text/html": [
       "<div>\n",
       "<style scoped>\n",
       "    .dataframe tbody tr th:only-of-type {\n",
       "        vertical-align: middle;\n",
       "    }\n",
       "\n",
       "    .dataframe tbody tr th {\n",
       "        vertical-align: top;\n",
       "    }\n",
       "\n",
       "    .dataframe thead th {\n",
       "        text-align: right;\n",
       "    }\n",
       "</style>\n",
       "<table border=\"1\" class=\"dataframe\">\n",
       "  <thead>\n",
       "    <tr style=\"text-align: right;\">\n",
       "      <th></th>\n",
       "      <th>SERVER</th>\n",
       "      <th>BTOP_CHAMP_ID</th>\n",
       "      <th>BJGL_CHAMP_ID</th>\n",
       "      <th>BMID_CHAMP_ID</th>\n",
       "      <th>BBOT_CHAMP_ID</th>\n",
       "      <th>BSUP_CHAMP_ID</th>\n",
       "      <th>BBAN1</th>\n",
       "      <th>BBAN2</th>\n",
       "      <th>BBAN3</th>\n",
       "      <th>BBAN4</th>\n",
       "      <th>...</th>\n",
       "      <th>RJGL_CHAMP_ID</th>\n",
       "      <th>RMID_CHAMP_ID</th>\n",
       "      <th>RBOT_CHAMP_ID</th>\n",
       "      <th>RSUP_CHAMP_ID</th>\n",
       "      <th>RBAN1</th>\n",
       "      <th>RBAN2</th>\n",
       "      <th>RBAN3</th>\n",
       "      <th>RBAN4</th>\n",
       "      <th>RBAN5</th>\n",
       "      <th>WINNER</th>\n",
       "    </tr>\n",
       "  </thead>\n",
       "  <tbody>\n",
       "    <tr>\n",
       "      <th>0</th>\n",
       "      <td>EUROPE</td>\n",
       "      <td>150</td>\n",
       "      <td>246</td>\n",
       "      <td>268</td>\n",
       "      <td>15</td>\n",
       "      <td>497</td>\n",
       "      <td>62</td>\n",
       "      <td>107</td>\n",
       "      <td>119</td>\n",
       "      <td>114</td>\n",
       "      <td>...</td>\n",
       "      <td>80</td>\n",
       "      <td>112</td>\n",
       "      <td>29</td>\n",
       "      <td>432</td>\n",
       "      <td>350</td>\n",
       "      <td>119</td>\n",
       "      <td>777</td>\n",
       "      <td>78</td>\n",
       "      <td>429</td>\n",
       "      <td>1</td>\n",
       "    </tr>\n",
       "    <tr>\n",
       "      <th>1</th>\n",
       "      <td>EUROPE</td>\n",
       "      <td>114</td>\n",
       "      <td>254</td>\n",
       "      <td>79</td>\n",
       "      <td>498</td>\n",
       "      <td>497</td>\n",
       "      <td>555</td>\n",
       "      <td>-1</td>\n",
       "      <td>-1</td>\n",
       "      <td>103</td>\n",
       "      <td>...</td>\n",
       "      <td>78</td>\n",
       "      <td>55</td>\n",
       "      <td>15</td>\n",
       "      <td>26</td>\n",
       "      <td>157</td>\n",
       "      <td>432</td>\n",
       "      <td>777</td>\n",
       "      <td>119</td>\n",
       "      <td>350</td>\n",
       "      <td>1</td>\n",
       "    </tr>\n",
       "    <tr>\n",
       "      <th>2</th>\n",
       "      <td>EUROPE</td>\n",
       "      <td>150</td>\n",
       "      <td>78</td>\n",
       "      <td>517</td>\n",
       "      <td>523</td>\n",
       "      <td>888</td>\n",
       "      <td>432</td>\n",
       "      <td>119</td>\n",
       "      <td>555</td>\n",
       "      <td>55</td>\n",
       "      <td>...</td>\n",
       "      <td>234</td>\n",
       "      <td>429</td>\n",
       "      <td>13</td>\n",
       "      <td>79</td>\n",
       "      <td>92</td>\n",
       "      <td>117</td>\n",
       "      <td>62</td>\n",
       "      <td>103</td>\n",
       "      <td>131</td>\n",
       "      <td>0</td>\n",
       "    </tr>\n",
       "    <tr>\n",
       "      <th>3</th>\n",
       "      <td>EUROPE</td>\n",
       "      <td>79</td>\n",
       "      <td>80</td>\n",
       "      <td>4</td>\n",
       "      <td>18</td>\n",
       "      <td>235</td>\n",
       "      <td>517</td>\n",
       "      <td>20</td>\n",
       "      <td>350</td>\n",
       "      <td>122</td>\n",
       "      <td>...</td>\n",
       "      <td>2</td>\n",
       "      <td>432</td>\n",
       "      <td>202</td>\n",
       "      <td>147</td>\n",
       "      <td>517</td>\n",
       "      <td>421</td>\n",
       "      <td>67</td>\n",
       "      <td>119</td>\n",
       "      <td>163</td>\n",
       "      <td>1</td>\n",
       "    </tr>\n",
       "    <tr>\n",
       "      <th>4</th>\n",
       "      <td>EUROPE</td>\n",
       "      <td>122</td>\n",
       "      <td>80</td>\n",
       "      <td>517</td>\n",
       "      <td>96</td>\n",
       "      <td>432</td>\n",
       "      <td>67</td>\n",
       "      <td>350</td>\n",
       "      <td>20</td>\n",
       "      <td>29</td>\n",
       "      <td>...</td>\n",
       "      <td>421</td>\n",
       "      <td>163</td>\n",
       "      <td>429</td>\n",
       "      <td>497</td>\n",
       "      <td>39</td>\n",
       "      <td>200</td>\n",
       "      <td>78</td>\n",
       "      <td>119</td>\n",
       "      <td>26</td>\n",
       "      <td>0</td>\n",
       "    </tr>\n",
       "  </tbody>\n",
       "</table>\n",
       "<p>5 rows × 22 columns</p>\n",
       "</div>"
      ],
      "text/plain": [
       "   SERVER  BTOP_CHAMP_ID  BJGL_CHAMP_ID  BMID_CHAMP_ID  BBOT_CHAMP_ID  \\\n",
       "0  EUROPE            150            246            268             15   \n",
       "1  EUROPE            114            254             79            498   \n",
       "2  EUROPE            150             78            517            523   \n",
       "3  EUROPE             79             80              4             18   \n",
       "4  EUROPE            122             80            517             96   \n",
       "\n",
       "   BSUP_CHAMP_ID  BBAN1  BBAN2  BBAN3  BBAN4  ...  RJGL_CHAMP_ID  \\\n",
       "0            497     62    107    119    114  ...             80   \n",
       "1            497    555     -1     -1    103  ...             78   \n",
       "2            888    432    119    555     55  ...            234   \n",
       "3            235    517     20    350    122  ...              2   \n",
       "4            432     67    350     20     29  ...            421   \n",
       "\n",
       "   RMID_CHAMP_ID  RBOT_CHAMP_ID  RSUP_CHAMP_ID  RBAN1  RBAN2  RBAN3  RBAN4  \\\n",
       "0            112             29            432    350    119    777     78   \n",
       "1             55             15             26    157    432    777    119   \n",
       "2            429             13             79     92    117     62    103   \n",
       "3            432            202            147    517    421     67    119   \n",
       "4            163            429            497     39    200     78    119   \n",
       "\n",
       "   RBAN5  WINNER  \n",
       "0    429       1  \n",
       "1    350       1  \n",
       "2    131       0  \n",
       "3    163       1  \n",
       "4     26       0  \n",
       "\n",
       "[5 rows x 22 columns]"
      ]
     },
     "execution_count": 26,
     "metadata": {},
     "output_type": "execute_result"
    }
   ],
   "source": [
    "pre_game_data.head()"
   ]
  },
  {
   "cell_type": "code",
   "execution_count": 27,
   "metadata": {},
   "outputs": [
    {
     "data": {
      "text/plain": [
       "Index(['SERVER', 'BTOP_CHAMP_ID', 'BJGL_CHAMP_ID', 'BMID_CHAMP_ID',\n",
       "       'BBOT_CHAMP_ID', 'BSUP_CHAMP_ID', 'BBAN1', 'BBAN2', 'BBAN3', 'BBAN4',\n",
       "       'BBAN5', 'RTOP_CHAMP_ID', 'RJGL_CHAMP_ID', 'RMID_CHAMP_ID',\n",
       "       'RBOT_CHAMP_ID', 'RSUP_CHAMP_ID', 'RBAN1', 'RBAN2', 'RBAN3', 'RBAN4',\n",
       "       'RBAN5', 'FIRST_BLOOD', 'FIRST_DRAG', 'FIRST_HERALD', 'FIRST_TOWER',\n",
       "       'WINNER'],\n",
       "      dtype='object')"
      ]
     },
     "execution_count": 27,
     "metadata": {},
     "output_type": "execute_result"
    }
   ],
   "source": [
    "mid_game_data = data.drop(columns=['BCHAMP_KILLS', 'RCHAMP_KILLS',\n",
    "       'BDRAG_KILLS', 'RDRAG_KILLS', 'BHERALD_KILLS',\n",
    "       'RHERALD_KILLS', 'BTOWER_KILLS', 'RTOWER_KILLS',\n",
    "       'FIRST_BARON', 'BBARON_KILLS', 'RBARON_KILLS', 'FIRST_INHIB',\n",
    "       'BINHIB_KILLS', 'RINHIB_KILLS'])\n",
    "mid_game_data.columns"
   ]
  },
  {
   "cell_type": "code",
   "execution_count": 28,
   "metadata": {},
   "outputs": [],
   "source": [
    "pre_game_data.to_csv('pre_game_data1.csv', index=False)\n",
    "mid_game_data.to_csv('mid_game_data1.csv', index=False)"
   ]
  },
  {
   "cell_type": "code",
   "execution_count": null,
   "metadata": {},
   "outputs": [],
   "source": []
  }
 ],
 "metadata": {
  "interpreter": {
   "hash": "39512f3c2a1741d7f752d45a133d4514127029333ea14bc2f3c6c5e6759b9029"
  },
  "kernelspec": {
   "display_name": "Python 3.8.13 ('base_env')",
   "language": "python",
   "name": "python3"
  },
  "language_info": {
   "codemirror_mode": {
    "name": "ipython",
    "version": 3
   },
   "file_extension": ".py",
   "mimetype": "text/x-python",
   "name": "python",
   "nbconvert_exporter": "python",
   "pygments_lexer": "ipython3",
   "version": "3.8.13"
  },
  "orig_nbformat": 4
 },
 "nbformat": 4,
 "nbformat_minor": 2
}
